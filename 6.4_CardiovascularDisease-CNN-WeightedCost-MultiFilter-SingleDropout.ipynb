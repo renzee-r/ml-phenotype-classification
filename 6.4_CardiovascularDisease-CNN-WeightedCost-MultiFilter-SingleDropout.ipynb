{
 "cells": [
  {
   "cell_type": "code",
   "execution_count": 1,
   "metadata": {},
   "outputs": [
    {
     "name": "stdout",
     "output_type": "stream",
     "text": [
      "[nltk_data] Downloading package punkt to /home/renzeer/nltk_data...\n",
      "[nltk_data]   Package punkt is already up-to-date!\n",
      "[nltk_data] Downloading package stopwords to\n",
      "[nltk_data]     /home/renzeer/nltk_data...\n",
      "[nltk_data]   Package stopwords is already up-to-date!\n"
     ]
    },
    {
     "name": "stderr",
     "output_type": "stream",
     "text": [
      "Using TensorFlow backend.\n"
     ]
    }
   ],
   "source": [
    "# Standard python helper libraries.\n",
    "import os, sys, re, json, time, wget, csv, string, time, random\n",
    "import itertools, collections\n",
    "\n",
    "# NumPy\n",
    "import numpy as np\n",
    "\n",
    "# NLTK for NLP utils\n",
    "import nltk\n",
    "nltk.download('punkt')\n",
    "nltk.download('stopwords')\n",
    "from nltk.corpus import stopwords\n",
    "from nltk.tokenize import word_tokenize\n",
    "from nltk.stem.porter import PorterStemmer\n",
    "\n",
    "from keras import backend as K\n",
    "from keras.models import Sequential, Model\n",
    "from keras.layers import GaussianNoise, Dropout, Dense, Embedding, MaxPool1D, GlobalMaxPool1D, Conv1D, Concatenate, Input, Activation\n",
    "from keras.optimizers import Adam\n",
    "from keras.callbacks import Callback\n",
    "\n",
    "from sklearn.metrics import confusion_matrix, f1_score, precision_score, recall_score\n",
    "\n",
    "from pymagnitude import *"
   ]
  },
  {
   "cell_type": "markdown",
   "metadata": {},
   "source": [
    "# Binary Classifier for Cardiovascular Disease using a Convolutional Neural Network\n",
    "\n",
    "In this notebook, we will be building a model for classifying a sentence from an EHR note for the presence of cardiovascular disease. The model will be trained using a convoultional neural network (CNN). "
   ]
  },
  {
   "cell_type": "markdown",
   "metadata": {},
   "source": [
    "## Text Preprocessing"
   ]
  },
  {
   "cell_type": "code",
   "execution_count": 2,
   "metadata": {},
   "outputs": [
    {
     "name": "stdout",
     "output_type": "stream",
     "text": [
      "['Other', 'PAST MEDICAL HISTORY:, He has difficulty climbing stairs, difficulty with airline seats, tying shoes, used to public seating, and lifting objects off the floor.  He exercises three times a week at home and does cardio.  He has difficulty walking two blocks or five flights of stairs.  Difficulty with snoring.  He has muscle and joint pains including knee pain, back pain, foot and ankle pain, and swelling.  He has gastroesophageal reflux disease.,PAST SURGICAL HISTORY:, Includes reconstructive surgery on his right hand 13 years ago.  ,SOCIAL HISTORY:, He is currently single.  He has about ten drinks a year.  He had smoked significantly up until several months ago.  He now smokes less than three cigarettes a day.,FAMILY HISTORY:, Heart disease in both grandfathers, grandmother with stroke, and a grandmother with diabetes.  Denies obesity and hypertension in other family members.,CURRENT MEDICATIONS:, None.,ALLERGIES:,  He is allergic to Penicillin.,MISCELLANEOUS/EATING HISTORY:, He has been going to support groups for seven months with Lynn Holmberg in Greenwich and he is from Eastchester, New York and he feels that we are the appropriate program.  He had a poor experience with the Greenwich program.  Eating history, he is not an emotional eater.  Does not like sweets.  He likes big portions and carbohydrates.  He likes chicken and not steak.  He currently weighs 312 pounds.  Ideal body weight would be 170 pounds.  He is 142 pounds overweight.  If ,he lost 60% of his excess body weight that would be 84 pounds and he should weigh about 228.,REVIEW OF SYSTEMS: ,Negative for head, neck, heart, lungs, GI, GU, orthopedic, and skin.  Specifically denies chest pain, heart attack, coronary artery disease, congestive heart failure, arrhythmia, atrial fibrillation, pacemaker, high cholesterol, pulmonary embolism, high blood pressure, CVA, venous insufficiency, thrombophlebitis, asthma, shortness of breath, COPD, emphysema, sleep apnea, diabetes, leg and foot swelling, osteoarthritis, rheumatoid arthritis, hiatal hernia, peptic ulcer disease, gallstones, infected gallbladder, pancreatitis, fatty liver, hepatitis, hemorrhoids, rectal bleeding, polyps, incontinence of stool, urinary stress incontinence, or cancer.  Denies cellulitis, pseudotumor cerebri, meningitis, or encephalitis.,PHYSICAL EXAMINATION:, He is alert and oriented x 3.  Cranial nerves II-XII are intact.  Afebrile.  Vital Signs are stable.']\n",
      "['Cardiovascular', '2-D M-MODE: , ,1.  Left atrial enlargement with left atrial diameter of 4.7 cm.,2.  Normal size right and left ventricle.,3.  Normal LV systolic function with left ventricular ejection fraction of 51%.,4.  Normal LV diastolic function.,5.  No pericardial effusion.,6.  Normal morphology of aortic valve, mitral valve, tricuspid valve, and pulmonary valve.,7.  PA systolic pressure is 36 mmHg.,DOPPLER: , ,1.  Mild mitral and tricuspid regurgitation.,2.  Trace aortic and pulmonary regurgitation.']\n"
     ]
    }
   ],
   "source": [
    "ehr_notes = []\n",
    "with open('data/ehr_samples.csv', newline='') as csvfile:\n",
    "    reader = csv.DictReader(csvfile)\n",
    "    for row in reader:     \n",
    "        if int(row['SpecialtyID']) in [39, 6, 16, 37, 11, 12, 29, 26, 7, 21, 19, 10, 2, 18]:\n",
    "            continue\n",
    "        elif int(row['SpecialtyID']) != 4:\n",
    "            ehr_notes.append(['Other', row['Note']])\n",
    "        else:\n",
    "            ehr_notes.append([row['Specialty'], row['Note']])\n",
    "\n",
    "print(ehr_notes[0])\n",
    "print(ehr_notes[2])"
   ]
  },
  {
   "cell_type": "markdown",
   "metadata": {},
   "source": [
    "## Natural Langauge Processing"
   ]
  },
  {
   "cell_type": "code",
   "execution_count": 3,
   "metadata": {},
   "outputs": [
    {
     "name": "stdout",
     "output_type": "stream",
     "text": [
      "['Cardiovascular', 'return clinic 4 weeks5']\n",
      "['Other', 'biceps tendon nonsubluxable']\n"
     ]
    }
   ],
   "source": [
    "ehr_sentences = []\n",
    "for record in ehr_notes:\n",
    "    sent_text = nltk.sent_tokenize(record[1])\n",
    "    for sent in sent_text:\n",
    "        tokens = word_tokenize(sent)\n",
    "\n",
    "        # convert to lower case\n",
    "        tokens = [w.lower() for w in tokens]\n",
    "\n",
    "        # remove punctuation from each word\n",
    "        table = str.maketrans('', '', string.punctuation)\n",
    "        tokens = [w.translate(table) for w in tokens]\n",
    "\n",
    "        # filter out stop words\n",
    "        stop_words = set(stopwords.words('english'))\n",
    "        tokens = [w for w in tokens if not w in stop_words]\n",
    "\n",
    "#         # stem words\n",
    "#         porter = PorterStemmer()\n",
    "#         tokens = [porter.stem(word) for word in tokens]\n",
    "\n",
    "        # remove blanks\n",
    "        tokens = [w for w in tokens if w != '']\n",
    "\n",
    "        ehr_sentences.append([record[0], ' '.join(tokens)])\n",
    "\n",
    "random.Random(4).shuffle(ehr_sentences)\n",
    "\n",
    "print(ehr_sentences[0])\n",
    "print(ehr_sentences[1])"
   ]
  },
  {
   "cell_type": "markdown",
   "metadata": {},
   "source": [
    "## Word Embedding\n",
    "\n",
    "The first step is to load in our word embedding, which is trained on text from Wikipedia, Pubmed, and Pubmed Central. We load our word embedding through a tool called Magnitude. A full exploration of the word embedding and Magnitude can be found in the Introduction notebook."
   ]
  },
  {
   "cell_type": "code",
   "execution_count": 4,
   "metadata": {},
   "outputs": [],
   "source": [
    "med_vectors = Magnitude(\"data/wikipedia-pubmed-and-PMC-w2v.magnitude\", pad_to_length=30)"
   ]
  },
  {
   "cell_type": "markdown",
   "metadata": {},
   "source": [
    "## Defining our Training and Test Data\n",
    "\n",
    "Before we can start building our neural networks, we first have to define our datasets. Specifically, we have to break up our EHR data so that we have records that we can train on and records that are exclusively used to test on. Maintaining a separate set for testing ensures we avoid overfitting our data.\n",
    "\n",
    "We will use some built-in functions provided by Magnitude that helps encode our classes/categories. We then partition our data into our train and test sets. For each set we have both data and labels. Initially, we will be making these partitions small to make iterating through model development much quicker. However, once the models are developed, we will expand our datasets to include all of our data. To ensure we defined our data correctly, we can print a few lines from the two sets."
   ]
  },
  {
   "cell_type": "code",
   "execution_count": 5,
   "metadata": {},
   "outputs": [
    {
     "data": {
      "text/plain": [
       "70941"
      ]
     },
     "execution_count": 5,
     "metadata": {},
     "output_type": "execute_result"
    }
   ],
   "source": [
    "len(ehr_sentences)"
   ]
  },
  {
   "cell_type": "code",
   "execution_count": 6,
   "metadata": {},
   "outputs": [
    {
     "name": "stdout",
     "output_type": "stream",
     "text": [
      "Cardiovascular\n",
      "First line of train/test data:\n",
      "\t ['return', 'clinic', '4', 'weeks5']\n",
      "\t 0 Cardiovascular\n",
      "\t ['smokes', 'one', 'pack', 'per', 'day']\n",
      "\t 0 Cardiovascular\n",
      "Second line of train/test data:\n",
      "\t ['biceps', 'tendon', 'nonsubluxable']\n",
      "\t 1 Other\n",
      "\t ['denies', 'illicit', 'drug', 'use', 'family', 'history', 'parents', 'died', 'myocardial', 'infarctions']\n",
      "\t 1 Other\n"
     ]
    }
   ],
   "source": [
    "add_intent, intent_to_int, int_to_intent = MagnitudeUtils.class_encoding()\n",
    "\n",
    "x_train = [ehr_sent[1].split(' ') for ehr_sent in ehr_sentences[:60000]]\n",
    "x_test = [ehr_sent[1].split(' ') for ehr_sent in ehr_sentences[60001:]]\n",
    "\n",
    "y_train = [add_intent(ehr_sent[0]) for ehr_sent in ehr_sentences[:60000]]\n",
    "y_test = [add_intent(ehr_sent[0]) for ehr_sent in ehr_sentences[60001:]]\n",
    "\n",
    "y_train = list(np.array(y_train).reshape(len(y_train)))\n",
    "y_test = list(np.array(y_test).reshape(len(y_test)))\n",
    "\n",
    "num_training = len(x_train)\n",
    "num_test = len(x_test)\n",
    "num_outputs = int(max(max(y_train), max(y_test))) + 1\n",
    "\n",
    "print(int_to_intent(0))\n",
    "\n",
    "print(\"First line of train/test data:\")\n",
    "print(\"\\t\", x_train[0])\n",
    "print(\"\\t\", y_train[0], int_to_intent(y_train[0]))\n",
    "print(\"\\t\", x_test[0])\n",
    "print(\"\\t\", y_test[0], int_to_intent(y_test[0]))\n",
    "print(\"Second line of train/test data:\")\n",
    "print(\"\\t\", x_train[1])\n",
    "print(\"\\t\", y_train[1], int_to_intent(y_train[1]))\n",
    "print(\"\\t\", x_test[1])\n",
    "print(\"\\t\", y_test[1], int_to_intent(y_test[1]))"
   ]
  },
  {
   "cell_type": "markdown",
   "metadata": {},
   "source": [
    "## Defining Custom Callback Function"
   ]
  },
  {
   "cell_type": "code",
   "execution_count": 7,
   "metadata": {},
   "outputs": [],
   "source": [
    "def f1(y_true, y_pred):\n",
    "    def recall(y_true, y_pred):\n",
    "        \"\"\"Recall metric.\n",
    "\n",
    "        Only computes a batch-wise average of recall.\n",
    "\n",
    "        Computes the recall, a metric for multi-label classification of\n",
    "        how many relevant items are selected.\n",
    "        \"\"\"\n",
    "        true_positives = K.sum(K.round(K.clip(y_true * y_pred, 0, 1)))\n",
    "        possible_positives = K.sum(K.round(K.clip(y_true, 0, 1)))\n",
    "        recall = true_positives / (possible_positives + K.epsilon())\n",
    "        return recall\n",
    "\n",
    "    def precision(y_true, y_pred):\n",
    "        \"\"\"Precision metric.\n",
    "\n",
    "        Only computes a batch-wise average of precision.\n",
    "\n",
    "        Computes the precision, a metric for multi-label classification of\n",
    "        how many selected items are relevant.\n",
    "        \"\"\"\n",
    "        true_positives = K.sum(K.round(K.clip(y_true * y_pred, 0, 1)))\n",
    "        predicted_positives = K.sum(K.round(K.clip(y_pred, 0, 1)))\n",
    "        precision = true_positives / (predicted_positives + K.epsilon())\n",
    "        return precision\n",
    "    \n",
    "    precision = precision(y_true, y_pred)\n",
    "    recall = recall(y_true, y_pred)\n",
    "    return 2*((precision*recall)/(precision+recall+K.epsilon()))"
   ]
  },
  {
   "cell_type": "markdown",
   "metadata": {},
   "source": [
    "## Defining Model"
   ]
  },
  {
   "cell_type": "code",
   "execution_count": 8,
   "metadata": {},
   "outputs": [
    {
     "name": "stdout",
     "output_type": "stream",
     "text": [
      "__________________________________________________________________________________________________\n",
      "Layer (type)                    Output Shape         Param #     Connected to                     \n",
      "==================================================================================================\n",
      "input_1 (InputLayer)            (None, 30, 200)      0                                            \n",
      "__________________________________________________________________________________________________\n",
      "gaussian_noise_1 (GaussianNoise (None, 30, 200)      0           input_1[0][0]                    \n",
      "__________________________________________________________________________________________________\n",
      "conv1d_1 (Conv1D)               (None, 30, 128)      51328       gaussian_noise_1[0][0]           \n",
      "__________________________________________________________________________________________________\n",
      "conv1d_2 (Conv1D)               (None, 30, 128)      76928       gaussian_noise_1[0][0]           \n",
      "__________________________________________________________________________________________________\n",
      "conv1d_3 (Conv1D)               (None, 30, 128)      102528      gaussian_noise_1[0][0]           \n",
      "__________________________________________________________________________________________________\n",
      "global_max_pooling1d_1 (GlobalM (None, 128)          0           conv1d_1[0][0]                   \n",
      "__________________________________________________________________________________________________\n",
      "global_max_pooling1d_2 (GlobalM (None, 128)          0           conv1d_2[0][0]                   \n",
      "__________________________________________________________________________________________________\n",
      "global_max_pooling1d_3 (GlobalM (None, 128)          0           conv1d_3[0][0]                   \n",
      "__________________________________________________________________________________________________\n",
      "concatenate_1 (Concatenate)     (None, 384)          0           global_max_pooling1d_1[0][0]     \n",
      "                                                                 global_max_pooling1d_2[0][0]     \n",
      "                                                                 global_max_pooling1d_3[0][0]     \n",
      "__________________________________________________________________________________________________\n",
      "dropout_1 (Dropout)             (None, 384)          0           concatenate_1[0][0]              \n",
      "__________________________________________________________________________________________________\n",
      "dense_1 (Dense)                 (None, 100)          38500       dropout_1[0][0]                  \n",
      "__________________________________________________________________________________________________\n",
      "activation_1 (Activation)       (None, 100)          0           dense_1[0][0]                    \n",
      "__________________________________________________________________________________________________\n",
      "dense_2 (Dense)                 (None, 2)            202         activation_1[0][0]               \n",
      "__________________________________________________________________________________________________\n",
      "activation_2 (Activation)       (None, 2)            0           dense_2[0][0]                    \n",
      "==================================================================================================\n",
      "Total params: 269,486\n",
      "Trainable params: 269,486\n",
      "Non-trainable params: 0\n",
      "__________________________________________________________________________________________________\n"
     ]
    }
   ],
   "source": [
    "MAX_WORDS = 30 # The maximum number of words the sequence model will consider\n",
    "STD_DEV = 0.01 # Deviation of noise for Gaussian Noise applied to the embeddings\n",
    "DROPOUT_RATIO = .6 # The ratio to dropout\n",
    "BATCH_SIZE = 100 # The number of examples per train/validation step\n",
    "EPOCHS = 100 # The number of times to repeat through all of the training data\n",
    "LEARNING_RATE = .01 # The learning rate for the optimizer\n",
    "NUM_FILTERS = 128\n",
    "HIDDEN_UNITS = 100\n",
    "\n",
    "inlayer = Input(shape=(MAX_WORDS, med_vectors.dim))\n",
    "input_withnoise = GaussianNoise(STD_DEV)(inlayer)\n",
    "\n",
    "submodel_a = Conv1D(NUM_FILTERS, 2, activation='relu', padding='same')(input_withnoise)\n",
    "submodel_a = GlobalMaxPool1D()(submodel_a)\n",
    "\n",
    "submodel_b = Conv1D(NUM_FILTERS, 3, activation='relu', padding='same')(input_withnoise)\n",
    "submodel_b = GlobalMaxPool1D()(submodel_b)\n",
    "\n",
    "submodel_c = Conv1D(NUM_FILTERS, 4, activation='relu', padding='same')(input_withnoise)\n",
    "\n",
    "submodel_c = GlobalMaxPool1D()(submodel_c)\n",
    "\n",
    "model_concat = Concatenate(axis=-1)([submodel_a, submodel_b, submodel_c])\n",
    "model_concat = Dropout(DROPOUT_RATIO)(model_concat)\n",
    "model_concat = Dense(HIDDEN_UNITS)(model_concat)\n",
    "model_concat = Activation('relu')(model_concat)\n",
    "model_concat = Dense(num_outputs)(model_concat)\n",
    "model_concat = Activation('softmax')(model_concat)\n",
    "\n",
    "model = Model(inputs=inlayer, outputs=model_concat)\n",
    "\n",
    "model.compile(optimizer='adam', \n",
    "                       loss='binary_crossentropy',\n",
    "                       metrics=['accuracy', f1])\n",
    "model.summary()"
   ]
  },
  {
   "cell_type": "markdown",
   "metadata": {},
   "source": [
    "## Training Batches and Epochs"
   ]
  },
  {
   "cell_type": "code",
   "execution_count": 9,
   "metadata": {},
   "outputs": [
    {
     "name": "stdout",
     "output_type": "stream",
     "text": [
      "Epoch 1/100\n",
      "600/600 [==============================] - 421s 701ms/step - loss: 1.5767 - acc: 0.4275 - f1: 0.4275 - val_loss: 0.8997 - val_acc: 0.4942 - val_f1: 0.4942\n",
      "Epoch 2/100\n",
      "600/600 [==============================] - 26s 43ms/step - loss: 1.3714 - acc: 0.5525 - f1: 0.5525 - val_loss: 0.8299 - val_acc: 0.5491 - val_f1: 0.5491\n",
      "Epoch 3/100\n",
      "600/600 [==============================] - 25s 42ms/step - loss: 1.2604 - acc: 0.6051 - f1: 0.6051 - val_loss: 0.8996 - val_acc: 0.5240 - val_f1: 0.5240\n",
      "Epoch 4/100\n",
      "600/600 [==============================] - 26s 43ms/step - loss: 1.1723 - acc: 0.6410 - f1: 0.6410 - val_loss: 0.7123 - val_acc: 0.6341 - val_f1: 0.6341\n",
      "Epoch 5/100\n",
      "600/600 [==============================] - 25s 42ms/step - loss: 1.0966 - acc: 0.6697 - f1: 0.6697 - val_loss: 0.7297 - val_acc: 0.6299 - val_f1: 0.6299\n",
      "Epoch 6/100\n",
      "600/600 [==============================] - 25s 42ms/step - loss: 1.0264 - acc: 0.6955 - f1: 0.6955 - val_loss: 0.6514 - val_acc: 0.6888 - val_f1: 0.6888\n",
      "Epoch 7/100\n",
      "600/600 [==============================] - 25s 42ms/step - loss: 0.9789 - acc: 0.7131 - f1: 0.7131 - val_loss: 0.6497 - val_acc: 0.6878 - val_f1: 0.6878\n",
      "Epoch 8/100\n",
      "600/600 [==============================] - 25s 42ms/step - loss: 0.9303 - acc: 0.7281 - f1: 0.7281 - val_loss: 0.6006 - val_acc: 0.7196 - val_f1: 0.7196\n",
      "Epoch 9/100\n",
      "600/600 [==============================] - 25s 42ms/step - loss: 0.9071 - acc: 0.7370 - f1: 0.7370 - val_loss: 0.6449 - val_acc: 0.6881 - val_f1: 0.6881\n",
      "Epoch 10/100\n",
      "600/600 [==============================] - 25s 42ms/step - loss: 0.8891 - acc: 0.7430 - f1: 0.7430 - val_loss: 0.6649 - val_acc: 0.6928 - val_f1: 0.6928\n",
      "Epoch 11/100\n",
      "600/600 [==============================] - 25s 42ms/step - loss: 0.8506 - acc: 0.7569 - f1: 0.7569 - val_loss: 0.6097 - val_acc: 0.7194 - val_f1: 0.7194\n",
      "Epoch 12/100\n",
      "600/600 [==============================] - 25s 42ms/step - loss: 0.8345 - acc: 0.7607 - f1: 0.7607 - val_loss: 0.5902 - val_acc: 0.7404 - val_f1: 0.7404\n",
      "Epoch 13/100\n",
      "600/600 [==============================] - 25s 42ms/step - loss: 0.8174 - acc: 0.7689 - f1: 0.7689 - val_loss: 0.6039 - val_acc: 0.7334 - val_f1: 0.7334\n",
      "Epoch 14/100\n",
      "600/600 [==============================] - 26s 43ms/step - loss: 0.7735 - acc: 0.7814 - f1: 0.7814 - val_loss: 0.5900 - val_acc: 0.7530 - val_f1: 0.7530\n",
      "Epoch 15/100\n",
      "600/600 [==============================] - 26s 43ms/step - loss: 0.7705 - acc: 0.7836 - f1: 0.7836 - val_loss: 0.6223 - val_acc: 0.7235 - val_f1: 0.7235\n",
      "Epoch 16/100\n",
      "600/600 [==============================] - 25s 42ms/step - loss: 0.7660 - acc: 0.7864 - f1: 0.7864 - val_loss: 0.5999 - val_acc: 0.7336 - val_f1: 0.7336\n",
      "Epoch 17/100\n",
      "600/600 [==============================] - 25s 41ms/step - loss: 0.7572 - acc: 0.7882 - f1: 0.7882 - val_loss: 0.5855 - val_acc: 0.7442 - val_f1: 0.7442\n",
      "Epoch 18/100\n",
      "600/600 [==============================] - 25s 42ms/step - loss: 0.7303 - acc: 0.7973 - f1: 0.7973 - val_loss: 0.5402 - val_acc: 0.7753 - val_f1: 0.7753\n",
      "Epoch 19/100\n",
      "600/600 [==============================] - 26s 43ms/step - loss: 0.7103 - acc: 0.8055 - f1: 0.8055 - val_loss: 0.5560 - val_acc: 0.7626 - val_f1: 0.7626\n",
      "Epoch 20/100\n",
      "600/600 [==============================] - 25s 42ms/step - loss: 0.7063 - acc: 0.8038 - f1: 0.8038 - val_loss: 0.5441 - val_acc: 0.7716 - val_f1: 0.7716\n",
      "Epoch 21/100\n",
      "600/600 [==============================] - 26s 43ms/step - loss: 0.6923 - acc: 0.8110 - f1: 0.8110 - val_loss: 0.5740 - val_acc: 0.7675 - val_f1: 0.7675\n",
      "Epoch 22/100\n",
      "600/600 [==============================] - 25s 42ms/step - loss: 0.6880 - acc: 0.8098 - f1: 0.8098 - val_loss: 0.5686 - val_acc: 0.7729 - val_f1: 0.7729\n",
      "Epoch 23/100\n",
      "600/600 [==============================] - 25s 42ms/step - loss: 0.6790 - acc: 0.8138 - f1: 0.8138 - val_loss: 0.5176 - val_acc: 0.7925 - val_f1: 0.7925\n",
      "Epoch 24/100\n",
      "600/600 [==============================] - 25s 42ms/step - loss: 0.6804 - acc: 0.8120 - f1: 0.8120 - val_loss: 0.5406 - val_acc: 0.7767 - val_f1: 0.7767\n",
      "Epoch 25/100\n",
      "600/600 [==============================] - 25s 42ms/step - loss: 0.6626 - acc: 0.8198 - f1: 0.8198 - val_loss: 0.5355 - val_acc: 0.7848 - val_f1: 0.7848\n",
      "Epoch 26/100\n",
      "600/600 [==============================] - 25s 42ms/step - loss: 0.6440 - acc: 0.8236 - f1: 0.8236 - val_loss: 0.4949 - val_acc: 0.8039 - val_f1: 0.8039\n",
      "Epoch 27/100\n",
      "600/600 [==============================] - 26s 43ms/step - loss: 0.6522 - acc: 0.8259 - f1: 0.8259 - val_loss: 0.5552 - val_acc: 0.7792 - val_f1: 0.7792\n",
      "Epoch 28/100\n",
      "600/600 [==============================] - 25s 42ms/step - loss: 0.6364 - acc: 0.8267 - f1: 0.8267 - val_loss: 0.5313 - val_acc: 0.7954 - val_f1: 0.7954\n",
      "Epoch 29/100\n",
      "600/600 [==============================] - 25s 41ms/step - loss: 0.6419 - acc: 0.8267 - f1: 0.8267 - val_loss: 0.5142 - val_acc: 0.7897 - val_f1: 0.7897\n",
      "Epoch 30/100\n",
      "600/600 [==============================] - 25s 42ms/step - loss: 0.6192 - acc: 0.8334 - f1: 0.8334 - val_loss: 0.5287 - val_acc: 0.8005 - val_f1: 0.8005\n",
      "Epoch 31/100\n",
      "600/600 [==============================] - 25s 42ms/step - loss: 0.6338 - acc: 0.8298 - f1: 0.8298 - val_loss: 0.5220 - val_acc: 0.7982 - val_f1: 0.7982\n",
      "Epoch 32/100\n",
      "600/600 [==============================] - 25s 42ms/step - loss: 0.6132 - acc: 0.8351 - f1: 0.8351 - val_loss: 0.4845 - val_acc: 0.8084 - val_f1: 0.8084\n",
      "Epoch 33/100\n",
      "600/600 [==============================] - 25s 42ms/step - loss: 0.6042 - acc: 0.8373 - f1: 0.8373 - val_loss: 0.4967 - val_acc: 0.8099 - val_f1: 0.8099\n",
      "Epoch 34/100\n",
      "600/600 [==============================] - 26s 43ms/step - loss: 0.6224 - acc: 0.8331 - f1: 0.8331 - val_loss: 0.5029 - val_acc: 0.8098 - val_f1: 0.8098\n",
      "Epoch 35/100\n",
      "600/600 [==============================] - 25s 42ms/step - loss: 0.6011 - acc: 0.8391 - f1: 0.8391 - val_loss: 0.5285 - val_acc: 0.7973 - val_f1: 0.7973\n",
      "Epoch 36/100\n",
      "600/600 [==============================] - 25s 42ms/step - loss: 0.5849 - acc: 0.8441 - f1: 0.8441 - val_loss: 0.5140 - val_acc: 0.8069 - val_f1: 0.8069\n",
      "Epoch 37/100\n",
      "600/600 [==============================] - 25s 42ms/step - loss: 0.5875 - acc: 0.8439 - f1: 0.8439 - val_loss: 0.4876 - val_acc: 0.8144 - val_f1: 0.8144\n",
      "Epoch 38/100\n",
      "600/600 [==============================] - 26s 43ms/step - loss: 0.5925 - acc: 0.8428 - f1: 0.8428 - val_loss: 0.4728 - val_acc: 0.8204 - val_f1: 0.8204\n",
      "Epoch 39/100\n",
      "600/600 [==============================] - 26s 44ms/step - loss: 0.5817 - acc: 0.8462 - f1: 0.8462 - val_loss: 0.4710 - val_acc: 0.8175 - val_f1: 0.8175\n",
      "Epoch 40/100\n",
      "600/600 [==============================] - 25s 42ms/step - loss: 0.5684 - acc: 0.8502 - f1: 0.8502 - val_loss: 0.4931 - val_acc: 0.8196 - val_f1: 0.8196\n",
      "Epoch 41/100\n",
      "600/600 [==============================] - 25s 42ms/step - loss: 0.5593 - acc: 0.8540 - f1: 0.8540 - val_loss: 0.5134 - val_acc: 0.8158 - val_f1: 0.8158\n",
      "Epoch 42/100\n",
      "600/600 [==============================] - 25s 42ms/step - loss: 0.5607 - acc: 0.8526 - f1: 0.8526 - val_loss: 0.4833 - val_acc: 0.8207 - val_f1: 0.8207\n",
      "Epoch 43/100\n",
      "600/600 [==============================] - 25s 42ms/step - loss: 0.5662 - acc: 0.8513 - f1: 0.8513 - val_loss: 0.4712 - val_acc: 0.8236 - val_f1: 0.8236\n",
      "Epoch 44/100\n",
      "600/600 [==============================] - 26s 43ms/step - loss: 0.5478 - acc: 0.8546 - f1: 0.8546 - val_loss: 0.4820 - val_acc: 0.8243 - val_f1: 0.8243\n",
      "Epoch 45/100\n",
      "600/600 [==============================] - 25s 42ms/step - loss: 0.5636 - acc: 0.8530 - f1: 0.8530 - val_loss: 0.5133 - val_acc: 0.8016 - val_f1: 0.8016\n",
      "Epoch 46/100\n",
      "600/600 [==============================] - 25s 42ms/step - loss: 0.5535 - acc: 0.8535 - f1: 0.8535 - val_loss: 0.4851 - val_acc: 0.8263 - val_f1: 0.8263\n",
      "Epoch 47/100\n",
      "600/600 [==============================] - 25s 42ms/step - loss: 0.5441 - acc: 0.8585 - f1: 0.8585 - val_loss: 0.4786 - val_acc: 0.8274 - val_f1: 0.8274\n",
      "Epoch 48/100\n",
      "600/600 [==============================] - 25s 42ms/step - loss: 0.5486 - acc: 0.8590 - f1: 0.8590 - val_loss: 0.4976 - val_acc: 0.8182 - val_f1: 0.8182\n",
      "Epoch 49/100\n",
      "600/600 [==============================] - 26s 43ms/step - loss: 0.5460 - acc: 0.8570 - f1: 0.8570 - val_loss: 0.4769 - val_acc: 0.8303 - val_f1: 0.8303\n",
      "Epoch 50/100\n"
     ]
    },
    {
     "name": "stdout",
     "output_type": "stream",
     "text": [
      "600/600 [==============================] - 25s 42ms/step - loss: 0.5465 - acc: 0.8577 - f1: 0.8577 - val_loss: 0.5157 - val_acc: 0.8107 - val_f1: 0.8107\n",
      "Epoch 51/100\n",
      "600/600 [==============================] - 26s 43ms/step - loss: 0.5411 - acc: 0.8584 - f1: 0.8584 - val_loss: 0.4829 - val_acc: 0.8242 - val_f1: 0.8242\n",
      "Epoch 52/100\n",
      "600/600 [==============================] - 25s 42ms/step - loss: 0.5257 - acc: 0.8626 - f1: 0.8626 - val_loss: 0.4763 - val_acc: 0.8315 - val_f1: 0.8315\n",
      "Epoch 53/100\n",
      "600/600 [==============================] - 25s 42ms/step - loss: 0.5242 - acc: 0.8642 - f1: 0.8642 - val_loss: 0.4846 - val_acc: 0.8243 - val_f1: 0.8243\n",
      "Epoch 54/100\n",
      "600/600 [==============================] - 25s 42ms/step - loss: 0.5235 - acc: 0.8649 - f1: 0.8649 - val_loss: 0.4859 - val_acc: 0.8297 - val_f1: 0.8297\n",
      "Epoch 55/100\n",
      "600/600 [==============================] - 25s 42ms/step - loss: 0.5113 - acc: 0.8668 - f1: 0.8668 - val_loss: 0.4879 - val_acc: 0.8229 - val_f1: 0.8229\n",
      "Epoch 56/100\n",
      "600/600 [==============================] - 26s 43ms/step - loss: 0.5123 - acc: 0.8662 - f1: 0.8662 - val_loss: 0.5071 - val_acc: 0.8226 - val_f1: 0.8226\n",
      "Epoch 57/100\n",
      "600/600 [==============================] - 26s 43ms/step - loss: 0.5192 - acc: 0.8654 - f1: 0.8654 - val_loss: 0.5111 - val_acc: 0.8164 - val_f1: 0.8164\n",
      "Epoch 58/100\n",
      "600/600 [==============================] - 25s 42ms/step - loss: 0.5145 - acc: 0.8667 - f1: 0.8667 - val_loss: 0.4814 - val_acc: 0.8302 - val_f1: 0.8302\n",
      "Epoch 59/100\n",
      "600/600 [==============================] - 25s 42ms/step - loss: 0.5096 - acc: 0.8659 - f1: 0.8659 - val_loss: 0.4765 - val_acc: 0.8329 - val_f1: 0.8329\n",
      "Epoch 60/100\n",
      "600/600 [==============================] - 25s 42ms/step - loss: 0.5035 - acc: 0.8697 - f1: 0.8697 - val_loss: 0.4879 - val_acc: 0.8246 - val_f1: 0.8246\n",
      "Epoch 61/100\n",
      "600/600 [==============================] - 26s 43ms/step - loss: 0.5083 - acc: 0.8677 - f1: 0.8677 - val_loss: 0.4809 - val_acc: 0.8267 - val_f1: 0.8267\n",
      "Epoch 62/100\n",
      "600/600 [==============================] - 26s 43ms/step - loss: 0.4984 - acc: 0.8718 - f1: 0.8718 - val_loss: 0.5081 - val_acc: 0.8283 - val_f1: 0.8283\n",
      "Epoch 63/100\n",
      "600/600 [==============================] - 25s 42ms/step - loss: 0.4957 - acc: 0.8717 - f1: 0.8717 - val_loss: 0.4809 - val_acc: 0.8322 - val_f1: 0.8322\n",
      "Epoch 64/100\n",
      "600/600 [==============================] - 25s 42ms/step - loss: 0.4871 - acc: 0.8749 - f1: 0.8749 - val_loss: 0.4733 - val_acc: 0.8425 - val_f1: 0.8425\n",
      "Epoch 65/100\n",
      "600/600 [==============================] - 25s 42ms/step - loss: 0.4809 - acc: 0.8776 - f1: 0.8776 - val_loss: 0.4890 - val_acc: 0.8338 - val_f1: 0.8338\n",
      "Epoch 66/100\n",
      "600/600 [==============================] - 25s 42ms/step - loss: 0.4895 - acc: 0.8728 - f1: 0.8728 - val_loss: 0.4540 - val_acc: 0.8467 - val_f1: 0.8467\n",
      "Epoch 67/100\n",
      "600/600 [==============================] - 25s 42ms/step - loss: 0.4963 - acc: 0.8734 - f1: 0.8734 - val_loss: 0.4879 - val_acc: 0.8330 - val_f1: 0.8330\n",
      "Epoch 68/100\n",
      "600/600 [==============================] - 25s 42ms/step - loss: 0.4770 - acc: 0.8767 - f1: 0.8767 - val_loss: 0.4732 - val_acc: 0.8366 - val_f1: 0.8366\n",
      "Epoch 69/100\n",
      "600/600 [==============================] - 26s 43ms/step - loss: 0.4925 - acc: 0.8717 - f1: 0.8717 - val_loss: 0.4633 - val_acc: 0.8372 - val_f1: 0.8372\n",
      "Epoch 70/100\n",
      "600/600 [==============================] - 25s 42ms/step - loss: 0.4773 - acc: 0.8770 - f1: 0.8770 - val_loss: 0.4866 - val_acc: 0.8308 - val_f1: 0.8308\n",
      "Epoch 71/100\n",
      "600/600 [==============================] - 25s 42ms/step - loss: 0.4878 - acc: 0.8753 - f1: 0.8753 - val_loss: 0.5056 - val_acc: 0.8218 - val_f1: 0.8218\n",
      "Epoch 72/100\n",
      "600/600 [==============================] - 25s 42ms/step - loss: 0.4675 - acc: 0.8800 - f1: 0.8800 - val_loss: 0.5175 - val_acc: 0.8299 - val_f1: 0.8299\n",
      "Epoch 73/100\n",
      "600/600 [==============================] - 26s 43ms/step - loss: 0.4603 - acc: 0.8824 - f1: 0.8823 - val_loss: 0.4850 - val_acc: 0.8421 - val_f1: 0.8421\n",
      "Epoch 74/100\n",
      "600/600 [==============================] - 25s 42ms/step - loss: 0.4659 - acc: 0.8813 - f1: 0.8812 - val_loss: 0.4706 - val_acc: 0.8431 - val_f1: 0.8431\n",
      "Epoch 75/100\n",
      "600/600 [==============================] - 25s 41ms/step - loss: 0.4681 - acc: 0.8800 - f1: 0.8800 - val_loss: 0.4696 - val_acc: 0.8436 - val_f1: 0.8436\n",
      "Epoch 76/100\n",
      "600/600 [==============================] - 26s 43ms/step - loss: 0.4646 - acc: 0.8827 - f1: 0.8827 - val_loss: 0.4841 - val_acc: 0.8388 - val_f1: 0.8388\n",
      "Epoch 77/100\n",
      "600/600 [==============================] - 26s 43ms/step - loss: 0.4636 - acc: 0.8819 - f1: 0.8819 - val_loss: 0.4761 - val_acc: 0.8492 - val_f1: 0.8492\n",
      "Epoch 78/100\n",
      "600/600 [==============================] - 25s 42ms/step - loss: 0.4517 - acc: 0.8855 - f1: 0.8855 - val_loss: 0.4793 - val_acc: 0.8445 - val_f1: 0.8445\n",
      "Epoch 79/100\n",
      "600/600 [==============================] - 25s 42ms/step - loss: 0.4646 - acc: 0.8819 - f1: 0.8818 - val_loss: 0.4858 - val_acc: 0.8431 - val_f1: 0.8431\n",
      "Epoch 80/100\n",
      "600/600 [==============================] - 25s 42ms/step - loss: 0.4573 - acc: 0.8839 - f1: 0.8838 - val_loss: 0.5035 - val_acc: 0.8411 - val_f1: 0.8411\n",
      "Epoch 81/100\n",
      "600/600 [==============================] - 25s 42ms/step - loss: 0.4600 - acc: 0.8833 - f1: 0.8833 - val_loss: 0.4900 - val_acc: 0.8397 - val_f1: 0.8397\n",
      "Epoch 82/100\n",
      "600/600 [==============================] - 25s 42ms/step - loss: 0.4564 - acc: 0.8839 - f1: 0.8839 - val_loss: 0.4767 - val_acc: 0.8463 - val_f1: 0.8463\n",
      "Epoch 83/100\n",
      "600/600 [==============================] - 25s 42ms/step - loss: 0.4533 - acc: 0.8833 - f1: 0.8833 - val_loss: 0.5023 - val_acc: 0.8362 - val_f1: 0.8362\n",
      "Epoch 84/100\n",
      "600/600 [==============================] - 25s 42ms/step - loss: 0.4571 - acc: 0.8828 - f1: 0.8828 - val_loss: 0.5061 - val_acc: 0.8328 - val_f1: 0.8328\n",
      "Epoch 85/100\n",
      "600/600 [==============================] - 26s 43ms/step - loss: 0.4536 - acc: 0.8839 - f1: 0.8839 - val_loss: 0.4911 - val_acc: 0.8473 - val_f1: 0.8473\n",
      "Epoch 86/100\n",
      "600/600 [==============================] - 25s 42ms/step - loss: 0.4474 - acc: 0.8853 - f1: 0.8853 - val_loss: 0.4883 - val_acc: 0.8463 - val_f1: 0.8463\n",
      "Epoch 87/100\n",
      "600/600 [==============================] - 24s 40ms/step - loss: 0.4357 - acc: 0.8881 - f1: 0.8881 - val_loss: 0.4732 - val_acc: 0.8434 - val_f1: 0.8434\n",
      "Epoch 88/100\n",
      "600/600 [==============================] - 20s 33ms/step - loss: 0.4544 - acc: 0.8845 - f1: 0.8845 - val_loss: 0.4766 - val_acc: 0.8423 - val_f1: 0.8423\n",
      "Epoch 89/100\n",
      "600/600 [==============================] - 17s 28ms/step - loss: 0.4416 - acc: 0.8883 - f1: 0.8883 - val_loss: 0.4751 - val_acc: 0.8511 - val_f1: 0.8511\n",
      "Epoch 90/100\n",
      "600/600 [==============================] - 17s 28ms/step - loss: 0.4447 - acc: 0.8859 - f1: 0.8859 - val_loss: 0.4898 - val_acc: 0.8388 - val_f1: 0.8388\n",
      "Epoch 91/100\n",
      "600/600 [==============================] - 17s 28ms/step - loss: 0.4334 - acc: 0.8892 - f1: 0.8892 - val_loss: 0.4759 - val_acc: 0.8417 - val_f1: 0.8417\n",
      "Epoch 92/100\n",
      "600/600 [==============================] - 17s 28ms/step - loss: 0.4397 - acc: 0.8868 - f1: 0.8868 - val_loss: 0.4739 - val_acc: 0.8559 - val_f1: 0.8559\n",
      "Epoch 93/100\n",
      "600/600 [==============================] - 16s 27ms/step - loss: 0.4519 - acc: 0.8853 - f1: 0.8853 - val_loss: 0.4731 - val_acc: 0.8447 - val_f1: 0.8447\n",
      "Epoch 94/100\n",
      "600/600 [==============================] - 16s 27ms/step - loss: 0.4406 - acc: 0.8877 - f1: 0.8876 - val_loss: 0.4855 - val_acc: 0.8379 - val_f1: 0.8379\n",
      "Epoch 95/100\n",
      "600/600 [==============================] - 16s 27ms/step - loss: 0.4309 - acc: 0.8884 - f1: 0.8884 - val_loss: 0.4942 - val_acc: 0.8460 - val_f1: 0.8460\n",
      "Epoch 96/100\n",
      "600/600 [==============================] - 16s 27ms/step - loss: 0.4278 - acc: 0.8908 - f1: 0.8907 - val_loss: 0.4970 - val_acc: 0.8435 - val_f1: 0.8435\n",
      "Epoch 97/100\n",
      "600/600 [==============================] - 16s 27ms/step - loss: 0.4239 - acc: 0.8919 - f1: 0.8919 - val_loss: 0.4638 - val_acc: 0.8565 - val_f1: 0.8565\n",
      "Epoch 98/100\n",
      "600/600 [==============================] - 16s 27ms/step - loss: 0.4258 - acc: 0.8928 - f1: 0.8928 - val_loss: 0.4858 - val_acc: 0.8489 - val_f1: 0.8489\n",
      "Epoch 99/100\n"
     ]
    },
    {
     "name": "stdout",
     "output_type": "stream",
     "text": [
      "600/600 [==============================] - 16s 27ms/step - loss: 0.4331 - acc: 0.8885 - f1: 0.8885 - val_loss: 0.4811 - val_acc: 0.8507 - val_f1: 0.8507\n",
      "Epoch 100/100\n",
      "600/600 [==============================] - 16s 27ms/step - loss: 0.4308 - acc: 0.8908 - f1: 0.8908 - val_loss: 0.5000 - val_acc: 0.8514 - val_f1: 0.8514\n"
     ]
    },
    {
     "data": {
      "text/plain": [
       "<keras.callbacks.History at 0x7f0cc85cad30>"
      ]
     },
     "execution_count": 9,
     "metadata": {},
     "output_type": "execute_result"
    }
   ],
   "source": [
    "training_batches = MagnitudeUtils.batchify(x_train, y_train, BATCH_SIZE) # Split the training data into batches\n",
    "num_batches_per_epoch_train = int(np.ceil(num_training/float(BATCH_SIZE)))\n",
    "test_batches = MagnitudeUtils.batchify(x_test, y_test, BATCH_SIZE)  # Split the test data into batches\n",
    "num_batches_per_epoch_test = int(np.ceil(num_test/float(BATCH_SIZE)))\n",
    "\n",
    "\n",
    "# Generates batches of the transformed training data\n",
    "train_batch_generator = (\n",
    "  (\n",
    "    med_vectors.query(x_train_batch), # Magnitude will handle converting the 2D array of text into the 3D word vector representations!\n",
    "    MagnitudeUtils.to_categorical(y_train_batch, num_outputs) # Magnitude will handle converting the class labels into one-hot encodings!\n",
    "  ) for x_train_batch, y_train_batch in training_batches\n",
    ")\n",
    "\n",
    "# Generates batches of the transformed test data\n",
    "test_batch_generator = (\n",
    "  (\n",
    "    med_vectors.query(x_test_batch), # Magnitude will handle converting the 2D array of text into the 3D word vector representations!\n",
    "    MagnitudeUtils.to_categorical(y_test_batch, num_outputs) # Magnitude will handle converting the class labels into one-hot encodings!\n",
    "  ) for x_test_batch, y_test_batch in test_batches\n",
    ")\n",
    "\n",
    "# Class weights\n",
    "class_weight = {\n",
    "    intent_to_int('Cardiovascular'): 20.\n",
    "    ,intent_to_int('Other'): 1.\n",
    "}\n",
    "\n",
    "# Start training\n",
    "model.fit_generator(\n",
    "    generator = train_batch_generator,\n",
    "    steps_per_epoch = num_batches_per_epoch_train,\n",
    "    validation_data = test_batch_generator,\n",
    "    validation_steps = num_batches_per_epoch_test,\n",
    "    epochs = EPOCHS,\n",
    "    class_weight=class_weight\n",
    ")"
   ]
  },
  {
   "cell_type": "markdown",
   "metadata": {},
   "source": [
    "## Results"
   ]
  },
  {
   "cell_type": "code",
   "execution_count": 10,
   "metadata": {},
   "outputs": [
    {
     "name": "stdout",
     "output_type": "stream",
     "text": [
      "Results after training for 100 epochs:\n",
      "loss: 0.2235 - categorical_accuracy: 0.9219 - f1: 0.9219\n",
      "val_loss: 0.5000 - val_categorical_accuracy: 0.8514 - f1: 0.8514\n"
     ]
    }
   ],
   "source": [
    "print(\"Results after training for %d epochs:\" % (EPOCHS,))\n",
    "\n",
    "train_metrics = model.evaluate_generator(\n",
    "    generator = train_batch_generator,\n",
    "    steps = num_batches_per_epoch_train,\n",
    ")\n",
    "\n",
    "print(\"loss: %.4f - categorical_accuracy: %.4f - f1: %.4f\" % tuple(train_metrics))\n",
    "\n",
    "val_metrics = model.evaluate_generator(\n",
    "    generator = test_batch_generator,\n",
    "    steps = num_batches_per_epoch_test,\n",
    ")\n",
    "\n",
    "print(\"val_loss: %.4f - val_categorical_accuracy: %.4f - f1: %.4f\" % tuple(val_metrics))"
   ]
  },
  {
   "cell_type": "markdown",
   "metadata": {},
   "source": [
    "## Conclusion"
   ]
  },
  {
   "cell_type": "code",
   "execution_count": 14,
   "metadata": {},
   "outputs": [
    {
     "data": {
      "image/png": "[encoded data removed]",
      "text/plain": [
       "<Figure size 432x288 with 1 Axes>"
      ]
     },
     "metadata": {},
     "output_type": "display_data"
    },
    {
     "data": {
      "image/png": "[encoded data removed]",
      "text/plain": [
       "<Figure size 432x288 with 1 Axes>"
      ]
     },
     "metadata": {},
     "output_type": "display_data"
    }
   ],
   "source": [
    "import matplotlib.pyplot as plt\n",
    "\n",
    "# Plot training & validation accuracy values\n",
    "plt.plot(model.history.history['acc'])\n",
    "plt.plot(model.history.history['val_acc'])\n",
    "plt.title('Model accuracy')\n",
    "plt.ylabel('Accuracy')\n",
    "plt.xlabel('Epoch')\n",
    "plt.legend(['Train', 'Test'], loc='upper left')\n",
    "plt.show()\n",
    "\n",
    "# Plot training & validation loss values\n",
    "plt.plot(model.history.history['loss'])\n",
    "plt.plot(model.history.history['val_loss'])\n",
    "plt.title('Model loss')\n",
    "plt.ylabel('Loss')\n",
    "plt.xlabel('Epoch')\n",
    "plt.legend(['Train', 'Test'], loc='upper left')\n",
    "plt.show()"
   ]
  },
  {
   "cell_type": "code",
   "execution_count": 12,
   "metadata": {},
   "outputs": [
    {
     "name": "stdout",
     "output_type": "stream",
     "text": [
      "['Cardiovascular', 'Other']\n",
      "[[1307  370]\n",
      " [1256 8007]]\n",
      "                precision    recall  f1-score   support\n",
      "\n",
      "Cardiovascular       0.51      0.78      0.62      1677\n",
      "         Other       0.96      0.86      0.91      9263\n",
      "\n",
      "   avg / total       0.89      0.85      0.86     10940\n",
      "\n"
     ]
    }
   ],
   "source": [
    "from sklearn.metrics import confusion_matrix, classification_report\n",
    "\n",
    "y_pred = np.argmax(model.predict(med_vectors.query(x_test)), axis=1)\n",
    "class_labels = [int_to_intent(y) for y in set(y_test)] \n",
    "report = classification_report(y_test, y_pred, target_names=class_labels)\n",
    "print(class_labels)\n",
    "print(confusion_matrix(y_test, y_pred))\n",
    "print(report)"
   ]
  },
  {
   "cell_type": "code",
   "execution_count": 13,
   "metadata": {},
   "outputs": [
    {
     "data": {
      "text/plain": [
       "<matplotlib.axes._subplots.AxesSubplot at 0x7f0bae011d30>"
      ]
     },
     "execution_count": 13,
     "metadata": {},
     "output_type": "execute_result"
    },
    {
     "data": {
      "image/png": "[encoded data removed]",
      "text/plain": [
       "<Figure size 432x288 with 2 Axes>"
      ]
     },
     "metadata": {},
     "output_type": "display_data"
    }
   ],
   "source": [
    "from sklearn.utils.multiclass import unique_labels\n",
    "\n",
    "def plot_confusion_matrix(y_true, y_pred, classes,\n",
    "                          title=None,\n",
    "                          cmap=plt.cm.Blues):\n",
    "    \"\"\"\n",
    "    This function prints and plots the confusion matrix.\n",
    "    Normalization can be applied by setting `normalize=True`.\n",
    "    \"\"\"\n",
    "    if not title:\n",
    "        if normalize:\n",
    "            title = 'Normalized confusion matrix'\n",
    "        else:\n",
    "            title = 'Confusion matrix, without normalization'\n",
    "\n",
    "    # Compute confusion matrix\n",
    "    cm = confusion_matrix(y_true, y_pred)\n",
    "    # Only use the labels that appear in the data\n",
    "    classes = [int_to_intent(y_class) for y_class in unique_labels(y_test, y_pred)]\n",
    "\n",
    "    fig, ax = plt.subplots()\n",
    "#     fig.set_figheight(15)\n",
    "#     fig.set_figwidth(15)\n",
    "    im = ax.imshow(cm, interpolation='nearest', cmap=cmap)\n",
    "    ax.figure.colorbar(im, ax=ax)\n",
    "    # We want to show all ticks...\n",
    "    ax.set(xticks=np.arange(cm.shape[1]),\n",
    "           yticks=np.arange(cm.shape[0]),\n",
    "           # ... and label them with the respective list entries\n",
    "           xticklabels=classes, yticklabels=classes,\n",
    "           title=title,\n",
    "           ylabel='True label',\n",
    "           xlabel='Predicted label')\n",
    "\n",
    "    # Rotate the tick labels and set their alignment.\n",
    "    plt.setp(ax.get_xticklabels(), rotation=45, ha=\"right\",\n",
    "             rotation_mode=\"anchor\")\n",
    "\n",
    "    # Loop over data dimensions and create text annotations.\n",
    "    fmt = 'd'\n",
    "    thresh = cm.max() / 2.\n",
    "    for i in range(cm.shape[0]):\n",
    "        for j in range(cm.shape[1]):\n",
    "            ax.text(j, i, format(cm[i, j], fmt),\n",
    "                    ha=\"center\", va=\"center\",\n",
    "                    color=\"white\" if cm[i, j] > thresh else \"black\")\n",
    "    fig.tight_layout()\n",
    "    return ax\n",
    "\n",
    "\n",
    "np.set_printoptions(precision=2)\n",
    "\n",
    "plot_confusion_matrix(y_test, y_pred, classes=class_labels\n",
    "                      , title='Confusion Matrix for Cardiovascular Disease CNN Classifier')"
   ]
  },
  {
   "cell_type": "code",
   "execution_count": null,
   "metadata": {},
   "outputs": [],
   "source": []
  }
 ],
 "metadata": {
  "kernelspec": {
   "display_name": "Python 3",
   "language": "python",
   "name": "python3"
  },
  "language_info": {
   "codemirror_mode": {
    "name": "ipython",
    "version": 3
   },
   "file_extension": ".py",
   "mimetype": "text/x-python",
   "name": "python",
   "nbconvert_exporter": "python",
   "pygments_lexer": "ipython3",
   "version": "3.6.5"
  }
 },
 "nbformat": 4,
 "nbformat_minor": 2
}
