{
 "cells": [
  {
   "cell_type": "code",
   "execution_count": 1,
   "metadata": {},
   "outputs": [
    {
     "name": "stdout",
     "output_type": "stream",
     "text": [
      "[nltk_data] Downloading package punkt to /home/renzeer/nltk_data...\n",
      "[nltk_data]   Package punkt is already up-to-date!\n",
      "[nltk_data] Downloading package stopwords to\n",
      "[nltk_data]     /home/renzeer/nltk_data...\n",
      "[nltk_data]   Package stopwords is already up-to-date!\n"
     ]
    },
    {
     "name": "stderr",
     "output_type": "stream",
     "text": [
      "Using TensorFlow backend.\n"
     ]
    }
   ],
   "source": [
    "# Standard python helper libraries.\n",
    "import os, sys, re, json, time, wget, csv, string, time, random\n",
    "import itertools, collections\n",
    "\n",
    "# NumPy\n",
    "import numpy as np\n",
    "\n",
    "# NLTK for NLP utils\n",
    "import nltk\n",
    "nltk.download('punkt')\n",
    "nltk.download('stopwords')\n",
    "from nltk.corpus import stopwords\n",
    "from nltk.tokenize import word_tokenize\n",
    "from nltk.stem.porter import PorterStemmer\n",
    "\n",
    "from keras import backend as K\n",
    "from keras.models import Sequential\n",
    "from keras.layers import GaussianNoise, Dropout, Dense, Embedding, MaxPool1D, GlobalMaxPool1D, Conv1D\n",
    "from keras.optimizers import Adam\n",
    "from keras.callbacks import Callback\n",
    "\n",
    "from sklearn.metrics import confusion_matrix, f1_score, precision_score, recall_score\n",
    "\n",
    "from pymagnitude import *"
   ]
  },
  {
   "cell_type": "markdown",
   "metadata": {},
   "source": [
    "# Binary Classifier for Cardiovascular Disease using a Convolutional Neural Network\n",
    "\n",
    "In this notebook, we will be building a model for classifying a sentence from an EHR note for the presence of cardiovascular disease. The model will be trained using a convoultional neural network (CNN). "
   ]
  },
  {
   "cell_type": "markdown",
   "metadata": {},
   "source": [
    "## Text Preprocessing"
   ]
  },
  {
   "cell_type": "code",
   "execution_count": 2,
   "metadata": {},
   "outputs": [
    {
     "name": "stdout",
     "output_type": "stream",
     "text": [
      "['Other', 'PAST MEDICAL HISTORY:, He has difficulty climbing stairs, difficulty with airline seats, tying shoes, used to public seating, and lifting objects off the floor.  He exercises three times a week at home and does cardio.  He has difficulty walking two blocks or five flights of stairs.  Difficulty with snoring.  He has muscle and joint pains including knee pain, back pain, foot and ankle pain, and swelling.  He has gastroesophageal reflux disease.,PAST SURGICAL HISTORY:, Includes reconstructive surgery on his right hand 13 years ago.  ,SOCIAL HISTORY:, He is currently single.  He has about ten drinks a year.  He had smoked significantly up until several months ago.  He now smokes less than three cigarettes a day.,FAMILY HISTORY:, Heart disease in both grandfathers, grandmother with stroke, and a grandmother with diabetes.  Denies obesity and hypertension in other family members.,CURRENT MEDICATIONS:, None.,ALLERGIES:,  He is allergic to Penicillin.,MISCELLANEOUS/EATING HISTORY:, He has been going to support groups for seven months with Lynn Holmberg in Greenwich and he is from Eastchester, New York and he feels that we are the appropriate program.  He had a poor experience with the Greenwich program.  Eating history, he is not an emotional eater.  Does not like sweets.  He likes big portions and carbohydrates.  He likes chicken and not steak.  He currently weighs 312 pounds.  Ideal body weight would be 170 pounds.  He is 142 pounds overweight.  If ,he lost 60% of his excess body weight that would be 84 pounds and he should weigh about 228.,REVIEW OF SYSTEMS: ,Negative for head, neck, heart, lungs, GI, GU, orthopedic, and skin.  Specifically denies chest pain, heart attack, coronary artery disease, congestive heart failure, arrhythmia, atrial fibrillation, pacemaker, high cholesterol, pulmonary embolism, high blood pressure, CVA, venous insufficiency, thrombophlebitis, asthma, shortness of breath, COPD, emphysema, sleep apnea, diabetes, leg and foot swelling, osteoarthritis, rheumatoid arthritis, hiatal hernia, peptic ulcer disease, gallstones, infected gallbladder, pancreatitis, fatty liver, hepatitis, hemorrhoids, rectal bleeding, polyps, incontinence of stool, urinary stress incontinence, or cancer.  Denies cellulitis, pseudotumor cerebri, meningitis, or encephalitis.,PHYSICAL EXAMINATION:, He is alert and oriented x 3.  Cranial nerves II-XII are intact.  Afebrile.  Vital Signs are stable.']\n",
      "['Cardiovascular', '2-D M-MODE: , ,1.  Left atrial enlargement with left atrial diameter of 4.7 cm.,2.  Normal size right and left ventricle.,3.  Normal LV systolic function with left ventricular ejection fraction of 51%.,4.  Normal LV diastolic function.,5.  No pericardial effusion.,6.  Normal morphology of aortic valve, mitral valve, tricuspid valve, and pulmonary valve.,7.  PA systolic pressure is 36 mmHg.,DOPPLER: , ,1.  Mild mitral and tricuspid regurgitation.,2.  Trace aortic and pulmonary regurgitation.']\n"
     ]
    }
   ],
   "source": [
    "ehr_notes = []\n",
    "with open('data/ehr_samples.csv', newline='') as csvfile:\n",
    "    reader = csv.DictReader(csvfile)\n",
    "    for row in reader:     \n",
    "        if int(row['SpecialtyID']) in [39, 6, 16, 37, 11, 12, 29, 26, 7, 21, 19, 10, 2, 18]:\n",
    "            continue\n",
    "        elif int(row['SpecialtyID']) != 4:\n",
    "            ehr_notes.append(['Other', row['Note']])\n",
    "        else:\n",
    "            ehr_notes.append([row['Specialty'], row['Note']])\n",
    "\n",
    "print(ehr_notes[0])\n",
    "print(ehr_notes[2])"
   ]
  },
  {
   "cell_type": "markdown",
   "metadata": {},
   "source": [
    "## Natural Langauge Processing"
   ]
  },
  {
   "cell_type": "code",
   "execution_count": 3,
   "metadata": {},
   "outputs": [
    {
     "name": "stdout",
     "output_type": "stream",
     "text": [
      "['Cardiovascular', 'return clinic 4 weeks5']\n",
      "['Other', 'biceps tendon nonsubluxable']\n"
     ]
    }
   ],
   "source": [
    "ehr_sentences = []\n",
    "for record in ehr_notes:\n",
    "    sent_text = nltk.sent_tokenize(record[1])\n",
    "    for sent in sent_text:\n",
    "        tokens = word_tokenize(sent)\n",
    "\n",
    "        # convert to lower case\n",
    "        tokens = [w.lower() for w in tokens]\n",
    "\n",
    "        # remove punctuation from each word\n",
    "        table = str.maketrans('', '', string.punctuation)\n",
    "        tokens = [w.translate(table) for w in tokens]\n",
    "\n",
    "        # filter out stop words\n",
    "        stop_words = set(stopwords.words('english'))\n",
    "        tokens = [w for w in tokens if not w in stop_words]\n",
    "\n",
    "#         # stem words\n",
    "#         porter = PorterStemmer()\n",
    "#         tokens = [porter.stem(word) for word in tokens]\n",
    "\n",
    "        # remove blanks\n",
    "        tokens = [w for w in tokens if w != '']\n",
    "\n",
    "        ehr_sentences.append([record[0], ' '.join(tokens)])\n",
    "\n",
    "random.Random(4).shuffle(ehr_sentences)\n",
    "\n",
    "print(ehr_sentences[0])\n",
    "print(ehr_sentences[1])"
   ]
  },
  {
   "cell_type": "markdown",
   "metadata": {},
   "source": [
    "## Word Embedding\n",
    "\n",
    "The first step is to load in our word embedding, which is trained on text from Wikipedia, Pubmed, and Pubmed Central. We load our word embedding through a tool called Magnitude. A full exploration of the word embedding and Magnitude can be found in the Introduction notebook."
   ]
  },
  {
   "cell_type": "code",
   "execution_count": 4,
   "metadata": {},
   "outputs": [],
   "source": [
    "med_vectors = Magnitude(\"data/wikipedia-pubmed-and-PMC-w2v.magnitude\", pad_to_length=30)"
   ]
  },
  {
   "cell_type": "markdown",
   "metadata": {},
   "source": [
    "## Defining our Training and Test Data\n",
    "\n",
    "Before we can start building our neural networks, we first have to define our datasets. Specifically, we have to break up our EHR data so that we have records that we can train on and records that are exclusively used to test on. Maintaining a separate set for testing ensures we avoid overfitting our data.\n",
    "\n",
    "We will use some built-in functions provided by Magnitude that helps encode our classes/categories. We then partition our data into our train and test sets. For each set we have both data and labels. Initially, we will be making these partitions small to make iterating through model development much quicker. However, once the models are developed, we will expand our datasets to include all of our data. To ensure we defined our data correctly, we can print a few lines from the two sets."
   ]
  },
  {
   "cell_type": "code",
   "execution_count": 5,
   "metadata": {},
   "outputs": [
    {
     "data": {
      "text/plain": [
       "70941"
      ]
     },
     "execution_count": 5,
     "metadata": {},
     "output_type": "execute_result"
    }
   ],
   "source": [
    "len(ehr_sentences)"
   ]
  },
  {
   "cell_type": "code",
   "execution_count": 6,
   "metadata": {},
   "outputs": [
    {
     "name": "stdout",
     "output_type": "stream",
     "text": [
      "Cardiovascular\n",
      "First line of train/test data:\n",
      "\t ['return', 'clinic', '4', 'weeks5']\n",
      "\t 0 Cardiovascular\n",
      "\t ['smokes', 'one', 'pack', 'per', 'day']\n",
      "\t 0 Cardiovascular\n",
      "Second line of train/test data:\n",
      "\t ['biceps', 'tendon', 'nonsubluxable']\n",
      "\t 1 Other\n",
      "\t ['denies', 'illicit', 'drug', 'use', 'family', 'history', 'parents', 'died', 'myocardial', 'infarctions']\n",
      "\t 1 Other\n"
     ]
    }
   ],
   "source": [
    "add_intent, intent_to_int, int_to_intent = MagnitudeUtils.class_encoding()\n",
    "\n",
    "x_train = [ehr_sent[1].split(' ') for ehr_sent in ehr_sentences[:60000]]\n",
    "x_test = [ehr_sent[1].split(' ') for ehr_sent in ehr_sentences[60001:]]\n",
    "\n",
    "y_train = [add_intent(ehr_sent[0]) for ehr_sent in ehr_sentences[:60000]]\n",
    "y_test = [add_intent(ehr_sent[0]) for ehr_sent in ehr_sentences[60001:]]\n",
    "\n",
    "y_train = list(np.array(y_train).reshape(len(y_train)))\n",
    "y_test = list(np.array(y_test).reshape(len(y_test)))\n",
    "\n",
    "num_training = len(x_train)\n",
    "num_test = len(x_test)\n",
    "num_outputs = int(max(max(y_train), max(y_test))) + 1\n",
    "\n",
    "print(int_to_intent(0))\n",
    "\n",
    "print(\"First line of train/test data:\")\n",
    "print(\"\\t\", x_train[0])\n",
    "print(\"\\t\", y_train[0], int_to_intent(y_train[0]))\n",
    "print(\"\\t\", x_test[0])\n",
    "print(\"\\t\", y_test[0], int_to_intent(y_test[0]))\n",
    "print(\"Second line of train/test data:\")\n",
    "print(\"\\t\", x_train[1])\n",
    "print(\"\\t\", y_train[1], int_to_intent(y_train[1]))\n",
    "print(\"\\t\", x_test[1])\n",
    "print(\"\\t\", y_test[1], int_to_intent(y_test[1]))"
   ]
  },
  {
   "cell_type": "markdown",
   "metadata": {},
   "source": [
    "## Defining Custom Callback Function"
   ]
  },
  {
   "cell_type": "code",
   "execution_count": 7,
   "metadata": {},
   "outputs": [],
   "source": [
    "def f1(y_true, y_pred):\n",
    "    def recall(y_true, y_pred):\n",
    "        \"\"\"Recall metric.\n",
    "\n",
    "        Only computes a batch-wise average of recall.\n",
    "\n",
    "        Computes the recall, a metric for multi-label classification of\n",
    "        how many relevant items are selected.\n",
    "        \"\"\"\n",
    "        true_positives = K.sum(K.round(K.clip(y_true * y_pred, 0, 1)))\n",
    "        possible_positives = K.sum(K.round(K.clip(y_true, 0, 1)))\n",
    "        recall = true_positives / (possible_positives + K.epsilon())\n",
    "        return recall\n",
    "\n",
    "    def precision(y_true, y_pred):\n",
    "        \"\"\"Precision metric.\n",
    "\n",
    "        Only computes a batch-wise average of precision.\n",
    "\n",
    "        Computes the precision, a metric for multi-label classification of\n",
    "        how many selected items are relevant.\n",
    "        \"\"\"\n",
    "        true_positives = K.sum(K.round(K.clip(y_true * y_pred, 0, 1)))\n",
    "        predicted_positives = K.sum(K.round(K.clip(y_pred, 0, 1)))\n",
    "        precision = true_positives / (predicted_positives + K.epsilon())\n",
    "        return precision\n",
    "    \n",
    "    precision = precision(y_true, y_pred)\n",
    "    recall = recall(y_true, y_pred)\n",
    "    return 2*((precision*recall)/(precision+recall+K.epsilon()))"
   ]
  },
  {
   "cell_type": "markdown",
   "metadata": {},
   "source": [
    "## Defining Model"
   ]
  },
  {
   "cell_type": "code",
   "execution_count": 8,
   "metadata": {},
   "outputs": [
    {
     "name": "stdout",
     "output_type": "stream",
     "text": [
      "_________________________________________________________________\n",
      "Layer (type)                 Output Shape              Param #   \n",
      "=================================================================\n",
      "gaussian_noise_1 (GaussianNo (None, 30, 200)           0         \n",
      "_________________________________________________________________\n",
      "conv1d_1 (Conv1D)            (None, 30, 128)           179328    \n",
      "_________________________________________________________________\n",
      "max_pooling1d_1 (MaxPooling1 (None, 15, 128)           0         \n",
      "_________________________________________________________________\n",
      "conv1d_2 (Conv1D)            (None, 15, 128)           114816    \n",
      "_________________________________________________________________\n",
      "global_max_pooling1d_1 (Glob (None, 128)               0         \n",
      "_________________________________________________________________\n",
      "dropout_1 (Dropout)          (None, 128)               0         \n",
      "_________________________________________________________________\n",
      "dense_1 (Dense)              (None, 64)                8256      \n",
      "_________________________________________________________________\n",
      "dense_2 (Dense)              (None, 2)                 130       \n",
      "=================================================================\n",
      "Total params: 302,530\n",
      "Trainable params: 302,530\n",
      "Non-trainable params: 0\n",
      "_________________________________________________________________\n"
     ]
    }
   ],
   "source": [
    "MAX_WORDS = 30 # The maximum number of words the sequence model will consider\n",
    "STD_DEV = 0.01 # Deviation of noise for Gaussian Noise applied to the embeddings\n",
    "DROPOUT_RATIO = .5 # The ratio to dropout\n",
    "BATCH_SIZE = 100 # The number of examples per train/validation step\n",
    "EPOCHS = 100 # The number of times to repeat through all of the training data\n",
    "LEARNING_RATE = .01 # The learning rate for the optimizer\n",
    "NUM_FILTERS = 128\n",
    "\n",
    "model = Sequential()\n",
    "model.add(GaussianNoise(STD_DEV, input_shape=(MAX_WORDS, med_vectors.dim)))\n",
    "model.add(Conv1D(NUM_FILTERS, 7, activation='relu', padding='same'))\n",
    "model.add(MaxPool1D(2))\n",
    "model.add(Conv1D(NUM_FILTERS, 7, activation='relu', padding='same'))\n",
    "model.add(GlobalMaxPool1D())\n",
    "model.add(Dropout(DROPOUT_RATIO))\n",
    "model.add(Dense(64, activation='relu'))\n",
    "model.add(Dense(num_outputs, activation='softmax'))\n",
    "model.compile(optimizer='adam',\n",
    "              loss='binary_crossentropy',\n",
    "              metrics=['accuracy', f1])\n",
    "model.summary()"
   ]
  },
  {
   "cell_type": "markdown",
   "metadata": {},
   "source": [
    "## Training Batches and Epochs"
   ]
  },
  {
   "cell_type": "code",
   "execution_count": 9,
   "metadata": {},
   "outputs": [
    {
     "name": "stdout",
     "output_type": "stream",
     "text": [
      "Epoch 1/100\n",
      "600/600 [==============================] - 330s 550ms/step - loss: 0.8886 - acc: 0.7521 - f1: 0.7521 - val_loss: 0.5790 - val_acc: 0.7010 - val_f1: 0.7010\n",
      "Epoch 2/100\n",
      "600/600 [==============================] - 17s 28ms/step - loss: 0.7526 - acc: 0.7997 - f1: 0.7997 - val_loss: 0.5020 - val_acc: 0.7478 - val_f1: 0.7478\n",
      "Epoch 3/100\n",
      "600/600 [==============================] - 19s 31ms/step - loss: 0.6239 - acc: 0.8305 - f1: 0.8305 - val_loss: 0.4607 - val_acc: 0.7653 - val_f1: 0.7653\n",
      "Epoch 4/100\n",
      "600/600 [==============================] - 16s 27ms/step - loss: 0.3676 - acc: 0.8941 - f1: 0.8941 - val_loss: 0.4848 - val_acc: 0.7978 - val_f1: 0.7978\n",
      "Epoch 8/100\n",
      "600/600 [==============================] - 16s 27ms/step - loss: 0.3378 - acc: 0.9028 - f1: 0.9028 - val_loss: 0.4730 - val_acc: 0.8237 - val_f1: 0.8237\n",
      "Epoch 9/100\n",
      "600/600 [==============================] - 16s 27ms/step - loss: 0.3143 - acc: 0.9103 - f1: 0.9103 - val_loss: 0.5470 - val_acc: 0.7876 - val_f1: 0.7876\n",
      "Epoch 10/100\n",
      "600/600 [==============================] - 16s 27ms/step - loss: 0.2914 - acc: 0.9156 - f1: 0.9155 - val_loss: 0.5159 - val_acc: 0.8266 - val_f1: 0.8266\n",
      "Epoch 11/100\n",
      "600/600 [==============================] - 16s 27ms/step - loss: 0.2863 - acc: 0.9177 - f1: 0.9177 - val_loss: 0.5285 - val_acc: 0.8242 - val_f1: 0.8242\n",
      "Epoch 12/100\n",
      "600/600 [==============================] - 16s 27ms/step - loss: 0.2735 - acc: 0.9234 - f1: 0.9234 - val_loss: 0.5400 - val_acc: 0.8047 - val_f1: 0.8047\n",
      "Epoch 13/100\n",
      "600/600 [==============================] - 16s 27ms/step - loss: 0.2643 - acc: 0.9249 - f1: 0.9249 - val_loss: 0.5031 - val_acc: 0.8382 - val_f1: 0.8382\n",
      "Epoch 14/100\n",
      "600/600 [==============================] - 16s 27ms/step - loss: 0.2516 - acc: 0.9290 - f1: 0.9290 - val_loss: 0.5469 - val_acc: 0.8476 - val_f1: 0.8476\n",
      "Epoch 15/100\n",
      "600/600 [==============================] - 16s 27ms/step - loss: 0.2436 - acc: 0.9304 - f1: 0.9304 - val_loss: 0.5477 - val_acc: 0.8344 - val_f1: 0.8344\n",
      "Epoch 16/100\n",
      "600/600 [==============================] - 16s 27ms/step - loss: 0.2430 - acc: 0.9301 - f1: 0.9301 - val_loss: 0.5685 - val_acc: 0.8264 - val_f1: 0.8264\n",
      "Epoch 17/100\n",
      "600/600 [==============================] - 16s 27ms/step - loss: 0.2327 - acc: 0.9331 - f1: 0.9331 - val_loss: 0.5684 - val_acc: 0.8459 - val_f1: 0.8459\n",
      "Epoch 18/100\n",
      "600/600 [==============================] - 16s 27ms/step - loss: 0.2294 - acc: 0.9341 - f1: 0.9340 - val_loss: 0.5614 - val_acc: 0.8494 - val_f1: 0.8494\n",
      "Epoch 19/100\n",
      "600/600 [==============================] - 16s 27ms/step - loss: 0.2232 - acc: 0.9360 - f1: 0.9360 - val_loss: 0.5838 - val_acc: 0.8452 - val_f1: 0.8452\n",
      "Epoch 20/100\n",
      "600/600 [==============================] - 16s 27ms/step - loss: 0.2220 - acc: 0.9367 - f1: 0.9367 - val_loss: 0.5956 - val_acc: 0.8378 - val_f1: 0.8378\n",
      "Epoch 21/100\n",
      "600/600 [==============================] - 16s 27ms/step - loss: 0.2144 - acc: 0.9384 - f1: 0.9384 - val_loss: 0.6372 - val_acc: 0.8316 - val_f1: 0.8316\n",
      "Epoch 22/100\n",
      "600/600 [==============================] - 19s 31ms/step - loss: 0.2191 - acc: 0.9353 - f1: 0.9353 - val_loss: 0.6054 - val_acc: 0.8364 - val_f1: 0.8364\n",
      "Epoch 23/100\n",
      "600/600 [==============================] - 16s 27ms/step - loss: 0.2097 - acc: 0.9381 - f1: 0.9381 - val_loss: 0.6565 - val_acc: 0.8384 - val_f1: 0.8384\n",
      "Epoch 24/100\n",
      "600/600 [==============================] - 16s 27ms/step - loss: 0.2074 - acc: 0.9395 - f1: 0.9395 - val_loss: 0.6261 - val_acc: 0.8387 - val_f1: 0.8387\n",
      "Epoch 25/100\n",
      "600/600 [==============================] - 16s 27ms/step - loss: 0.2005 - acc: 0.9413 - f1: 0.9413 - val_loss: 0.6671 - val_acc: 0.8203 - val_f1: 0.8203\n",
      "Epoch 26/100\n",
      "600/600 [==============================] - 20s 33ms/step - loss: 0.2049 - acc: 0.9393 - f1: 0.9393 - val_loss: 0.6671 - val_acc: 0.8335 - val_f1: 0.8335\n",
      "Epoch 27/100\n",
      "600/600 [==============================] - 19s 32ms/step - loss: 0.2015 - acc: 0.9397 - f1: 0.9397 - val_loss: 0.6251 - val_acc: 0.8485 - val_f1: 0.8485\n",
      "Epoch 28/100\n",
      "600/600 [==============================] - 16s 27ms/step - loss: 0.1902 - acc: 0.9433 - f1: 0.9433 - val_loss: 0.6343 - val_acc: 0.8403 - val_f1: 0.8403\n",
      "Epoch 29/100\n",
      "600/600 [==============================] - 16s 27ms/step - loss: 0.1882 - acc: 0.9440 - f1: 0.9440 - val_loss: 0.6133 - val_acc: 0.8403 - val_f1: 0.8403\n",
      "Epoch 30/100\n",
      "600/600 [==============================] - 16s 27ms/step - loss: 0.1899 - acc: 0.9421 - f1: 0.9421 - val_loss: 0.6896 - val_acc: 0.8485 - val_f1: 0.8485\n",
      "Epoch 31/100\n",
      "600/600 [==============================] - 16s 27ms/step - loss: 0.1909 - acc: 0.9424 - f1: 0.9424 - val_loss: 0.6518 - val_acc: 0.8474 - val_f1: 0.8474\n",
      "Epoch 32/100\n",
      "600/600 [==============================] - 16s 27ms/step - loss: 0.1824 - acc: 0.9456 - f1: 0.9455 - val_loss: 0.6794 - val_acc: 0.8484 - val_f1: 0.8484\n",
      "Epoch 33/100\n",
      "600/600 [==============================] - 16s 27ms/step - loss: 0.1868 - acc: 0.9446 - f1: 0.9446 - val_loss: 0.6655 - val_acc: 0.8370 - val_f1: 0.8370\n",
      "Epoch 34/100\n",
      "600/600 [==============================] - 16s 27ms/step - loss: 0.1813 - acc: 0.9455 - f1: 0.9455 - val_loss: 0.6821 - val_acc: 0.8498 - val_f1: 0.8498\n",
      "Epoch 35/100\n",
      "600/600 [==============================] - 16s 27ms/step - loss: 0.1769 - acc: 0.9463 - f1: 0.9463 - val_loss: 0.7195 - val_acc: 0.8478 - val_f1: 0.8478\n",
      "Epoch 36/100\n",
      "600/600 [==============================] - 16s 27ms/step - loss: 0.1833 - acc: 0.9454 - f1: 0.9454 - val_loss: 0.6647 - val_acc: 0.8331 - val_f1: 0.8331\n",
      "Epoch 37/100\n",
      "600/600 [==============================] - 16s 27ms/step - loss: 0.1800 - acc: 0.9453 - f1: 0.9453 - val_loss: 0.6877 - val_acc: 0.8410 - val_f1: 0.8410\n",
      "Epoch 38/100\n",
      "600/600 [==============================] - 16s 27ms/step - loss: 0.1752 - acc: 0.9468 - f1: 0.9468 - val_loss: 0.7045 - val_acc: 0.8469 - val_f1: 0.8469\n",
      "Epoch 39/100\n",
      "600/600 [==============================] - 16s 27ms/step - loss: 0.1746 - acc: 0.9460 - f1: 0.9460 - val_loss: 0.6812 - val_acc: 0.8531 - val_f1: 0.8531\n",
      "Epoch 40/100\n",
      "600/600 [==============================] - 17s 29ms/step - loss: 0.1733 - acc: 0.9473 - f1: 0.9473 - val_loss: 0.6759 - val_acc: 0.8480 - val_f1: 0.8480\n",
      "Epoch 41/100\n",
      "600/600 [==============================] - 17s 29ms/step - loss: 0.1697 - acc: 0.9484 - f1: 0.9484 - val_loss: 0.7481 - val_acc: 0.8461 - val_f1: 0.8461\n",
      "Epoch 42/100\n",
      "600/600 [==============================] - 16s 27ms/step - loss: 0.1690 - acc: 0.9478 - f1: 0.9478 - val_loss: 0.7236 - val_acc: 0.8441 - val_f1: 0.8441\n",
      "Epoch 43/100\n",
      "600/600 [==============================] - 16s 27ms/step - loss: 0.1717 - acc: 0.9467 - f1: 0.9467 - val_loss: 0.6687 - val_acc: 0.8463 - val_f1: 0.8463\n",
      "Epoch 44/100\n",
      "600/600 [==============================] - 16s 27ms/step - loss: 0.1728 - acc: 0.9469 - f1: 0.9468 - val_loss: 0.7270 - val_acc: 0.8368 - val_f1: 0.8368\n",
      "Epoch 45/100\n",
      "600/600 [==============================] - 16s 27ms/step - loss: 0.1642 - acc: 0.9490 - f1: 0.9489 - val_loss: 0.7885 - val_acc: 0.8382 - val_f1: 0.8382\n",
      "Epoch 46/100\n",
      "600/600 [==============================] - 16s 27ms/step - loss: 0.1619 - acc: 0.9491 - f1: 0.9491 - val_loss: 0.7819 - val_acc: 0.8403 - val_f1: 0.8403\n",
      "Epoch 47/100\n",
      "600/600 [==============================] - 16s 27ms/step - loss: 0.1672 - acc: 0.9474 - f1: 0.9474 - val_loss: 0.7342 - val_acc: 0.8441 - val_f1: 0.8441\n",
      "Epoch 48/100\n",
      "600/600 [==============================] - 16s 27ms/step - loss: 0.1647 - acc: 0.9483 - f1: 0.9483 - val_loss: 0.7540 - val_acc: 0.8511 - val_f1: 0.8511\n",
      "Epoch 49/100\n",
      "600/600 [==============================] - 16s 27ms/step - loss: 0.1640 - acc: 0.9487 - f1: 0.9487 - val_loss: 0.7999 - val_acc: 0.8416 - val_f1: 0.8416\n",
      "Epoch 50/100\n",
      "600/600 [==============================] - 16s 27ms/step - loss: 0.1613 - acc: 0.9492 - f1: 0.9491 - val_loss: 0.7467 - val_acc: 0.8493 - val_f1: 0.8493\n",
      "Epoch 51/100\n",
      "600/600 [==============================] - 16s 27ms/step - loss: 0.1646 - acc: 0.9476 - f1: 0.9475 - val_loss: 0.7372 - val_acc: 0.8463 - val_f1: 0.8463\n",
      "Epoch 52/100\n",
      "600/600 [==============================] - 16s 27ms/step - loss: 0.1616 - acc: 0.9488 - f1: 0.9488 - val_loss: 0.7626 - val_acc: 0.8278 - val_f1: 0.8278\n",
      "Epoch 53/100\n"
     ]
    },
    {
     "name": "stdout",
     "output_type": "stream",
     "text": [
      "600/600 [==============================] - 16s 27ms/step - loss: 0.1609 - acc: 0.9495 - f1: 0.9495 - val_loss: 0.7950 - val_acc: 0.8517 - val_f1: 0.8517\n",
      "Epoch 54/100\n",
      "600/600 [==============================] - 17s 28ms/step - loss: 0.1546 - acc: 0.9509 - f1: 0.9509 - val_loss: 0.7867 - val_acc: 0.8403 - val_f1: 0.8403\n",
      "Epoch 55/100\n",
      "600/600 [==============================] - 16s 27ms/step - loss: 0.1583 - acc: 0.9495 - f1: 0.9495 - val_loss: 0.7605 - val_acc: 0.8420 - val_f1: 0.8420\n",
      "Epoch 56/100\n",
      "600/600 [==============================] - 16s 27ms/step - loss: 0.1581 - acc: 0.9499 - f1: 0.9499 - val_loss: 0.7429 - val_acc: 0.8399 - val_f1: 0.8399\n",
      "Epoch 57/100\n",
      "600/600 [==============================] - 16s 27ms/step - loss: 0.1616 - acc: 0.9495 - f1: 0.9495 - val_loss: 0.7352 - val_acc: 0.8499 - val_f1: 0.8499\n",
      "Epoch 58/100\n",
      "600/600 [==============================] - 16s 27ms/step - loss: 0.1574 - acc: 0.9506 - f1: 0.9506 - val_loss: 0.7890 - val_acc: 0.8452 - val_f1: 0.8452\n",
      "Epoch 59/100\n",
      "600/600 [==============================] - 17s 29ms/step - loss: 0.1558 - acc: 0.9507 - f1: 0.9507 - val_loss: 0.7382 - val_acc: 0.8534 - val_f1: 0.8534\n",
      "Epoch 60/100\n",
      "600/600 [==============================] - 18s 30ms/step - loss: 0.1495 - acc: 0.9526 - f1: 0.9526 - val_loss: 0.8235 - val_acc: 0.8342 - val_f1: 0.8342\n",
      "Epoch 61/100\n",
      "600/600 [==============================] - 16s 27ms/step - loss: 0.1518 - acc: 0.9509 - f1: 0.9509 - val_loss: 0.8139 - val_acc: 0.8385 - val_f1: 0.8385\n",
      "Epoch 62/100\n",
      "600/600 [==============================] - 16s 27ms/step - loss: 0.1593 - acc: 0.9502 - f1: 0.9502 - val_loss: 0.7970 - val_acc: 0.8508 - val_f1: 0.8508\n",
      "Epoch 63/100\n",
      "600/600 [==============================] - 16s 27ms/step - loss: 0.1489 - acc: 0.9518 - f1: 0.9518 - val_loss: 0.7970 - val_acc: 0.8463 - val_f1: 0.8463\n",
      "Epoch 64/100\n",
      "600/600 [==============================] - 16s 27ms/step - loss: 0.1559 - acc: 0.9509 - f1: 0.9509 - val_loss: 0.7333 - val_acc: 0.8409 - val_f1: 0.8409\n",
      "Epoch 65/100\n",
      "600/600 [==============================] - 16s 27ms/step - loss: 0.1531 - acc: 0.9508 - f1: 0.9508 - val_loss: 0.8029 - val_acc: 0.8473 - val_f1: 0.8473\n",
      "Epoch 66/100\n",
      "600/600 [==============================] - 16s 27ms/step - loss: 0.1479 - acc: 0.9528 - f1: 0.9528 - val_loss: 0.8742 - val_acc: 0.8483 - val_f1: 0.8483\n",
      "Epoch 67/100\n",
      "600/600 [==============================] - 16s 27ms/step - loss: 0.1531 - acc: 0.9518 - f1: 0.9518 - val_loss: 0.7440 - val_acc: 0.8505 - val_f1: 0.8505\n",
      "Epoch 68/100\n",
      "600/600 [==============================] - 16s 27ms/step - loss: 0.1495 - acc: 0.9529 - f1: 0.9529 - val_loss: 0.7760 - val_acc: 0.8486 - val_f1: 0.8486\n",
      "Epoch 69/100\n",
      "600/600 [==============================] - 16s 27ms/step - loss: 0.1502 - acc: 0.9521 - f1: 0.9521 - val_loss: 0.7983 - val_acc: 0.8448 - val_f1: 0.8448\n",
      "Epoch 70/100\n",
      "600/600 [==============================] - 16s 27ms/step - loss: 0.1535 - acc: 0.9511 - f1: 0.9511 - val_loss: 0.8133 - val_acc: 0.8473 - val_f1: 0.8473\n",
      "Epoch 71/100\n",
      "600/600 [==============================] - 16s 27ms/step - loss: 0.1484 - acc: 0.9523 - f1: 0.9523 - val_loss: 0.8415 - val_acc: 0.8500 - val_f1: 0.8500\n",
      "Epoch 72/100\n",
      "600/600 [==============================] - 16s 27ms/step - loss: 0.1510 - acc: 0.9520 - f1: 0.9520 - val_loss: 0.7898 - val_acc: 0.8493 - val_f1: 0.8493\n",
      "Epoch 73/100\n",
      "600/600 [==============================] - 16s 27ms/step - loss: 0.1464 - acc: 0.9527 - f1: 0.9527 - val_loss: 0.9144 - val_acc: 0.8463 - val_f1: 0.8463\n",
      "Epoch 74/100\n",
      "600/600 [==============================] - 16s 27ms/step - loss: 0.1480 - acc: 0.9529 - f1: 0.9529 - val_loss: 0.8657 - val_acc: 0.8463 - val_f1: 0.8463\n",
      "Epoch 75/100\n",
      "600/600 [==============================] - 16s 27ms/step - loss: 0.1419 - acc: 0.9539 - f1: 0.9539 - val_loss: 0.9065 - val_acc: 0.8386 - val_f1: 0.8386\n",
      "Epoch 76/100\n",
      "600/600 [==============================] - 16s 27ms/step - loss: 0.1482 - acc: 0.9535 - f1: 0.9535 - val_loss: 0.9331 - val_acc: 0.8422 - val_f1: 0.8422\n",
      "Epoch 77/100\n",
      "600/600 [==============================] - 16s 27ms/step - loss: 0.1502 - acc: 0.9517 - f1: 0.9517 - val_loss: 0.8424 - val_acc: 0.8411 - val_f1: 0.8411\n",
      "Epoch 78/100\n",
      "600/600 [==============================] - 17s 28ms/step - loss: 0.1445 - acc: 0.9534 - f1: 0.9533 - val_loss: 0.8848 - val_acc: 0.8397 - val_f1: 0.8397\n",
      "Epoch 79/100\n",
      "600/600 [==============================] - 17s 29ms/step - loss: 0.1412 - acc: 0.9539 - f1: 0.9538 - val_loss: 0.9906 - val_acc: 0.8516 - val_f1: 0.8516\n",
      "Epoch 80/100\n",
      "600/600 [==============================] - 16s 27ms/step - loss: 0.1415 - acc: 0.9538 - f1: 0.9538 - val_loss: 0.9509 - val_acc: 0.8330 - val_f1: 0.8330\n",
      "Epoch 81/100\n",
      "600/600 [==============================] - 16s 27ms/step - loss: 0.1475 - acc: 0.9524 - f1: 0.9524 - val_loss: 0.8991 - val_acc: 0.8418 - val_f1: 0.8418\n",
      "Epoch 82/100\n",
      "600/600 [==============================] - 17s 28ms/step - loss: 0.1442 - acc: 0.9534 - f1: 0.9533 - val_loss: 0.9363 - val_acc: 0.8480 - val_f1: 0.8480\n",
      "Epoch 83/100\n",
      "600/600 [==============================] - 16s 27ms/step - loss: 0.1419 - acc: 0.9549 - f1: 0.9548 - val_loss: 0.9470 - val_acc: 0.8435 - val_f1: 0.8435\n",
      "Epoch 84/100\n",
      "600/600 [==============================] - 16s 27ms/step - loss: 0.1401 - acc: 0.9547 - f1: 0.9547 - val_loss: 1.0044 - val_acc: 0.8478 - val_f1: 0.8478\n",
      "Epoch 85/100\n",
      "600/600 [==============================] - 16s 27ms/step - loss: 0.1455 - acc: 0.9533 - f1: 0.9533 - val_loss: 0.9427 - val_acc: 0.8380 - val_f1: 0.8380\n",
      "Epoch 86/100\n",
      "600/600 [==============================] - 16s 27ms/step - loss: 0.1482 - acc: 0.9532 - f1: 0.9532 - val_loss: 0.9500 - val_acc: 0.8434 - val_f1: 0.8434\n",
      "Epoch 87/100\n",
      "600/600 [==============================] - 16s 27ms/step - loss: 0.1397 - acc: 0.9547 - f1: 0.9547 - val_loss: 0.9922 - val_acc: 0.8442 - val_f1: 0.8442\n",
      "Epoch 88/100\n",
      "600/600 [==============================] - 16s 27ms/step - loss: 0.1447 - acc: 0.9541 - f1: 0.9541 - val_loss: 0.9245 - val_acc: 0.8378 - val_f1: 0.8378\n",
      "Epoch 89/100\n",
      "600/600 [==============================] - 16s 27ms/step - loss: 0.1427 - acc: 0.9539 - f1: 0.9539 - val_loss: 0.9794 - val_acc: 0.8500 - val_f1: 0.8500\n",
      "Epoch 90/100\n",
      "600/600 [==============================] - 16s 27ms/step - loss: 0.1389 - acc: 0.9550 - f1: 0.9550 - val_loss: 1.0031 - val_acc: 0.8462 - val_f1: 0.8462\n",
      "Epoch 91/100\n",
      "600/600 [==============================] - 16s 27ms/step - loss: 0.1347 - acc: 0.9567 - f1: 0.9567 - val_loss: 1.0992 - val_acc: 0.8510 - val_f1: 0.8510\n",
      "Epoch 92/100\n",
      "600/600 [==============================] - 16s 27ms/step - loss: 0.1371 - acc: 0.9563 - f1: 0.9563 - val_loss: 1.0105 - val_acc: 0.8457 - val_f1: 0.8457\n",
      "Epoch 93/100\n",
      "600/600 [==============================] - 16s 27ms/step - loss: 0.1426 - acc: 0.9545 - f1: 0.9545 - val_loss: 0.9398 - val_acc: 0.8455 - val_f1: 0.8455\n",
      "Epoch 94/100\n",
      "600/600 [==============================] - 16s 27ms/step - loss: 0.1422 - acc: 0.9549 - f1: 0.9549 - val_loss: 0.9609 - val_acc: 0.8467 - val_f1: 0.8467\n",
      "Epoch 95/100\n",
      "600/600 [==============================] - 16s 27ms/step - loss: 0.1366 - acc: 0.9567 - f1: 0.9566 - val_loss: 1.0994 - val_acc: 0.8536 - val_f1: 0.8536\n",
      "Epoch 96/100\n",
      "600/600 [==============================] - 17s 28ms/step - loss: 0.1393 - acc: 0.9554 - f1: 0.9553 - val_loss: 1.0559 - val_acc: 0.8405 - val_f1: 0.8405\n",
      "Epoch 97/100\n",
      "600/600 [==============================] - 16s 27ms/step - loss: 0.1406 - acc: 0.9554 - f1: 0.9554 - val_loss: 0.9281 - val_acc: 0.8503 - val_f1: 0.8503\n",
      "Epoch 98/100\n",
      "600/600 [==============================] - 18s 30ms/step - loss: 0.1442 - acc: 0.9548 - f1: 0.9548 - val_loss: 0.9191 - val_acc: 0.8466 - val_f1: 0.8466\n",
      "Epoch 99/100\n",
      "600/600 [==============================] - 16s 27ms/step - loss: 0.1382 - acc: 0.9557 - f1: 0.9557 - val_loss: 1.0264 - val_acc: 0.8498 - val_f1: 0.8498\n",
      "Epoch 100/100\n",
      "600/600 [==============================] - 16s 27ms/step - loss: 0.1332 - acc: 0.9567 - f1: 0.9567 - val_loss: 1.0627 - val_acc: 0.8430 - val_f1: 0.8430\n"
     ]
    },
    {
     "data": {
      "text/plain": [
       "<keras.callbacks.History at 0x7f0ef3c737b8>"
      ]
     },
     "execution_count": 9,
     "metadata": {},
     "output_type": "execute_result"
    }
   ],
   "source": [
    "training_batches = MagnitudeUtils.batchify(x_train, y_train, BATCH_SIZE) # Split the training data into batches\n",
    "num_batches_per_epoch_train = int(np.ceil(num_training/float(BATCH_SIZE)))\n",
    "test_batches = MagnitudeUtils.batchify(x_test, y_test, BATCH_SIZE)  # Split the test data into batches\n",
    "num_batches_per_epoch_test = int(np.ceil(num_test/float(BATCH_SIZE)))\n",
    "\n",
    "\n",
    "# Generates batches of the transformed training data\n",
    "train_batch_generator = (\n",
    "  (\n",
    "    med_vectors.query(x_train_batch), # Magnitude will handle converting the 2D array of text into the 3D word vector representations!\n",
    "    MagnitudeUtils.to_categorical(y_train_batch, num_outputs) # Magnitude will handle converting the class labels into one-hot encodings!\n",
    "  ) for x_train_batch, y_train_batch in training_batches\n",
    ")\n",
    "\n",
    "# Generates batches of the transformed test data\n",
    "test_batch_generator = (\n",
    "  (\n",
    "    med_vectors.query(x_test_batch), # Magnitude will handle converting the 2D array of text into the 3D word vector representations!\n",
    "    MagnitudeUtils.to_categorical(y_test_batch, num_outputs) # Magnitude will handle converting the class labels into one-hot encodings!\n",
    "  ) for x_test_batch, y_test_batch in test_batches\n",
    ")\n",
    "\n",
    "# Class weights\n",
    "class_weight = {\n",
    "    intent_to_int('Cardiovascular'): 6.\n",
    "    ,intent_to_int('Other'): 1.\n",
    "}\n",
    "\n",
    "# Start training\n",
    "model.fit_generator(\n",
    "    generator = train_batch_generator,\n",
    "    steps_per_epoch = num_batches_per_epoch_train,\n",
    "    validation_data = test_batch_generator,\n",
    "    validation_steps = num_batches_per_epoch_test,\n",
    "    epochs = EPOCHS,\n",
    "    class_weight=class_weight\n",
    ")"
   ]
  },
  {
   "cell_type": "markdown",
   "metadata": {},
   "source": [
    "## Results"
   ]
  },
  {
   "cell_type": "code",
   "execution_count": 10,
   "metadata": {},
   "outputs": [
    {
     "name": "stdout",
     "output_type": "stream",
     "text": [
      "Results after training for 100 epochs:\n",
      "loss: 0.0963 - categorical_accuracy: 0.9565 - f1: 0.9565\n",
      "val_loss: 1.0627 - val_categorical_accuracy: 0.8430 - f1: 0.8430\n"
     ]
    }
   ],
   "source": [
    "print(\"Results after training for %d epochs:\" % (EPOCHS,))\n",
    "\n",
    "train_metrics = model.evaluate_generator(\n",
    "    generator = train_batch_generator,\n",
    "    steps = num_batches_per_epoch_train,\n",
    ")\n",
    "\n",
    "print(\"loss: %.4f - categorical_accuracy: %.4f - f1: %.4f\" % tuple(train_metrics))\n",
    "\n",
    "val_metrics = model.evaluate_generator(\n",
    "    generator = test_batch_generator,\n",
    "    steps = num_batches_per_epoch_test,\n",
    ")\n",
    "\n",
    "print(\"val_loss: %.4f - val_categorical_accuracy: %.4f - f1: %.4f\" % tuple(val_metrics))"
   ]
  },
  {
   "cell_type": "markdown",
   "metadata": {},
   "source": [
    "## Conclusion"
   ]
  },
  {
   "cell_type": "code",
   "execution_count": 14,
   "metadata": {},
   "outputs": [
    {
     "data": {
      "image/png": "[encoded data removed]",
      "text/plain": [
       "<Figure size 432x288 with 1 Axes>"
      ]
     },
     "metadata": {},
     "output_type": "display_data"
    },
    {
     "data": {
      "image/png": "[encoded data removed]",
      "text/plain": [
       "<Figure size 432x288 with 1 Axes>"
      ]
     },
     "metadata": {},
     "output_type": "display_data"
    }
   ],
   "source": [
    "import matplotlib.pyplot as plt\n",
    "\n",
    "# Plot training & validation accuracy values\n",
    "plt.plot(model.history.history['acc'])\n",
    "plt.plot(model.history.history['val_acc'])\n",
    "plt.title('Model accuracy')\n",
    "plt.ylabel('Accuracy')\n",
    "plt.xlabel('Epoch')\n",
    "plt.legend(['Train', 'Test'], loc='upper left')\n",
    "plt.show()\n",
    "\n",
    "# Plot training & validation loss values\n",
    "plt.plot(model.history.history['loss'])\n",
    "plt.plot(model.history.history['val_loss'])\n",
    "plt.title('Model loss')\n",
    "plt.ylabel('Loss')\n",
    "plt.xlabel('Epoch')\n",
    "plt.legend(['Train', 'Test'], loc='upper left')\n",
    "plt.show()"
   ]
  },
  {
   "cell_type": "code",
   "execution_count": 12,
   "metadata": {},
   "outputs": [
    {
     "name": "stdout",
     "output_type": "stream",
     "text": [
      "['Cardiovascular', 'Other']\n",
      "[[1049  628]\n",
      " [1090 8173]]\n",
      "                precision    recall  f1-score   support\n",
      "\n",
      "Cardiovascular       0.49      0.63      0.55      1677\n",
      "         Other       0.93      0.88      0.90      9263\n",
      "\n",
      "   avg / total       0.86      0.84      0.85     10940\n",
      "\n"
     ]
    }
   ],
   "source": [
    "from sklearn.metrics import confusion_matrix, classification_report\n",
    "\n",
    "y_pred = np.argmax(model.predict(med_vectors.query(x_test)), axis=1)\n",
    "class_labels = [int_to_intent(y) for y in set(y_test)] \n",
    "report = classification_report(y_test, y_pred, target_names=class_labels)\n",
    "print(class_labels)\n",
    "print(confusion_matrix(y_test, y_pred))\n",
    "print(report)"
   ]
  },
  {
   "cell_type": "code",
   "execution_count": 13,
   "metadata": {},
   "outputs": [
    {
     "data": {
      "text/plain": [
       "<matplotlib.axes._subplots.AxesSubplot at 0x7f0ef1c9a9e8>"
      ]
     },
     "execution_count": 13,
     "metadata": {},
     "output_type": "execute_result"
    },
    {
     "data": {
      "image/png": "[encoded data removed]",
      "text/plain": [
       "<Figure size 432x288 with 2 Axes>"
      ]
     },
     "metadata": {},
     "output_type": "display_data"
    }
   ],
   "source": [
    "from sklearn.utils.multiclass import unique_labels\n",
    "\n",
    "def plot_confusion_matrix(y_true, y_pred, classes,\n",
    "                          title=None,\n",
    "                          cmap=plt.cm.Blues):\n",
    "    \"\"\"\n",
    "    This function prints and plots the confusion matrix.\n",
    "    Normalization can be applied by setting `normalize=True`.\n",
    "    \"\"\"\n",
    "    if not title:\n",
    "        if normalize:\n",
    "            title = 'Normalized confusion matrix'\n",
    "        else:\n",
    "            title = 'Confusion matrix, without normalization'\n",
    "\n",
    "    # Compute confusion matrix\n",
    "    cm = confusion_matrix(y_true, y_pred)\n",
    "    # Only use the labels that appear in the data\n",
    "    classes = [int_to_intent(y_class) for y_class in unique_labels(y_test, y_pred)]\n",
    "\n",
    "    fig, ax = plt.subplots()\n",
    "#     fig.set_figheight(15)\n",
    "#     fig.set_figwidth(15)\n",
    "    im = ax.imshow(cm, interpolation='nearest', cmap=cmap)\n",
    "    ax.figure.colorbar(im, ax=ax)\n",
    "    # We want to show all ticks...\n",
    "    ax.set(xticks=np.arange(cm.shape[1]),\n",
    "           yticks=np.arange(cm.shape[0]),\n",
    "           # ... and label them with the respective list entries\n",
    "           xticklabels=classes, yticklabels=classes,\n",
    "           title=title,\n",
    "           ylabel='True label',\n",
    "           xlabel='Predicted label')\n",
    "\n",
    "    # Rotate the tick labels and set their alignment.\n",
    "    plt.setp(ax.get_xticklabels(), rotation=45, ha=\"right\",\n",
    "             rotation_mode=\"anchor\")\n",
    "\n",
    "    # Loop over data dimensions and create text annotations.\n",
    "    fmt = 'd'\n",
    "    thresh = cm.max() / 2.\n",
    "    for i in range(cm.shape[0]):\n",
    "        for j in range(cm.shape[1]):\n",
    "            ax.text(j, i, format(cm[i, j], fmt),\n",
    "                    ha=\"center\", va=\"center\",\n",
    "                    color=\"white\" if cm[i, j] > thresh else \"black\")\n",
    "    fig.tight_layout()\n",
    "    return ax\n",
    "\n",
    "\n",
    "np.set_printoptions(precision=2)\n",
    "\n",
    "plot_confusion_matrix(y_test, y_pred, classes=class_labels\n",
    "                      , title='Confusion Matrix for Cardiovascular Disease CNN Classifier')"
   ]
  },
  {
   "cell_type": "code",
   "execution_count": 15,
   "metadata": {},
   "outputs": [
    {
     "name": "stdout",
     "output_type": "stream",
     "text": [
      "Epoch 1/100\n",
      "600/600 [==============================] - 17s 29ms/step - loss: 0.4572 - acc: 0.9094 - f1: 0.9094 - val_loss: 0.8794 - val_acc: 0.8184 - val_f1: 0.8184\n",
      "Epoch 2/100\n",
      "600/600 [==============================] - 17s 28ms/step - loss: 0.3466 - acc: 0.9247 - f1: 0.9247 - val_loss: 0.9912 - val_acc: 0.7871 - val_f1: 0.7871\n",
      "Epoch 3/100\n",
      "600/600 [==============================] - 17s 28ms/step - loss: 0.3384 - acc: 0.9261 - f1: 0.9261 - val_loss: 0.9287 - val_acc: 0.8159 - val_f1: 0.8159\n",
      "Epoch 4/100\n",
      "600/600 [==============================] - 17s 28ms/step - loss: 0.3249 - acc: 0.9295 - f1: 0.9295 - val_loss: 1.0012 - val_acc: 0.8031 - val_f1: 0.8031\n",
      "Epoch 5/100\n",
      "600/600 [==============================] - 17s 28ms/step - loss: 0.3393 - acc: 0.9267 - f1: 0.9267 - val_loss: 1.0500 - val_acc: 0.7972 - val_f1: 0.7972\n",
      "Epoch 6/100\n",
      "600/600 [==============================] - 17s 28ms/step - loss: 0.3301 - acc: 0.9299 - f1: 0.9299 - val_loss: 0.9338 - val_acc: 0.8101 - val_f1: 0.8101\n",
      "Epoch 7/100\n",
      "600/600 [==============================] - 17s 28ms/step - loss: 0.3201 - acc: 0.9307 - f1: 0.9307 - val_loss: 1.0277 - val_acc: 0.7950 - val_f1: 0.7950\n",
      "Epoch 8/100\n",
      "600/600 [==============================] - 18s 29ms/step - loss: 0.3105 - acc: 0.9335 - f1: 0.9335 - val_loss: 0.9822 - val_acc: 0.8108 - val_f1: 0.8108\n",
      "Epoch 9/100\n",
      "600/600 [==============================] - 17s 28ms/step - loss: 0.3209 - acc: 0.9306 - f1: 0.9306 - val_loss: 1.0845 - val_acc: 0.7922 - val_f1: 0.7922\n",
      "Epoch 10/100\n",
      "600/600 [==============================] - 17s 28ms/step - loss: 0.3330 - acc: 0.9305 - f1: 0.9305 - val_loss: 0.9989 - val_acc: 0.8140 - val_f1: 0.8140\n",
      "Epoch 11/100\n",
      "600/600 [==============================] - 19s 31ms/step - loss: 0.3210 - acc: 0.9329 - f1: 0.9329 - val_loss: 0.9194 - val_acc: 0.8197 - val_f1: 0.8197\n",
      "Epoch 12/100\n",
      "600/600 [==============================] - 17s 28ms/step - loss: 0.3082 - acc: 0.9341 - f1: 0.9341 - val_loss: 0.9255 - val_acc: 0.8048 - val_f1: 0.8048\n",
      "Epoch 13/100\n",
      "600/600 [==============================] - 17s 28ms/step - loss: 0.3317 - acc: 0.9291 - f1: 0.9291 - val_loss: 0.8962 - val_acc: 0.8042 - val_f1: 0.8042\n",
      "Epoch 14/100\n",
      "600/600 [==============================] - 17s 28ms/step - loss: 0.3293 - acc: 0.9312 - f1: 0.9312 - val_loss: 0.9165 - val_acc: 0.8077 - val_f1: 0.8077\n",
      "Epoch 15/100\n",
      "600/600 [==============================] - 17s 28ms/step - loss: 0.3496 - acc: 0.9277 - f1: 0.9276 - val_loss: 0.8858 - val_acc: 0.8116 - val_f1: 0.8116\n",
      "Epoch 16/100\n",
      "600/600 [==============================] - 17s 28ms/step - loss: 0.3150 - acc: 0.9323 - f1: 0.9323 - val_loss: 0.9609 - val_acc: 0.8197 - val_f1: 0.8197\n",
      "Epoch 17/100\n",
      "600/600 [==============================] - 17s 28ms/step - loss: 0.3141 - acc: 0.9349 - f1: 0.9349 - val_loss: 0.9008 - val_acc: 0.8165 - val_f1: 0.8165\n",
      "Epoch 18/100\n",
      "600/600 [==============================] - 17s 28ms/step - loss: 0.3230 - acc: 0.9316 - f1: 0.9316 - val_loss: 0.9705 - val_acc: 0.8204 - val_f1: 0.8204\n",
      "Epoch 19/100\n",
      "600/600 [==============================] - 17s 28ms/step - loss: 0.3455 - acc: 0.9287 - f1: 0.9287 - val_loss: 0.9409 - val_acc: 0.8028 - val_f1: 0.8028\n",
      "Epoch 20/100\n",
      "600/600 [==============================] - 17s 29ms/step - loss: 0.3304 - acc: 0.9301 - f1: 0.9301 - val_loss: 0.9329 - val_acc: 0.8183 - val_f1: 0.8183\n",
      "Epoch 21/100\n",
      "600/600 [==============================] - 17s 28ms/step - loss: 0.3253 - acc: 0.9324 - f1: 0.9324 - val_loss: 0.9787 - val_acc: 0.8077 - val_f1: 0.8077\n",
      "Epoch 22/100\n",
      "600/600 [==============================] - 17s 28ms/step - loss: 0.3072 - acc: 0.9344 - f1: 0.9343 - val_loss: 0.9170 - val_acc: 0.8156 - val_f1: 0.8156\n",
      "Epoch 23/100\n",
      "600/600 [==============================] - 17s 28ms/step - loss: 0.2886 - acc: 0.9382 - f1: 0.9382 - val_loss: 1.0046 - val_acc: 0.8294 - val_f1: 0.8294\n",
      "Epoch 24/100\n",
      "600/600 [==============================] - 23s 38ms/step - loss: 0.3089 - acc: 0.9343 - f1: 0.9343 - val_loss: 0.9577 - val_acc: 0.8220 - val_f1: 0.8220\n",
      "Epoch 25/100\n",
      "600/600 [==============================] - 23s 38ms/step - loss: 0.3182 - acc: 0.9353 - f1: 0.9352 - val_loss: 0.9523 - val_acc: 0.8197 - val_f1: 0.8197\n",
      "Epoch 26/100\n",
      "600/600 [==============================] - 23s 38ms/step - loss: 0.3133 - acc: 0.9358 - f1: 0.9358 - val_loss: 0.9444 - val_acc: 0.8064 - val_f1: 0.8064\n",
      "Epoch 27/100\n",
      "600/600 [==============================] - 23s 38ms/step - loss: 0.3087 - acc: 0.9345 - f1: 0.9344 - val_loss: 0.9947 - val_acc: 0.8048 - val_f1: 0.8048\n",
      "Epoch 28/100\n",
      "600/600 [==============================] - 24s 40ms/step - loss: 0.3041 - acc: 0.9365 - f1: 0.9365 - val_loss: 0.9860 - val_acc: 0.8202 - val_f1: 0.8202\n",
      "Epoch 29/100\n",
      "600/600 [==============================] - 23s 38ms/step - loss: 0.3158 - acc: 0.9361 - f1: 0.9361 - val_loss: 1.0049 - val_acc: 0.8064 - val_f1: 0.8064\n",
      "Epoch 30/100\n",
      "600/600 [==============================] - 23s 38ms/step - loss: 0.3150 - acc: 0.9340 - f1: 0.9340 - val_loss: 1.0080 - val_acc: 0.8033 - val_f1: 0.8033\n",
      "Epoch 31/100\n",
      "600/600 [==============================] - 23s 38ms/step - loss: 0.3366 - acc: 0.9286 - f1: 0.9286 - val_loss: 0.9932 - val_acc: 0.8047 - val_f1: 0.8047\n",
      "Epoch 32/100\n",
      "600/600 [==============================] - 23s 38ms/step - loss: 0.3345 - acc: 0.9299 - f1: 0.9299 - val_loss: 0.9082 - val_acc: 0.8136 - val_f1: 0.8136\n",
      "Epoch 33/100\n",
      "600/600 [==============================] - 23s 38ms/step - loss: 0.3148 - acc: 0.9326 - f1: 0.9326 - val_loss: 0.9417 - val_acc: 0.8116 - val_f1: 0.8116\n",
      "Epoch 34/100\n",
      "600/600 [==============================] - 23s 38ms/step - loss: 0.3206 - acc: 0.9340 - f1: 0.9340 - val_loss: 0.9150 - val_acc: 0.8102 - val_f1: 0.8102\n",
      "Epoch 35/100\n",
      "600/600 [==============================] - 23s 38ms/step - loss: 0.3195 - acc: 0.9337 - f1: 0.9337 - val_loss: 0.9955 - val_acc: 0.8058 - val_f1: 0.8058\n",
      "Epoch 36/100\n",
      "600/600 [==============================] - 23s 38ms/step - loss: 0.3280 - acc: 0.9320 - f1: 0.9320 - val_loss: 0.9243 - val_acc: 0.8063 - val_f1: 0.8063\n",
      "Epoch 37/100\n",
      "600/600 [==============================] - 23s 38ms/step - loss: 0.3088 - acc: 0.9349 - f1: 0.9349 - val_loss: 0.9768 - val_acc: 0.8133 - val_f1: 0.8133\n",
      "Epoch 38/100\n",
      "600/600 [==============================] - 23s 38ms/step - loss: 0.3249 - acc: 0.9327 - f1: 0.9327 - val_loss: 1.0106 - val_acc: 0.7995 - val_f1: 0.7995\n",
      "Epoch 39/100\n",
      "600/600 [==============================] - 24s 39ms/step - loss: 0.3111 - acc: 0.9336 - f1: 0.9336 - val_loss: 0.9985 - val_acc: 0.8118 - val_f1: 0.8118\n",
      "Epoch 40/100\n",
      "600/600 [==============================] - 23s 38ms/step - loss: 0.3503 - acc: 0.9298 - f1: 0.9298 - val_loss: 0.9603 - val_acc: 0.8244 - val_f1: 0.8244\n",
      "Epoch 41/100\n",
      "600/600 [==============================] - 24s 40ms/step - loss: 0.3233 - acc: 0.9326 - f1: 0.9326 - val_loss: 0.9446 - val_acc: 0.8274 - val_f1: 0.8274\n",
      "Epoch 42/100\n",
      "600/600 [==============================] - 23s 38ms/step - loss: 0.3090 - acc: 0.9365 - f1: 0.9365 - val_loss: 0.8756 - val_acc: 0.8106 - val_f1: 0.8106\n",
      "Epoch 43/100\n",
      "600/600 [==============================] - 23s 38ms/step - loss: 0.3040 - acc: 0.9366 - f1: 0.9366 - val_loss: 0.9863 - val_acc: 0.8286 - val_f1: 0.8286\n",
      "Epoch 44/100\n",
      "600/600 [==============================] - 23s 38ms/step - loss: 0.3166 - acc: 0.9338 - f1: 0.9338 - val_loss: 0.9518 - val_acc: 0.8274 - val_f1: 0.8274\n",
      "Epoch 45/100\n",
      "600/600 [==============================] - 23s 38ms/step - loss: 0.3343 - acc: 0.9304 - f1: 0.9304 - val_loss: 0.9885 - val_acc: 0.8276 - val_f1: 0.8276\n",
      "Epoch 46/100\n",
      "600/600 [==============================] - 23s 38ms/step - loss: 0.3077 - acc: 0.9371 - f1: 0.9370 - val_loss: 1.0549 - val_acc: 0.7889 - val_f1: 0.7889\n",
      "Epoch 47/100\n",
      "600/600 [==============================] - 23s 38ms/step - loss: 0.3202 - acc: 0.9326 - f1: 0.9326 - val_loss: 1.0097 - val_acc: 0.8259 - val_f1: 0.8259\n",
      "Epoch 48/100\n",
      "600/600 [==============================] - 23s 38ms/step - loss: 0.3389 - acc: 0.9300 - f1: 0.9299 - val_loss: 0.9532 - val_acc: 0.8185 - val_f1: 0.8185\n",
      "Epoch 49/100\n",
      "600/600 [==============================] - 23s 38ms/step - loss: 0.3137 - acc: 0.9343 - f1: 0.9343 - val_loss: 0.9969 - val_acc: 0.8275 - val_f1: 0.8275\n",
      "Epoch 50/100\n"
     ]
    },
    {
     "name": "stdout",
     "output_type": "stream",
     "text": [
      "600/600 [==============================] - 23s 38ms/step - loss: 0.3001 - acc: 0.9371 - f1: 0.9371 - val_loss: 0.9644 - val_acc: 0.8010 - val_f1: 0.8010\n",
      "Epoch 51/100\n",
      "600/600 [==============================] - 23s 38ms/step - loss: 0.3468 - acc: 0.9307 - f1: 0.9307 - val_loss: 0.8639 - val_acc: 0.8227 - val_f1: 0.8227\n",
      "Epoch 52/100\n",
      "600/600 [==============================] - 23s 39ms/step - loss: 0.3255 - acc: 0.9329 - f1: 0.9329 - val_loss: 0.9025 - val_acc: 0.8265 - val_f1: 0.8265\n",
      "Epoch 53/100\n",
      "600/600 [==============================] - 23s 38ms/step - loss: 0.3118 - acc: 0.9350 - f1: 0.9350 - val_loss: 0.9467 - val_acc: 0.8273 - val_f1: 0.8273\n",
      "Epoch 54/100\n",
      "600/600 [==============================] - 23s 38ms/step - loss: 0.3142 - acc: 0.9354 - f1: 0.9354 - val_loss: 0.9833 - val_acc: 0.8217 - val_f1: 0.8217\n",
      "Epoch 55/100\n",
      "600/600 [==============================] - 24s 40ms/step - loss: 0.3033 - acc: 0.9368 - f1: 0.9367 - val_loss: 1.0645 - val_acc: 0.8268 - val_f1: 0.8268\n",
      "Epoch 56/100\n",
      "600/600 [==============================] - 23s 38ms/step - loss: 0.3104 - acc: 0.9350 - f1: 0.9350 - val_loss: 0.9424 - val_acc: 0.8211 - val_f1: 0.8211\n",
      "Epoch 57/100\n",
      "600/600 [==============================] - 23s 38ms/step - loss: 0.3348 - acc: 0.9327 - f1: 0.9327 - val_loss: 0.9622 - val_acc: 0.8239 - val_f1: 0.8239\n",
      "Epoch 58/100\n",
      "600/600 [==============================] - 23s 38ms/step - loss: 0.3229 - acc: 0.9347 - f1: 0.9346 - val_loss: 0.9572 - val_acc: 0.8122 - val_f1: 0.8122\n",
      "Epoch 59/100\n",
      "600/600 [==============================] - 23s 38ms/step - loss: 0.3072 - acc: 0.9380 - f1: 0.9380 - val_loss: 0.9644 - val_acc: 0.8263 - val_f1: 0.8263\n",
      "Epoch 60/100\n",
      "600/600 [==============================] - 23s 38ms/step - loss: 0.3080 - acc: 0.9362 - f1: 0.9362 - val_loss: 1.0113 - val_acc: 0.8218 - val_f1: 0.8218\n",
      "Epoch 61/100\n",
      "600/600 [==============================] - 23s 38ms/step - loss: 0.3286 - acc: 0.9345 - f1: 0.9345 - val_loss: 0.9143 - val_acc: 0.7966 - val_f1: 0.7966\n",
      "Epoch 62/100\n",
      "600/600 [==============================] - 23s 38ms/step - loss: 0.3002 - acc: 0.9384 - f1: 0.9383 - val_loss: 1.0221 - val_acc: 0.8223 - val_f1: 0.8223\n",
      "Epoch 63/100\n",
      "600/600 [==============================] - 23s 38ms/step - loss: 0.3348 - acc: 0.9342 - f1: 0.9342 - val_loss: 0.8591 - val_acc: 0.8189 - val_f1: 0.8189\n",
      "Epoch 64/100\n",
      "600/600 [==============================] - 23s 38ms/step - loss: 0.3118 - acc: 0.9369 - f1: 0.9369 - val_loss: 0.9428 - val_acc: 0.8196 - val_f1: 0.8196\n",
      "Epoch 65/100\n",
      "600/600 [==============================] - 23s 38ms/step - loss: 0.3159 - acc: 0.9357 - f1: 0.9357 - val_loss: 1.0189 - val_acc: 0.7784 - val_f1: 0.7784\n",
      "Epoch 66/100\n",
      "600/600 [==============================] - 23s 38ms/step - loss: 0.3305 - acc: 0.9331 - f1: 0.9331 - val_loss: 0.9575 - val_acc: 0.8207 - val_f1: 0.8207\n",
      "Epoch 67/100\n",
      "600/600 [==============================] - 23s 38ms/step - loss: 0.3206 - acc: 0.9342 - f1: 0.9342 - val_loss: 0.9671 - val_acc: 0.8233 - val_f1: 0.8233\n",
      "Epoch 68/100\n",
      "600/600 [==============================] - 24s 40ms/step - loss: 0.3410 - acc: 0.9304 - f1: 0.9304 - val_loss: 0.9472 - val_acc: 0.8139 - val_f1: 0.8139\n",
      "Epoch 69/100\n",
      "600/600 [==============================] - 23s 38ms/step - loss: 0.3250 - acc: 0.9345 - f1: 0.9345 - val_loss: 0.9372 - val_acc: 0.8092 - val_f1: 0.8092\n",
      "Epoch 70/100\n",
      "600/600 [==============================] - 23s 38ms/step - loss: 0.3097 - acc: 0.9363 - f1: 0.9363 - val_loss: 0.9645 - val_acc: 0.8112 - val_f1: 0.8112\n",
      "Epoch 71/100\n",
      "600/600 [==============================] - 23s 38ms/step - loss: 0.3138 - acc: 0.9355 - f1: 0.9354 - val_loss: 1.0215 - val_acc: 0.8222 - val_f1: 0.8222\n",
      "Epoch 72/100\n",
      "600/600 [==============================] - 23s 38ms/step - loss: 0.3287 - acc: 0.9325 - f1: 0.9325 - val_loss: 0.9207 - val_acc: 0.8023 - val_f1: 0.8023\n",
      "Epoch 73/100\n",
      "600/600 [==============================] - 23s 38ms/step - loss: 0.3058 - acc: 0.9358 - f1: 0.9358 - val_loss: 1.0029 - val_acc: 0.8040 - val_f1: 0.8040\n",
      "Epoch 74/100\n",
      "600/600 [==============================] - 23s 38ms/step - loss: 0.3013 - acc: 0.9367 - f1: 0.9367 - val_loss: 0.9796 - val_acc: 0.7958 - val_f1: 0.7958\n",
      "Epoch 75/100\n",
      "600/600 [==============================] - 23s 38ms/step - loss: 0.3485 - acc: 0.9278 - f1: 0.9278 - val_loss: 0.9677 - val_acc: 0.8102 - val_f1: 0.8102\n",
      "Epoch 76/100\n",
      "600/600 [==============================] - 23s 38ms/step - loss: 0.3141 - acc: 0.9357 - f1: 0.9357 - val_loss: 1.0018 - val_acc: 0.8120 - val_f1: 0.8120\n",
      "Epoch 77/100\n",
      "600/600 [==============================] - 23s 38ms/step - loss: 0.3056 - acc: 0.9352 - f1: 0.9352 - val_loss: 0.9439 - val_acc: 0.8190 - val_f1: 0.8190\n",
      "Epoch 78/100\n",
      "600/600 [==============================] - 23s 38ms/step - loss: 0.3055 - acc: 0.9371 - f1: 0.9371 - val_loss: 0.9277 - val_acc: 0.8178 - val_f1: 0.8178\n",
      "Epoch 79/100\n",
      "600/600 [==============================] - 23s 39ms/step - loss: 0.2935 - acc: 0.9380 - f1: 0.9380 - val_loss: 1.0030 - val_acc: 0.8247 - val_f1: 0.8247\n",
      "Epoch 80/100\n",
      "600/600 [==============================] - 23s 39ms/step - loss: 0.2966 - acc: 0.9384 - f1: 0.9384 - val_loss: 0.9344 - val_acc: 0.8174 - val_f1: 0.8174\n",
      "Epoch 81/100\n",
      "600/600 [==============================] - 23s 38ms/step - loss: 0.3239 - acc: 0.9336 - f1: 0.9336 - val_loss: 1.0081 - val_acc: 0.8178 - val_f1: 0.8178\n",
      "Epoch 82/100\n",
      "600/600 [==============================] - 24s 40ms/step - loss: 0.3053 - acc: 0.9360 - f1: 0.9359 - val_loss: 1.0110 - val_acc: 0.8136 - val_f1: 0.8136\n",
      "Epoch 83/100\n",
      "600/600 [==============================] - 23s 38ms/step - loss: 0.3331 - acc: 0.9306 - f1: 0.9306 - val_loss: 0.9982 - val_acc: 0.8155 - val_f1: 0.8155\n",
      "Epoch 84/100\n",
      "600/600 [==============================] - 23s 38ms/step - loss: 0.3125 - acc: 0.9355 - f1: 0.9355 - val_loss: 0.9404 - val_acc: 0.8188 - val_f1: 0.8188\n",
      "Epoch 85/100\n",
      "600/600 [==============================] - 23s 38ms/step - loss: 0.2986 - acc: 0.9378 - f1: 0.9378 - val_loss: 1.0004 - val_acc: 0.8164 - val_f1: 0.8164\n",
      "Epoch 86/100\n",
      "600/600 [==============================] - 23s 38ms/step - loss: 0.3017 - acc: 0.9372 - f1: 0.9372 - val_loss: 0.9501 - val_acc: 0.8193 - val_f1: 0.8193\n",
      "Epoch 87/100\n",
      "600/600 [==============================] - 23s 38ms/step - loss: 0.3259 - acc: 0.9342 - f1: 0.9342 - val_loss: 0.9320 - val_acc: 0.8098 - val_f1: 0.8098\n",
      "Epoch 88/100\n",
      "600/600 [==============================] - 23s 38ms/step - loss: 0.3059 - acc: 0.9355 - f1: 0.9355 - val_loss: 0.9804 - val_acc: 0.8165 - val_f1: 0.8165\n",
      "Epoch 89/100\n",
      "600/600 [==============================] - 23s 39ms/step - loss: 0.3047 - acc: 0.9366 - f1: 0.9366 - val_loss: 1.0081 - val_acc: 0.8220 - val_f1: 0.8220\n",
      "Epoch 90/100\n",
      "600/600 [==============================] - 23s 38ms/step - loss: 0.3329 - acc: 0.9326 - f1: 0.9326 - val_loss: 0.9151 - val_acc: 0.8081 - val_f1: 0.8081\n",
      "Epoch 91/100\n",
      "600/600 [==============================] - 23s 38ms/step - loss: 0.3065 - acc: 0.9380 - f1: 0.9380 - val_loss: 0.9658 - val_acc: 0.8238 - val_f1: 0.8238\n",
      "Epoch 92/100\n",
      "600/600 [==============================] - 23s 39ms/step - loss: 0.2919 - acc: 0.9401 - f1: 0.9400 - val_loss: 0.9808 - val_acc: 0.8240 - val_f1: 0.8240\n",
      "Epoch 93/100\n",
      "600/600 [==============================] - 23s 38ms/step - loss: 0.3045 - acc: 0.9355 - f1: 0.9355 - val_loss: 0.9498 - val_acc: 0.8229 - val_f1: 0.8229\n",
      "Epoch 94/100\n",
      "600/600 [==============================] - 23s 38ms/step - loss: 0.3112 - acc: 0.9374 - f1: 0.9374 - val_loss: 0.9174 - val_acc: 0.8226 - val_f1: 0.8226\n",
      "Epoch 95/100\n",
      "600/600 [==============================] - 24s 40ms/step - loss: 0.2831 - acc: 0.9412 - f1: 0.9412 - val_loss: 1.1551 - val_acc: 0.7906 - val_f1: 0.7906\n",
      "Epoch 96/100\n",
      "600/600 [==============================] - 23s 39ms/step - loss: 0.3141 - acc: 0.9354 - f1: 0.9353 - val_loss: 1.0027 - val_acc: 0.8186 - val_f1: 0.8186\n",
      "Epoch 97/100\n",
      "600/600 [==============================] - 23s 38ms/step - loss: 0.3210 - acc: 0.9321 - f1: 0.9321 - val_loss: 0.9433 - val_acc: 0.8049 - val_f1: 0.8049\n",
      "Epoch 98/100\n",
      "600/600 [==============================] - 23s 38ms/step - loss: 0.3116 - acc: 0.9355 - f1: 0.9355 - val_loss: 1.0007 - val_acc: 0.7967 - val_f1: 0.7967\n",
      "Epoch 99/100\n"
     ]
    },
    {
     "name": "stdout",
     "output_type": "stream",
     "text": [
      "600/600 [==============================] - 23s 38ms/step - loss: 0.3133 - acc: 0.9338 - f1: 0.9338 - val_loss: 0.9799 - val_acc: 0.8160 - val_f1: 0.8160\n",
      "Epoch 100/100\n",
      "600/600 [==============================] - 23s 38ms/step - loss: 0.2968 - acc: 0.9374 - f1: 0.9374 - val_loss: 1.0450 - val_acc: 0.8054 - val_f1: 0.8054\n"
     ]
    },
    {
     "data": {
      "text/plain": [
       "<keras.callbacks.History at 0x7f0ef1d059e8>"
      ]
     },
     "execution_count": 15,
     "metadata": {},
     "output_type": "execute_result"
    }
   ],
   "source": [
    "# Class weights\n",
    "class_weight = {\n",
    "    intent_to_int('Cardiovascular'): 50.\n",
    "    ,intent_to_int('Other'): 1.\n",
    "}\n",
    "\n",
    "# Start training\n",
    "model.fit_generator(\n",
    "    generator = train_batch_generator,\n",
    "    steps_per_epoch = num_batches_per_epoch_train,\n",
    "    validation_data = test_batch_generator,\n",
    "    validation_steps = num_batches_per_epoch_test,\n",
    "    epochs = EPOCHS,\n",
    "    class_weight=class_weight\n",
    ")"
   ]
  },
  {
   "cell_type": "code",
   "execution_count": 16,
   "metadata": {},
   "outputs": [
    {
     "name": "stdout",
     "output_type": "stream",
     "text": [
      "Results after training for 100 epochs:\n",
      "loss: 0.2376 - categorical_accuracy: 0.9332 - f1: 0.9332\n",
      "val_loss: 1.0450 - val_categorical_accuracy: 0.8054 - f1: 0.8054\n"
     ]
    }
   ],
   "source": [
    "print(\"Results after training for %d epochs:\" % (EPOCHS,))\n",
    "\n",
    "train_metrics = model.evaluate_generator(\n",
    "    generator = train_batch_generator,\n",
    "    steps = num_batches_per_epoch_train,\n",
    ")\n",
    "\n",
    "print(\"loss: %.4f - categorical_accuracy: %.4f - f1: %.4f\" % tuple(train_metrics))\n",
    "\n",
    "val_metrics = model.evaluate_generator(\n",
    "    generator = test_batch_generator,\n",
    "    steps = num_batches_per_epoch_test,\n",
    ")\n",
    "\n",
    "print(\"val_loss: %.4f - val_categorical_accuracy: %.4f - f1: %.4f\" % tuple(val_metrics))"
   ]
  },
  {
   "cell_type": "code",
   "execution_count": 17,
   "metadata": {},
   "outputs": [
    {
     "data": {
      "image/png": "[encoded data removed]",
      "text/plain": [
       "<Figure size 432x288 with 1 Axes>"
      ]
     },
     "metadata": {},
     "output_type": "display_data"
    },
    {
     "data": {
      "image/png": "[encoded data removed]",
      "text/plain": [
       "<Figure size 432x288 with 1 Axes>"
      ]
     },
     "metadata": {},
     "output_type": "display_data"
    }
   ],
   "source": [
    "# Plot training & validation accuracy values\n",
    "plt.plot(model.history.history['acc'])\n",
    "plt.plot(model.history.history['val_acc'])\n",
    "plt.title('Model accuracy')\n",
    "plt.ylabel('Accuracy')\n",
    "plt.xlabel('Epoch')\n",
    "plt.legend(['Train', 'Test'], loc='upper left')\n",
    "plt.show()\n",
    "\n",
    "# Plot training & validation loss values\n",
    "plt.plot(model.history.history['loss'])\n",
    "plt.plot(model.history.history['val_loss'])\n",
    "plt.title('Model loss')\n",
    "plt.ylabel('Loss')\n",
    "plt.xlabel('Epoch')\n",
    "plt.legend(['Train', 'Test'], loc='upper left')\n",
    "plt.show()"
   ]
  },
  {
   "cell_type": "code",
   "execution_count": 18,
   "metadata": {},
   "outputs": [
    {
     "name": "stdout",
     "output_type": "stream",
     "text": [
      "['Cardiovascular', 'Other']\n",
      "[[1174  503]\n",
      " [1626 7637]]\n",
      "                precision    recall  f1-score   support\n",
      "\n",
      "Cardiovascular       0.42      0.70      0.52      1677\n",
      "         Other       0.94      0.82      0.88      9263\n",
      "\n",
      "   avg / total       0.86      0.81      0.82     10940\n",
      "\n"
     ]
    }
   ],
   "source": [
    "y_pred = np.argmax(model.predict(med_vectors.query(x_test)), axis=1)\n",
    "class_labels = [int_to_intent(y) for y in set(y_test)] \n",
    "report = classification_report(y_test, y_pred, target_names=class_labels)\n",
    "print(class_labels)\n",
    "print(confusion_matrix(y_test, y_pred))\n",
    "print(report)"
   ]
  },
  {
   "cell_type": "code",
   "execution_count": 19,
   "metadata": {},
   "outputs": [
    {
     "data": {
      "text/plain": [
       "<matplotlib.axes._subplots.AxesSubplot at 0x7f0ef0b6f630>"
      ]
     },
     "execution_count": 19,
     "metadata": {},
     "output_type": "execute_result"
    },
    {
     "data": {
      "image/png": "[encoded data removed]",
      "text/plain": [
       "<Figure size 432x288 with 2 Axes>"
      ]
     },
     "metadata": {},
     "output_type": "display_data"
    }
   ],
   "source": [
    "plot_confusion_matrix(y_test, y_pred, classes=class_labels\n",
    "                      , title='Confusion Matrix for Cardiovascular Disease CNN Classifier')"
   ]
  },
  {
   "cell_type": "code",
   "execution_count": 20,
   "metadata": {},
   "outputs": [
    {
     "name": "stdout",
     "output_type": "stream",
     "text": [
      "_________________________________________________________________\n",
      "Layer (type)                 Output Shape              Param #   \n",
      "=================================================================\n",
      "gaussian_noise_2 (GaussianNo (None, 30, 200)           0         \n",
      "_________________________________________________________________\n",
      "conv1d_3 (Conv1D)            (None, 30, 128)           51328     \n",
      "_________________________________________________________________\n",
      "max_pooling1d_2 (MaxPooling1 (None, 15, 128)           0         \n",
      "_________________________________________________________________\n",
      "conv1d_4 (Conv1D)            (None, 15, 128)           49280     \n",
      "_________________________________________________________________\n",
      "max_pooling1d_3 (MaxPooling1 (None, 5, 128)            0         \n",
      "_________________________________________________________________\n",
      "conv1d_5 (Conv1D)            (None, 5, 128)            65664     \n",
      "_________________________________________________________________\n",
      "global_max_pooling1d_2 (Glob (None, 128)               0         \n",
      "_________________________________________________________________\n",
      "dropout_2 (Dropout)          (None, 128)               0         \n",
      "_________________________________________________________________\n",
      "dense_3 (Dense)              (None, 64)                8256      \n",
      "_________________________________________________________________\n",
      "dense_4 (Dense)              (None, 2)                 130       \n",
      "=================================================================\n",
      "Total params: 174,658\n",
      "Trainable params: 174,658\n",
      "Non-trainable params: 0\n",
      "_________________________________________________________________\n"
     ]
    }
   ],
   "source": [
    "MAX_WORDS = 30 # The maximum number of words the sequence model will consider\n",
    "STD_DEV = 0.01 # Deviation of noise for Gaussian Noise applied to the embeddings\n",
    "DROPOUT_RATIO = .5 # The ratio to dropout\n",
    "BATCH_SIZE = 100 # The number of examples per train/validation step\n",
    "EPOCHS = 100 # The number of times to repeat through all of the training data\n",
    "LEARNING_RATE = .01 # The learning rate for the optimizer\n",
    "NUM_FILTERS = 128\n",
    "\n",
    "model = Sequential()\n",
    "model.add(GaussianNoise(STD_DEV, input_shape=(MAX_WORDS, med_vectors.dim)))\n",
    "\n",
    "model.add(Conv1D(NUM_FILTERS, 2, activation='relu', padding='same'))\n",
    "model.add(MaxPool1D(2))\n",
    "\n",
    "model.add(Conv1D(NUM_FILTERS, 3, activation='relu', padding='same'))\n",
    "model.add(MaxPool1D(3))\n",
    "\n",
    "model.add(Conv1D(NUM_FILTERS, 4, activation='relu', padding='same'))\n",
    "model.add(GlobalMaxPool1D())\n",
    "\n",
    "model.add(Dropout(DROPOUT_RATIO))\n",
    "model.add(Dense(64, activation='relu'))\n",
    "model.add(Dense(num_outputs, activation='softmax'))\n",
    "model.compile(optimizer='adam',\n",
    "              loss='binary_crossentropy',\n",
    "              metrics=['accuracy', f1])\n",
    "model.summary()"
   ]
  },
  {
   "cell_type": "code",
   "execution_count": 21,
   "metadata": {},
   "outputs": [
    {
     "name": "stdout",
     "output_type": "stream",
     "text": [
      "Epoch 1/100\n",
      "600/600 [==============================] - 15s 24ms/step - loss: 1.5566 - acc: 0.4333 - f1: 0.4333 - val_loss: 0.7827 - val_acc: 0.5973 - val_f1: 0.5973\n",
      "Epoch 2/100\n",
      "600/600 [==============================] - 13s 21ms/step - loss: 1.3248 - acc: 0.5753 - f1: 0.5753 - val_loss: 0.7064 - val_acc: 0.6609 - val_f1: 0.6609\n",
      "Epoch 3/100\n",
      "600/600 [==============================] - 12s 20ms/step - loss: 1.1791 - acc: 0.6344 - f1: 0.6343 - val_loss: 0.7395 - val_acc: 0.6614 - val_f1: 0.6614\n",
      "Epoch 4/100\n",
      "600/600 [==============================] - 12s 20ms/step - loss: 1.0490 - acc: 0.6876 - f1: 0.6875 - val_loss: 0.6584 - val_acc: 0.7048 - val_f1: 0.7048\n",
      "Epoch 5/100\n",
      "600/600 [==============================] - 12s 20ms/step - loss: 0.9599 - acc: 0.7200 - f1: 0.7200 - val_loss: 0.7671 - val_acc: 0.6946 - val_f1: 0.6946\n",
      "Epoch 6/100\n",
      "600/600 [==============================] - 12s 20ms/step - loss: 0.8759 - acc: 0.7484 - f1: 0.7483 - val_loss: 0.6752 - val_acc: 0.7356 - val_f1: 0.7356\n",
      "Epoch 7/100\n",
      "600/600 [==============================] - 12s 20ms/step - loss: 0.8389 - acc: 0.7631 - f1: 0.7631 - val_loss: 0.5075 - val_acc: 0.7801 - val_f1: 0.7801\n",
      "Epoch 8/100\n",
      "600/600 [==============================] - 12s 20ms/step - loss: 0.7660 - acc: 0.7914 - f1: 0.7914 - val_loss: 0.6220 - val_acc: 0.7709 - val_f1: 0.7709\n",
      "Epoch 9/100\n",
      "600/600 [==============================] - 12s 20ms/step - loss: 0.7466 - acc: 0.7946 - f1: 0.7946 - val_loss: 0.5887 - val_acc: 0.7727 - val_f1: 0.7727\n",
      "Epoch 10/100\n",
      "600/600 [==============================] - 12s 20ms/step - loss: 0.6884 - acc: 0.8132 - f1: 0.8132 - val_loss: 0.5897 - val_acc: 0.7906 - val_f1: 0.7906\n",
      "Epoch 11/100\n",
      "600/600 [==============================] - 12s 20ms/step - loss: 0.6572 - acc: 0.8256 - f1: 0.8256 - val_loss: 0.5439 - val_acc: 0.8080 - val_f1: 0.8080\n",
      "Epoch 12/100\n",
      "600/600 [==============================] - 12s 20ms/step - loss: 0.6418 - acc: 0.8264 - f1: 0.8264 - val_loss: 0.5969 - val_acc: 0.7931 - val_f1: 0.7931\n",
      "Epoch 13/100\n",
      "600/600 [==============================] - 13s 21ms/step - loss: 0.6424 - acc: 0.8272 - f1: 0.8272 - val_loss: 0.6116 - val_acc: 0.7768 - val_f1: 0.7768\n",
      "Epoch 14/100\n",
      "600/600 [==============================] - 12s 19ms/step - loss: 0.6054 - acc: 0.8369 - f1: 0.8369 - val_loss: 0.5551 - val_acc: 0.8053 - val_f1: 0.8053\n",
      "Epoch 15/100\n",
      "600/600 [==============================] - 12s 19ms/step - loss: 0.5672 - acc: 0.8497 - f1: 0.8497 - val_loss: 0.6068 - val_acc: 0.7952 - val_f1: 0.7952\n",
      "Epoch 16/100\n",
      "600/600 [==============================] - 12s 19ms/step - loss: 0.5782 - acc: 0.8495 - f1: 0.8495 - val_loss: 0.5888 - val_acc: 0.7878 - val_f1: 0.7878\n",
      "Epoch 17/100\n",
      "600/600 [==============================] - 12s 20ms/step - loss: 0.5453 - acc: 0.8568 - f1: 0.8568 - val_loss: 0.6840 - val_acc: 0.7622 - val_f1: 0.7622\n",
      "Epoch 18/100\n",
      "600/600 [==============================] - 12s 20ms/step - loss: 0.5426 - acc: 0.8600 - f1: 0.8600 - val_loss: 0.5838 - val_acc: 0.8071 - val_f1: 0.8071\n",
      "Epoch 19/100\n",
      "600/600 [==============================] - 12s 20ms/step - loss: 0.5170 - acc: 0.8657 - f1: 0.8657 - val_loss: 0.5959 - val_acc: 0.7932 - val_f1: 0.7932\n",
      "Epoch 20/100\n",
      "600/600 [==============================] - 12s 20ms/step - loss: 0.5188 - acc: 0.8679 - f1: 0.8679 - val_loss: 0.6416 - val_acc: 0.7880 - val_f1: 0.7880\n",
      "Epoch 21/100\n",
      "600/600 [==============================] - 12s 20ms/step - loss: 0.4970 - acc: 0.8730 - f1: 0.8730 - val_loss: 0.8043 - val_acc: 0.7457 - val_f1: 0.7457\n",
      "Epoch 22/100\n",
      "600/600 [==============================] - 12s 20ms/step - loss: 0.4928 - acc: 0.8737 - f1: 0.8737 - val_loss: 0.6358 - val_acc: 0.8057 - val_f1: 0.8057\n",
      "Epoch 23/100\n",
      "600/600 [==============================] - 15s 25ms/step - loss: 0.4701 - acc: 0.8793 - f1: 0.8793 - val_loss: 0.7457 - val_acc: 0.7480 - val_f1: 0.7480\n",
      "Epoch 24/100\n",
      "600/600 [==============================] - 16s 27ms/step - loss: 0.4718 - acc: 0.8809 - f1: 0.8809 - val_loss: 0.6432 - val_acc: 0.8101 - val_f1: 0.8101\n",
      "Epoch 25/100\n",
      "600/600 [==============================] - 16s 27ms/step - loss: 0.4794 - acc: 0.8766 - f1: 0.8766 - val_loss: 0.5630 - val_acc: 0.8304 - val_f1: 0.8304\n",
      "Epoch 26/100\n",
      "600/600 [==============================] - 17s 28ms/step - loss: 0.4470 - acc: 0.8879 - f1: 0.8879 - val_loss: 0.6798 - val_acc: 0.7816 - val_f1: 0.7816\n",
      "Epoch 27/100\n",
      "600/600 [==============================] - 16s 27ms/step - loss: 0.4507 - acc: 0.8839 - f1: 0.8839 - val_loss: 0.6197 - val_acc: 0.8222 - val_f1: 0.8222\n",
      "Epoch 28/100\n",
      "600/600 [==============================] - 16s 27ms/step - loss: 0.4392 - acc: 0.8882 - f1: 0.8882 - val_loss: 0.5768 - val_acc: 0.8290 - val_f1: 0.8290\n",
      "Epoch 29/100\n",
      "600/600 [==============================] - 16s 27ms/step - loss: 0.4372 - acc: 0.8900 - f1: 0.8900 - val_loss: 0.5830 - val_acc: 0.8239 - val_f1: 0.8239\n",
      "Epoch 30/100\n",
      "600/600 [==============================] - 16s 27ms/step - loss: 0.4287 - acc: 0.8908 - f1: 0.8908 - val_loss: 0.6255 - val_acc: 0.8028 - val_f1: 0.8028\n",
      "Epoch 31/100\n",
      "600/600 [==============================] - 16s 27ms/step - loss: 0.4405 - acc: 0.8884 - f1: 0.8883 - val_loss: 0.5713 - val_acc: 0.8299 - val_f1: 0.8299\n",
      "Epoch 32/100\n",
      "600/600 [==============================] - 16s 27ms/step - loss: 0.4111 - acc: 0.8970 - f1: 0.8970 - val_loss: 0.6036 - val_acc: 0.8264 - val_f1: 0.8264\n",
      "Epoch 33/100\n",
      "600/600 [==============================] - 16s 26ms/step - loss: 0.3981 - acc: 0.9006 - f1: 0.9006 - val_loss: 0.6532 - val_acc: 0.8129 - val_f1: 0.8129\n",
      "Epoch 34/100\n",
      "600/600 [==============================] - 16s 26ms/step - loss: 0.4180 - acc: 0.8948 - f1: 0.8948 - val_loss: 0.5371 - val_acc: 0.8319 - val_f1: 0.8319\n",
      "Epoch 35/100\n",
      "600/600 [==============================] - 16s 27ms/step - loss: 0.4138 - acc: 0.8966 - f1: 0.8966 - val_loss: 0.5767 - val_acc: 0.8329 - val_f1: 0.8329\n",
      "Epoch 36/100\n",
      "600/600 [==============================] - 16s 27ms/step - loss: 0.4070 - acc: 0.8985 - f1: 0.8985 - val_loss: 0.5693 - val_acc: 0.8265 - val_f1: 0.8265\n",
      "Epoch 37/100\n",
      "600/600 [==============================] - 16s 27ms/step - loss: 0.3894 - acc: 0.9040 - f1: 0.9040 - val_loss: 0.5529 - val_acc: 0.8398 - val_f1: 0.8398\n",
      "Epoch 38/100\n",
      "600/600 [==============================] - 16s 27ms/step - loss: 0.3914 - acc: 0.9014 - f1: 0.9014 - val_loss: 0.5792 - val_acc: 0.8241 - val_f1: 0.8241\n",
      "Epoch 39/100\n",
      "600/600 [==============================] - 16s 27ms/step - loss: 0.3998 - acc: 0.9008 - f1: 0.9008 - val_loss: 0.5257 - val_acc: 0.8394 - val_f1: 0.8394\n",
      "Epoch 40/100\n",
      "600/600 [==============================] - 16s 27ms/step - loss: 0.3847 - acc: 0.9050 - f1: 0.9050 - val_loss: 0.5469 - val_acc: 0.8372 - val_f1: 0.8372\n",
      "Epoch 41/100\n",
      "600/600 [==============================] - 16s 27ms/step - loss: 0.3860 - acc: 0.9064 - f1: 0.9064 - val_loss: 0.5660 - val_acc: 0.8352 - val_f1: 0.8352\n",
      "Epoch 42/100\n",
      "600/600 [==============================] - 16s 27ms/step - loss: 0.3642 - acc: 0.9093 - f1: 0.9093 - val_loss: 0.6298 - val_acc: 0.8198 - val_f1: 0.8198\n",
      "Epoch 43/100\n",
      "600/600 [==============================] - 16s 27ms/step - loss: 0.3917 - acc: 0.9018 - f1: 0.9018 - val_loss: 0.6097 - val_acc: 0.8324 - val_f1: 0.8324\n",
      "Epoch 44/100\n",
      "600/600 [==============================] - 16s 27ms/step - loss: 0.3837 - acc: 0.9050 - f1: 0.9050 - val_loss: 0.5557 - val_acc: 0.8392 - val_f1: 0.8392\n",
      "Epoch 45/100\n",
      "600/600 [==============================] - 17s 28ms/step - loss: 0.3722 - acc: 0.9081 - f1: 0.9081 - val_loss: 0.5905 - val_acc: 0.8378 - val_f1: 0.8378\n",
      "Epoch 46/100\n",
      "600/600 [==============================] - 17s 28ms/step - loss: 0.3724 - acc: 0.9074 - f1: 0.9074 - val_loss: 0.6167 - val_acc: 0.8331 - val_f1: 0.8331\n",
      "Epoch 47/100\n",
      "600/600 [==============================] - 16s 27ms/step - loss: 0.3703 - acc: 0.9088 - f1: 0.9088 - val_loss: 0.5879 - val_acc: 0.8250 - val_f1: 0.8250\n",
      "Epoch 48/100\n",
      "600/600 [==============================] - 16s 27ms/step - loss: 0.3656 - acc: 0.9090 - f1: 0.9090 - val_loss: 0.6124 - val_acc: 0.8241 - val_f1: 0.8241\n",
      "Epoch 49/100\n",
      "600/600 [==============================] - 16s 27ms/step - loss: 0.3634 - acc: 0.9080 - f1: 0.9080 - val_loss: 0.6008 - val_acc: 0.8328 - val_f1: 0.8328\n",
      "Epoch 50/100\n"
     ]
    },
    {
     "name": "stdout",
     "output_type": "stream",
     "text": [
      "600/600 [==============================] - 16s 26ms/step - loss: 0.3595 - acc: 0.9124 - f1: 0.9124 - val_loss: 0.6082 - val_acc: 0.8293 - val_f1: 0.8293\n",
      "Epoch 51/100\n",
      "600/600 [==============================] - 16s 26ms/step - loss: 0.3588 - acc: 0.9093 - f1: 0.9093 - val_loss: 0.6028 - val_acc: 0.8326 - val_f1: 0.8326\n",
      "Epoch 52/100\n",
      "600/600 [==============================] - 16s 26ms/step - loss: 0.3631 - acc: 0.9076 - f1: 0.9076 - val_loss: 0.5933 - val_acc: 0.8265 - val_f1: 0.8265\n",
      "Epoch 53/100\n",
      "600/600 [==============================] - 16s 27ms/step - loss: 0.3588 - acc: 0.9106 - f1: 0.9106 - val_loss: 0.5925 - val_acc: 0.8307 - val_f1: 0.8307\n",
      "Epoch 54/100\n",
      "600/600 [==============================] - 16s 27ms/step - loss: 0.3475 - acc: 0.9148 - f1: 0.9148 - val_loss: 0.6053 - val_acc: 0.8257 - val_f1: 0.8257\n",
      "Epoch 55/100\n",
      "600/600 [==============================] - 16s 27ms/step - loss: 0.3463 - acc: 0.9151 - f1: 0.9150 - val_loss: 0.6026 - val_acc: 0.8325 - val_f1: 0.8325\n",
      "Epoch 56/100\n",
      "600/600 [==============================] - 16s 27ms/step - loss: 0.3447 - acc: 0.9151 - f1: 0.9151 - val_loss: 0.6418 - val_acc: 0.8230 - val_f1: 0.8230\n",
      "Epoch 57/100\n",
      "600/600 [==============================] - 16s 27ms/step - loss: 0.3361 - acc: 0.9168 - f1: 0.9168 - val_loss: 0.6035 - val_acc: 0.8424 - val_f1: 0.8424\n",
      "Epoch 58/100\n",
      "600/600 [==============================] - 16s 27ms/step - loss: 0.3364 - acc: 0.9175 - f1: 0.9174 - val_loss: 0.6020 - val_acc: 0.8400 - val_f1: 0.8400\n",
      "Epoch 59/100\n",
      "600/600 [==============================] - 16s 27ms/step - loss: 0.3522 - acc: 0.9155 - f1: 0.9155 - val_loss: 0.5788 - val_acc: 0.8369 - val_f1: 0.8369\n",
      "Epoch 60/100\n",
      "600/600 [==============================] - 16s 27ms/step - loss: 0.3321 - acc: 0.9189 - f1: 0.9189 - val_loss: 0.6090 - val_acc: 0.8367 - val_f1: 0.8367\n",
      "Epoch 61/100\n",
      "600/600 [==============================] - 16s 27ms/step - loss: 0.3278 - acc: 0.9196 - f1: 0.9196 - val_loss: 0.6079 - val_acc: 0.8262 - val_f1: 0.8262\n",
      "Epoch 62/100\n",
      "600/600 [==============================] - 16s 27ms/step - loss: 0.3399 - acc: 0.9161 - f1: 0.9161 - val_loss: 0.6219 - val_acc: 0.8314 - val_f1: 0.8314\n",
      "Epoch 63/100\n",
      "600/600 [==============================] - 16s 27ms/step - loss: 0.3310 - acc: 0.9188 - f1: 0.9188 - val_loss: 0.6223 - val_acc: 0.8287 - val_f1: 0.8287\n",
      "Epoch 64/100\n",
      "600/600 [==============================] - 16s 27ms/step - loss: 0.3468 - acc: 0.9151 - f1: 0.9151 - val_loss: 0.5991 - val_acc: 0.8422 - val_f1: 0.8422\n",
      "Epoch 65/100\n",
      "600/600 [==============================] - 17s 28ms/step - loss: 0.3427 - acc: 0.9176 - f1: 0.9175 - val_loss: 0.5711 - val_acc: 0.8332 - val_f1: 0.8332\n",
      "Epoch 66/100\n",
      "600/600 [==============================] - 16s 27ms/step - loss: 0.3336 - acc: 0.9191 - f1: 0.9190 - val_loss: 0.6007 - val_acc: 0.8401 - val_f1: 0.8401\n",
      "Epoch 67/100\n",
      "600/600 [==============================] - 16s 27ms/step - loss: 0.3258 - acc: 0.9213 - f1: 0.9212 - val_loss: 0.6034 - val_acc: 0.8385 - val_f1: 0.8385\n",
      "Epoch 68/100\n",
      "600/600 [==============================] - 16s 27ms/step - loss: 0.3240 - acc: 0.9200 - f1: 0.9200 - val_loss: 0.5996 - val_acc: 0.8355 - val_f1: 0.8355\n",
      "Epoch 69/100\n",
      "600/600 [==============================] - 16s 27ms/step - loss: 0.3503 - acc: 0.9150 - f1: 0.9150 - val_loss: 0.5762 - val_acc: 0.8341 - val_f1: 0.8341\n",
      "Epoch 70/100\n",
      "600/600 [==============================] - 16s 26ms/step - loss: 0.3231 - acc: 0.9205 - f1: 0.9204 - val_loss: 0.5974 - val_acc: 0.8415 - val_f1: 0.8415\n",
      "Epoch 71/100\n",
      "600/600 [==============================] - 16s 27ms/step - loss: 0.3162 - acc: 0.9219 - f1: 0.9218 - val_loss: 0.6354 - val_acc: 0.8261 - val_f1: 0.8261\n",
      "Epoch 72/100\n",
      "600/600 [==============================] - 16s 27ms/step - loss: 0.3282 - acc: 0.9190 - f1: 0.9189 - val_loss: 0.6017 - val_acc: 0.8329 - val_f1: 0.8329\n",
      "Epoch 73/100\n",
      "600/600 [==============================] - 17s 28ms/step - loss: 0.3367 - acc: 0.9175 - f1: 0.9175 - val_loss: 0.5410 - val_acc: 0.8378 - val_f1: 0.8378\n",
      "Epoch 74/100\n",
      "600/600 [==============================] - 16s 27ms/step - loss: 0.3144 - acc: 0.9237 - f1: 0.9237 - val_loss: 0.6039 - val_acc: 0.8335 - val_f1: 0.8335\n",
      "Epoch 75/100\n",
      "600/600 [==============================] - 16s 27ms/step - loss: 0.3151 - acc: 0.9225 - f1: 0.9225 - val_loss: 0.5941 - val_acc: 0.8353 - val_f1: 0.8353\n",
      "Epoch 76/100\n",
      "600/600 [==============================] - 16s 27ms/step - loss: 0.3108 - acc: 0.9222 - f1: 0.9222 - val_loss: 0.6157 - val_acc: 0.8386 - val_f1: 0.8386\n",
      "Epoch 77/100\n",
      "600/600 [==============================] - 16s 27ms/step - loss: 0.3273 - acc: 0.9192 - f1: 0.9192 - val_loss: 0.6056 - val_acc: 0.8265 - val_f1: 0.8265\n",
      "Epoch 78/100\n",
      "600/600 [==============================] - 16s 27ms/step - loss: 0.3233 - acc: 0.9201 - f1: 0.9201 - val_loss: 0.5856 - val_acc: 0.8371 - val_f1: 0.8371\n",
      "Epoch 79/100\n",
      "600/600 [==============================] - 16s 27ms/step - loss: 0.3093 - acc: 0.9247 - f1: 0.9247 - val_loss: 0.6009 - val_acc: 0.8379 - val_f1: 0.8379\n",
      "Epoch 80/100\n",
      "600/600 [==============================] - 16s 27ms/step - loss: 0.3100 - acc: 0.9227 - f1: 0.9226 - val_loss: 0.6400 - val_acc: 0.8280 - val_f1: 0.8280\n",
      "Epoch 81/100\n",
      "600/600 [==============================] - 16s 27ms/step - loss: 0.3096 - acc: 0.9239 - f1: 0.9239 - val_loss: 0.6267 - val_acc: 0.8388 - val_f1: 0.8388\n",
      "Epoch 82/100\n",
      "600/600 [==============================] - 16s 27ms/step - loss: 0.3255 - acc: 0.9206 - f1: 0.9206 - val_loss: 0.6127 - val_acc: 0.8410 - val_f1: 0.8410\n",
      "Epoch 83/100\n",
      "600/600 [==============================] - 16s 27ms/step - loss: 0.3160 - acc: 0.9233 - f1: 0.9233 - val_loss: 0.5952 - val_acc: 0.8293 - val_f1: 0.8293\n",
      "Epoch 84/100\n",
      "600/600 [==============================] - 17s 29ms/step - loss: 0.3265 - acc: 0.9196 - f1: 0.9196 - val_loss: 0.6045 - val_acc: 0.8293 - val_f1: 0.8293\n",
      "Epoch 85/100\n",
      "600/600 [==============================] - 16s 26ms/step - loss: 0.3187 - acc: 0.9226 - f1: 0.9225 - val_loss: 0.6022 - val_acc: 0.8311 - val_f1: 0.8311\n",
      "Epoch 86/100\n",
      "600/600 [==============================] - 16s 26ms/step - loss: 0.3145 - acc: 0.9236 - f1: 0.9236 - val_loss: 0.5766 - val_acc: 0.8378 - val_f1: 0.8378\n",
      "Epoch 87/100\n",
      "600/600 [==============================] - 16s 26ms/step - loss: 0.3122 - acc: 0.9244 - f1: 0.9244 - val_loss: 0.6027 - val_acc: 0.8406 - val_f1: 0.8406\n",
      "Epoch 88/100\n",
      "600/600 [==============================] - 16s 27ms/step - loss: 0.3066 - acc: 0.9250 - f1: 0.9250 - val_loss: 0.6130 - val_acc: 0.8281 - val_f1: 0.8281\n",
      "Epoch 89/100\n",
      "600/600 [==============================] - 16s 27ms/step - loss: 0.3142 - acc: 0.9233 - f1: 0.9233 - val_loss: 0.6010 - val_acc: 0.8395 - val_f1: 0.8395\n",
      "Epoch 90/100\n",
      "600/600 [==============================] - 16s 27ms/step - loss: 0.3092 - acc: 0.9241 - f1: 0.9241 - val_loss: 0.6110 - val_acc: 0.8360 - val_f1: 0.8360\n",
      "Epoch 91/100\n",
      "600/600 [==============================] - 16s 27ms/step - loss: 0.3086 - acc: 0.9243 - f1: 0.9243 - val_loss: 0.6176 - val_acc: 0.8404 - val_f1: 0.8404\n",
      "Epoch 92/100\n",
      "600/600 [==============================] - 17s 28ms/step - loss: 0.2985 - acc: 0.9263 - f1: 0.9263 - val_loss: 0.6169 - val_acc: 0.8389 - val_f1: 0.8389\n",
      "Epoch 93/100\n",
      "600/600 [==============================] - 16s 27ms/step - loss: 0.3049 - acc: 0.9245 - f1: 0.9245 - val_loss: 0.6210 - val_acc: 0.8283 - val_f1: 0.8283\n",
      "Epoch 94/100\n",
      "600/600 [==============================] - 18s 31ms/step - loss: 0.3187 - acc: 0.9218 - f1: 0.9218 - val_loss: 0.5984 - val_acc: 0.8414 - val_f1: 0.8414\n",
      "Epoch 95/100\n",
      "600/600 [==============================] - 16s 27ms/step - loss: 0.3138 - acc: 0.9223 - f1: 0.9223 - val_loss: 0.5892 - val_acc: 0.8434 - val_f1: 0.8434\n",
      "Epoch 96/100\n",
      "600/600 [==============================] - 16s 27ms/step - loss: 0.3036 - acc: 0.9266 - f1: 0.9266 - val_loss: 0.6134 - val_acc: 0.8373 - val_f1: 0.8373\n",
      "Epoch 97/100\n",
      "600/600 [==============================] - 16s 27ms/step - loss: 0.3178 - acc: 0.9227 - f1: 0.9227 - val_loss: 0.5833 - val_acc: 0.8396 - val_f1: 0.8396\n",
      "Epoch 98/100\n",
      "600/600 [==============================] - 16s 27ms/step - loss: 0.2952 - acc: 0.9277 - f1: 0.9277 - val_loss: 0.6121 - val_acc: 0.8379 - val_f1: 0.8379\n",
      "Epoch 99/100\n"
     ]
    },
    {
     "name": "stdout",
     "output_type": "stream",
     "text": [
      "600/600 [==============================] - 16s 27ms/step - loss: 0.3117 - acc: 0.9239 - f1: 0.9238 - val_loss: 0.6149 - val_acc: 0.8310 - val_f1: 0.8310\n",
      "Epoch 100/100\n",
      "600/600 [==============================] - 16s 27ms/step - loss: 0.2984 - acc: 0.9263 - f1: 0.9263 - val_loss: 0.5937 - val_acc: 0.8428 - val_f1: 0.8428\n"
     ]
    },
    {
     "data": {
      "text/plain": [
       "<keras.callbacks.History at 0x7f0ef0967160>"
      ]
     },
     "execution_count": 21,
     "metadata": {},
     "output_type": "execute_result"
    }
   ],
   "source": [
    "# Class weights\n",
    "class_weight = {\n",
    "    intent_to_int('Cardiovascular'): 20.\n",
    "    ,intent_to_int('Other'): 1.\n",
    "}\n",
    "\n",
    "# Start training\n",
    "model.fit_generator(\n",
    "    generator = train_batch_generator,\n",
    "    steps_per_epoch = num_batches_per_epoch_train,\n",
    "    validation_data = test_batch_generator,\n",
    "    validation_steps = num_batches_per_epoch_test,\n",
    "    epochs = EPOCHS,\n",
    "    class_weight=class_weight\n",
    ")"
   ]
  },
  {
   "cell_type": "code",
   "execution_count": 22,
   "metadata": {},
   "outputs": [
    {
     "name": "stdout",
     "output_type": "stream",
     "text": [
      "Results after training for 100 epochs:\n",
      "loss: 0.1689 - categorical_accuracy: 0.9389 - f1: 0.9389\n",
      "val_loss: 0.5937 - val_categorical_accuracy: 0.8428 - f1: 0.8428\n"
     ]
    }
   ],
   "source": [
    "print(\"Results after training for %d epochs:\" % (EPOCHS,))\n",
    "\n",
    "train_metrics = model.evaluate_generator(\n",
    "    generator = train_batch_generator,\n",
    "    steps = num_batches_per_epoch_train,\n",
    ")\n",
    "\n",
    "print(\"loss: %.4f - categorical_accuracy: %.4f - f1: %.4f\" % tuple(train_metrics))\n",
    "\n",
    "val_metrics = model.evaluate_generator(\n",
    "    generator = test_batch_generator,\n",
    "    steps = num_batches_per_epoch_test,\n",
    ")\n",
    "\n",
    "print(\"val_loss: %.4f - val_categorical_accuracy: %.4f - f1: %.4f\" % tuple(val_metrics))"
   ]
  },
  {
   "cell_type": "code",
   "execution_count": 23,
   "metadata": {},
   "outputs": [
    {
     "data": {
      "image/png": "[encoded data removed]",
      "text/plain": [
       "<Figure size 432x288 with 1 Axes>"
      ]
     },
     "metadata": {},
     "output_type": "display_data"
    },
    {
     "data": {
      "image/png": "[encoded data removed]",
      "text/plain": [
       "<Figure size 432x288 with 1 Axes>"
      ]
     },
     "metadata": {},
     "output_type": "display_data"
    }
   ],
   "source": [
    "# Plot training & validation accuracy values\n",
    "plt.plot(model.history.history['acc'])\n",
    "plt.plot(model.history.history['val_acc'])\n",
    "plt.title('Model accuracy')\n",
    "plt.ylabel('Accuracy')\n",
    "plt.xlabel('Epoch')\n",
    "plt.legend(['Train', 'Test'], loc='upper left')\n",
    "plt.show()\n",
    "\n",
    "# Plot training & validation loss values\n",
    "plt.plot(model.history.history['loss'])\n",
    "plt.plot(model.history.history['val_loss'])\n",
    "plt.title('Model loss')\n",
    "plt.ylabel('Loss')\n",
    "plt.xlabel('Epoch')\n",
    "plt.legend(['Train', 'Test'], loc='upper left')\n",
    "plt.show()"
   ]
  },
  {
   "cell_type": "code",
   "execution_count": 24,
   "metadata": {},
   "outputs": [
    {
     "name": "stdout",
     "output_type": "stream",
     "text": [
      "['Cardiovascular', 'Other']\n",
      "[[1095  582]\n",
      " [1138 8125]]\n",
      "                precision    recall  f1-score   support\n",
      "\n",
      "Cardiovascular       0.49      0.65      0.56      1677\n",
      "         Other       0.93      0.88      0.90      9263\n",
      "\n",
      "   avg / total       0.87      0.84      0.85     10940\n",
      "\n"
     ]
    }
   ],
   "source": [
    "y_pred = np.argmax(model.predict(med_vectors.query(x_test)), axis=1)\n",
    "class_labels = [int_to_intent(y) for y in set(y_test)] \n",
    "report = classification_report(y_test, y_pred, target_names=class_labels)\n",
    "print(class_labels)\n",
    "print(confusion_matrix(y_test, y_pred))\n",
    "print(report)"
   ]
  },
  {
   "cell_type": "code",
   "execution_count": 25,
   "metadata": {},
   "outputs": [
    {
     "data": {
      "text/plain": [
       "<matplotlib.axes._subplots.AxesSubplot at 0x7f0ef1df3b70>"
      ]
     },
     "execution_count": 25,
     "metadata": {},
     "output_type": "execute_result"
    },
    {
     "data": {
      "image/png": "[encoded data removed]",
      "text/plain": [
       "<Figure size 432x288 with 2 Axes>"
      ]
     },
     "metadata": {},
     "output_type": "display_data"
    }
   ],
   "source": [
    "plot_confusion_matrix(y_test, y_pred, classes=class_labels\n",
    "                      , title='Confusion Matrix for Cardiovascular Disease CNN Classifier')"
   ]
  },
  {
   "cell_type": "code",
   "execution_count": null,
   "metadata": {},
   "outputs": [],
   "source": []
  }
 ],
 "metadata": {
  "kernelspec": {
   "display_name": "Python 3",
   "language": "python",
   "name": "python3"
  },
  "language_info": {
   "codemirror_mode": {
    "name": "ipython",
    "version": 3
   },
   "file_extension": ".py",
   "mimetype": "text/x-python",
   "name": "python",
   "nbconvert_exporter": "python",
   "pygments_lexer": "ipython3",
   "version": "3.6.5"
  }
 },
 "nbformat": 4,
 "nbformat_minor": 2
}
