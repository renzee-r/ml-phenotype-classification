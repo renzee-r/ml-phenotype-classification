{
 "cells": [
  {
   "cell_type": "code",
   "execution_count": 1,
   "metadata": {},
   "outputs": [
    {
     "name": "stdout",
     "output_type": "stream",
     "text": [
      "[nltk_data] Downloading package punkt to /home/renzeer/nltk_data...\n",
      "[nltk_data]   Package punkt is already up-to-date!\n",
      "[nltk_data] Downloading package stopwords to\n",
      "[nltk_data]     /home/renzeer/nltk_data...\n",
      "[nltk_data]   Package stopwords is already up-to-date!\n"
     ]
    },
    {
     "name": "stderr",
     "output_type": "stream",
     "text": [
      "Using TensorFlow backend.\n"
     ]
    }
   ],
   "source": [
    "# Standard python helper libraries.\n",
    "import os, sys, re, json, time, wget, csv, string, time, random\n",
    "import itertools, collections\n",
    "\n",
    "# NumPy\n",
    "import numpy as np\n",
    "\n",
    "# NLTK for NLP utils\n",
    "import nltk\n",
    "nltk.download('punkt')\n",
    "nltk.download('stopwords')\n",
    "from nltk.corpus import stopwords\n",
    "from nltk.tokenize import word_tokenize\n",
    "from nltk.stem.porter import PorterStemmer\n",
    "\n",
    "from keras import backend as K\n",
    "from keras.models import Sequential\n",
    "from keras.layers import GaussianNoise, Dropout, Dense, Embedding, MaxPool1D, GlobalMaxPool1D, Conv1D, LSTM, Bidirectional\n",
    "from keras.optimizers import Adam\n",
    "from keras.callbacks import Callback\n",
    "\n",
    "from sklearn.metrics import confusion_matrix, f1_score, precision_score, recall_score\n",
    "\n",
    "from pymagnitude import *"
   ]
  },
  {
   "cell_type": "markdown",
   "metadata": {},
   "source": [
    "# Binary Classifier for Cardiovascular Disease using a Convolutional Neural Network\n",
    "\n",
    "In this notebook, we will be building a model for classifying a sentence from an EHR note for the presence of cardiovascular disease. The model will be trained using a convoultional neural network (CNN). "
   ]
  },
  {
   "cell_type": "markdown",
   "metadata": {},
   "source": [
    "## Text Preprocessing"
   ]
  },
  {
   "cell_type": "code",
   "execution_count": 2,
   "metadata": {},
   "outputs": [
    {
     "name": "stdout",
     "output_type": "stream",
     "text": [
      "['Other', 'PAST MEDICAL HISTORY:, He has difficulty climbing stairs, difficulty with airline seats, tying shoes, used to public seating, and lifting objects off the floor.  He exercises three times a week at home and does cardio.  He has difficulty walking two blocks or five flights of stairs.  Difficulty with snoring.  He has muscle and joint pains including knee pain, back pain, foot and ankle pain, and swelling.  He has gastroesophageal reflux disease.,PAST SURGICAL HISTORY:, Includes reconstructive surgery on his right hand 13 years ago.  ,SOCIAL HISTORY:, He is currently single.  He has about ten drinks a year.  He had smoked significantly up until several months ago.  He now smokes less than three cigarettes a day.,FAMILY HISTORY:, Heart disease in both grandfathers, grandmother with stroke, and a grandmother with diabetes.  Denies obesity and hypertension in other family members.,CURRENT MEDICATIONS:, None.,ALLERGIES:,  He is allergic to Penicillin.,MISCELLANEOUS/EATING HISTORY:, He has been going to support groups for seven months with Lynn Holmberg in Greenwich and he is from Eastchester, New York and he feels that we are the appropriate program.  He had a poor experience with the Greenwich program.  Eating history, he is not an emotional eater.  Does not like sweets.  He likes big portions and carbohydrates.  He likes chicken and not steak.  He currently weighs 312 pounds.  Ideal body weight would be 170 pounds.  He is 142 pounds overweight.  If ,he lost 60% of his excess body weight that would be 84 pounds and he should weigh about 228.,REVIEW OF SYSTEMS: ,Negative for head, neck, heart, lungs, GI, GU, orthopedic, and skin.  Specifically denies chest pain, heart attack, coronary artery disease, congestive heart failure, arrhythmia, atrial fibrillation, pacemaker, high cholesterol, pulmonary embolism, high blood pressure, CVA, venous insufficiency, thrombophlebitis, asthma, shortness of breath, COPD, emphysema, sleep apnea, diabetes, leg and foot swelling, osteoarthritis, rheumatoid arthritis, hiatal hernia, peptic ulcer disease, gallstones, infected gallbladder, pancreatitis, fatty liver, hepatitis, hemorrhoids, rectal bleeding, polyps, incontinence of stool, urinary stress incontinence, or cancer.  Denies cellulitis, pseudotumor cerebri, meningitis, or encephalitis.,PHYSICAL EXAMINATION:, He is alert and oriented x 3.  Cranial nerves II-XII are intact.  Afebrile.  Vital Signs are stable.']\n",
      "['Cardiovascular', '2-D M-MODE: , ,1.  Left atrial enlargement with left atrial diameter of 4.7 cm.,2.  Normal size right and left ventricle.,3.  Normal LV systolic function with left ventricular ejection fraction of 51%.,4.  Normal LV diastolic function.,5.  No pericardial effusion.,6.  Normal morphology of aortic valve, mitral valve, tricuspid valve, and pulmonary valve.,7.  PA systolic pressure is 36 mmHg.,DOPPLER: , ,1.  Mild mitral and tricuspid regurgitation.,2.  Trace aortic and pulmonary regurgitation.']\n"
     ]
    }
   ],
   "source": [
    "ehr_notes = []\n",
    "with open('data/ehr_samples.csv', newline='') as csvfile:\n",
    "    reader = csv.DictReader(csvfile)\n",
    "    for row in reader:     \n",
    "        if int(row['SpecialtyID']) in [39, 6, 16, 37, 11, 12, 29, 26, 7, 21, 19, 10, 2, 18]:\n",
    "            continue\n",
    "        elif int(row['SpecialtyID']) != 4:\n",
    "            ehr_notes.append(['Other', row['Note']])\n",
    "        else:\n",
    "            ehr_notes.append([row['Specialty'], row['Note']])\n",
    "\n",
    "print(ehr_notes[0])\n",
    "print(ehr_notes[2])"
   ]
  },
  {
   "cell_type": "markdown",
   "metadata": {},
   "source": [
    "## Natural Langauge Processing"
   ]
  },
  {
   "cell_type": "code",
   "execution_count": 3,
   "metadata": {},
   "outputs": [
    {
     "name": "stdout",
     "output_type": "stream",
     "text": [
      "['Cardiovascular', 'return clinic 4 weeks5']\n",
      "['Other', 'biceps tendon nonsubluxable']\n"
     ]
    }
   ],
   "source": [
    "ehr_sentences = []\n",
    "for record in ehr_notes:\n",
    "    sent_text = nltk.sent_tokenize(record[1])\n",
    "    for sent in sent_text:\n",
    "        tokens = word_tokenize(sent)\n",
    "\n",
    "        # convert to lower case\n",
    "        tokens = [w.lower() for w in tokens]\n",
    "\n",
    "        # remove punctuation from each word\n",
    "        table = str.maketrans('', '', string.punctuation)\n",
    "        tokens = [w.translate(table) for w in tokens]\n",
    "\n",
    "        # filter out stop words\n",
    "        stop_words = set(stopwords.words('english'))\n",
    "        tokens = [w for w in tokens if not w in stop_words]\n",
    "\n",
    "#         # stem words\n",
    "#         porter = PorterStemmer()\n",
    "#         tokens = [porter.stem(word) for word in tokens]\n",
    "\n",
    "        # remove blanks\n",
    "        tokens = [w for w in tokens if w != '']\n",
    "\n",
    "        ehr_sentences.append([record[0], ' '.join(tokens)])\n",
    "\n",
    "random.Random(4).shuffle(ehr_sentences)\n",
    "\n",
    "print(ehr_sentences[0])\n",
    "print(ehr_sentences[1])"
   ]
  },
  {
   "cell_type": "markdown",
   "metadata": {},
   "source": [
    "## Word Embedding\n",
    "\n",
    "The first step is to load in our word embedding, which is trained on text from Wikipedia, Pubmed, and Pubmed Central. We load our word embedding through a tool called Magnitude. A full exploration of the word embedding and Magnitude can be found in the Introduction notebook."
   ]
  },
  {
   "cell_type": "code",
   "execution_count": 4,
   "metadata": {},
   "outputs": [],
   "source": [
    "notes = list(np.array(ehr_sentences)[:,1])\n",
    "lengths = [len(note.split(' ')) for note in notes]\n",
    "MAX_WORDS = max(lengths) # The maximum number of words the sequence model will consider\n",
    "med_vectors = Magnitude(\"data/wikipedia-pubmed-and-PMC-w2v.magnitude\", pad_to_length=MAX_WORDS)"
   ]
  },
  {
   "cell_type": "markdown",
   "metadata": {},
   "source": [
    "## Defining our Training and Test Data\n",
    "\n",
    "Before we can start building our neural networks, we first have to define our datasets. Specifically, we have to break up our EHR data so that we have records that we can train on and records that are exclusively used to test on. Maintaining a separate set for testing ensures we avoid overfitting our data.\n",
    "\n",
    "We will use some built-in functions provided by Magnitude that helps encode our classes/categories. We then partition our data into our train and test sets. For each set we have both data and labels. Initially, we will be making these partitions small to make iterating through model development much quicker. However, once the models are developed, we will expand our datasets to include all of our data. To ensure we defined our data correctly, we can print a few lines from the two sets."
   ]
  },
  {
   "cell_type": "code",
   "execution_count": 5,
   "metadata": {},
   "outputs": [
    {
     "data": {
      "text/plain": [
       "70941"
      ]
     },
     "execution_count": 5,
     "metadata": {},
     "output_type": "execute_result"
    }
   ],
   "source": [
    "len(ehr_sentences)"
   ]
  },
  {
   "cell_type": "code",
   "execution_count": 6,
   "metadata": {},
   "outputs": [
    {
     "name": "stdout",
     "output_type": "stream",
     "text": [
      "Cardiovascular\n",
      "First line of train/test data:\n",
      "\t ['return', 'clinic', '4', 'weeks5']\n",
      "\t 0 Cardiovascular\n",
      "\t ['smokes', 'one', 'pack', 'per', 'day']\n",
      "\t 0 Cardiovascular\n",
      "Second line of train/test data:\n",
      "\t ['biceps', 'tendon', 'nonsubluxable']\n",
      "\t 1 Other\n",
      "\t ['denies', 'illicit', 'drug', 'use', 'family', 'history', 'parents', 'died', 'myocardial', 'infarctions']\n",
      "\t 1 Other\n"
     ]
    }
   ],
   "source": [
    "add_intent, intent_to_int, int_to_intent = MagnitudeUtils.class_encoding()\n",
    "\n",
    "x_train = [ehr_sent[1].split(' ') for ehr_sent in ehr_sentences[:60000]]\n",
    "x_test = [ehr_sent[1].split(' ') for ehr_sent in ehr_sentences[60001:]]\n",
    "\n",
    "y_train = [add_intent(ehr_sent[0]) for ehr_sent in ehr_sentences[:60000]]\n",
    "y_test = [add_intent(ehr_sent[0]) for ehr_sent in ehr_sentences[60001:]]\n",
    "\n",
    "y_train = list(np.array(y_train).reshape(len(y_train)))\n",
    "y_test = list(np.array(y_test).reshape(len(y_test)))\n",
    "\n",
    "num_training = len(x_train)\n",
    "num_test = len(x_test)\n",
    "num_outputs = int(max(max(y_train), max(y_test))) + 1\n",
    "\n",
    "print(int_to_intent(0))\n",
    "\n",
    "print(\"First line of train/test data:\")\n",
    "print(\"\\t\", x_train[0])\n",
    "print(\"\\t\", y_train[0], int_to_intent(y_train[0]))\n",
    "print(\"\\t\", x_test[0])\n",
    "print(\"\\t\", y_test[0], int_to_intent(y_test[0]))\n",
    "print(\"Second line of train/test data:\")\n",
    "print(\"\\t\", x_train[1])\n",
    "print(\"\\t\", y_train[1], int_to_intent(y_train[1]))\n",
    "print(\"\\t\", x_test[1])\n",
    "print(\"\\t\", y_test[1], int_to_intent(y_test[1]))"
   ]
  },
  {
   "cell_type": "markdown",
   "metadata": {},
   "source": [
    "## Defining Custom Callback Function"
   ]
  },
  {
   "cell_type": "code",
   "execution_count": 7,
   "metadata": {},
   "outputs": [],
   "source": [
    "def f1(y_true, y_pred):\n",
    "    def recall(y_true, y_pred):\n",
    "        \"\"\"Recall metric.\n",
    "\n",
    "        Only computes a batch-wise average of recall.\n",
    "\n",
    "        Computes the recall, a metric for multi-label classification of\n",
    "        how many relevant items are selected.\n",
    "        \"\"\"\n",
    "        true_positives = K.sum(K.round(K.clip(y_true * y_pred, 0, 1)))\n",
    "        possible_positives = K.sum(K.round(K.clip(y_true, 0, 1)))\n",
    "        recall = true_positives / (possible_positives + K.epsilon())\n",
    "        return recall\n",
    "\n",
    "    def precision(y_true, y_pred):\n",
    "        \"\"\"Precision metric.\n",
    "\n",
    "        Only computes a batch-wise average of precision.\n",
    "\n",
    "        Computes the precision, a metric for multi-label classification of\n",
    "        how many selected items are relevant.\n",
    "        \"\"\"\n",
    "        true_positives = K.sum(K.round(K.clip(y_true * y_pred, 0, 1)))\n",
    "        predicted_positives = K.sum(K.round(K.clip(y_pred, 0, 1)))\n",
    "        precision = true_positives / (predicted_positives + K.epsilon())\n",
    "        return precision\n",
    "    \n",
    "    precision = precision(y_true, y_pred)\n",
    "    recall = recall(y_true, y_pred)\n",
    "    return 2*((precision*recall)/(precision+recall+K.epsilon()))"
   ]
  },
  {
   "cell_type": "markdown",
   "metadata": {},
   "source": [
    "## Defining Model"
   ]
  },
  {
   "cell_type": "code",
   "execution_count": 8,
   "metadata": {},
   "outputs": [
    {
     "name": "stdout",
     "output_type": "stream",
     "text": [
      "_________________________________________________________________\n",
      "Layer (type)                 Output Shape              Param #   \n",
      "=================================================================\n",
      "gaussian_noise_1 (GaussianNo (None, 163, 200)          0         \n",
      "_________________________________________________________________\n",
      "bidirectional_1 (Bidirection (None, 200)               240800    \n",
      "_________________________________________________________________\n",
      "dropout_1 (Dropout)          (None, 200)               0         \n",
      "_________________________________________________________________\n",
      "dense_1 (Dense)              (None, 2)                 402       \n",
      "=================================================================\n",
      "Total params: 241,202\n",
      "Trainable params: 241,202\n",
      "Non-trainable params: 0\n",
      "_________________________________________________________________\n"
     ]
    }
   ],
   "source": [
    "STD_DEV = 0.01 # Deviation of noise for Gaussian Noise applied to the embeddings\n",
    "DROPOUT_RATIO = .5 # The ratio to dropout\n",
    "BATCH_SIZE = 100 # The number of examples per train/validation step\n",
    "EPOCHS = 100 # The number of times to repeat through all of the training data\n",
    "LEARNING_RATE = .01 # The learning rate for the optimizer\n",
    "HIDDEN_UNITS = 100\n",
    "\n",
    "model = Sequential()\n",
    "model.add(GaussianNoise(STD_DEV, input_shape=(MAX_WORDS, med_vectors.dim)))\n",
    "model.add(Bidirectional(LSTM(HIDDEN_UNITS, activation='tanh'), merge_mode='concat'))\n",
    "model.add(Dropout(DROPOUT_RATIO))\n",
    "model.add(Dense(num_outputs, activation='softmax'))\n",
    "model.compile(optimizer='adam',\n",
    "              loss='binary_crossentropy',\n",
    "              metrics=['accuracy', f1])\n",
    "model.summary()"
   ]
  },
  {
   "cell_type": "markdown",
   "metadata": {},
   "source": [
    "## Training Batches and Epochs"
   ]
  },
  {
   "cell_type": "code",
   "execution_count": 9,
   "metadata": {},
   "outputs": [
    {
     "name": "stdout",
     "output_type": "stream",
     "text": [
      "Epoch 1/100\n",
      "600/600 [==============================] - 1246s 2s/step - loss: 0.3444 - acc: 0.8653 - f1: 0.8653 - val_loss: 0.3224 - val_acc: 0.8725 - val_f1: 0.8725\n",
      "Epoch 2/100\n",
      "600/600 [==============================] - 431s 719ms/step - loss: 0.3141 - acc: 0.8740 - f1: 0.8740 - val_loss: 0.3103 - val_acc: 0.8762 - val_f1: 0.8762\n",
      "Epoch 3/100\n",
      "600/600 [==============================] - 435s 725ms/step - loss: 0.3063 - acc: 0.8775 - f1: 0.8774 - val_loss: 0.3043 - val_acc: 0.8804 - val_f1: 0.8804\n",
      "Epoch 4/100\n",
      "600/600 [==============================] - 431s 718ms/step - loss: 0.3012 - acc: 0.8810 - f1: 0.8810 - val_loss: 0.3001 - val_acc: 0.8824 - val_f1: 0.8824\n",
      "Epoch 5/100\n",
      "600/600 [==============================] - 434s 723ms/step - loss: 0.2951 - acc: 0.8829 - f1: 0.8829 - val_loss: 0.2948 - val_acc: 0.8852 - val_f1: 0.8852\n",
      "Epoch 6/100\n",
      "600/600 [==============================] - 432s 721ms/step - loss: 0.2896 - acc: 0.8857 - f1: 0.8857 - val_loss: 0.2911 - val_acc: 0.8853 - val_f1: 0.8853\n",
      "Epoch 7/100\n",
      "600/600 [==============================] - 434s 723ms/step - loss: 0.2846 - acc: 0.8867 - f1: 0.8867 - val_loss: 0.2902 - val_acc: 0.8850 - val_f1: 0.8850\n",
      "Epoch 8/100\n",
      "600/600 [==============================] - 433s 722ms/step - loss: 0.2801 - acc: 0.8894 - f1: 0.8894 - val_loss: 0.2871 - val_acc: 0.8859 - val_f1: 0.8859\n",
      "Epoch 9/100\n",
      "600/600 [==============================] - 433s 722ms/step - loss: 0.2754 - acc: 0.8905 - f1: 0.8905 - val_loss: 0.2867 - val_acc: 0.8853 - val_f1: 0.8853\n",
      "Epoch 10/100\n",
      "600/600 [==============================] - 433s 722ms/step - loss: 0.2712 - acc: 0.8917 - f1: 0.8917 - val_loss: 0.2853 - val_acc: 0.8856 - val_f1: 0.8856\n",
      "Epoch 11/100\n",
      "600/600 [==============================] - 431s 718ms/step - loss: 0.2654 - acc: 0.8944 - f1: 0.8944 - val_loss: 0.2852 - val_acc: 0.8873 - val_f1: 0.8873\n",
      "Epoch 12/100\n",
      "600/600 [==============================] - 430s 716ms/step - loss: 0.2609 - acc: 0.8964 - f1: 0.8964 - val_loss: 0.2836 - val_acc: 0.8878 - val_f1: 0.8878\n",
      "Epoch 13/100\n",
      "600/600 [==============================] - 429s 715ms/step - loss: 0.2570 - acc: 0.8973 - f1: 0.8973 - val_loss: 0.2877 - val_acc: 0.8882 - val_f1: 0.8882\n",
      "Epoch 14/100\n",
      "600/600 [==============================] - 431s 718ms/step - loss: 0.2534 - acc: 0.8982 - f1: 0.8981 - val_loss: 0.2837 - val_acc: 0.8885 - val_f1: 0.8885\n",
      "Epoch 15/100\n",
      "600/600 [==============================] - 432s 719ms/step - loss: 0.2488 - acc: 0.9002 - f1: 0.9002 - val_loss: 0.2835 - val_acc: 0.8890 - val_f1: 0.8890\n",
      "Epoch 16/100\n",
      "600/600 [==============================] - 430s 717ms/step - loss: 0.2437 - acc: 0.9020 - f1: 0.9019 - val_loss: 0.2847 - val_acc: 0.8888 - val_f1: 0.8888\n",
      "Epoch 17/100\n",
      "600/600 [==============================] - 429s 714ms/step - loss: 0.2399 - acc: 0.9032 - f1: 0.9032 - val_loss: 0.2849 - val_acc: 0.8888 - val_f1: 0.8888\n",
      "Epoch 18/100\n",
      "600/600 [==============================] - 429s 714ms/step - loss: 0.2364 - acc: 0.9048 - f1: 0.9048 - val_loss: 0.2876 - val_acc: 0.8886 - val_f1: 0.8886\n",
      "Epoch 19/100\n",
      "600/600 [==============================] - 428s 714ms/step - loss: 0.2305 - acc: 0.9063 - f1: 0.9063 - val_loss: 0.2906 - val_acc: 0.8874 - val_f1: 0.8874\n",
      "Epoch 20/100\n",
      "600/600 [==============================] - 429s 714ms/step - loss: 0.2271 - acc: 0.9073 - f1: 0.9073 - val_loss: 0.2880 - val_acc: 0.8882 - val_f1: 0.8882\n",
      "Epoch 21/100\n",
      "600/600 [==============================] - 429s 715ms/step - loss: 0.2247 - acc: 0.9090 - f1: 0.9089 - val_loss: 0.2899 - val_acc: 0.8886 - val_f1: 0.8886\n",
      "Epoch 22/100\n",
      "600/600 [==============================] - 432s 719ms/step - loss: 0.2214 - acc: 0.9095 - f1: 0.9095 - val_loss: 0.2917 - val_acc: 0.8858 - val_f1: 0.8858\n",
      "Epoch 23/100\n",
      "600/600 [==============================] - 432s 720ms/step - loss: 0.2138 - acc: 0.9130 - f1: 0.9130 - val_loss: 0.2978 - val_acc: 0.8842 - val_f1: 0.8842\n",
      "Epoch 24/100\n",
      "600/600 [==============================] - 433s 721ms/step - loss: 0.2095 - acc: 0.9140 - f1: 0.9139 - val_loss: 0.3033 - val_acc: 0.8822 - val_f1: 0.8822\n",
      "Epoch 25/100\n",
      "600/600 [==============================] - 432s 721ms/step - loss: 0.2101 - acc: 0.9141 - f1: 0.9141 - val_loss: 0.3062 - val_acc: 0.8833 - val_f1: 0.8833\n",
      "Epoch 26/100\n",
      "600/600 [==============================] - 433s 722ms/step - loss: 0.2046 - acc: 0.9160 - f1: 0.9159 - val_loss: 0.3130 - val_acc: 0.8821 - val_f1: 0.8821\n",
      "Epoch 27/100\n",
      "600/600 [==============================] - 427s 711ms/step - loss: 0.1984 - acc: 0.9175 - f1: 0.9174 - val_loss: 0.3246 - val_acc: 0.8828 - val_f1: 0.8828\n",
      "Epoch 28/100\n",
      "600/600 [==============================] - 435s 725ms/step - loss: 0.1951 - acc: 0.9176 - f1: 0.9176 - val_loss: 0.3201 - val_acc: 0.8814 - val_f1: 0.8814\n",
      "Epoch 29/100\n",
      "600/600 [==============================] - 430s 716ms/step - loss: 0.1910 - acc: 0.9204 - f1: 0.9204 - val_loss: 0.3313 - val_acc: 0.8800 - val_f1: 0.8800\n",
      "Epoch 30/100\n",
      "439/600 [====================>.........] - ETA: 1:50 - loss: 0.1847 - acc: 0.9235 - f1: 0.9235"
     ]
    },
    {
     "name": "stderr",
     "output_type": "stream",
     "text": [
      "IOPub message rate exceeded.\n",
      "The notebook server will temporarily stop sending output\n",
      "to the client in order to avoid crashing it.\n",
      "To change this limit, set the config variable\n",
      "`--NotebookApp.iopub_msg_rate_limit`.\n",
      "\n",
      "Current values:\n",
      "NotebookApp.iopub_msg_rate_limit=1000.0 (msgs/sec)\n",
      "NotebookApp.rate_limit_window=3.0 (secs)\n",
      "\n"
     ]
    },
    {
     "name": "stdout",
     "output_type": "stream",
     "text": [
      "600/600 [==============================] - 430s 717ms/step - loss: 0.1790 - acc: 0.9253 - f1: 0.9252 - val_loss: 0.3496 - val_acc: 0.8787 - val_f1: 0.8787\n",
      "Epoch 33/100\n",
      "600/600 [==============================] - 430s 716ms/step - loss: 0.1801 - acc: 0.9245 - f1: 0.9245 - val_loss: 0.3473 - val_acc: 0.8788 - val_f1: 0.8788\n",
      "Epoch 34/100\n",
      "600/600 [==============================] - 432s 720ms/step - loss: 0.1748 - acc: 0.9263 - f1: 0.9263 - val_loss: 0.3555 - val_acc: 0.8756 - val_f1: 0.8756\n",
      "Epoch 35/100\n",
      "600/600 [==============================] - 432s 720ms/step - loss: 0.1712 - acc: 0.9277 - f1: 0.9277 - val_loss: 0.3570 - val_acc: 0.8778 - val_f1: 0.8778\n",
      "Epoch 36/100\n",
      "600/600 [==============================] - 433s 722ms/step - loss: 0.1687 - acc: 0.9279 - f1: 0.9279 - val_loss: 0.3738 - val_acc: 0.8740 - val_f1: 0.8740\n",
      "Epoch 37/100\n",
      "600/600 [==============================] - 433s 722ms/step - loss: 0.1659 - acc: 0.9289 - f1: 0.9289 - val_loss: 0.3748 - val_acc: 0.8701 - val_f1: 0.8701\n",
      "Epoch 38/100\n",
      "600/600 [==============================] - 376s 627ms/step - loss: 0.1625 - acc: 0.9306 - f1: 0.9305 - val_loss: 0.3805 - val_acc: 0.8704 - val_f1: 0.8704\n",
      "Epoch 39/100\n",
      "600/600 [==============================] - 323s 538ms/step - loss: 0.1595 - acc: 0.9320 - f1: 0.9320 - val_loss: 0.3948 - val_acc: 0.8732 - val_f1: 0.8732\n",
      "Epoch 40/100\n",
      "600/600 [==============================] - 321s 536ms/step - loss: 0.1577 - acc: 0.9321 - f1: 0.9321 - val_loss: 0.3909 - val_acc: 0.8755 - val_f1: 0.8755\n",
      "Epoch 41/100\n",
      "600/600 [==============================] - 330s 549ms/step - loss: 0.1558 - acc: 0.9331 - f1: 0.9331 - val_loss: 0.3868 - val_acc: 0.8731 - val_f1: 0.8731\n",
      "Epoch 42/100\n",
      "600/600 [==============================] - 316s 527ms/step - loss: 0.1535 - acc: 0.9342 - f1: 0.9341 - val_loss: 0.4022 - val_acc: 0.8677 - val_f1: 0.8677\n",
      "Epoch 43/100\n",
      "600/600 [==============================] - 315s 525ms/step - loss: 0.1493 - acc: 0.9355 - f1: 0.9355 - val_loss: 0.4220 - val_acc: 0.8707 - val_f1: 0.8707\n",
      "Epoch 44/100\n",
      "600/600 [==============================] - 316s 526ms/step - loss: 0.1454 - acc: 0.9376 - f1: 0.9376 - val_loss: 0.4251 - val_acc: 0.8723 - val_f1: 0.8723\n",
      "Epoch 45/100\n",
      "600/600 [==============================] - 320s 533ms/step - loss: 0.1461 - acc: 0.9374 - f1: 0.9374 - val_loss: 0.4162 - val_acc: 0.8694 - val_f1: 0.8694\n",
      "Epoch 46/100\n",
      "600/600 [==============================] - 320s 534ms/step - loss: 0.1437 - acc: 0.9383 - f1: 0.9383 - val_loss: 0.4332 - val_acc: 0.8693 - val_f1: 0.8693\n",
      "Epoch 47/100\n",
      "600/600 [==============================] - 321s 535ms/step - loss: 0.1393 - acc: 0.9391 - f1: 0.9391 - val_loss: 0.4449 - val_acc: 0.8707 - val_f1: 0.8707\n",
      "Epoch 48/100\n",
      "600/600 [==============================] - 321s 535ms/step - loss: 0.1408 - acc: 0.9387 - f1: 0.9387 - val_loss: 0.4363 - val_acc: 0.8659 - val_f1: 0.8659\n",
      "Epoch 49/100\n",
      " 41/600 [=>............................] - ETA: 4:52 - loss: 0.1438 - acc: 0.9393 - f1: 0.9393"
     ]
    },
    {
     "name": "stderr",
     "output_type": "stream",
     "text": [
      "IOPub message rate exceeded.\n",
      "The notebook server will temporarily stop sending output\n",
      "to the client in order to avoid crashing it.\n",
      "To change this limit, set the config variable\n",
      "`--NotebookApp.iopub_msg_rate_limit`.\n",
      "\n",
      "Current values:\n",
      "NotebookApp.iopub_msg_rate_limit=1000.0 (msgs/sec)\n",
      "NotebookApp.rate_limit_window=3.0 (secs)\n",
      "\n"
     ]
    },
    {
     "name": "stdout",
     "output_type": "stream",
     "text": [
      "600/600 [==============================] - 320s 534ms/step - loss: 0.1371 - acc: 0.9406 - f1: 0.9406 - val_loss: 0.4438 - val_acc: 0.8689 - val_f1: 0.8689\n",
      "Epoch 51/100\n",
      "600/600 [==============================] - 317s 529ms/step - loss: 0.1348 - acc: 0.9418 - f1: 0.9417 - val_loss: 0.4617 - val_acc: 0.8705 - val_f1: 0.8705\n",
      "Epoch 52/100\n",
      "600/600 [==============================] - 313s 522ms/step - loss: 0.1332 - acc: 0.9416 - f1: 0.9416 - val_loss: 0.4566 - val_acc: 0.8686 - val_f1: 0.8686\n",
      "Epoch 53/100\n",
      "600/600 [==============================] - 314s 523ms/step - loss: 0.1313 - acc: 0.9428 - f1: 0.9428 - val_loss: 0.4769 - val_acc: 0.8667 - val_f1: 0.8667\n",
      "Epoch 54/100\n",
      "600/600 [==============================] - 316s 526ms/step - loss: 0.1290 - acc: 0.9446 - f1: 0.9446 - val_loss: 0.4847 - val_acc: 0.8621 - val_f1: 0.8621\n",
      "Epoch 55/100\n",
      "600/600 [==============================] - 320s 534ms/step - loss: 0.1275 - acc: 0.9440 - f1: 0.9440 - val_loss: 0.4710 - val_acc: 0.8629 - val_f1: 0.8629\n",
      "Epoch 56/100\n",
      "600/600 [==============================] - 178s 297ms/step - loss: 0.1264 - acc: 0.9448 - f1: 0.9448 - val_loss: 0.4893 - val_acc: 0.8695 - val_f1: 0.8695\n",
      "Epoch 58/100\n",
      "600/600 [==============================] - 175s 291ms/step - loss: 0.1221 - acc: 0.9472 - f1: 0.9472 - val_loss: 0.5003 - val_acc: 0.8679 - val_f1: 0.8679\n",
      "Epoch 59/100\n",
      "600/600 [==============================] - 176s 293ms/step - loss: 0.1239 - acc: 0.9447 - f1: 0.9446 - val_loss: 0.4862 - val_acc: 0.8667 - val_f1: 0.8667\n",
      "Epoch 60/100\n",
      "600/600 [==============================] - 174s 289ms/step - loss: 0.1228 - acc: 0.9473 - f1: 0.9473 - val_loss: 0.4966 - val_acc: 0.8690 - val_f1: 0.8690\n",
      "Epoch 61/100\n",
      "600/600 [==============================] - 178s 296ms/step - loss: 0.1202 - acc: 0.9465 - f1: 0.9465 - val_loss: 0.4976 - val_acc: 0.8652 - val_f1: 0.8652\n",
      "Epoch 62/100\n",
      " 90/600 [===>..........................] - ETA: 2:22 - loss: 0.1206 - acc: 0.9478 - f1: 0.9478"
     ]
    },
    {
     "name": "stderr",
     "output_type": "stream",
     "text": [
      "IOPub message rate exceeded.\n",
      "The notebook server will temporarily stop sending output\n",
      "to the client in order to avoid crashing it.\n",
      "To change this limit, set the config variable\n",
      "`--NotebookApp.iopub_msg_rate_limit`.\n",
      "\n",
      "Current values:\n",
      "NotebookApp.iopub_msg_rate_limit=1000.0 (msgs/sec)\n",
      "NotebookApp.rate_limit_window=3.0 (secs)\n",
      "\n"
     ]
    },
    {
     "name": "stdout",
     "output_type": "stream",
     "text": [
      "600/600 [==============================] - 178s 297ms/step - loss: 0.1144 - acc: 0.9500 - f1: 0.9500 - val_loss: 0.4963 - val_acc: 0.8686 - val_f1: 0.8686\n",
      "Epoch 72/100\n",
      "600/600 [==============================] - 176s 293ms/step - loss: 0.1095 - acc: 0.9517 - f1: 0.9517 - val_loss: 0.5010 - val_acc: 0.8668 - val_f1: 0.8668\n",
      "Epoch 73/100\n",
      "600/600 [==============================] - 178s 297ms/step - loss: 0.1087 - acc: 0.9518 - f1: 0.9518 - val_loss: 0.5434 - val_acc: 0.8674 - val_f1: 0.8674\n",
      "Epoch 74/100\n",
      "600/600 [==============================] - 176s 293ms/step - loss: 0.1083 - acc: 0.9526 - f1: 0.9525 - val_loss: 0.5189 - val_acc: 0.8652 - val_f1: 0.8652\n",
      "Epoch 75/100\n",
      "600/600 [==============================] - 178s 296ms/step - loss: 0.1062 - acc: 0.9531 - f1: 0.9530 - val_loss: 0.5315 - val_acc: 0.8654 - val_f1: 0.8654\n",
      "Epoch 76/100\n",
      "190/600 [========>.....................] - ETA: 1:54 - loss: 0.1114 - acc: 0.9523 - f1: 0.9523"
     ]
    },
    {
     "name": "stderr",
     "output_type": "stream",
     "text": [
      "IOPub message rate exceeded.\n",
      "The notebook server will temporarily stop sending output\n",
      "to the client in order to avoid crashing it.\n",
      "To change this limit, set the config variable\n",
      "`--NotebookApp.iopub_msg_rate_limit`.\n",
      "\n",
      "Current values:\n",
      "NotebookApp.iopub_msg_rate_limit=1000.0 (msgs/sec)\n",
      "NotebookApp.rate_limit_window=3.0 (secs)\n",
      "\n"
     ]
    },
    {
     "name": "stdout",
     "output_type": "stream",
     "text": [
      "600/600 [==============================] - 176s 294ms/step - loss: 0.1007 - acc: 0.9562 - f1: 0.9562 - val_loss: 0.5477 - val_acc: 0.8652 - val_f1: 0.8652\n",
      "Epoch 85/100\n",
      "600/600 [==============================] - 178s 297ms/step - loss: 0.0998 - acc: 0.9564 - f1: 0.9564 - val_loss: 0.5633 - val_acc: 0.8649 - val_f1: 0.8649\n",
      "Epoch 86/100\n",
      "600/600 [==============================] - 177s 295ms/step - loss: 0.1015 - acc: 0.9546 - f1: 0.9545 - val_loss: 0.5503 - val_acc: 0.8667 - val_f1: 0.8667\n",
      "Epoch 87/100\n",
      "600/600 [==============================] - 179s 298ms/step - loss: 0.0991 - acc: 0.9566 - f1: 0.9566 - val_loss: 0.5381 - val_acc: 0.8676 - val_f1: 0.8676\n",
      "Epoch 88/100\n",
      "600/600 [==============================] - 177s 295ms/step - loss: 0.1017 - acc: 0.9556 - f1: 0.9556 - val_loss: 0.5467 - val_acc: 0.8664 - val_f1: 0.8664\n",
      "Epoch 89/100\n",
      "307/600 [==============>...............] - ETA: 1:23 - loss: 0.0973 - acc: 0.9567 - f1: 0.9567"
     ]
    },
    {
     "name": "stderr",
     "output_type": "stream",
     "text": [
      "IOPub message rate exceeded.\n",
      "The notebook server will temporarily stop sending output\n",
      "to the client in order to avoid crashing it.\n",
      "To change this limit, set the config variable\n",
      "`--NotebookApp.iopub_msg_rate_limit`.\n",
      "\n",
      "Current values:\n",
      "NotebookApp.iopub_msg_rate_limit=1000.0 (msgs/sec)\n",
      "NotebookApp.rate_limit_window=3.0 (secs)\n",
      "\n"
     ]
    },
    {
     "name": "stdout",
     "output_type": "stream",
     "text": [
      "600/600 [==============================] - 177s 295ms/step - loss: 0.0952 - acc: 0.9582 - f1: 0.9582 - val_loss: 0.5813 - val_acc: 0.8680 - val_f1: 0.8680\n",
      "Epoch 99/100\n",
      "600/600 [==============================] - 179s 298ms/step - loss: 0.0960 - acc: 0.9582 - f1: 0.9582 - val_loss: 0.5682 - val_acc: 0.8684 - val_f1: 0.8684\n",
      "Epoch 100/100\n",
      "600/600 [==============================] - 178s 297ms/step - loss: 0.0944 - acc: 0.9585 - f1: 0.9585 - val_loss: 0.5741 - val_acc: 0.8693 - val_f1: 0.8693\n"
     ]
    },
    {
     "data": {
      "text/plain": [
       "<keras.callbacks.History at 0x7f2dbc18fbe0>"
      ]
     },
     "execution_count": 9,
     "metadata": {},
     "output_type": "execute_result"
    }
   ],
   "source": [
    "training_batches = MagnitudeUtils.batchify(x_train, y_train, BATCH_SIZE) # Split the training data into batches\n",
    "num_batches_per_epoch_train = int(np.ceil(num_training/float(BATCH_SIZE)))\n",
    "test_batches = MagnitudeUtils.batchify(x_test, y_test, BATCH_SIZE)  # Split the test data into batches\n",
    "num_batches_per_epoch_test = int(np.ceil(num_test/float(BATCH_SIZE)))\n",
    "\n",
    "\n",
    "# Generates batches of the transformed training data\n",
    "train_batch_generator = (\n",
    "  (\n",
    "    med_vectors.query(x_train_batch), # Magnitude will handle converting the 2D array of text into the 3D word vector representations!\n",
    "    MagnitudeUtils.to_categorical(y_train_batch, num_outputs) # Magnitude will handle converting the class labels into one-hot encodings!\n",
    "  ) for x_train_batch, y_train_batch in training_batches\n",
    ")\n",
    "\n",
    "# Generates batches of the transformed test data\n",
    "test_batch_generator = (\n",
    "  (\n",
    "    med_vectors.query(x_test_batch), # Magnitude will handle converting the 2D array of text into the 3D word vector representations!\n",
    "    MagnitudeUtils.to_categorical(y_test_batch, num_outputs) # Magnitude will handle converting the class labels into one-hot encodings!\n",
    "  ) for x_test_batch, y_test_batch in test_batches\n",
    ")\n",
    "\n",
    "# Start training\n",
    "model.fit_generator(\n",
    "    generator = train_batch_generator,\n",
    "    steps_per_epoch = num_batches_per_epoch_train,\n",
    "    validation_data = test_batch_generator,\n",
    "    validation_steps = num_batches_per_epoch_test,\n",
    "    epochs = EPOCHS,\n",
    ")"
   ]
  },
  {
   "cell_type": "markdown",
   "metadata": {},
   "source": [
    "## Results"
   ]
  },
  {
   "cell_type": "code",
   "execution_count": 10,
   "metadata": {},
   "outputs": [
    {
     "name": "stdout",
     "output_type": "stream",
     "text": [
      "Results after training for 100 epochs:\n",
      "loss: 0.0875 - categorical_accuracy: 0.9604 - f1: 0.9604\n",
      "val_loss: 0.5741 - val_categorical_accuracy: 0.8693 - f1: 0.8693\n"
     ]
    }
   ],
   "source": [
    "print(\"Results after training for %d epochs:\" % (EPOCHS,))\n",
    "\n",
    "train_metrics = model.evaluate_generator(\n",
    "    generator = train_batch_generator,\n",
    "    steps = num_batches_per_epoch_train,\n",
    ")\n",
    "\n",
    "print(\"loss: %.4f - categorical_accuracy: %.4f - f1: %.4f\" % tuple(train_metrics))\n",
    "\n",
    "val_metrics = model.evaluate_generator(\n",
    "    generator = test_batch_generator,\n",
    "    steps = num_batches_per_epoch_test,\n",
    ")\n",
    "\n",
    "print(\"val_loss: %.4f - val_categorical_accuracy: %.4f - f1: %.4f\" % tuple(val_metrics))"
   ]
  },
  {
   "cell_type": "markdown",
   "metadata": {},
   "source": [
    "## Conclusion"
   ]
  },
  {
   "cell_type": "code",
   "execution_count": 11,
   "metadata": {},
   "outputs": [
    {
     "data": {
      "text/plain": [
       "<Figure size 640x480 with 1 Axes>"
      ]
     },
     "metadata": {},
     "output_type": "display_data"
    },
    {
     "data": {
      "text/plain": [
       "<Figure size 640x480 with 1 Axes>"
      ]
     },
     "metadata": {},
     "output_type": "display_data"
    }
   ],
   "source": [
    "import matplotlib.pyplot as plt\n",
    "\n",
    "# Plot training & validation accuracy values\n",
    "plt.plot(model.history.history['acc'])\n",
    "plt.plot(model.history.history['val_acc'])\n",
    "plt.title('Model accuracy')\n",
    "plt.ylabel('Accuracy')\n",
    "plt.xlabel('Epoch')\n",
    "plt.legend(['Train', 'Test'], loc='upper left')\n",
    "plt.show()\n",
    "\n",
    "# Plot training & validation loss values\n",
    "plt.plot(model.history.history['loss'])\n",
    "plt.plot(model.history.history['val_loss'])\n",
    "plt.title('Model loss')\n",
    "plt.ylabel('Loss')\n",
    "plt.xlabel('Epoch')\n",
    "plt.legend(['Train', 'Test'], loc='upper left')\n",
    "plt.show()"
   ]
  },
  {
   "cell_type": "code",
   "execution_count": 12,
   "metadata": {},
   "outputs": [
    {
     "name": "stdout",
     "output_type": "stream",
     "text": [
      "['Cardiovascular', 'Other']\n",
      "[[ 781  896]\n",
      " [ 534 8729]]\n",
      "                precision    recall  f1-score   support\n",
      "\n",
      "Cardiovascular       0.59      0.47      0.52      1677\n",
      "         Other       0.91      0.94      0.92      9263\n",
      "\n",
      "   avg / total       0.86      0.87      0.86     10940\n",
      "\n"
     ]
    }
   ],
   "source": [
    "from sklearn.metrics import confusion_matrix, classification_report\n",
    "\n",
    "y_pred = np.argmax(model.predict(med_vectors.query(x_test)), axis=1)\n",
    "class_labels = [int_to_intent(y) for y in set(y_test)] \n",
    "report = classification_report(y_test, y_pred, target_names=class_labels)\n",
    "print(class_labels)\n",
    "print(confusion_matrix(y_test, y_pred))\n",
    "print(report)"
   ]
  },
  {
   "cell_type": "code",
   "execution_count": 13,
   "metadata": {},
   "outputs": [
    {
     "data": {
      "text/plain": [
       "<matplotlib.axes._subplots.AxesSubplot at 0x7f2da40767f0>"
      ]
     },
     "execution_count": 13,
     "metadata": {},
     "output_type": "execute_result"
    },
    {
     "data": {
      "image/png": "[encoded data removed]",
      "text/plain": [
       "<Figure size 432x288 with 2 Axes>"
      ]
     },
     "metadata": {},
     "output_type": "display_data"
    }
   ],
   "source": [
    "from sklearn.utils.multiclass import unique_labels\n",
    "\n",
    "def plot_confusion_matrix(y_true, y_pred, classes,\n",
    "                          title=None,\n",
    "                          cmap=plt.cm.Blues):\n",
    "    \"\"\"\n",
    "    This function prints and plots the confusion matrix.\n",
    "    Normalization can be applied by setting `normalize=True`.\n",
    "    \"\"\"\n",
    "    if not title:\n",
    "        if normalize:\n",
    "            title = 'Normalized confusion matrix'\n",
    "        else:\n",
    "            title = 'Confusion matrix, without normalization'\n",
    "\n",
    "    # Compute confusion matrix\n",
    "    cm = confusion_matrix(y_true, y_pred)\n",
    "    # Only use the labels that appear in the data\n",
    "    classes = [int_to_intent(y_class) for y_class in unique_labels(y_test, y_pred)]\n",
    "\n",
    "    fig, ax = plt.subplots()\n",
    "#     fig.set_figheight(15)\n",
    "#     fig.set_figwidth(15)\n",
    "    im = ax.imshow(cm, interpolation='nearest', cmap=cmap)\n",
    "    ax.figure.colorbar(im, ax=ax)\n",
    "    # We want to show all ticks...\n",
    "    ax.set(xticks=np.arange(cm.shape[1]),\n",
    "           yticks=np.arange(cm.shape[0]),\n",
    "           # ... and label them with the respective list entries\n",
    "           xticklabels=classes, yticklabels=classes,\n",
    "           title=title,\n",
    "           ylabel='True label',\n",
    "           xlabel='Predicted label')\n",
    "\n",
    "    # Rotate the tick labels and set their alignment.\n",
    "    plt.setp(ax.get_xticklabels(), rotation=45, ha=\"right\",\n",
    "             rotation_mode=\"anchor\")\n",
    "\n",
    "    # Loop over data dimensions and create text annotations.\n",
    "    fmt = 'd'\n",
    "    thresh = cm.max() / 2.\n",
    "    for i in range(cm.shape[0]):\n",
    "        for j in range(cm.shape[1]):\n",
    "            ax.text(j, i, format(cm[i, j], fmt),\n",
    "                    ha=\"center\", va=\"center\",\n",
    "                    color=\"white\" if cm[i, j] > thresh else \"black\")\n",
    "    fig.tight_layout()\n",
    "    return ax\n",
    "\n",
    "\n",
    "np.set_printoptions(precision=2)\n",
    "\n",
    "plot_confusion_matrix(y_test, y_pred, classes=class_labels\n",
    "                      , title='Confusion Matrix for Cardiovascular Disease LSTM Classifier')"
   ]
  },
  {
   "cell_type": "code",
   "execution_count": null,
   "metadata": {},
   "outputs": [],
   "source": []
  },
  {
   "cell_type": "code",
   "execution_count": null,
   "metadata": {},
   "outputs": [],
   "source": []
  }
 ],
 "metadata": {
  "kernelspec": {
   "display_name": "Python 3",
   "language": "python",
   "name": "python3"
  },
  "language_info": {
   "codemirror_mode": {
    "name": "ipython",
    "version": 3
   },
   "file_extension": ".py",
   "mimetype": "text/x-python",
   "name": "python",
   "nbconvert_exporter": "python",
   "pygments_lexer": "ipython3",
   "version": "3.6.5"
  }
 },
 "nbformat": 4,
 "nbformat_minor": 2
}
