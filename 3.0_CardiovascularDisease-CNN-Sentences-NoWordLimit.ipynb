{
 "cells": [
  {
   "cell_type": "code",
   "execution_count": 1,
   "metadata": {},
   "outputs": [
    {
     "name": "stdout",
     "output_type": "stream",
     "text": [
      "[nltk_data] Downloading package punkt to /home/renzeer/nltk_data...\n",
      "[nltk_data]   Package punkt is already up-to-date!\n",
      "[nltk_data] Downloading package stopwords to\n",
      "[nltk_data]     /home/renzeer/nltk_data...\n",
      "[nltk_data]   Package stopwords is already up-to-date!\n"
     ]
    },
    {
     "name": "stderr",
     "output_type": "stream",
     "text": [
      "Using TensorFlow backend.\n"
     ]
    }
   ],
   "source": [
    "# Standard python helper libraries.\n",
    "import os, sys, re, json, time, wget, csv, string, time, random\n",
    "import itertools, collections\n",
    "\n",
    "# NumPy\n",
    "import numpy as np\n",
    "\n",
    "# NLTK for NLP utils\n",
    "import nltk\n",
    "nltk.download('punkt')\n",
    "nltk.download('stopwords')\n",
    "from nltk.corpus import stopwords\n",
    "from nltk.tokenize import word_tokenize\n",
    "from nltk.stem.porter import PorterStemmer\n",
    "\n",
    "from keras import backend as K\n",
    "from keras.models import Sequential\n",
    "from keras.layers import GaussianNoise, Dropout, Dense, Embedding, MaxPool1D, GlobalMaxPool1D, Conv1D\n",
    "from keras.optimizers import Adam\n",
    "from keras.callbacks import Callback\n",
    "\n",
    "from sklearn.metrics import confusion_matrix, f1_score, precision_score, recall_score\n",
    "\n",
    "from pymagnitude import *"
   ]
  },
  {
   "cell_type": "markdown",
   "metadata": {},
   "source": [
    "# Binary Classifier for Cardiovascular Disease using a Convolutional Neural Network\n",
    "\n",
    "In this notebook, we will be building a model for classifying a sentence from an EHR note for the presence of cardiovascular disease. The model will be trained using a convoultional neural network (CNN). "
   ]
  },
  {
   "cell_type": "markdown",
   "metadata": {},
   "source": [
    "## Text Preprocessing"
   ]
  },
  {
   "cell_type": "code",
   "execution_count": 2,
   "metadata": {},
   "outputs": [
    {
     "name": "stdout",
     "output_type": "stream",
     "text": [
      "['Other', 'PAST MEDICAL HISTORY:, He has difficulty climbing stairs, difficulty with airline seats, tying shoes, used to public seating, and lifting objects off the floor.  He exercises three times a week at home and does cardio.  He has difficulty walking two blocks or five flights of stairs.  Difficulty with snoring.  He has muscle and joint pains including knee pain, back pain, foot and ankle pain, and swelling.  He has gastroesophageal reflux disease.,PAST SURGICAL HISTORY:, Includes reconstructive surgery on his right hand 13 years ago.  ,SOCIAL HISTORY:, He is currently single.  He has about ten drinks a year.  He had smoked significantly up until several months ago.  He now smokes less than three cigarettes a day.,FAMILY HISTORY:, Heart disease in both grandfathers, grandmother with stroke, and a grandmother with diabetes.  Denies obesity and hypertension in other family members.,CURRENT MEDICATIONS:, None.,ALLERGIES:,  He is allergic to Penicillin.,MISCELLANEOUS/EATING HISTORY:, He has been going to support groups for seven months with Lynn Holmberg in Greenwich and he is from Eastchester, New York and he feels that we are the appropriate program.  He had a poor experience with the Greenwich program.  Eating history, he is not an emotional eater.  Does not like sweets.  He likes big portions and carbohydrates.  He likes chicken and not steak.  He currently weighs 312 pounds.  Ideal body weight would be 170 pounds.  He is 142 pounds overweight.  If ,he lost 60% of his excess body weight that would be 84 pounds and he should weigh about 228.,REVIEW OF SYSTEMS: ,Negative for head, neck, heart, lungs, GI, GU, orthopedic, and skin.  Specifically denies chest pain, heart attack, coronary artery disease, congestive heart failure, arrhythmia, atrial fibrillation, pacemaker, high cholesterol, pulmonary embolism, high blood pressure, CVA, venous insufficiency, thrombophlebitis, asthma, shortness of breath, COPD, emphysema, sleep apnea, diabetes, leg and foot swelling, osteoarthritis, rheumatoid arthritis, hiatal hernia, peptic ulcer disease, gallstones, infected gallbladder, pancreatitis, fatty liver, hepatitis, hemorrhoids, rectal bleeding, polyps, incontinence of stool, urinary stress incontinence, or cancer.  Denies cellulitis, pseudotumor cerebri, meningitis, or encephalitis.,PHYSICAL EXAMINATION:, He is alert and oriented x 3.  Cranial nerves II-XII are intact.  Afebrile.  Vital Signs are stable.']\n",
      "['Cardiovascular', '2-D M-MODE: , ,1.  Left atrial enlargement with left atrial diameter of 4.7 cm.,2.  Normal size right and left ventricle.,3.  Normal LV systolic function with left ventricular ejection fraction of 51%.,4.  Normal LV diastolic function.,5.  No pericardial effusion.,6.  Normal morphology of aortic valve, mitral valve, tricuspid valve, and pulmonary valve.,7.  PA systolic pressure is 36 mmHg.,DOPPLER: , ,1.  Mild mitral and tricuspid regurgitation.,2.  Trace aortic and pulmonary regurgitation.']\n"
     ]
    }
   ],
   "source": [
    "ehr_notes = []\n",
    "with open('data/ehr_samples.csv', newline='') as csvfile:\n",
    "    reader = csv.DictReader(csvfile)\n",
    "    for row in reader:     \n",
    "        if int(row['SpecialtyID']) in [39, 6, 16, 37, 11, 12, 29, 26, 7, 21, 19, 10, 2, 18]:\n",
    "            continue\n",
    "        elif int(row['SpecialtyID']) != 4:\n",
    "            ehr_notes.append(['Other', row['Note']])\n",
    "        else:\n",
    "            ehr_notes.append([row['Specialty'], row['Note']])\n",
    "\n",
    "print(ehr_notes[0])\n",
    "print(ehr_notes[2])"
   ]
  },
  {
   "cell_type": "markdown",
   "metadata": {},
   "source": [
    "## Natural Langauge Processing"
   ]
  },
  {
   "cell_type": "code",
   "execution_count": 3,
   "metadata": {},
   "outputs": [
    {
     "name": "stdout",
     "output_type": "stream",
     "text": [
      "['Cardiovascular', 'return clinic 4 weeks5']\n",
      "['Other', 'biceps tendon nonsubluxable']\n"
     ]
    }
   ],
   "source": [
    "ehr_sentences = []\n",
    "for record in ehr_notes:\n",
    "    sent_text = nltk.sent_tokenize(record[1])\n",
    "    for sent in sent_text:\n",
    "        tokens = word_tokenize(sent)\n",
    "\n",
    "        # convert to lower case\n",
    "        tokens = [w.lower() for w in tokens]\n",
    "\n",
    "        # remove punctuation from each word\n",
    "        table = str.maketrans('', '', string.punctuation)\n",
    "        tokens = [w.translate(table) for w in tokens]\n",
    "\n",
    "        # filter out stop words\n",
    "        stop_words = set(stopwords.words('english'))\n",
    "        tokens = [w for w in tokens if not w in stop_words]\n",
    "\n",
    "#         # stem words\n",
    "#         porter = PorterStemmer()\n",
    "#         tokens = [porter.stem(word) for word in tokens]\n",
    "\n",
    "        # remove blanks\n",
    "        tokens = [w for w in tokens if w != '']\n",
    "\n",
    "        ehr_sentences.append([record[0], ' '.join(tokens)])\n",
    "\n",
    "random.Random(4).shuffle(ehr_sentences)\n",
    "\n",
    "print(ehr_sentences[0])\n",
    "print(ehr_sentences[1])"
   ]
  },
  {
   "cell_type": "markdown",
   "metadata": {},
   "source": [
    "## Word Embedding\n",
    "\n",
    "The first step is to load in our word embedding, which is trained on text from Wikipedia, Pubmed, and Pubmed Central. We load our word embedding through a tool called Magnitude. A full exploration of the word embedding and Magnitude can be found in the Introduction notebook."
   ]
  },
  {
   "cell_type": "code",
   "execution_count": 4,
   "metadata": {},
   "outputs": [],
   "source": [
    "notes = list(np.array(ehr_sentences)[:,1])\n",
    "lengths = [len(note.split(' ')) for note in notes]\n",
    "MAX_WORDS = max(lengths) # The maximum number of words the sequence model will consider\n",
    "med_vectors = Magnitude(\"data/wikipedia-pubmed-and-PMC-w2v.magnitude\", pad_to_length=MAX_WORDS)"
   ]
  },
  {
   "cell_type": "markdown",
   "metadata": {},
   "source": [
    "## Defining our Training and Test Data\n",
    "\n",
    "Before we can start building our neural networks, we first have to define our datasets. Specifically, we have to break up our EHR data so that we have records that we can train on and records that are exclusively used to test on. Maintaining a separate set for testing ensures we avoid overfitting our data.\n",
    "\n",
    "We will use some built-in functions provided by Magnitude that helps encode our classes/categories. We then partition our data into our train and test sets. For each set we have both data and labels. Initially, we will be making these partitions small to make iterating through model development much quicker. However, once the models are developed, we will expand our datasets to include all of our data. To ensure we defined our data correctly, we can print a few lines from the two sets."
   ]
  },
  {
   "cell_type": "code",
   "execution_count": 5,
   "metadata": {},
   "outputs": [
    {
     "data": {
      "text/plain": [
       "70941"
      ]
     },
     "execution_count": 5,
     "metadata": {},
     "output_type": "execute_result"
    }
   ],
   "source": [
    "len(ehr_sentences)"
   ]
  },
  {
   "cell_type": "code",
   "execution_count": 6,
   "metadata": {},
   "outputs": [
    {
     "name": "stdout",
     "output_type": "stream",
     "text": [
      "Cardiovascular\n",
      "First line of train/test data:\n",
      "\t ['return', 'clinic', '4', 'weeks5']\n",
      "\t 0 Cardiovascular\n",
      "\t ['smokes', 'one', 'pack', 'per', 'day']\n",
      "\t 0 Cardiovascular\n",
      "Second line of train/test data:\n",
      "\t ['biceps', 'tendon', 'nonsubluxable']\n",
      "\t 1 Other\n",
      "\t ['denies', 'illicit', 'drug', 'use', 'family', 'history', 'parents', 'died', 'myocardial', 'infarctions']\n",
      "\t 1 Other\n"
     ]
    }
   ],
   "source": [
    "add_intent, intent_to_int, int_to_intent = MagnitudeUtils.class_encoding()\n",
    "\n",
    "x_train = [ehr_sent[1].split(' ') for ehr_sent in ehr_sentences[:60000]]\n",
    "x_test = [ehr_sent[1].split(' ') for ehr_sent in ehr_sentences[60001:]]\n",
    "\n",
    "y_train = [add_intent(ehr_sent[0]) for ehr_sent in ehr_sentences[:60000]]\n",
    "y_test = [add_intent(ehr_sent[0]) for ehr_sent in ehr_sentences[60001:]]\n",
    "\n",
    "y_train = list(np.array(y_train).reshape(len(y_train)))\n",
    "y_test = list(np.array(y_test).reshape(len(y_test)))\n",
    "\n",
    "num_training = len(x_train)\n",
    "num_test = len(x_test)\n",
    "num_outputs = int(max(max(y_train), max(y_test))) + 1\n",
    "\n",
    "print(int_to_intent(0))\n",
    "\n",
    "print(\"First line of train/test data:\")\n",
    "print(\"\\t\", x_train[0])\n",
    "print(\"\\t\", y_train[0], int_to_intent(y_train[0]))\n",
    "print(\"\\t\", x_test[0])\n",
    "print(\"\\t\", y_test[0], int_to_intent(y_test[0]))\n",
    "print(\"Second line of train/test data:\")\n",
    "print(\"\\t\", x_train[1])\n",
    "print(\"\\t\", y_train[1], int_to_intent(y_train[1]))\n",
    "print(\"\\t\", x_test[1])\n",
    "print(\"\\t\", y_test[1], int_to_intent(y_test[1]))"
   ]
  },
  {
   "cell_type": "markdown",
   "metadata": {},
   "source": [
    "## Defining Custom Callback Function"
   ]
  },
  {
   "cell_type": "code",
   "execution_count": 7,
   "metadata": {},
   "outputs": [],
   "source": [
    "def f1(y_true, y_pred):\n",
    "    def recall(y_true, y_pred):\n",
    "        \"\"\"Recall metric.\n",
    "\n",
    "        Only computes a batch-wise average of recall.\n",
    "\n",
    "        Computes the recall, a metric for multi-label classification of\n",
    "        how many relevant items are selected.\n",
    "        \"\"\"\n",
    "        true_positives = K.sum(K.round(K.clip(y_true * y_pred, 0, 1)))\n",
    "        possible_positives = K.sum(K.round(K.clip(y_true, 0, 1)))\n",
    "        recall = true_positives / (possible_positives + K.epsilon())\n",
    "        return recall\n",
    "\n",
    "    def precision(y_true, y_pred):\n",
    "        \"\"\"Precision metric.\n",
    "\n",
    "        Only computes a batch-wise average of precision.\n",
    "\n",
    "        Computes the precision, a metric for multi-label classification of\n",
    "        how many selected items are relevant.\n",
    "        \"\"\"\n",
    "        true_positives = K.sum(K.round(K.clip(y_true * y_pred, 0, 1)))\n",
    "        predicted_positives = K.sum(K.round(K.clip(y_pred, 0, 1)))\n",
    "        precision = true_positives / (predicted_positives + K.epsilon())\n",
    "        return precision\n",
    "    \n",
    "    precision = precision(y_true, y_pred)\n",
    "    recall = recall(y_true, y_pred)\n",
    "    return 2*((precision*recall)/(precision+recall+K.epsilon()))"
   ]
  },
  {
   "cell_type": "markdown",
   "metadata": {},
   "source": [
    "## Defining Model"
   ]
  },
  {
   "cell_type": "code",
   "execution_count": 8,
   "metadata": {},
   "outputs": [
    {
     "name": "stdout",
     "output_type": "stream",
     "text": [
      "_________________________________________________________________\n",
      "Layer (type)                 Output Shape              Param #   \n",
      "=================================================================\n",
      "gaussian_noise_1 (GaussianNo (None, 163, 200)          0         \n",
      "_________________________________________________________________\n",
      "conv1d_1 (Conv1D)            (None, 163, 128)          179328    \n",
      "_________________________________________________________________\n",
      "max_pooling1d_1 (MaxPooling1 (None, 81, 128)           0         \n",
      "_________________________________________________________________\n",
      "conv1d_2 (Conv1D)            (None, 81, 128)           114816    \n",
      "_________________________________________________________________\n",
      "global_max_pooling1d_1 (Glob (None, 128)               0         \n",
      "_________________________________________________________________\n",
      "dropout_1 (Dropout)          (None, 128)               0         \n",
      "_________________________________________________________________\n",
      "dense_1 (Dense)              (None, 64)                8256      \n",
      "_________________________________________________________________\n",
      "dense_2 (Dense)              (None, 2)                 130       \n",
      "=================================================================\n",
      "Total params: 302,530\n",
      "Trainable params: 302,530\n",
      "Non-trainable params: 0\n",
      "_________________________________________________________________\n"
     ]
    }
   ],
   "source": [
    "STD_DEV = 0.01 # Deviation of noise for Gaussian Noise applied to the embeddings\n",
    "DROPOUT_RATIO = .5 # The ratio to dropout\n",
    "BATCH_SIZE = 100 # The number of examples per train/validation step\n",
    "EPOCHS = 100 # The number of times to repeat through all of the training data\n",
    "LEARNING_RATE = .01 # The learning rate for the optimizer\n",
    "NUM_FILTERS = 128\n",
    "\n",
    "model = Sequential()\n",
    "model.add(GaussianNoise(STD_DEV, input_shape=(MAX_WORDS, med_vectors.dim)))\n",
    "model.add(Conv1D(NUM_FILTERS, 7, activation='relu', padding='same'))\n",
    "model.add(MaxPool1D(2))\n",
    "model.add(Conv1D(NUM_FILTERS, 7, activation='relu', padding='same'))\n",
    "model.add(GlobalMaxPool1D())\n",
    "model.add(Dropout(DROPOUT_RATIO))\n",
    "model.add(Dense(64, activation='relu'))\n",
    "model.add(Dense(num_outputs, activation='softmax'))\n",
    "model.compile(optimizer='adam',\n",
    "              loss='binary_crossentropy',\n",
    "              metrics=['accuracy', f1])\n",
    "model.summary()"
   ]
  },
  {
   "cell_type": "markdown",
   "metadata": {},
   "source": [
    "## Training Batches and Epochs"
   ]
  },
  {
   "cell_type": "code",
   "execution_count": 9,
   "metadata": {},
   "outputs": [
    {
     "name": "stdout",
     "output_type": "stream",
     "text": [
      "Epoch 1/100\n",
      "600/600 [==============================] - 1242s 2s/step - loss: 0.3301 - acc: 0.8679 - f1: 0.8679 - val_loss: 0.3014 - val_acc: 0.8830 - val_f1: 0.8830\n",
      "Epoch 2/100\n",
      "600/600 [==============================] - 157s 262ms/step - loss: 0.2780 - acc: 0.8897 - f1: 0.8897 - val_loss: 0.2835 - val_acc: 0.8856 - val_f1: 0.8856\n",
      "Epoch 3/100\n",
      "600/600 [==============================] - 157s 261ms/step - loss: 0.2399 - acc: 0.9039 - f1: 0.9039 - val_loss: 0.2863 - val_acc: 0.8846 - val_f1: 0.8846\n",
      "Epoch 4/100\n",
      "600/600 [==============================] - 161s 268ms/step - loss: 0.2039 - acc: 0.9158 - f1: 0.9158 - val_loss: 0.3061 - val_acc: 0.8794 - val_f1: 0.8794\n",
      "Epoch 5/100\n",
      "600/600 [==============================] - 158s 263ms/step - loss: 0.1748 - acc: 0.9256 - f1: 0.9256 - val_loss: 0.3321 - val_acc: 0.8618 - val_f1: 0.8618\n",
      "Epoch 6/100\n",
      "600/600 [==============================] - 158s 264ms/step - loss: 0.1576 - acc: 0.9328 - f1: 0.9328 - val_loss: 0.3645 - val_acc: 0.8385 - val_f1: 0.8385\n",
      "Epoch 7/100\n",
      "600/600 [==============================] - 160s 266ms/step - loss: 0.1477 - acc: 0.9359 - f1: 0.9359 - val_loss: 0.3731 - val_acc: 0.8591 - val_f1: 0.8591\n",
      "Epoch 8/100\n",
      "600/600 [==============================] - 159s 265ms/step - loss: 0.1336 - acc: 0.9432 - f1: 0.9432 - val_loss: 0.4143 - val_acc: 0.8679 - val_f1: 0.8679\n",
      "Epoch 9/100\n",
      "600/600 [==============================] - 156s 260ms/step - loss: 0.1225 - acc: 0.9467 - f1: 0.9467 - val_loss: 0.4705 - val_acc: 0.8729 - val_f1: 0.8729\n",
      "Epoch 10/100\n",
      "600/600 [==============================] - 160s 266ms/step - loss: 0.1152 - acc: 0.9497 - f1: 0.9497 - val_loss: 0.4695 - val_acc: 0.8585 - val_f1: 0.8585\n",
      "Epoch 11/100\n",
      "600/600 [==============================] - 157s 262ms/step - loss: 0.1121 - acc: 0.9506 - f1: 0.9506 - val_loss: 0.4588 - val_acc: 0.8531 - val_f1: 0.8531\n",
      "Epoch 12/100\n",
      "600/600 [==============================] - 159s 265ms/step - loss: 0.1072 - acc: 0.9524 - f1: 0.9523 - val_loss: 0.5217 - val_acc: 0.8526 - val_f1: 0.8526\n",
      "Epoch 13/100\n",
      "600/600 [==============================] - 157s 261ms/step - loss: 0.1049 - acc: 0.9531 - f1: 0.9530 - val_loss: 0.5268 - val_acc: 0.8619 - val_f1: 0.8619\n",
      "Epoch 14/100\n",
      "600/600 [==============================] - 158s 263ms/step - loss: 0.0960 - acc: 0.9557 - f1: 0.9557 - val_loss: 0.5750 - val_acc: 0.8522 - val_f1: 0.8522\n",
      "Epoch 16/100\n",
      "600/600 [==============================] - 158s 264ms/step - loss: 0.0954 - acc: 0.9555 - f1: 0.9555 - val_loss: 0.5723 - val_acc: 0.8590 - val_f1: 0.8590\n",
      "Epoch 17/100\n",
      "600/600 [==============================] - 157s 262ms/step - loss: 0.0918 - acc: 0.9570 - f1: 0.9570 - val_loss: 0.5990 - val_acc: 0.8622 - val_f1: 0.8622\n",
      "Epoch 18/100\n",
      "600/600 [==============================] - 159s 266ms/step - loss: 0.0899 - acc: 0.9576 - f1: 0.9576 - val_loss: 0.6814 - val_acc: 0.8659 - val_f1: 0.8659\n",
      "Epoch 19/100\n",
      "600/600 [==============================] - 157s 261ms/step - loss: 0.0867 - acc: 0.9584 - f1: 0.9584 - val_loss: 0.6356 - val_acc: 0.8664 - val_f1: 0.8664\n",
      "Epoch 20/100\n",
      "600/600 [==============================] - 159s 265ms/step - loss: 0.0879 - acc: 0.9573 - f1: 0.9573 - val_loss: 0.7700 - val_acc: 0.8686 - val_f1: 0.8686\n",
      "Epoch 21/100\n",
      "600/600 [==============================] - 159s 265ms/step - loss: 0.0825 - acc: 0.9586 - f1: 0.9586 - val_loss: 0.6931 - val_acc: 0.8676 - val_f1: 0.8676\n",
      "Epoch 23/100\n",
      "600/600 [==============================] - 160s 267ms/step - loss: 0.0845 - acc: 0.9581 - f1: 0.9581 - val_loss: 0.7408 - val_acc: 0.8667 - val_f1: 0.8667\n",
      "Epoch 24/100\n",
      "600/600 [==============================] - 158s 264ms/step - loss: 0.0803 - acc: 0.9606 - f1: 0.9606 - val_loss: 0.7934 - val_acc: 0.8693 - val_f1: 0.8693\n",
      "Epoch 25/100\n",
      "600/600 [==============================] - 157s 262ms/step - loss: 0.0807 - acc: 0.9594 - f1: 0.9594 - val_loss: 0.7315 - val_acc: 0.8637 - val_f1: 0.8637\n",
      "Epoch 26/100\n",
      "600/600 [==============================] - 160s 267ms/step - loss: 0.0788 - acc: 0.9610 - f1: 0.9610 - val_loss: 0.7605 - val_acc: 0.8664 - val_f1: 0.8664\n",
      "Epoch 27/100\n",
      "148/600 [======>.......................] - ETA: 1:50 - loss: 0.0762 - acc: 0.9616 - f1: 0.9616"
     ]
    },
    {
     "name": "stderr",
     "output_type": "stream",
     "text": [
      "IOPub message rate exceeded.\n",
      "The notebook server will temporarily stop sending output\n",
      "to the client in order to avoid crashing it.\n",
      "To change this limit, set the config variable\n",
      "`--NotebookApp.iopub_msg_rate_limit`.\n",
      "\n",
      "Current values:\n",
      "NotebookApp.iopub_msg_rate_limit=1000.0 (msgs/sec)\n",
      "NotebookApp.rate_limit_window=3.0 (secs)\n",
      "\n"
     ]
    },
    {
     "name": "stdout",
     "output_type": "stream",
     "text": [
      "600/600 [==============================] - 158s 263ms/step - loss: 0.0760 - acc: 0.9616 - f1: 0.9616 - val_loss: 0.7272 - val_acc: 0.8623 - val_f1: 0.8623\n",
      "Epoch 29/100\n",
      "600/600 [==============================] - 159s 265ms/step - loss: 0.0757 - acc: 0.9610 - f1: 0.9610 - val_loss: 0.7417 - val_acc: 0.8612 - val_f1: 0.8612\n",
      "Epoch 30/100\n",
      "600/600 [==============================] - 157s 262ms/step - loss: 0.0768 - acc: 0.9607 - f1: 0.9607 - val_loss: 0.7611 - val_acc: 0.8626 - val_f1: 0.8626\n",
      "Epoch 31/100\n",
      "600/600 [==============================] - 156s 260ms/step - loss: 0.0739 - acc: 0.9618 - f1: 0.9618 - val_loss: 0.8083 - val_acc: 0.8635 - val_f1: 0.8635\n",
      "Epoch 32/100\n",
      "600/600 [==============================] - 158s 264ms/step - loss: 0.0729 - acc: 0.9619 - f1: 0.9619 - val_loss: 0.8112 - val_acc: 0.8597 - val_f1: 0.8597\n",
      "Epoch 33/100\n",
      "600/600 [==============================] - 156s 260ms/step - loss: 0.0733 - acc: 0.9621 - f1: 0.9621 - val_loss: 0.8128 - val_acc: 0.8664 - val_f1: 0.8664\n",
      "Epoch 34/100\n",
      "600/600 [==============================] - 159s 266ms/step - loss: 0.0727 - acc: 0.9614 - f1: 0.9614 - val_loss: 0.8212 - val_acc: 0.8691 - val_f1: 0.8691\n",
      "Epoch 35/100\n",
      "600/600 [==============================] - 157s 262ms/step - loss: 0.0700 - acc: 0.9632 - f1: 0.9632 - val_loss: 0.8768 - val_acc: 0.8661 - val_f1: 0.8661\n",
      "Epoch 36/100\n",
      "600/600 [==============================] - 158s 264ms/step - loss: 0.0706 - acc: 0.9625 - f1: 0.9625 - val_loss: 0.8947 - val_acc: 0.8682 - val_f1: 0.8682\n",
      "Epoch 37/100\n",
      "600/600 [==============================] - 160s 267ms/step - loss: 0.0698 - acc: 0.9629 - f1: 0.9628 - val_loss: 0.8589 - val_acc: 0.8654 - val_f1: 0.8654\n",
      "Epoch 38/100\n",
      "600/600 [==============================] - 158s 264ms/step - loss: 0.0690 - acc: 0.9629 - f1: 0.9629 - val_loss: 0.9828 - val_acc: 0.8702 - val_f1: 0.8702\n",
      "Epoch 39/100\n",
      "600/600 [==============================] - 157s 262ms/step - loss: 0.0706 - acc: 0.9623 - f1: 0.9623 - val_loss: 0.8844 - val_acc: 0.8651 - val_f1: 0.8651\n",
      "Epoch 40/100\n",
      "600/600 [==============================] - 160s 266ms/step - loss: 0.0687 - acc: 0.9632 - f1: 0.9632 - val_loss: 0.8961 - val_acc: 0.8670 - val_f1: 0.8670\n",
      "Epoch 41/100\n",
      "600/600 [==============================] - 157s 262ms/step - loss: 0.0674 - acc: 0.9634 - f1: 0.9634 - val_loss: 0.9679 - val_acc: 0.8691 - val_f1: 0.8691\n",
      "Epoch 42/100\n",
      "600/600 [==============================] - 159s 265ms/step - loss: 0.0665 - acc: 0.9644 - f1: 0.9644 - val_loss: 0.9183 - val_acc: 0.8678 - val_f1: 0.8678\n",
      "Epoch 43/100\n",
      "600/600 [==============================] - 157s 261ms/step - loss: 0.0658 - acc: 0.9649 - f1: 0.9649 - val_loss: 0.9377 - val_acc: 0.8683 - val_f1: 0.8683\n",
      "Epoch 44/100\n",
      "600/600 [==============================] - 158s 264ms/step - loss: 0.0669 - acc: 0.9636 - f1: 0.9636 - val_loss: 0.9112 - val_acc: 0.8680 - val_f1: 0.8680\n",
      "Epoch 45/100\n",
      "600/600 [==============================] - 160s 267ms/step - loss: 0.0675 - acc: 0.9635 - f1: 0.9635 - val_loss: 0.9305 - val_acc: 0.8686 - val_f1: 0.8686\n",
      "Epoch 46/100\n",
      "600/600 [==============================] - 157s 261ms/step - loss: 0.0662 - acc: 0.9638 - f1: 0.9638 - val_loss: 0.9162 - val_acc: 0.8629 - val_f1: 0.8629\n",
      "Epoch 47/100\n",
      "600/600 [==============================] - 157s 261ms/step - loss: 0.0652 - acc: 0.9650 - f1: 0.9650 - val_loss: 0.9223 - val_acc: 0.8657 - val_f1: 0.8657\n",
      "Epoch 48/100\n",
      "600/600 [==============================] - 158s 264ms/step - loss: 0.0652 - acc: 0.9639 - f1: 0.9639 - val_loss: 0.9464 - val_acc: 0.8636 - val_f1: 0.8636\n",
      "Epoch 49/100\n",
      "600/600 [==============================] - 157s 262ms/step - loss: 0.0657 - acc: 0.9639 - f1: 0.9639 - val_loss: 0.9405 - val_acc: 0.8689 - val_f1: 0.8689\n",
      "Epoch 50/100\n",
      "600/600 [==============================] - 157s 262ms/step - loss: 0.0650 - acc: 0.9644 - f1: 0.9644 - val_loss: 0.9662 - val_acc: 0.8683 - val_f1: 0.8683\n",
      "Epoch 51/100\n",
      "600/600 [==============================] - 160s 267ms/step - loss: 0.0627 - acc: 0.9646 - f1: 0.9646 - val_loss: 0.9929 - val_acc: 0.8653 - val_f1: 0.8653\n",
      "Epoch 52/100\n",
      "600/600 [==============================] - 157s 261ms/step - loss: 0.0631 - acc: 0.9656 - f1: 0.9656 - val_loss: 0.9676 - val_acc: 0.8668 - val_f1: 0.8668\n",
      "Epoch 53/100\n",
      "600/600 [==============================] - 160s 266ms/step - loss: 0.0659 - acc: 0.9639 - f1: 0.9639 - val_loss: 0.8969 - val_acc: 0.8651 - val_f1: 0.8651\n",
      "Epoch 54/100\n",
      "600/600 [==============================] - 157s 262ms/step - loss: 0.0631 - acc: 0.9653 - f1: 0.9653 - val_loss: 0.9613 - val_acc: 0.8644 - val_f1: 0.8644\n",
      "Epoch 55/100\n",
      "600/600 [==============================] - 157s 261ms/step - loss: 0.0627 - acc: 0.9645 - f1: 0.9644 - val_loss: 1.0075 - val_acc: 0.8655 - val_f1: 0.8655\n",
      "Epoch 56/100\n",
      "600/600 [==============================] - 160s 267ms/step - loss: 0.0636 - acc: 0.9637 - f1: 0.9637 - val_loss: 0.9750 - val_acc: 0.8638 - val_f1: 0.8638\n",
      "Epoch 57/100\n",
      "600/600 [==============================] - 159s 265ms/step - loss: 0.0620 - acc: 0.9645 - f1: 0.9645 - val_loss: 0.9617 - val_acc: 0.8635 - val_f1: 0.8635\n",
      "Epoch 58/100\n",
      "600/600 [==============================] - 157s 261ms/step - loss: 0.0621 - acc: 0.9653 - f1: 0.9653 - val_loss: 1.0093 - val_acc: 0.8670 - val_f1: 0.8670\n",
      "Epoch 59/100\n",
      "600/600 [==============================] - 161s 268ms/step - loss: 0.0617 - acc: 0.9660 - f1: 0.9660 - val_loss: 1.0229 - val_acc: 0.8645 - val_f1: 0.8645\n",
      "Epoch 60/100\n",
      "600/600 [==============================] - 157s 262ms/step - loss: 0.0610 - acc: 0.9653 - f1: 0.9653 - val_loss: 1.0148 - val_acc: 0.8674 - val_f1: 0.8674\n",
      "Epoch 61/100\n",
      "600/600 [==============================] - 160s 266ms/step - loss: 0.0638 - acc: 0.9640 - f1: 0.9640 - val_loss: 0.9967 - val_acc: 0.8692 - val_f1: 0.8692\n",
      "Epoch 62/100\n",
      "600/600 [==============================] - 156s 260ms/step - loss: 0.0608 - acc: 0.9655 - f1: 0.9655 - val_loss: 1.0009 - val_acc: 0.8654 - val_f1: 0.8654\n",
      "Epoch 63/100\n",
      "600/600 [==============================] - 159s 265ms/step - loss: 0.0617 - acc: 0.9648 - f1: 0.9647 - val_loss: 1.0033 - val_acc: 0.8665 - val_f1: 0.8665\n",
      "Epoch 64/100\n",
      "600/600 [==============================] - 159s 265ms/step - loss: 0.0619 - acc: 0.9649 - f1: 0.9649 - val_loss: 1.0372 - val_acc: 0.8671 - val_f1: 0.8671\n",
      "Epoch 65/100\n",
      "600/600 [==============================] - 158s 264ms/step - loss: 0.0609 - acc: 0.9658 - f1: 0.9658 - val_loss: 1.0463 - val_acc: 0.8648 - val_f1: 0.8648\n",
      "Epoch 66/100\n",
      "600/600 [==============================] - 157s 262ms/step - loss: 0.0613 - acc: 0.9650 - f1: 0.9650 - val_loss: 1.0325 - val_acc: 0.8665 - val_f1: 0.8665\n",
      "Epoch 67/100\n",
      "600/600 [==============================] - 160s 267ms/step - loss: 0.0605 - acc: 0.9648 - f1: 0.9648 - val_loss: 1.0425 - val_acc: 0.8670 - val_f1: 0.8670\n",
      "Epoch 68/100\n",
      "600/600 [==============================] - 157s 262ms/step - loss: 0.0611 - acc: 0.9651 - f1: 0.9651 - val_loss: 0.9974 - val_acc: 0.8680 - val_f1: 0.8680\n",
      "Epoch 69/100\n",
      "600/600 [==============================] - 158s 263ms/step - loss: 0.0609 - acc: 0.9661 - f1: 0.9661 - val_loss: 1.0186 - val_acc: 0.8664 - val_f1: 0.8664\n",
      "Epoch 70/100\n",
      "600/600 [==============================] - 158s 264ms/step - loss: 0.0597 - acc: 0.9652 - f1: 0.9652 - val_loss: 1.0961 - val_acc: 0.8649 - val_f1: 0.8649\n",
      "Epoch 71/100\n",
      "517/600 [========================>.....] - ETA: 20s - loss: 0.0602 - acc: 0.9648 - f1: 0.9648"
     ]
    },
    {
     "name": "stderr",
     "output_type": "stream",
     "text": [
      "IOPub message rate exceeded.\n",
      "The notebook server will temporarily stop sending output\n",
      "to the client in order to avoid crashing it.\n",
      "To change this limit, set the config variable\n",
      "`--NotebookApp.iopub_msg_rate_limit`.\n",
      "\n",
      "Current values:\n",
      "NotebookApp.iopub_msg_rate_limit=1000.0 (msgs/sec)\n",
      "NotebookApp.rate_limit_window=3.0 (secs)\n",
      "\n"
     ]
    },
    {
     "name": "stdout",
     "output_type": "stream",
     "text": [
      "600/600 [==============================] - 155s 258ms/step - loss: 0.0596 - acc: 0.9657 - f1: 0.9657 - val_loss: 1.0621 - val_acc: 0.8682 - val_f1: 0.8682\n",
      "Epoch 74/100\n",
      "600/600 [==============================] - 157s 262ms/step - loss: 0.0602 - acc: 0.9657 - f1: 0.9657 - val_loss: 1.0328 - val_acc: 0.8661 - val_f1: 0.8661\n",
      "Epoch 75/100\n",
      "600/600 [==============================] - 160s 266ms/step - loss: 0.0589 - acc: 0.9657 - f1: 0.9657 - val_loss: 1.1133 - val_acc: 0.8665 - val_f1: 0.8665\n",
      "Epoch 76/100\n",
      "600/600 [==============================] - 157s 262ms/step - loss: 0.0593 - acc: 0.9659 - f1: 0.9659 - val_loss: 1.0653 - val_acc: 0.8679 - val_f1: 0.8679\n",
      "Epoch 77/100\n",
      "600/600 [==============================] - 157s 262ms/step - loss: 0.0592 - acc: 0.9654 - f1: 0.9654 - val_loss: 1.0739 - val_acc: 0.8671 - val_f1: 0.8671\n",
      "Epoch 78/100\n",
      "321/600 [===============>..............] - ETA: 1:10 - loss: 0.0578 - acc: 0.9666 - f1: 0.9666"
     ]
    },
    {
     "name": "stderr",
     "output_type": "stream",
     "text": [
      "IOPub message rate exceeded.\n",
      "The notebook server will temporarily stop sending output\n",
      "to the client in order to avoid crashing it.\n",
      "To change this limit, set the config variable\n",
      "`--NotebookApp.iopub_msg_rate_limit`.\n",
      "\n",
      "Current values:\n",
      "NotebookApp.iopub_msg_rate_limit=1000.0 (msgs/sec)\n",
      "NotebookApp.rate_limit_window=3.0 (secs)\n",
      "\n"
     ]
    },
    {
     "name": "stdout",
     "output_type": "stream",
     "text": [
      "600/600 [==============================] - 157s 262ms/step - loss: 0.0586 - acc: 0.9659 - f1: 0.9659 - val_loss: 1.0079 - val_acc: 0.8648 - val_f1: 0.8648\n",
      "Epoch 81/100\n",
      "600/600 [==============================] - 159s 266ms/step - loss: 0.0596 - acc: 0.9652 - f1: 0.9652 - val_loss: 0.9935 - val_acc: 0.8627 - val_f1: 0.8627\n",
      "Epoch 82/100\n",
      "600/600 [==============================] - 157s 262ms/step - loss: 0.0575 - acc: 0.9663 - f1: 0.9663 - val_loss: 0.9765 - val_acc: 0.8665 - val_f1: 0.8665\n",
      "Epoch 83/100\n",
      "600/600 [==============================] - 158s 264ms/step - loss: 0.0600 - acc: 0.9659 - f1: 0.9659 - val_loss: 1.0602 - val_acc: 0.8696 - val_f1: 0.8696\n",
      "Epoch 84/100\n",
      "600/600 [==============================] - 158s 263ms/step - loss: 0.0571 - acc: 0.9661 - f1: 0.9661 - val_loss: 1.0570 - val_acc: 0.8663 - val_f1: 0.8663\n",
      "Epoch 85/100\n",
      "139/600 [=====>........................] - ETA: 1:53 - loss: 0.0572 - acc: 0.9652 - f1: 0.9652"
     ]
    },
    {
     "name": "stderr",
     "output_type": "stream",
     "text": [
      "IOPub message rate exceeded.\n",
      "The notebook server will temporarily stop sending output\n",
      "to the client in order to avoid crashing it.\n",
      "To change this limit, set the config variable\n",
      "`--NotebookApp.iopub_msg_rate_limit`.\n",
      "\n",
      "Current values:\n",
      "NotebookApp.iopub_msg_rate_limit=1000.0 (msgs/sec)\n",
      "NotebookApp.rate_limit_window=3.0 (secs)\n",
      "\n"
     ]
    },
    {
     "name": "stdout",
     "output_type": "stream",
     "text": [
      "600/600 [==============================] - 157s 261ms/step - loss: 0.0586 - acc: 0.9658 - f1: 0.9658 - val_loss: 1.0982 - val_acc: 0.8654 - val_f1: 0.8654\n",
      "Epoch 87/100\n",
      "600/600 [==============================] - 157s 262ms/step - loss: 0.0581 - acc: 0.9661 - f1: 0.9661 - val_loss: 1.0719 - val_acc: 0.8594 - val_f1: 0.8594\n",
      "Epoch 88/100\n",
      "600/600 [==============================] - 157s 262ms/step - loss: 0.0577 - acc: 0.9665 - f1: 0.9665 - val_loss: 1.0762 - val_acc: 0.8628 - val_f1: 0.8628\n",
      "Epoch 89/100\n",
      "600/600 [==============================] - 159s 266ms/step - loss: 0.0567 - acc: 0.9672 - f1: 0.9672 - val_loss: 1.0375 - val_acc: 0.8639 - val_f1: 0.8639\n",
      "Epoch 90/100\n",
      "600/600 [==============================] - 158s 263ms/step - loss: 0.0577 - acc: 0.9665 - f1: 0.9665 - val_loss: 1.1314 - val_acc: 0.8673 - val_f1: 0.8673\n",
      "Epoch 91/100\n",
      "600/600 [==============================] - 160s 267ms/step - loss: 0.0580 - acc: 0.9655 - f1: 0.9655 - val_loss: 1.1047 - val_acc: 0.8655 - val_f1: 0.8655\n",
      "Epoch 92/100\n",
      "600/600 [==============================] - 157s 261ms/step - loss: 0.0577 - acc: 0.9663 - f1: 0.9663 - val_loss: 1.0720 - val_acc: 0.8649 - val_f1: 0.8649\n",
      "Epoch 93/100\n",
      "162/600 [=======>......................] - ETA: 1:48 - loss: 0.0555 - acc: 0.9675 - f1: 0.9675"
     ]
    },
    {
     "name": "stderr",
     "output_type": "stream",
     "text": [
      "IOPub message rate exceeded.\n",
      "The notebook server will temporarily stop sending output\n",
      "to the client in order to avoid crashing it.\n",
      "To change this limit, set the config variable\n",
      "`--NotebookApp.iopub_msg_rate_limit`.\n",
      "\n",
      "Current values:\n",
      "NotebookApp.iopub_msg_rate_limit=1000.0 (msgs/sec)\n",
      "NotebookApp.rate_limit_window=3.0 (secs)\n",
      "\n"
     ]
    },
    {
     "name": "stdout",
     "output_type": "stream",
     "text": [
      "600/600 [==============================] - 161s 269ms/step - loss: 0.0568 - acc: 0.9670 - f1: 0.9670 - val_loss: 1.0593 - val_acc: 0.8669 - val_f1: 0.8669\n",
      "Epoch 95/100\n",
      "600/600 [==============================] - 158s 264ms/step - loss: 0.0581 - acc: 0.9662 - f1: 0.9662 - val_loss: 1.0934 - val_acc: 0.8638 - val_f1: 0.8638\n",
      "Epoch 96/100\n",
      "600/600 [==============================] - 157s 262ms/step - loss: 0.0559 - acc: 0.9671 - f1: 0.9671 - val_loss: 1.1695 - val_acc: 0.8659 - val_f1: 0.8659\n",
      "Epoch 97/100\n",
      "600/600 [==============================] - 159s 265ms/step - loss: 0.0573 - acc: 0.9658 - f1: 0.9658 - val_loss: 1.1058 - val_acc: 0.8661 - val_f1: 0.8661\n",
      "Epoch 98/100\n",
      "600/600 [==============================] - 156s 260ms/step - loss: 0.0572 - acc: 0.9667 - f1: 0.9666 - val_loss: 1.1661 - val_acc: 0.8649 - val_f1: 0.8649\n",
      "Epoch 99/100\n",
      "600/600 [==============================] - 159s 264ms/step - loss: 0.0580 - acc: 0.9666 - f1: 0.9666 - val_loss: 1.1277 - val_acc: 0.8694 - val_f1: 0.8694\n",
      "Epoch 100/100\n",
      "600/600 [==============================] - 160s 267ms/step - loss: 0.0573 - acc: 0.9657 - f1: 0.9656 - val_loss: 1.1614 - val_acc: 0.8692 - val_f1: 0.8692\n"
     ]
    },
    {
     "data": {
      "text/plain": [
       "<keras.callbacks.History at 0x7f4e58c7e2b0>"
      ]
     },
     "execution_count": 9,
     "metadata": {},
     "output_type": "execute_result"
    }
   ],
   "source": [
    "training_batches = MagnitudeUtils.batchify(x_train, y_train, BATCH_SIZE) # Split the training data into batches\n",
    "num_batches_per_epoch_train = int(np.ceil(num_training/float(BATCH_SIZE)))\n",
    "test_batches = MagnitudeUtils.batchify(x_test, y_test, BATCH_SIZE)  # Split the test data into batches\n",
    "num_batches_per_epoch_test = int(np.ceil(num_test/float(BATCH_SIZE)))\n",
    "\n",
    "\n",
    "# Generates batches of the transformed training data\n",
    "train_batch_generator = (\n",
    "  (\n",
    "    med_vectors.query(x_train_batch), # Magnitude will handle converting the 2D array of text into the 3D word vector representations!\n",
    "    MagnitudeUtils.to_categorical(y_train_batch, num_outputs) # Magnitude will handle converting the class labels into one-hot encodings!\n",
    "  ) for x_train_batch, y_train_batch in training_batches\n",
    ")\n",
    "\n",
    "# Generates batches of the transformed test data\n",
    "test_batch_generator = (\n",
    "  (\n",
    "    med_vectors.query(x_test_batch), # Magnitude will handle converting the 2D array of text into the 3D word vector representations!\n",
    "    MagnitudeUtils.to_categorical(y_test_batch, num_outputs) # Magnitude will handle converting the class labels into one-hot encodings!\n",
    "  ) for x_test_batch, y_test_batch in test_batches\n",
    ")\n",
    "\n",
    "# Start training\n",
    "model.fit_generator(\n",
    "    generator = train_batch_generator,\n",
    "    steps_per_epoch = num_batches_per_epoch_train,\n",
    "    validation_data = test_batch_generator,\n",
    "    validation_steps = num_batches_per_epoch_test,\n",
    "    epochs = EPOCHS,\n",
    ")"
   ]
  },
  {
   "cell_type": "markdown",
   "metadata": {},
   "source": [
    "## Results"
   ]
  },
  {
   "cell_type": "code",
   "execution_count": 10,
   "metadata": {},
   "outputs": [
    {
     "name": "stdout",
     "output_type": "stream",
     "text": [
      "Results after training for 100 epochs:\n",
      "loss: 0.0509 - categorical_accuracy: 0.9680 - f1: 0.9680\n",
      "val_loss: 1.1614 - val_categorical_accuracy: 0.8692 - f1: 0.8692\n"
     ]
    }
   ],
   "source": [
    "print(\"Results after training for %d epochs:\" % (EPOCHS,))\n",
    "\n",
    "train_metrics = model.evaluate_generator(\n",
    "    generator = train_batch_generator,\n",
    "    steps = num_batches_per_epoch_train,\n",
    ")\n",
    "\n",
    "print(\"loss: %.4f - categorical_accuracy: %.4f - f1: %.4f\" % tuple(train_metrics))\n",
    "\n",
    "val_metrics = model.evaluate_generator(\n",
    "    generator = test_batch_generator,\n",
    "    steps = num_batches_per_epoch_test,\n",
    ")\n",
    "\n",
    "print(\"val_loss: %.4f - val_categorical_accuracy: %.4f - f1: %.4f\" % tuple(val_metrics))"
   ]
  },
  {
   "cell_type": "markdown",
   "metadata": {},
   "source": [
    "## Conclusion"
   ]
  },
  {
   "cell_type": "code",
   "execution_count": 11,
   "metadata": {},
   "outputs": [
    {
     "data": {
      "text/plain": [
       "<Figure size 640x480 with 1 Axes>"
      ]
     },
     "metadata": {},
     "output_type": "display_data"
    },
    {
     "data": {
      "text/plain": [
       "<Figure size 640x480 with 1 Axes>"
      ]
     },
     "metadata": {},
     "output_type": "display_data"
    }
   ],
   "source": [
    "import matplotlib.pyplot as plt\n",
    "\n",
    "# Plot training & validation accuracy values\n",
    "plt.plot(model.history.history['acc'])\n",
    "plt.plot(model.history.history['val_acc'])\n",
    "plt.title('Model accuracy')\n",
    "plt.ylabel('Accuracy')\n",
    "plt.xlabel('Epoch')\n",
    "plt.legend(['Train', 'Test'], loc='upper left')\n",
    "plt.show()\n",
    "\n",
    "# Plot training & validation loss values\n",
    "plt.plot(model.history.history['loss'])\n",
    "plt.plot(model.history.history['val_loss'])\n",
    "plt.title('Model loss')\n",
    "plt.ylabel('Loss')\n",
    "plt.xlabel('Epoch')\n",
    "plt.legend(['Train', 'Test'], loc='upper left')\n",
    "plt.show()"
   ]
  },
  {
   "cell_type": "code",
   "execution_count": 14,
   "metadata": {},
   "outputs": [
    {
     "name": "stdout",
     "output_type": "stream",
     "text": [
      "['Cardiovascular', 'Other']\n",
      "[[ 692  985]\n",
      " [ 446 8817]]\n",
      "                precision    recall  f1-score   support\n",
      "\n",
      "Cardiovascular       0.61      0.41      0.49      1677\n",
      "         Other       0.90      0.95      0.92      9263\n",
      "\n",
      "   avg / total       0.85      0.87      0.86     10940\n",
      "\n"
     ]
    }
   ],
   "source": [
    "from sklearn.metrics import confusion_matrix, classification_report\n",
    "\n",
    "y_pred = np.argmax(model.predict(med_vectors.query(x_test)), axis=1)\n",
    "class_labels = [int_to_intent(y) for y in set(y_test)] \n",
    "report = classification_report(y_test, y_pred, target_names=class_labels)\n",
    "print(class_labels)\n",
    "print(confusion_matrix(y_test, y_pred))\n",
    "print(report)"
   ]
  },
  {
   "cell_type": "code",
   "execution_count": 13,
   "metadata": {},
   "outputs": [
    {
     "data": {
      "text/plain": [
       "<matplotlib.axes._subplots.AxesSubplot at 0x7f4e49808cf8>"
      ]
     },
     "execution_count": 13,
     "metadata": {},
     "output_type": "execute_result"
    },
    {
     "data": {
      "image/png": "[encoded data removed]",
      "text/plain": [
       "<Figure size 432x288 with 2 Axes>"
      ]
     },
     "metadata": {},
     "output_type": "display_data"
    }
   ],
   "source": [
    "from sklearn.utils.multiclass import unique_labels\n",
    "\n",
    "def plot_confusion_matrix(y_true, y_pred, classes,\n",
    "                          title=None,\n",
    "                          cmap=plt.cm.Blues):\n",
    "    \"\"\"\n",
    "    This function prints and plots the confusion matrix.\n",
    "    Normalization can be applied by setting `normalize=True`.\n",
    "    \"\"\"\n",
    "    if not title:\n",
    "        if normalize:\n",
    "            title = 'Normalized confusion matrix'\n",
    "        else:\n",
    "            title = 'Confusion matrix, without normalization'\n",
    "\n",
    "    # Compute confusion matrix\n",
    "    cm = confusion_matrix(y_true, y_pred)\n",
    "    # Only use the labels that appear in the data\n",
    "    classes = [int_to_intent(y_class) for y_class in unique_labels(y_test, y_pred)]\n",
    "\n",
    "    fig, ax = plt.subplots()\n",
    "#     fig.set_figheight(15)\n",
    "#     fig.set_figwidth(15)\n",
    "    im = ax.imshow(cm, interpolation='nearest', cmap=cmap)\n",
    "    ax.figure.colorbar(im, ax=ax)\n",
    "    # We want to show all ticks...\n",
    "    ax.set(xticks=np.arange(cm.shape[1]),\n",
    "           yticks=np.arange(cm.shape[0]),\n",
    "           # ... and label them with the respective list entries\n",
    "           xticklabels=classes, yticklabels=classes,\n",
    "           title=title,\n",
    "           ylabel='True label',\n",
    "           xlabel='Predicted label')\n",
    "\n",
    "    # Rotate the tick labels and set their alignment.\n",
    "    plt.setp(ax.get_xticklabels(), rotation=45, ha=\"right\",\n",
    "             rotation_mode=\"anchor\")\n",
    "\n",
    "    # Loop over data dimensions and create text annotations.\n",
    "    fmt = 'd'\n",
    "    thresh = cm.max() / 2.\n",
    "    for i in range(cm.shape[0]):\n",
    "        for j in range(cm.shape[1]):\n",
    "            ax.text(j, i, format(cm[i, j], fmt),\n",
    "                    ha=\"center\", va=\"center\",\n",
    "                    color=\"white\" if cm[i, j] > thresh else \"black\")\n",
    "    fig.tight_layout()\n",
    "    return ax\n",
    "\n",
    "\n",
    "np.set_printoptions(precision=2)\n",
    "\n",
    "plot_confusion_matrix(y_test, y_pred, classes=class_labels\n",
    "                      , title='Confusion Matrix for Cardiovascular Disease CNN Classifier')"
   ]
  },
  {
   "cell_type": "code",
   "execution_count": null,
   "metadata": {},
   "outputs": [],
   "source": []
  }
 ],
 "metadata": {
  "kernelspec": {
   "display_name": "Python 3",
   "language": "python",
   "name": "python3"
  },
  "language_info": {
   "codemirror_mode": {
    "name": "ipython",
    "version": 3
   },
   "file_extension": ".py",
   "mimetype": "text/x-python",
   "name": "python",
   "nbconvert_exporter": "python",
   "pygments_lexer": "ipython3",
   "version": "3.6.5"
  }
 },
 "nbformat": 4,
 "nbformat_minor": 2
}
