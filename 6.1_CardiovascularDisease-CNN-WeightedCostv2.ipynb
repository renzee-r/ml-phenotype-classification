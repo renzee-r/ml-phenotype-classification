{
 "cells": [
  {
   "cell_type": "code",
   "execution_count": 1,
   "metadata": {},
   "outputs": [
    {
     "name": "stdout",
     "output_type": "stream",
     "text": [
      "[nltk_data] Downloading package punkt to /home/renzeer/nltk_data...\n",
      "[nltk_data]   Package punkt is already up-to-date!\n",
      "[nltk_data] Downloading package stopwords to\n",
      "[nltk_data]     /home/renzeer/nltk_data...\n",
      "[nltk_data]   Package stopwords is already up-to-date!\n"
     ]
    },
    {
     "name": "stderr",
     "output_type": "stream",
     "text": [
      "Using TensorFlow backend.\n"
     ]
    }
   ],
   "source": [
    "# Standard python helper libraries.\n",
    "import os, sys, re, json, time, wget, csv, string, time, random\n",
    "import itertools, collections\n",
    "\n",
    "# NumPy\n",
    "import numpy as np\n",
    "\n",
    "# NLTK for NLP utils\n",
    "import nltk\n",
    "nltk.download('punkt')\n",
    "nltk.download('stopwords')\n",
    "from nltk.corpus import stopwords\n",
    "from nltk.tokenize import word_tokenize\n",
    "from nltk.stem.porter import PorterStemmer\n",
    "\n",
    "from keras import backend as K\n",
    "from keras.models import Sequential\n",
    "from keras.layers import GaussianNoise, Dropout, Dense, Embedding, MaxPool1D, GlobalMaxPool1D, Conv1D\n",
    "from keras.optimizers import Adam\n",
    "from keras.callbacks import Callback\n",
    "\n",
    "from sklearn.metrics import confusion_matrix, f1_score, precision_score, recall_score\n",
    "\n",
    "from pymagnitude import *"
   ]
  },
  {
   "cell_type": "markdown",
   "metadata": {},
   "source": [
    "# Binary Classifier for Cardiovascular Disease using a Convolutional Neural Network\n",
    "\n",
    "In this notebook, we will be building a model for classifying a sentence from an EHR note for the presence of cardiovascular disease. The model will be trained using a convoultional neural network (CNN). "
   ]
  },
  {
   "cell_type": "markdown",
   "metadata": {},
   "source": [
    "## Text Preprocessing"
   ]
  },
  {
   "cell_type": "code",
   "execution_count": 2,
   "metadata": {},
   "outputs": [
    {
     "name": "stdout",
     "output_type": "stream",
     "text": [
      "['Other', 'PAST MEDICAL HISTORY:, He has difficulty climbing stairs, difficulty with airline seats, tying shoes, used to public seating, and lifting objects off the floor.  He exercises three times a week at home and does cardio.  He has difficulty walking two blocks or five flights of stairs.  Difficulty with snoring.  He has muscle and joint pains including knee pain, back pain, foot and ankle pain, and swelling.  He has gastroesophageal reflux disease.,PAST SURGICAL HISTORY:, Includes reconstructive surgery on his right hand 13 years ago.  ,SOCIAL HISTORY:, He is currently single.  He has about ten drinks a year.  He had smoked significantly up until several months ago.  He now smokes less than three cigarettes a day.,FAMILY HISTORY:, Heart disease in both grandfathers, grandmother with stroke, and a grandmother with diabetes.  Denies obesity and hypertension in other family members.,CURRENT MEDICATIONS:, None.,ALLERGIES:,  He is allergic to Penicillin.,MISCELLANEOUS/EATING HISTORY:, He has been going to support groups for seven months with Lynn Holmberg in Greenwich and he is from Eastchester, New York and he feels that we are the appropriate program.  He had a poor experience with the Greenwich program.  Eating history, he is not an emotional eater.  Does not like sweets.  He likes big portions and carbohydrates.  He likes chicken and not steak.  He currently weighs 312 pounds.  Ideal body weight would be 170 pounds.  He is 142 pounds overweight.  If ,he lost 60% of his excess body weight that would be 84 pounds and he should weigh about 228.,REVIEW OF SYSTEMS: ,Negative for head, neck, heart, lungs, GI, GU, orthopedic, and skin.  Specifically denies chest pain, heart attack, coronary artery disease, congestive heart failure, arrhythmia, atrial fibrillation, pacemaker, high cholesterol, pulmonary embolism, high blood pressure, CVA, venous insufficiency, thrombophlebitis, asthma, shortness of breath, COPD, emphysema, sleep apnea, diabetes, leg and foot swelling, osteoarthritis, rheumatoid arthritis, hiatal hernia, peptic ulcer disease, gallstones, infected gallbladder, pancreatitis, fatty liver, hepatitis, hemorrhoids, rectal bleeding, polyps, incontinence of stool, urinary stress incontinence, or cancer.  Denies cellulitis, pseudotumor cerebri, meningitis, or encephalitis.,PHYSICAL EXAMINATION:, He is alert and oriented x 3.  Cranial nerves II-XII are intact.  Afebrile.  Vital Signs are stable.']\n",
      "['Cardiovascular', '2-D M-MODE: , ,1.  Left atrial enlargement with left atrial diameter of 4.7 cm.,2.  Normal size right and left ventricle.,3.  Normal LV systolic function with left ventricular ejection fraction of 51%.,4.  Normal LV diastolic function.,5.  No pericardial effusion.,6.  Normal morphology of aortic valve, mitral valve, tricuspid valve, and pulmonary valve.,7.  PA systolic pressure is 36 mmHg.,DOPPLER: , ,1.  Mild mitral and tricuspid regurgitation.,2.  Trace aortic and pulmonary regurgitation.']\n"
     ]
    }
   ],
   "source": [
    "ehr_notes = []\n",
    "with open('data/ehr_samples.csv', newline='') as csvfile:\n",
    "    reader = csv.DictReader(csvfile)\n",
    "    for row in reader:     \n",
    "        if int(row['SpecialtyID']) in [39, 6, 16, 37, 11, 12, 29, 26, 7, 21, 19, 10, 2, 18]:\n",
    "            continue\n",
    "        elif int(row['SpecialtyID']) != 4:\n",
    "            ehr_notes.append(['Other', row['Note']])\n",
    "        else:\n",
    "            ehr_notes.append([row['Specialty'], row['Note']])\n",
    "\n",
    "print(ehr_notes[0])\n",
    "print(ehr_notes[2])"
   ]
  },
  {
   "cell_type": "markdown",
   "metadata": {},
   "source": [
    "## Natural Langauge Processing"
   ]
  },
  {
   "cell_type": "code",
   "execution_count": 3,
   "metadata": {},
   "outputs": [
    {
     "name": "stdout",
     "output_type": "stream",
     "text": [
      "['Cardiovascular', 'return clinic 4 weeks5']\n",
      "['Other', 'biceps tendon nonsubluxable']\n"
     ]
    }
   ],
   "source": [
    "ehr_sentences = []\n",
    "for record in ehr_notes:\n",
    "    sent_text = nltk.sent_tokenize(record[1])\n",
    "    for sent in sent_text:\n",
    "        tokens = word_tokenize(sent)\n",
    "\n",
    "        # convert to lower case\n",
    "        tokens = [w.lower() for w in tokens]\n",
    "\n",
    "        # remove punctuation from each word\n",
    "        table = str.maketrans('', '', string.punctuation)\n",
    "        tokens = [w.translate(table) for w in tokens]\n",
    "\n",
    "        # filter out stop words\n",
    "        stop_words = set(stopwords.words('english'))\n",
    "        tokens = [w for w in tokens if not w in stop_words]\n",
    "\n",
    "#         # stem words\n",
    "#         porter = PorterStemmer()\n",
    "#         tokens = [porter.stem(word) for word in tokens]\n",
    "\n",
    "        # remove blanks\n",
    "        tokens = [w for w in tokens if w != '']\n",
    "\n",
    "        ehr_sentences.append([record[0], ' '.join(tokens)])\n",
    "\n",
    "random.Random(4).shuffle(ehr_sentences)\n",
    "\n",
    "print(ehr_sentences[0])\n",
    "print(ehr_sentences[1])"
   ]
  },
  {
   "cell_type": "markdown",
   "metadata": {},
   "source": [
    "## Word Embedding\n",
    "\n",
    "The first step is to load in our word embedding, which is trained on text from Wikipedia, Pubmed, and Pubmed Central. We load our word embedding through a tool called Magnitude. A full exploration of the word embedding and Magnitude can be found in the Introduction notebook."
   ]
  },
  {
   "cell_type": "code",
   "execution_count": 4,
   "metadata": {},
   "outputs": [],
   "source": [
    "med_vectors = Magnitude(\"data/wikipedia-pubmed-and-PMC-w2v.magnitude\", pad_to_length=30)"
   ]
  },
  {
   "cell_type": "markdown",
   "metadata": {},
   "source": [
    "## Defining our Training and Test Data\n",
    "\n",
    "Before we can start building our neural networks, we first have to define our datasets. Specifically, we have to break up our EHR data so that we have records that we can train on and records that are exclusively used to test on. Maintaining a separate set for testing ensures we avoid overfitting our data.\n",
    "\n",
    "We will use some built-in functions provided by Magnitude that helps encode our classes/categories. We then partition our data into our train and test sets. For each set we have both data and labels. Initially, we will be making these partitions small to make iterating through model development much quicker. However, once the models are developed, we will expand our datasets to include all of our data. To ensure we defined our data correctly, we can print a few lines from the two sets."
   ]
  },
  {
   "cell_type": "code",
   "execution_count": 5,
   "metadata": {},
   "outputs": [
    {
     "data": {
      "text/plain": [
       "70941"
      ]
     },
     "execution_count": 5,
     "metadata": {},
     "output_type": "execute_result"
    }
   ],
   "source": [
    "len(ehr_sentences)"
   ]
  },
  {
   "cell_type": "code",
   "execution_count": 6,
   "metadata": {},
   "outputs": [
    {
     "name": "stdout",
     "output_type": "stream",
     "text": [
      "Cardiovascular\n",
      "First line of train/test data:\n",
      "\t ['return', 'clinic', '4', 'weeks5']\n",
      "\t 0 Cardiovascular\n",
      "\t ['smokes', 'one', 'pack', 'per', 'day']\n",
      "\t 0 Cardiovascular\n",
      "Second line of train/test data:\n",
      "\t ['biceps', 'tendon', 'nonsubluxable']\n",
      "\t 1 Other\n",
      "\t ['denies', 'illicit', 'drug', 'use', 'family', 'history', 'parents', 'died', 'myocardial', 'infarctions']\n",
      "\t 1 Other\n"
     ]
    }
   ],
   "source": [
    "add_intent, intent_to_int, int_to_intent = MagnitudeUtils.class_encoding()\n",
    "\n",
    "x_train = [ehr_sent[1].split(' ') for ehr_sent in ehr_sentences[:60000]]\n",
    "x_test = [ehr_sent[1].split(' ') for ehr_sent in ehr_sentences[60001:]]\n",
    "\n",
    "y_train = [add_intent(ehr_sent[0]) for ehr_sent in ehr_sentences[:60000]]\n",
    "y_test = [add_intent(ehr_sent[0]) for ehr_sent in ehr_sentences[60001:]]\n",
    "\n",
    "y_train = list(np.array(y_train).reshape(len(y_train)))\n",
    "y_test = list(np.array(y_test).reshape(len(y_test)))\n",
    "\n",
    "num_training = len(x_train)\n",
    "num_test = len(x_test)\n",
    "num_outputs = int(max(max(y_train), max(y_test))) + 1\n",
    "\n",
    "print(int_to_intent(0))\n",
    "\n",
    "print(\"First line of train/test data:\")\n",
    "print(\"\\t\", x_train[0])\n",
    "print(\"\\t\", y_train[0], int_to_intent(y_train[0]))\n",
    "print(\"\\t\", x_test[0])\n",
    "print(\"\\t\", y_test[0], int_to_intent(y_test[0]))\n",
    "print(\"Second line of train/test data:\")\n",
    "print(\"\\t\", x_train[1])\n",
    "print(\"\\t\", y_train[1], int_to_intent(y_train[1]))\n",
    "print(\"\\t\", x_test[1])\n",
    "print(\"\\t\", y_test[1], int_to_intent(y_test[1]))"
   ]
  },
  {
   "cell_type": "markdown",
   "metadata": {},
   "source": [
    "## Defining Custom Callback Function"
   ]
  },
  {
   "cell_type": "code",
   "execution_count": 7,
   "metadata": {},
   "outputs": [],
   "source": [
    "def f1(y_true, y_pred):\n",
    "    def recall(y_true, y_pred):\n",
    "        \"\"\"Recall metric.\n",
    "\n",
    "        Only computes a batch-wise average of recall.\n",
    "\n",
    "        Computes the recall, a metric for multi-label classification of\n",
    "        how many relevant items are selected.\n",
    "        \"\"\"\n",
    "        true_positives = K.sum(K.round(K.clip(y_true * y_pred, 0, 1)))\n",
    "        possible_positives = K.sum(K.round(K.clip(y_true, 0, 1)))\n",
    "        recall = true_positives / (possible_positives + K.epsilon())\n",
    "        return recall\n",
    "\n",
    "    def precision(y_true, y_pred):\n",
    "        \"\"\"Precision metric.\n",
    "\n",
    "        Only computes a batch-wise average of precision.\n",
    "\n",
    "        Computes the precision, a metric for multi-label classification of\n",
    "        how many selected items are relevant.\n",
    "        \"\"\"\n",
    "        true_positives = K.sum(K.round(K.clip(y_true * y_pred, 0, 1)))\n",
    "        predicted_positives = K.sum(K.round(K.clip(y_pred, 0, 1)))\n",
    "        precision = true_positives / (predicted_positives + K.epsilon())\n",
    "        return precision\n",
    "    \n",
    "    precision = precision(y_true, y_pred)\n",
    "    recall = recall(y_true, y_pred)\n",
    "    return 2*((precision*recall)/(precision+recall+K.epsilon()))"
   ]
  },
  {
   "cell_type": "markdown",
   "metadata": {},
   "source": [
    "## Defining Model"
   ]
  },
  {
   "cell_type": "code",
   "execution_count": 8,
   "metadata": {},
   "outputs": [
    {
     "name": "stdout",
     "output_type": "stream",
     "text": [
      "_________________________________________________________________\n",
      "Layer (type)                 Output Shape              Param #   \n",
      "=================================================================\n",
      "gaussian_noise_1 (GaussianNo (None, 30, 200)           0         \n",
      "_________________________________________________________________\n",
      "conv1d_1 (Conv1D)            (None, 30, 128)           179328    \n",
      "_________________________________________________________________\n",
      "max_pooling1d_1 (MaxPooling1 (None, 15, 128)           0         \n",
      "_________________________________________________________________\n",
      "conv1d_2 (Conv1D)            (None, 15, 128)           114816    \n",
      "_________________________________________________________________\n",
      "global_max_pooling1d_1 (Glob (None, 128)               0         \n",
      "_________________________________________________________________\n",
      "dropout_1 (Dropout)          (None, 128)               0         \n",
      "_________________________________________________________________\n",
      "dense_1 (Dense)              (None, 64)                8256      \n",
      "_________________________________________________________________\n",
      "dense_2 (Dense)              (None, 2)                 130       \n",
      "=================================================================\n",
      "Total params: 302,530\n",
      "Trainable params: 302,530\n",
      "Non-trainable params: 0\n",
      "_________________________________________________________________\n"
     ]
    }
   ],
   "source": [
    "MAX_WORDS = 30 # The maximum number of words the sequence model will consider\n",
    "STD_DEV = 0.01 # Deviation of noise for Gaussian Noise applied to the embeddings\n",
    "DROPOUT_RATIO = .5 # The ratio to dropout\n",
    "BATCH_SIZE = 100 # The number of examples per train/validation step\n",
    "EPOCHS = 100 # The number of times to repeat through all of the training data\n",
    "LEARNING_RATE = .01 # The learning rate for the optimizer\n",
    "NUM_FILTERS = 128\n",
    "\n",
    "model = Sequential()\n",
    "model.add(GaussianNoise(STD_DEV, input_shape=(MAX_WORDS, med_vectors.dim)))\n",
    "model.add(Conv1D(NUM_FILTERS, 7, activation='relu', padding='same'))\n",
    "model.add(MaxPool1D(2))\n",
    "model.add(Conv1D(NUM_FILTERS, 7, activation='relu', padding='same'))\n",
    "model.add(GlobalMaxPool1D())\n",
    "model.add(Dropout(DROPOUT_RATIO))\n",
    "model.add(Dense(64, activation='relu'))\n",
    "model.add(Dense(num_outputs, activation='softmax'))\n",
    "model.compile(optimizer='adam',\n",
    "              loss='binary_crossentropy',\n",
    "              metrics=['accuracy', f1])\n",
    "model.summary()"
   ]
  },
  {
   "cell_type": "markdown",
   "metadata": {},
   "source": [
    "## Training Batches and Epochs"
   ]
  },
  {
   "cell_type": "code",
   "execution_count": 9,
   "metadata": {},
   "outputs": [
    {
     "name": "stdout",
     "output_type": "stream",
     "text": [
      "Epoch 1/100\n",
      "600/600 [==============================] - 408s 680ms/step - loss: 1.5550 - acc: 0.4216 - f1: 0.4216 - val_loss: 1.0688 - val_acc: 0.3720 - val_f1: 0.3720\n",
      "Epoch 2/100\n",
      "600/600 [==============================] - 23s 38ms/step - loss: 1.3236 - acc: 0.5656 - f1: 0.5656 - val_loss: 0.8899 - val_acc: 0.5145 - val_f1: 0.5145\n",
      "Epoch 3/100\n",
      "600/600 [==============================] - 23s 38ms/step - loss: 1.1171 - acc: 0.6612 - f1: 0.6612 - val_loss: 0.8001 - val_acc: 0.6031 - val_f1: 0.6031\n",
      "Epoch 4/100\n",
      "600/600 [==============================] - 23s 38ms/step - loss: 0.9397 - acc: 0.7310 - f1: 0.7309 - val_loss: 0.6986 - val_acc: 0.6925 - val_f1: 0.6925\n",
      "Epoch 5/100\n",
      "600/600 [==============================] - 23s 38ms/step - loss: 0.8362 - acc: 0.7673 - f1: 0.7673 - val_loss: 0.7000 - val_acc: 0.6905 - val_f1: 0.6905\n",
      "Epoch 6/100\n",
      "600/600 [==============================] - 24s 41ms/step - loss: 0.7437 - acc: 0.7988 - f1: 0.7988 - val_loss: 0.7981 - val_acc: 0.6654 - val_f1: 0.6654\n",
      "Epoch 7/100\n",
      "600/600 [==============================] - 23s 38ms/step - loss: 0.6745 - acc: 0.8221 - f1: 0.8221 - val_loss: 0.6753 - val_acc: 0.7406 - val_f1: 0.7406\n",
      "Epoch 8/100\n",
      "600/600 [==============================] - 23s 38ms/step - loss: 0.6116 - acc: 0.8391 - f1: 0.8391 - val_loss: 0.5859 - val_acc: 0.7867 - val_f1: 0.7867\n",
      "Epoch 9/100\n",
      "600/600 [==============================] - 23s 38ms/step - loss: 0.5665 - acc: 0.8553 - f1: 0.8553 - val_loss: 0.6769 - val_acc: 0.7493 - val_f1: 0.7493\n",
      "Epoch 10/100\n",
      "600/600 [==============================] - 23s 38ms/step - loss: 0.5470 - acc: 0.8604 - f1: 0.8604 - val_loss: 0.6174 - val_acc: 0.7803 - val_f1: 0.7803\n",
      "Epoch 11/100\n",
      "600/600 [==============================] - 23s 38ms/step - loss: 0.5325 - acc: 0.8625 - f1: 0.8625 - val_loss: 0.5886 - val_acc: 0.8010 - val_f1: 0.8010\n",
      "Epoch 12/100\n",
      "600/600 [==============================] - 23s 38ms/step - loss: 0.5321 - acc: 0.8673 - f1: 0.8673 - val_loss: 0.6665 - val_acc: 0.7721 - val_f1: 0.7721\n",
      "Epoch 13/100\n",
      "600/600 [==============================] - 23s 38ms/step - loss: 0.4844 - acc: 0.8777 - f1: 0.8777 - val_loss: 0.6646 - val_acc: 0.7748 - val_f1: 0.7748\n",
      "Epoch 14/100\n",
      "600/600 [==============================] - 23s 38ms/step - loss: 0.4721 - acc: 0.8822 - f1: 0.8822 - val_loss: 0.6804 - val_acc: 0.7898 - val_f1: 0.7898\n",
      "Epoch 15/100\n",
      "600/600 [==============================] - 23s 38ms/step - loss: 0.4758 - acc: 0.8794 - f1: 0.8794 - val_loss: 0.6458 - val_acc: 0.7819 - val_f1: 0.7819\n",
      "Epoch 16/100\n",
      "600/600 [==============================] - 23s 38ms/step - loss: 0.4533 - acc: 0.8875 - f1: 0.8875 - val_loss: 0.6354 - val_acc: 0.8030 - val_f1: 0.8030\n",
      "Epoch 17/100\n",
      "600/600 [==============================] - 24s 39ms/step - loss: 0.4543 - acc: 0.8869 - f1: 0.8869 - val_loss: 0.6116 - val_acc: 0.7941 - val_f1: 0.7941\n",
      "Epoch 18/100\n",
      "600/600 [==============================] - 23s 38ms/step - loss: 0.4325 - acc: 0.8920 - f1: 0.8920 - val_loss: 0.6258 - val_acc: 0.8034 - val_f1: 0.8034\n",
      "Epoch 19/100\n",
      "600/600 [==============================] - 24s 40ms/step - loss: 0.4260 - acc: 0.8948 - f1: 0.8948 - val_loss: 0.6977 - val_acc: 0.7723 - val_f1: 0.7723\n",
      "Epoch 20/100\n",
      "600/600 [==============================] - 23s 38ms/step - loss: 0.4125 - acc: 0.8989 - f1: 0.8989 - val_loss: 0.6516 - val_acc: 0.8103 - val_f1: 0.8103\n",
      "Epoch 21/100\n",
      "600/600 [==============================] - 23s 38ms/step - loss: 0.4069 - acc: 0.8997 - f1: 0.8996 - val_loss: 0.6322 - val_acc: 0.8104 - val_f1: 0.8104\n",
      "Epoch 22/100\n",
      "600/600 [==============================] - 23s 38ms/step - loss: 0.4047 - acc: 0.9010 - f1: 0.9009 - val_loss: 0.6666 - val_acc: 0.8024 - val_f1: 0.8024\n",
      "Epoch 23/100\n",
      "600/600 [==============================] - 23s 38ms/step - loss: 0.4066 - acc: 0.8995 - f1: 0.8995 - val_loss: 0.6390 - val_acc: 0.8061 - val_f1: 0.8061\n",
      "Epoch 24/100\n",
      "600/600 [==============================] - 23s 38ms/step - loss: 0.3950 - acc: 0.9032 - f1: 0.9031 - val_loss: 0.6427 - val_acc: 0.8239 - val_f1: 0.8239\n",
      "Epoch 25/100\n",
      "600/600 [==============================] - 23s 38ms/step - loss: 0.3739 - acc: 0.9069 - f1: 0.9069 - val_loss: 0.6174 - val_acc: 0.8218 - val_f1: 0.8218\n",
      "Epoch 26/100\n",
      "600/600 [==============================] - 23s 38ms/step - loss: 0.3802 - acc: 0.9074 - f1: 0.9074 - val_loss: 0.6268 - val_acc: 0.8220 - val_f1: 0.8220\n",
      "Epoch 27/100\n",
      "600/600 [==============================] - 23s 38ms/step - loss: 0.3742 - acc: 0.9091 - f1: 0.9091 - val_loss: 0.6309 - val_acc: 0.8063 - val_f1: 0.8063\n",
      "Epoch 28/100\n",
      "600/600 [==============================] - 23s 38ms/step - loss: 0.3853 - acc: 0.9037 - f1: 0.9037 - val_loss: 0.5954 - val_acc: 0.8324 - val_f1: 0.8324\n",
      "Epoch 29/100\n",
      "600/600 [==============================] - 23s 38ms/step - loss: 0.3576 - acc: 0.9146 - f1: 0.9146 - val_loss: 0.5842 - val_acc: 0.8389 - val_f1: 0.8389\n",
      "Epoch 30/100\n",
      "600/600 [==============================] - 23s 39ms/step - loss: 0.3590 - acc: 0.9144 - f1: 0.9144 - val_loss: 0.5989 - val_acc: 0.8319 - val_f1: 0.8319\n",
      "Epoch 31/100\n",
      "600/600 [==============================] - 23s 38ms/step - loss: 0.3628 - acc: 0.9121 - f1: 0.9121 - val_loss: 0.6225 - val_acc: 0.8126 - val_f1: 0.8126\n",
      "Epoch 32/100\n",
      "600/600 [==============================] - 23s 38ms/step - loss: 0.3557 - acc: 0.9146 - f1: 0.9146 - val_loss: 0.6291 - val_acc: 0.8340 - val_f1: 0.8340\n",
      "Epoch 33/100\n",
      "600/600 [==============================] - 24s 40ms/step - loss: 0.3519 - acc: 0.9168 - f1: 0.9168 - val_loss: 0.5678 - val_acc: 0.8370 - val_f1: 0.8370\n",
      "Epoch 34/100\n",
      "600/600 [==============================] - 23s 38ms/step - loss: 0.3530 - acc: 0.9148 - f1: 0.9147 - val_loss: 0.6409 - val_acc: 0.8182 - val_f1: 0.8182\n",
      "Epoch 35/100\n",
      "600/600 [==============================] - 23s 38ms/step - loss: 0.3524 - acc: 0.9136 - f1: 0.9136 - val_loss: 0.6216 - val_acc: 0.8280 - val_f1: 0.8280\n",
      "Epoch 36/100\n",
      "600/600 [==============================] - 23s 38ms/step - loss: 0.3406 - acc: 0.9178 - f1: 0.9178 - val_loss: 0.6049 - val_acc: 0.8293 - val_f1: 0.8293\n",
      "Epoch 37/100\n",
      "600/600 [==============================] - 23s 38ms/step - loss: 0.3397 - acc: 0.9186 - f1: 0.9186 - val_loss: 0.6472 - val_acc: 0.8222 - val_f1: 0.8222\n",
      "Epoch 38/100\n",
      "600/600 [==============================] - 23s 38ms/step - loss: 0.3337 - acc: 0.9194 - f1: 0.9194 - val_loss: 0.6145 - val_acc: 0.8306 - val_f1: 0.8306\n",
      "Epoch 39/100\n",
      "600/600 [==============================] - 23s 38ms/step - loss: 0.3462 - acc: 0.9174 - f1: 0.9174 - val_loss: 0.6367 - val_acc: 0.8188 - val_f1: 0.8188\n",
      "Epoch 40/100\n",
      "600/600 [==============================] - 23s 38ms/step - loss: 0.3237 - acc: 0.9221 - f1: 0.9221 - val_loss: 0.6411 - val_acc: 0.8314 - val_f1: 0.8314\n",
      "Epoch 41/100\n",
      "600/600 [==============================] - 23s 38ms/step - loss: 0.3335 - acc: 0.9198 - f1: 0.9198 - val_loss: 0.6331 - val_acc: 0.8215 - val_f1: 0.8215\n",
      "Epoch 42/100\n",
      "600/600 [==============================] - 23s 38ms/step - loss: 0.3259 - acc: 0.9216 - f1: 0.9216 - val_loss: 0.6369 - val_acc: 0.8262 - val_f1: 0.8262\n",
      "Epoch 43/100\n",
      "600/600 [==============================] - 23s 38ms/step - loss: 0.3256 - acc: 0.9227 - f1: 0.9227 - val_loss: 0.6373 - val_acc: 0.8361 - val_f1: 0.8361\n",
      "Epoch 44/100\n",
      "600/600 [==============================] - 23s 38ms/step - loss: 0.3240 - acc: 0.9229 - f1: 0.9229 - val_loss: 0.6573 - val_acc: 0.8184 - val_f1: 0.8184\n",
      "Epoch 45/100\n",
      "600/600 [==============================] - 23s 38ms/step - loss: 0.3288 - acc: 0.9225 - f1: 0.9224 - val_loss: 0.6625 - val_acc: 0.8154 - val_f1: 0.8154\n",
      "Epoch 46/100\n",
      "600/600 [==============================] - 24s 39ms/step - loss: 0.3344 - acc: 0.9194 - f1: 0.9194 - val_loss: 0.6447 - val_acc: 0.8199 - val_f1: 0.8199\n",
      "Epoch 47/100\n",
      "600/600 [==============================] - 23s 38ms/step - loss: 0.3371 - acc: 0.9185 - f1: 0.9185 - val_loss: 0.6337 - val_acc: 0.8274 - val_f1: 0.8274\n",
      "Epoch 48/100\n",
      "600/600 [==============================] - 23s 38ms/step - loss: 0.3248 - acc: 0.9231 - f1: 0.9231 - val_loss: 0.5973 - val_acc: 0.8275 - val_f1: 0.8275\n",
      "Epoch 49/100\n",
      "600/600 [==============================] - 23s 38ms/step - loss: 0.3193 - acc: 0.9236 - f1: 0.9236 - val_loss: 0.6276 - val_acc: 0.8261 - val_f1: 0.8261\n",
      "Epoch 50/100\n"
     ]
    },
    {
     "name": "stdout",
     "output_type": "stream",
     "text": [
      "600/600 [==============================] - 23s 38ms/step - loss: 0.3101 - acc: 0.9253 - f1: 0.9252 - val_loss: 0.6349 - val_acc: 0.8240 - val_f1: 0.8240\n",
      "Epoch 51/100\n",
      "600/600 [==============================] - 23s 38ms/step - loss: 0.3203 - acc: 0.9244 - f1: 0.9244 - val_loss: 0.5981 - val_acc: 0.8372 - val_f1: 0.8372\n",
      "Epoch 52/100\n",
      "600/600 [==============================] - 23s 38ms/step - loss: 0.3178 - acc: 0.9261 - f1: 0.9261 - val_loss: 0.6064 - val_acc: 0.8360 - val_f1: 0.8360\n",
      "Epoch 53/100\n",
      "600/600 [==============================] - 23s 38ms/step - loss: 0.3166 - acc: 0.9249 - f1: 0.9249 - val_loss: 0.5965 - val_acc: 0.8423 - val_f1: 0.8423\n",
      "Epoch 54/100\n",
      "600/600 [==============================] - 23s 38ms/step - loss: 0.3206 - acc: 0.9247 - f1: 0.9247 - val_loss: 0.5933 - val_acc: 0.8346 - val_f1: 0.8346\n",
      "Epoch 55/100\n",
      "600/600 [==============================] - 23s 38ms/step - loss: 0.3045 - acc: 0.9269 - f1: 0.9269 - val_loss: 0.6140 - val_acc: 0.8346 - val_f1: 0.8346\n",
      "Epoch 56/100\n",
      "600/600 [==============================] - 23s 38ms/step - loss: 0.3112 - acc: 0.9256 - f1: 0.9256 - val_loss: 0.5881 - val_acc: 0.8294 - val_f1: 0.8294\n",
      "Epoch 57/100\n",
      "600/600 [==============================] - 23s 39ms/step - loss: 0.2977 - acc: 0.9293 - f1: 0.9293 - val_loss: 0.6203 - val_acc: 0.8305 - val_f1: 0.8305\n",
      "Epoch 58/100\n",
      "600/600 [==============================] - 23s 39ms/step - loss: 0.3126 - acc: 0.9266 - f1: 0.9266 - val_loss: 0.5948 - val_acc: 0.8346 - val_f1: 0.8346\n",
      "Epoch 59/100\n",
      "600/600 [==============================] - 23s 38ms/step - loss: 0.3036 - acc: 0.9282 - f1: 0.9282 - val_loss: 0.6120 - val_acc: 0.8326 - val_f1: 0.8326\n",
      "Epoch 60/100\n",
      "600/600 [==============================] - 24s 40ms/step - loss: 0.3100 - acc: 0.9270 - f1: 0.9269 - val_loss: 0.6258 - val_acc: 0.8241 - val_f1: 0.8241\n",
      "Epoch 61/100\n",
      "600/600 [==============================] - 23s 38ms/step - loss: 0.2848 - acc: 0.9311 - f1: 0.9311 - val_loss: 0.6429 - val_acc: 0.8309 - val_f1: 0.8309\n",
      "Epoch 62/100\n",
      "600/600 [==============================] - 23s 38ms/step - loss: 0.2757 - acc: 0.9331 - f1: 0.9331 - val_loss: 0.6558 - val_acc: 0.8268 - val_f1: 0.8268\n",
      "Epoch 63/100\n",
      "600/600 [==============================] - 23s 38ms/step - loss: 0.3013 - acc: 0.9280 - f1: 0.9280 - val_loss: 0.6208 - val_acc: 0.8236 - val_f1: 0.8236\n",
      "Epoch 64/100\n",
      "600/600 [==============================] - 23s 38ms/step - loss: 0.3097 - acc: 0.9255 - f1: 0.9255 - val_loss: 0.6521 - val_acc: 0.8209 - val_f1: 0.8209\n",
      "Epoch 65/100\n",
      "600/600 [==============================] - 23s 38ms/step - loss: 0.3145 - acc: 0.9246 - f1: 0.9246 - val_loss: 0.6592 - val_acc: 0.8196 - val_f1: 0.8196\n",
      "Epoch 66/100\n",
      "600/600 [==============================] - 23s 38ms/step - loss: 0.2972 - acc: 0.9288 - f1: 0.9288 - val_loss: 0.6374 - val_acc: 0.8347 - val_f1: 0.8347\n",
      "Epoch 67/100\n",
      "600/600 [==============================] - 23s 39ms/step - loss: 0.2917 - acc: 0.9298 - f1: 0.9298 - val_loss: 0.6119 - val_acc: 0.8338 - val_f1: 0.8338\n",
      "Epoch 68/100\n",
      "600/600 [==============================] - 23s 38ms/step - loss: 0.3070 - acc: 0.9297 - f1: 0.9297 - val_loss: 0.6288 - val_acc: 0.8293 - val_f1: 0.8293\n",
      "Epoch 69/100\n",
      "600/600 [==============================] - 23s 38ms/step - loss: 0.3041 - acc: 0.9286 - f1: 0.9285 - val_loss: 0.6443 - val_acc: 0.8211 - val_f1: 0.8211\n",
      "Epoch 70/100\n",
      "600/600 [==============================] - 23s 39ms/step - loss: 0.2972 - acc: 0.9288 - f1: 0.9288 - val_loss: 0.6080 - val_acc: 0.8351 - val_f1: 0.8351\n",
      "Epoch 71/100\n",
      "600/600 [==============================] - 23s 38ms/step - loss: 0.2956 - acc: 0.9315 - f1: 0.9315 - val_loss: 0.6401 - val_acc: 0.8247 - val_f1: 0.8247\n",
      "Epoch 72/100\n",
      "600/600 [==============================] - 23s 38ms/step - loss: 0.2911 - acc: 0.9311 - f1: 0.9311 - val_loss: 0.6465 - val_acc: 0.8298 - val_f1: 0.8298\n",
      "Epoch 73/100\n",
      "600/600 [==============================] - 24s 40ms/step - loss: 0.2929 - acc: 0.9320 - f1: 0.9320 - val_loss: 0.6457 - val_acc: 0.8311 - val_f1: 0.8311\n",
      "Epoch 74/100\n",
      "600/600 [==============================] - 23s 39ms/step - loss: 0.2756 - acc: 0.9345 - f1: 0.9345 - val_loss: 0.6431 - val_acc: 0.8334 - val_f1: 0.8334\n",
      "Epoch 75/100\n",
      "600/600 [==============================] - 23s 38ms/step - loss: 0.2860 - acc: 0.9336 - f1: 0.9336 - val_loss: 0.6520 - val_acc: 0.8343 - val_f1: 0.8343\n",
      "Epoch 76/100\n",
      "600/600 [==============================] - 23s 38ms/step - loss: 0.2938 - acc: 0.9312 - f1: 0.9311 - val_loss: 0.6257 - val_acc: 0.8346 - val_f1: 0.8346\n",
      "Epoch 77/100\n",
      "600/600 [==============================] - 23s 38ms/step - loss: 0.2898 - acc: 0.9313 - f1: 0.9313 - val_loss: 0.6282 - val_acc: 0.8398 - val_f1: 0.8398\n",
      "Epoch 78/100\n",
      "600/600 [==============================] - 23s 38ms/step - loss: 0.2720 - acc: 0.9351 - f1: 0.9351 - val_loss: 0.6432 - val_acc: 0.8394 - val_f1: 0.8394\n",
      "Epoch 79/100\n",
      "600/600 [==============================] - 17s 28ms/step - loss: 0.2755 - acc: 0.9344 - f1: 0.9344 - val_loss: 0.6258 - val_acc: 0.8383 - val_f1: 0.8383\n",
      "Epoch 80/100\n",
      "600/600 [==============================] - 19s 31ms/step - loss: 0.3001 - acc: 0.9311 - f1: 0.9311 - val_loss: 0.6341 - val_acc: 0.8315 - val_f1: 0.8315\n",
      "Epoch 81/100\n",
      "600/600 [==============================] - 16s 27ms/step - loss: 0.2881 - acc: 0.9318 - f1: 0.9318 - val_loss: 0.6482 - val_acc: 0.8283 - val_f1: 0.8283\n",
      "Epoch 82/100\n",
      "600/600 [==============================] - 16s 27ms/step - loss: 0.2865 - acc: 0.9327 - f1: 0.9327 - val_loss: 0.6482 - val_acc: 0.8292 - val_f1: 0.8292\n",
      "Epoch 83/100\n",
      "600/600 [==============================] - 16s 27ms/step - loss: 0.2806 - acc: 0.9335 - f1: 0.9335 - val_loss: 0.6625 - val_acc: 0.8293 - val_f1: 0.8293\n",
      "Epoch 84/100\n",
      "600/600 [==============================] - 16s 27ms/step - loss: 0.2715 - acc: 0.9344 - f1: 0.9344 - val_loss: 0.6519 - val_acc: 0.8384 - val_f1: 0.8384\n",
      "Epoch 85/100\n",
      "600/600 [==============================] - 16s 27ms/step - loss: 0.2658 - acc: 0.9358 - f1: 0.9358 - val_loss: 0.6875 - val_acc: 0.8384 - val_f1: 0.8384\n",
      "Epoch 86/100\n",
      "600/600 [==============================] - 16s 27ms/step - loss: 0.2866 - acc: 0.9315 - f1: 0.9315 - val_loss: 0.6735 - val_acc: 0.8250 - val_f1: 0.8250\n",
      "Epoch 87/100\n",
      "600/600 [==============================] - 16s 27ms/step - loss: 0.2841 - acc: 0.9331 - f1: 0.9331 - val_loss: 0.6511 - val_acc: 0.8243 - val_f1: 0.8243\n",
      "Epoch 88/100\n",
      "600/600 [==============================] - 16s 27ms/step - loss: 0.2724 - acc: 0.9365 - f1: 0.9365 - val_loss: 0.6691 - val_acc: 0.8194 - val_f1: 0.8194\n",
      "Epoch 89/100\n",
      "600/600 [==============================] - 16s 27ms/step - loss: 0.2857 - acc: 0.9343 - f1: 0.9343 - val_loss: 0.6339 - val_acc: 0.8264 - val_f1: 0.8264\n",
      "Epoch 90/100\n",
      "600/600 [==============================] - 17s 29ms/step - loss: 0.2741 - acc: 0.9344 - f1: 0.9343 - val_loss: 0.6460 - val_acc: 0.8359 - val_f1: 0.8359\n",
      "Epoch 91/100\n",
      "600/600 [==============================] - 16s 27ms/step - loss: 0.2751 - acc: 0.9358 - f1: 0.9357 - val_loss: 0.6872 - val_acc: 0.8192 - val_f1: 0.8192\n",
      "Epoch 92/100\n",
      "600/600 [==============================] - 17s 28ms/step - loss: 0.2771 - acc: 0.9356 - f1: 0.9355 - val_loss: 0.6741 - val_acc: 0.8250 - val_f1: 0.8250\n",
      "Epoch 93/100\n",
      "600/600 [==============================] - 16s 27ms/step - loss: 0.2719 - acc: 0.9362 - f1: 0.9362 - val_loss: 0.6620 - val_acc: 0.8344 - val_f1: 0.8344\n",
      "Epoch 94/100\n",
      "600/600 [==============================] - 16s 27ms/step - loss: 0.2776 - acc: 0.9336 - f1: 0.9336 - val_loss: 0.6550 - val_acc: 0.8378 - val_f1: 0.8378\n",
      "Epoch 95/100\n",
      "600/600 [==============================] - 16s 27ms/step - loss: 0.2704 - acc: 0.9356 - f1: 0.9355 - val_loss: 0.6795 - val_acc: 0.8300 - val_f1: 0.8300\n",
      "Epoch 96/100\n",
      "600/600 [==============================] - 16s 27ms/step - loss: 0.2786 - acc: 0.9346 - f1: 0.9346 - val_loss: 0.6751 - val_acc: 0.8192 - val_f1: 0.8192\n",
      "Epoch 97/100\n",
      "600/600 [==============================] - 16s 27ms/step - loss: 0.2646 - acc: 0.9370 - f1: 0.9370 - val_loss: 0.6606 - val_acc: 0.8421 - val_f1: 0.8421\n",
      "Epoch 98/100\n",
      "600/600 [==============================] - 16s 27ms/step - loss: 0.2754 - acc: 0.9367 - f1: 0.9366 - val_loss: 0.6476 - val_acc: 0.8243 - val_f1: 0.8243\n",
      "Epoch 99/100\n"
     ]
    },
    {
     "name": "stdout",
     "output_type": "stream",
     "text": [
      "600/600 [==============================] - 16s 27ms/step - loss: 0.2730 - acc: 0.9355 - f1: 0.9355 - val_loss: 0.6977 - val_acc: 0.8211 - val_f1: 0.8211\n",
      "Epoch 100/100\n",
      "600/600 [==============================] - 16s 27ms/step - loss: 0.2809 - acc: 0.9346 - f1: 0.9346 - val_loss: 0.6631 - val_acc: 0.8265 - val_f1: 0.8265\n"
     ]
    },
    {
     "data": {
      "text/plain": [
       "<keras.callbacks.History at 0x7f293d8748d0>"
      ]
     },
     "execution_count": 9,
     "metadata": {},
     "output_type": "execute_result"
    }
   ],
   "source": [
    "training_batches = MagnitudeUtils.batchify(x_train, y_train, BATCH_SIZE) # Split the training data into batches\n",
    "num_batches_per_epoch_train = int(np.ceil(num_training/float(BATCH_SIZE)))\n",
    "test_batches = MagnitudeUtils.batchify(x_test, y_test, BATCH_SIZE)  # Split the test data into batches\n",
    "num_batches_per_epoch_test = int(np.ceil(num_test/float(BATCH_SIZE)))\n",
    "\n",
    "\n",
    "# Generates batches of the transformed training data\n",
    "train_batch_generator = (\n",
    "  (\n",
    "    med_vectors.query(x_train_batch), # Magnitude will handle converting the 2D array of text into the 3D word vector representations!\n",
    "    MagnitudeUtils.to_categorical(y_train_batch, num_outputs) # Magnitude will handle converting the class labels into one-hot encodings!\n",
    "  ) for x_train_batch, y_train_batch in training_batches\n",
    ")\n",
    "\n",
    "# Generates batches of the transformed test data\n",
    "test_batch_generator = (\n",
    "  (\n",
    "    med_vectors.query(x_test_batch), # Magnitude will handle converting the 2D array of text into the 3D word vector representations!\n",
    "    MagnitudeUtils.to_categorical(y_test_batch, num_outputs) # Magnitude will handle converting the class labels into one-hot encodings!\n",
    "  ) for x_test_batch, y_test_batch in test_batches\n",
    ")\n",
    "\n",
    "# Class weights\n",
    "class_weight = {\n",
    "    intent_to_int('Cardiovascular'): 20.\n",
    "    ,intent_to_int('Other'): 1.\n",
    "}\n",
    "\n",
    "# Start training\n",
    "model.fit_generator(\n",
    "    generator = train_batch_generator,\n",
    "    steps_per_epoch = num_batches_per_epoch_train,\n",
    "    validation_data = test_batch_generator,\n",
    "    validation_steps = num_batches_per_epoch_test,\n",
    "    epochs = EPOCHS,\n",
    "    class_weight=class_weight\n",
    ")"
   ]
  },
  {
   "cell_type": "markdown",
   "metadata": {},
   "source": [
    "## Results"
   ]
  },
  {
   "cell_type": "code",
   "execution_count": 10,
   "metadata": {},
   "outputs": [
    {
     "name": "stdout",
     "output_type": "stream",
     "text": [
      "Results after training for 100 epochs:\n",
      "loss: 0.1900 - categorical_accuracy: 0.9344 - f1: 0.9344\n",
      "val_loss: 0.6631 - val_categorical_accuracy: 0.8265 - f1: 0.8265\n"
     ]
    }
   ],
   "source": [
    "print(\"Results after training for %d epochs:\" % (EPOCHS,))\n",
    "\n",
    "train_metrics = model.evaluate_generator(\n",
    "    generator = train_batch_generator,\n",
    "    steps = num_batches_per_epoch_train,\n",
    ")\n",
    "\n",
    "print(\"loss: %.4f - categorical_accuracy: %.4f - f1: %.4f\" % tuple(train_metrics))\n",
    "\n",
    "val_metrics = model.evaluate_generator(\n",
    "    generator = test_batch_generator,\n",
    "    steps = num_batches_per_epoch_test,\n",
    ")\n",
    "\n",
    "print(\"val_loss: %.4f - val_categorical_accuracy: %.4f - f1: %.4f\" % tuple(val_metrics))"
   ]
  },
  {
   "cell_type": "markdown",
   "metadata": {},
   "source": [
    "## Conclusion"
   ]
  },
  {
   "cell_type": "code",
   "execution_count": 14,
   "metadata": {},
   "outputs": [
    {
     "data": {
      "image/png": "[encoded data removed]",
      "text/plain": [
       "<Figure size 432x288 with 1 Axes>"
      ]
     },
     "metadata": {},
     "output_type": "display_data"
    },
    {
     "data": {
      "image/png": "[encoded data removed]",
      "text/plain": [
       "<Figure size 432x288 with 1 Axes>"
      ]
     },
     "metadata": {},
     "output_type": "display_data"
    }
   ],
   "source": [
    "import matplotlib.pyplot as plt\n",
    "\n",
    "# Plot training & validation accuracy values\n",
    "plt.plot(model.history.history['acc'])\n",
    "plt.plot(model.history.history['val_acc'])\n",
    "plt.title('Model accuracy')\n",
    "plt.ylabel('Accuracy')\n",
    "plt.xlabel('Epoch')\n",
    "plt.legend(['Train', 'Test'], loc='upper left')\n",
    "plt.show()\n",
    "\n",
    "# Plot training & validation loss values\n",
    "plt.plot(model.history.history['loss'])\n",
    "plt.plot(model.history.history['val_loss'])\n",
    "plt.title('Model loss')\n",
    "plt.ylabel('Loss')\n",
    "plt.xlabel('Epoch')\n",
    "plt.legend(['Train', 'Test'], loc='upper left')\n",
    "plt.show()"
   ]
  },
  {
   "cell_type": "code",
   "execution_count": 12,
   "metadata": {},
   "outputs": [
    {
     "name": "stdout",
     "output_type": "stream",
     "text": [
      "['Cardiovascular', 'Other']\n",
      "[[1152  525]\n",
      " [1373 7890]]\n",
      "                precision    recall  f1-score   support\n",
      "\n",
      "Cardiovascular       0.46      0.69      0.55      1677\n",
      "         Other       0.94      0.85      0.89      9263\n",
      "\n",
      "   avg / total       0.86      0.83      0.84     10940\n",
      "\n"
     ]
    }
   ],
   "source": [
    "from sklearn.metrics import confusion_matrix, classification_report\n",
    "\n",
    "y_pred = np.argmax(model.predict(med_vectors.query(x_test)), axis=1)\n",
    "class_labels = [int_to_intent(y) for y in set(y_test)] \n",
    "report = classification_report(y_test, y_pred, target_names=class_labels)\n",
    "print(class_labels)\n",
    "print(confusion_matrix(y_test, y_pred))\n",
    "print(report)"
   ]
  },
  {
   "cell_type": "code",
   "execution_count": 13,
   "metadata": {},
   "outputs": [
    {
     "data": {
      "text/plain": [
       "<matplotlib.axes._subplots.AxesSubplot at 0x7f292f06fac8>"
      ]
     },
     "execution_count": 13,
     "metadata": {},
     "output_type": "execute_result"
    },
    {
     "data": {
      "image/png": "[encoded data removed]",
      "text/plain": [
       "<Figure size 432x288 with 2 Axes>"
      ]
     },
     "metadata": {},
     "output_type": "display_data"
    }
   ],
   "source": [
    "from sklearn.utils.multiclass import unique_labels\n",
    "\n",
    "def plot_confusion_matrix(y_true, y_pred, classes,\n",
    "                          title=None,\n",
    "                          cmap=plt.cm.Blues):\n",
    "    \"\"\"\n",
    "    This function prints and plots the confusion matrix.\n",
    "    Normalization can be applied by setting `normalize=True`.\n",
    "    \"\"\"\n",
    "    if not title:\n",
    "        if normalize:\n",
    "            title = 'Normalized confusion matrix'\n",
    "        else:\n",
    "            title = 'Confusion matrix, without normalization'\n",
    "\n",
    "    # Compute confusion matrix\n",
    "    cm = confusion_matrix(y_true, y_pred)\n",
    "    # Only use the labels that appear in the data\n",
    "    classes = [int_to_intent(y_class) for y_class in unique_labels(y_test, y_pred)]\n",
    "\n",
    "    fig, ax = plt.subplots()\n",
    "#     fig.set_figheight(15)\n",
    "#     fig.set_figwidth(15)\n",
    "    im = ax.imshow(cm, interpolation='nearest', cmap=cmap)\n",
    "    ax.figure.colorbar(im, ax=ax)\n",
    "    # We want to show all ticks...\n",
    "    ax.set(xticks=np.arange(cm.shape[1]),\n",
    "           yticks=np.arange(cm.shape[0]),\n",
    "           # ... and label them with the respective list entries\n",
    "           xticklabels=classes, yticklabels=classes,\n",
    "           title=title,\n",
    "           ylabel='True label',\n",
    "           xlabel='Predicted label')\n",
    "\n",
    "    # Rotate the tick labels and set their alignment.\n",
    "    plt.setp(ax.get_xticklabels(), rotation=45, ha=\"right\",\n",
    "             rotation_mode=\"anchor\")\n",
    "\n",
    "    # Loop over data dimensions and create text annotations.\n",
    "    fmt = 'd'\n",
    "    thresh = cm.max() / 2.\n",
    "    for i in range(cm.shape[0]):\n",
    "        for j in range(cm.shape[1]):\n",
    "            ax.text(j, i, format(cm[i, j], fmt),\n",
    "                    ha=\"center\", va=\"center\",\n",
    "                    color=\"white\" if cm[i, j] > thresh else \"black\")\n",
    "    fig.tight_layout()\n",
    "    return ax\n",
    "\n",
    "\n",
    "np.set_printoptions(precision=2)\n",
    "\n",
    "plot_confusion_matrix(y_test, y_pred, classes=class_labels\n",
    "                      , title='Confusion Matrix for Cardiovascular Disease CNN Classifier')"
   ]
  },
  {
   "cell_type": "code",
   "execution_count": 15,
   "metadata": {},
   "outputs": [
    {
     "name": "stdout",
     "output_type": "stream",
     "text": [
      "_________________________________________________________________\n",
      "Layer (type)                 Output Shape              Param #   \n",
      "=================================================================\n",
      "gaussian_noise_2 (GaussianNo (None, 30, 200)           0         \n",
      "_________________________________________________________________\n",
      "conv1d_3 (Conv1D)            (None, 30, 128)           179328    \n",
      "_________________________________________________________________\n",
      "global_max_pooling1d_2 (Glob (None, 128)               0         \n",
      "_________________________________________________________________\n",
      "dropout_2 (Dropout)          (None, 128)               0         \n",
      "_________________________________________________________________\n",
      "dense_3 (Dense)              (None, 64)                8256      \n",
      "_________________________________________________________________\n",
      "dense_4 (Dense)              (None, 2)                 130       \n",
      "=================================================================\n",
      "Total params: 187,714\n",
      "Trainable params: 187,714\n",
      "Non-trainable params: 0\n",
      "_________________________________________________________________\n"
     ]
    }
   ],
   "source": [
    "# Smaller batch size\n",
    "# Higher dropout\n",
    "# Simpler model (removing a conv layer)\n",
    "\n",
    "MAX_WORDS = 30 # The maximum number of words the sequence model will consider\n",
    "STD_DEV = 0.01 # Deviation of noise for Gaussian Noise applied to the embeddings\n",
    "DROPOUT_RATIO = .8 # The ratio to dropout\n",
    "BATCH_SIZE = 50 # The number of examples per train/validation step\n",
    "EPOCHS = 100 # The number of times to repeat through all of the training data\n",
    "LEARNING_RATE = .01 # The learning rate for the optimizer\n",
    "NUM_FILTERS = 128\n",
    "\n",
    "model = Sequential()\n",
    "model.add(GaussianNoise(STD_DEV, input_shape=(MAX_WORDS, med_vectors.dim)))\n",
    "model.add(Conv1D(NUM_FILTERS, 7, activation='relu', padding='same'))\n",
    "# model.add(MaxPool1D(2))\n",
    "# model.add(Conv1D(NUM_FILTERS, 7, activation='relu', padding='same'))\n",
    "model.add(GlobalMaxPool1D())\n",
    "model.add(Dropout(DROPOUT_RATIO))\n",
    "model.add(Dense(64, activation='relu'))\n",
    "model.add(Dense(num_outputs, activation='softmax'))\n",
    "model.compile(optimizer='adam',\n",
    "              loss='binary_crossentropy',\n",
    "              metrics=['accuracy', f1])\n",
    "model.summary()"
   ]
  },
  {
   "cell_type": "code",
   "execution_count": 16,
   "metadata": {},
   "outputs": [
    {
     "name": "stdout",
     "output_type": "stream",
     "text": [
      "Epoch 1/100\n",
      "1200/1200 [==============================] - 259s 216ms/step - loss: 1.6869 - acc: 0.3434 - f1: 0.3434 - val_loss: 0.9468 - val_acc: 0.4002 - val_f1: 0.4002\n",
      "Epoch 2/100\n",
      "1200/1200 [==============================] - 256s 214ms/step - loss: 1.5197 - acc: 0.4533 - f1: 0.4533 - val_loss: 0.8964 - val_acc: 0.4516 - val_f1: 0.4516\n",
      "Epoch 3/100\n",
      "1200/1200 [==============================] - 256s 214ms/step - loss: 1.4533 - acc: 0.4998 - f1: 0.4998 - val_loss: 0.8535 - val_acc: 0.4879 - val_f1: 0.4879\n",
      "Epoch 4/100\n",
      "1200/1200 [==============================] - 256s 213ms/step - loss: 1.4068 - acc: 0.5291 - f1: 0.5290 - val_loss: 0.8378 - val_acc: 0.5004 - val_f1: 0.5004\n",
      "Epoch 5/100\n",
      "1200/1200 [==============================] - 257s 214ms/step - loss: 1.3612 - acc: 0.5536 - f1: 0.5536 - val_loss: 0.8043 - val_acc: 0.5313 - val_f1: 0.5313\n",
      "Epoch 6/100\n",
      "1200/1200 [==============================] - 233s 194ms/step - loss: 1.3359 - acc: 0.5709 - f1: 0.5709 - val_loss: 0.7681 - val_acc: 0.5444 - val_f1: 0.5444\n",
      "Epoch 7/100\n",
      "1200/1200 [==============================] - 234s 195ms/step - loss: 1.3087 - acc: 0.5771 - f1: 0.5771 - val_loss: 0.7630 - val_acc: 0.5476 - val_f1: 0.5476\n",
      "Epoch 8/100\n",
      "1200/1200 [==============================] - 271s 226ms/step - loss: 1.2700 - acc: 0.5978 - f1: 0.5978 - val_loss: 0.7482 - val_acc: 0.5674 - val_f1: 0.5674\n",
      "Epoch 9/100\n",
      "1200/1200 [==============================] - 282s 235ms/step - loss: 1.2554 - acc: 0.6081 - f1: 0.6081 - val_loss: 0.7291 - val_acc: 0.5810 - val_f1: 0.5810\n",
      "Epoch 10/100\n",
      "1200/1200 [==============================] - 282s 235ms/step - loss: 1.2278 - acc: 0.6191 - f1: 0.6191 - val_loss: 0.6607 - val_acc: 0.6224 - val_f1: 0.6224\n",
      "Epoch 11/100\n",
      "1200/1200 [==============================] - 281s 235ms/step - loss: 1.2176 - acc: 0.6233 - f1: 0.6233 - val_loss: 0.6724 - val_acc: 0.6201 - val_f1: 0.6201\n",
      "Epoch 12/100\n",
      "1200/1200 [==============================] - 256s 213ms/step - loss: 1.1865 - acc: 0.6385 - f1: 0.6385 - val_loss: 0.7288 - val_acc: 0.5812 - val_f1: 0.5812\n",
      "Epoch 14/100\n",
      "1200/1200 [==============================] - 255s 213ms/step - loss: 1.1524 - acc: 0.6487 - f1: 0.6486 - val_loss: 0.6431 - val_acc: 0.6425 - val_f1: 0.6425\n",
      "Epoch 15/100\n",
      "1079/1200 [=========================>....] - ETA: 21s - loss: 1.1365 - acc: 0.6552 - f1: 0.6552"
     ]
    },
    {
     "name": "stderr",
     "output_type": "stream",
     "text": [
      "IOPub message rate exceeded.\n",
      "The notebook server will temporarily stop sending output\n",
      "to the client in order to avoid crashing it.\n",
      "To change this limit, set the config variable\n",
      "`--NotebookApp.iopub_msg_rate_limit`.\n",
      "\n",
      "Current values:\n",
      "NotebookApp.iopub_msg_rate_limit=1000.0 (msgs/sec)\n",
      "NotebookApp.rate_limit_window=3.0 (secs)\n",
      "\n"
     ]
    },
    {
     "name": "stdout",
     "output_type": "stream",
     "text": [
      "1200/1200 [==============================] - 193s 161ms/step - loss: 1.1025 - acc: 0.6713 - f1: 0.6712 - val_loss: 0.6168 - val_acc: 0.6644 - val_f1: 0.6644\n",
      "Epoch 20/100\n",
      "1200/1200 [==============================] - 198s 165ms/step - loss: 1.0983 - acc: 0.6702 - f1: 0.6702 - val_loss: 0.5855 - val_acc: 0.6853 - val_f1: 0.6853\n",
      "Epoch 21/100\n",
      "1200/1200 [==============================] - 194s 162ms/step - loss: 1.0766 - acc: 0.6834 - f1: 0.6834 - val_loss: 0.5670 - val_acc: 0.7016 - val_f1: 0.7016\n",
      "Epoch 22/100\n",
      "1200/1200 [==============================] - 194s 162ms/step - loss: 1.0812 - acc: 0.6819 - f1: 0.6819 - val_loss: 0.5840 - val_acc: 0.6951 - val_f1: 0.6951\n",
      "Epoch 23/100\n",
      "1200/1200 [==============================] - 197s 164ms/step - loss: 1.0667 - acc: 0.6907 - f1: 0.6907 - val_loss: 0.5749 - val_acc: 0.6984 - val_f1: 0.6984\n",
      "Epoch 24/100\n",
      "1200/1200 [==============================] - 195s 163ms/step - loss: 1.0450 - acc: 0.6936 - f1: 0.6936 - val_loss: 0.6378 - val_acc: 0.6610 - val_f1: 0.6610\n",
      "Epoch 25/100\n",
      "1200/1200 [==============================] - 193s 161ms/step - loss: 1.0541 - acc: 0.6918 - f1: 0.6918 - val_loss: 0.5965 - val_acc: 0.6874 - val_f1: 0.6874\n",
      "Epoch 26/100\n",
      "1200/1200 [==============================] - 196s 163ms/step - loss: 1.0434 - acc: 0.6932 - f1: 0.6931 - val_loss: 0.5600 - val_acc: 0.7112 - val_f1: 0.7112\n",
      "Epoch 27/100\n",
      "1200/1200 [==============================] - 195s 162ms/step - loss: 1.0318 - acc: 0.6955 - f1: 0.6955 - val_loss: 0.5639 - val_acc: 0.7070 - val_f1: 0.7070\n",
      "Epoch 28/100\n",
      "1200/1200 [==============================] - 197s 164ms/step - loss: 1.0296 - acc: 0.6988 - f1: 0.6988 - val_loss: 0.5878 - val_acc: 0.6953 - val_f1: 0.6953\n",
      "Epoch 29/100\n",
      "1200/1200 [==============================] - 196s 163ms/step - loss: 1.0254 - acc: 0.6954 - f1: 0.6954 - val_loss: 0.5497 - val_acc: 0.7101 - val_f1: 0.7101\n",
      "Epoch 30/100\n",
      "1200/1200 [==============================] - 197s 164ms/step - loss: 1.0079 - acc: 0.7041 - f1: 0.7041 - val_loss: 0.5415 - val_acc: 0.7230 - val_f1: 0.7230\n",
      "Epoch 31/100\n",
      "1200/1200 [==============================] - 215s 179ms/step - loss: 1.0061 - acc: 0.7036 - f1: 0.7036 - val_loss: 0.5661 - val_acc: 0.7073 - val_f1: 0.7073\n",
      "Epoch 32/100\n",
      "1200/1200 [==============================] - 266s 222ms/step - loss: 1.0116 - acc: 0.7036 - f1: 0.7036 - val_loss: 0.5744 - val_acc: 0.7049 - val_f1: 0.7049\n",
      "Epoch 33/100\n",
      "1200/1200 [==============================] - 278s 231ms/step - loss: 0.9979 - acc: 0.7082 - f1: 0.7081 - val_loss: 0.5437 - val_acc: 0.7222 - val_f1: 0.7222\n",
      "Epoch 34/100\n",
      "1200/1200 [==============================] - 296s 247ms/step - loss: 0.9893 - acc: 0.7089 - f1: 0.7089 - val_loss: 0.5426 - val_acc: 0.7223 - val_f1: 0.7223\n",
      "Epoch 35/100\n",
      "1200/1200 [==============================] - 295s 246ms/step - loss: 0.9914 - acc: 0.7090 - f1: 0.7090 - val_loss: 0.5664 - val_acc: 0.7103 - val_f1: 0.7103\n",
      "Epoch 36/100\n",
      "1200/1200 [==============================] - 295s 246ms/step - loss: 0.9832 - acc: 0.7151 - f1: 0.7151 - val_loss: 0.5512 - val_acc: 0.7162 - val_f1: 0.7162\n",
      "Epoch 37/100\n",
      "1200/1200 [==============================] - 297s 247ms/step - loss: 0.9840 - acc: 0.7148 - f1: 0.7148 - val_loss: 0.5378 - val_acc: 0.7256 - val_f1: 0.7256\n",
      "Epoch 38/100\n",
      "1200/1200 [==============================] - 295s 246ms/step - loss: 0.9813 - acc: 0.7126 - f1: 0.7126 - val_loss: 0.5621 - val_acc: 0.7112 - val_f1: 0.7112\n",
      "Epoch 39/100\n",
      "1200/1200 [==============================] - 296s 246ms/step - loss: 0.9555 - acc: 0.7261 - f1: 0.7261 - val_loss: 0.5494 - val_acc: 0.7261 - val_f1: 0.7261\n",
      "Epoch 40/100\n",
      "1200/1200 [==============================] - 293s 244ms/step - loss: 0.9534 - acc: 0.7261 - f1: 0.7261 - val_loss: 0.5125 - val_acc: 0.7452 - val_f1: 0.7452\n",
      "Epoch 41/100\n",
      "1200/1200 [==============================] - 251s 209ms/step - loss: 0.9557 - acc: 0.7248 - f1: 0.7248 - val_loss: 0.5219 - val_acc: 0.7431 - val_f1: 0.7431\n",
      "Epoch 42/100\n",
      "1200/1200 [==============================] - 194s 162ms/step - loss: 0.9344 - acc: 0.7290 - f1: 0.7290 - val_loss: 0.5399 - val_acc: 0.7358 - val_f1: 0.7358\n",
      "Epoch 43/100\n",
      "1200/1200 [==============================] - 195s 162ms/step - loss: 0.9500 - acc: 0.7235 - f1: 0.7235 - val_loss: 0.5532 - val_acc: 0.7248 - val_f1: 0.7248\n",
      "Epoch 44/100\n",
      "1200/1200 [==============================] - 195s 162ms/step - loss: 0.9449 - acc: 0.7235 - f1: 0.7235 - val_loss: 0.5057 - val_acc: 0.7540 - val_f1: 0.7540\n",
      "Epoch 45/100\n",
      "1200/1200 [==============================] - 195s 162ms/step - loss: 0.9240 - acc: 0.7332 - f1: 0.7331 - val_loss: 0.5389 - val_acc: 0.7414 - val_f1: 0.7414\n",
      "Epoch 46/100\n",
      "1200/1200 [==============================] - 193s 161ms/step - loss: 0.9344 - acc: 0.7317 - f1: 0.7316 - val_loss: 0.5173 - val_acc: 0.7460 - val_f1: 0.7460\n",
      "Epoch 47/100\n",
      "1200/1200 [==============================] - 195s 163ms/step - loss: 0.9291 - acc: 0.7317 - f1: 0.7316 - val_loss: 0.5178 - val_acc: 0.7493 - val_f1: 0.7493\n",
      "Epoch 48/100\n",
      "1200/1200 [==============================] - 197s 164ms/step - loss: 0.9224 - acc: 0.7340 - f1: 0.7340 - val_loss: 0.5114 - val_acc: 0.7521 - val_f1: 0.7521\n",
      "Epoch 49/100\n",
      "1200/1200 [==============================] - 195s 162ms/step - loss: 0.9206 - acc: 0.7337 - f1: 0.7336 - val_loss: 0.5172 - val_acc: 0.7509 - val_f1: 0.7509\n",
      "Epoch 50/100\n",
      "1200/1200 [==============================] - 196s 164ms/step - loss: 0.9300 - acc: 0.7318 - f1: 0.7318 - val_loss: 0.4934 - val_acc: 0.7647 - val_f1: 0.7647\n",
      "Epoch 51/100\n",
      "1200/1200 [==============================] - 198s 165ms/step - loss: 0.9024 - acc: 0.7414 - f1: 0.7414 - val_loss: 0.5220 - val_acc: 0.7481 - val_f1: 0.7481\n",
      "Epoch 52/100\n",
      "1200/1200 [==============================] - 195s 163ms/step - loss: 0.8946 - acc: 0.7417 - f1: 0.7417 - val_loss: 0.5041 - val_acc: 0.7625 - val_f1: 0.7625\n",
      "Epoch 53/100\n",
      "1200/1200 [==============================] - 195s 163ms/step - loss: 0.9009 - acc: 0.7385 - f1: 0.7384 - val_loss: 0.5155 - val_acc: 0.7502 - val_f1: 0.7502\n",
      "Epoch 54/100\n",
      "1200/1200 [==============================] - 194s 162ms/step - loss: 0.9040 - acc: 0.7366 - f1: 0.7366 - val_loss: 0.4972 - val_acc: 0.7612 - val_f1: 0.7612\n",
      "Epoch 55/100\n",
      "1200/1200 [==============================] - 196s 163ms/step - loss: 0.9109 - acc: 0.7405 - f1: 0.7405 - val_loss: 0.5166 - val_acc: 0.7505 - val_f1: 0.7505\n",
      "Epoch 56/100\n",
      "1200/1200 [==============================] - 197s 164ms/step - loss: 0.8928 - acc: 0.7424 - f1: 0.7424 - val_loss: 0.4904 - val_acc: 0.7623 - val_f1: 0.7623\n",
      "Epoch 57/100\n",
      "1200/1200 [==============================] - 199s 166ms/step - loss: 0.8974 - acc: 0.7405 - f1: 0.7405 - val_loss: 0.5100 - val_acc: 0.7538 - val_f1: 0.7538\n",
      "Epoch 58/100\n",
      "1200/1200 [==============================] - 203s 169ms/step - loss: 0.8886 - acc: 0.7462 - f1: 0.7462 - val_loss: 0.4933 - val_acc: 0.7629 - val_f1: 0.7629\n",
      "Epoch 59/100\n",
      "1200/1200 [==============================] - 197s 164ms/step - loss: 0.8965 - acc: 0.7461 - f1: 0.7461 - val_loss: 0.5049 - val_acc: 0.7633 - val_f1: 0.7633\n",
      "Epoch 60/100\n",
      "1200/1200 [==============================] - 196s 163ms/step - loss: 0.8784 - acc: 0.7512 - f1: 0.7512 - val_loss: 0.4985 - val_acc: 0.7657 - val_f1: 0.7657\n",
      "Epoch 61/100\n",
      "1200/1200 [==============================] - 198s 165ms/step - loss: 0.8750 - acc: 0.7488 - f1: 0.7488 - val_loss: 0.4874 - val_acc: 0.7716 - val_f1: 0.7716\n",
      "Epoch 62/100\n",
      "1200/1200 [==============================] - 203s 169ms/step - loss: 0.8711 - acc: 0.7502 - f1: 0.7502 - val_loss: 0.5131 - val_acc: 0.7594 - val_f1: 0.7594\n",
      "Epoch 63/100\n",
      "1200/1200 [==============================] - 199s 166ms/step - loss: 0.8673 - acc: 0.7499 - f1: 0.7499 - val_loss: 0.5175 - val_acc: 0.7547 - val_f1: 0.7547\n",
      "Epoch 64/100\n",
      "1200/1200 [==============================] - 198s 165ms/step - loss: 0.8683 - acc: 0.7502 - f1: 0.7502 - val_loss: 0.5045 - val_acc: 0.7638 - val_f1: 0.7638\n",
      "Epoch 65/100\n",
      "1200/1200 [==============================] - 196s 164ms/step - loss: 0.8527 - acc: 0.7559 - f1: 0.7559 - val_loss: 0.4686 - val_acc: 0.7874 - val_f1: 0.7874\n",
      "Epoch 66/100\n",
      "1200/1200 [==============================] - 195s 162ms/step - loss: 0.8660 - acc: 0.7493 - f1: 0.7493 - val_loss: 0.4973 - val_acc: 0.7676 - val_f1: 0.7676\n",
      "Epoch 67/100\n"
     ]
    },
    {
     "name": "stdout",
     "output_type": "stream",
     "text": [
      "1200/1200 [==============================] - 195s 163ms/step - loss: 0.8644 - acc: 0.7501 - f1: 0.7500 - val_loss: 0.5247 - val_acc: 0.7543 - val_f1: 0.7543\n",
      "Epoch 68/100\n",
      "1200/1200 [==============================] - 195s 163ms/step - loss: 0.8548 - acc: 0.7511 - f1: 0.7511 - val_loss: 0.4879 - val_acc: 0.7766 - val_f1: 0.7766\n",
      "Epoch 69/100\n",
      "1200/1200 [==============================] - 198s 165ms/step - loss: 0.8599 - acc: 0.7542 - f1: 0.7542 - val_loss: 0.4932 - val_acc: 0.7710 - val_f1: 0.7710\n",
      "Epoch 70/100\n",
      "1200/1200 [==============================] - 198s 165ms/step - loss: 0.8565 - acc: 0.7551 - f1: 0.7551 - val_loss: 0.4792 - val_acc: 0.7813 - val_f1: 0.7813\n",
      "Epoch 71/100\n",
      " 344/1200 [=======>......................] - ETA: 2:04 - loss: 0.8252 - acc: 0.7626 - f1: 0.7626"
     ]
    },
    {
     "name": "stderr",
     "output_type": "stream",
     "text": [
      "IOPub message rate exceeded.\n",
      "The notebook server will temporarily stop sending output\n",
      "to the client in order to avoid crashing it.\n",
      "To change this limit, set the config variable\n",
      "`--NotebookApp.iopub_msg_rate_limit`.\n",
      "\n",
      "Current values:\n",
      "NotebookApp.iopub_msg_rate_limit=1000.0 (msgs/sec)\n",
      "NotebookApp.rate_limit_window=3.0 (secs)\n",
      "\n"
     ]
    },
    {
     "name": "stdout",
     "output_type": "stream",
     "text": [
      "1200/1200 [==============================] - 196s 163ms/step - loss: 0.8367 - acc: 0.7610 - f1: 0.7610 - val_loss: 0.4727 - val_acc: 0.7836 - val_f1: 0.7836\n",
      "Epoch 72/100\n",
      "1200/1200 [==============================] - 198s 165ms/step - loss: 0.8468 - acc: 0.7558 - f1: 0.7558 - val_loss: 0.4966 - val_acc: 0.7685 - val_f1: 0.7685\n",
      "Epoch 73/100\n",
      "1200/1200 [==============================] - 195s 163ms/step - loss: 0.8411 - acc: 0.7607 - f1: 0.7607 - val_loss: 0.4972 - val_acc: 0.7699 - val_f1: 0.7699\n",
      "Epoch 74/100\n",
      "1200/1200 [==============================] - 196s 163ms/step - loss: 0.8387 - acc: 0.7598 - f1: 0.7598 - val_loss: 0.4869 - val_acc: 0.7740 - val_f1: 0.7740\n",
      "Epoch 75/100\n",
      "1200/1200 [==============================] - 196s 163ms/step - loss: 0.8452 - acc: 0.7580 - f1: 0.7580 - val_loss: 0.5181 - val_acc: 0.7563 - val_f1: 0.7563\n",
      "Epoch 76/100\n",
      "1200/1200 [==============================] - 195s 162ms/step - loss: 0.8471 - acc: 0.7594 - f1: 0.7594 - val_loss: 0.4883 - val_acc: 0.7805 - val_f1: 0.7805\n",
      "Epoch 77/100\n",
      "1200/1200 [==============================] - 196s 163ms/step - loss: 0.8249 - acc: 0.7659 - f1: 0.7659 - val_loss: 0.4768 - val_acc: 0.7802 - val_f1: 0.7802\n",
      "Epoch 78/100\n",
      "1200/1200 [==============================] - 196s 163ms/step - loss: 0.8234 - acc: 0.7638 - f1: 0.7638 - val_loss: 0.4652 - val_acc: 0.7887 - val_f1: 0.7887\n",
      "Epoch 79/100\n",
      "1200/1200 [==============================] - 197s 164ms/step - loss: 0.8101 - acc: 0.7678 - f1: 0.7678 - val_loss: 0.4815 - val_acc: 0.7835 - val_f1: 0.7835\n",
      "Epoch 80/100\n",
      "1200/1200 [==============================] - 195s 163ms/step - loss: 0.8345 - acc: 0.7609 - f1: 0.7609 - val_loss: 0.4852 - val_acc: 0.7805 - val_f1: 0.7805\n",
      "Epoch 81/100\n",
      "1200/1200 [==============================] - 196s 164ms/step - loss: 0.8206 - acc: 0.7662 - f1: 0.7662 - val_loss: 0.4729 - val_acc: 0.7828 - val_f1: 0.7828\n",
      "Epoch 82/100\n",
      "1200/1200 [==============================] - 196s 163ms/step - loss: 0.8187 - acc: 0.7649 - f1: 0.7649 - val_loss: 0.4809 - val_acc: 0.7811 - val_f1: 0.7811\n",
      "Epoch 83/100\n",
      "1200/1200 [==============================] - 195s 162ms/step - loss: 0.8226 - acc: 0.7632 - f1: 0.7632 - val_loss: 0.4751 - val_acc: 0.7878 - val_f1: 0.7878\n",
      "Epoch 84/100\n",
      "1200/1200 [==============================] - 194s 162ms/step - loss: 0.8284 - acc: 0.7631 - f1: 0.7631 - val_loss: 0.4836 - val_acc: 0.7806 - val_f1: 0.7806\n",
      "Epoch 85/100\n",
      "1200/1200 [==============================] - 194s 162ms/step - loss: 0.8193 - acc: 0.7645 - f1: 0.7645 - val_loss: 0.5047 - val_acc: 0.7718 - val_f1: 0.7718\n",
      "Epoch 86/100\n",
      "1200/1200 [==============================] - 195s 162ms/step - loss: 0.8149 - acc: 0.7661 - f1: 0.7661 - val_loss: 0.4928 - val_acc: 0.7751 - val_f1: 0.7751\n",
      "Epoch 87/100\n",
      "1200/1200 [==============================] - 194s 161ms/step - loss: 0.8073 - acc: 0.7659 - f1: 0.7659 - val_loss: 0.4583 - val_acc: 0.7972 - val_f1: 0.7972\n",
      "Epoch 88/100\n",
      "1200/1200 [==============================] - 194s 162ms/step - loss: 0.8065 - acc: 0.7667 - f1: 0.7667 - val_loss: 0.5065 - val_acc: 0.7678 - val_f1: 0.7678\n",
      "Epoch 90/100\n",
      "1200/1200 [==============================] - 195s 163ms/step - loss: 0.8072 - acc: 0.7667 - f1: 0.7667 - val_loss: 0.4903 - val_acc: 0.7802 - val_f1: 0.7802\n",
      "Epoch 91/100\n",
      " 776/1200 [==================>...........] - ETA: 57s - loss: 0.7998 - acc: 0.7713 - f1: 0.7713"
     ]
    },
    {
     "name": "stderr",
     "output_type": "stream",
     "text": [
      "IOPub message rate exceeded.\n",
      "The notebook server will temporarily stop sending output\n",
      "to the client in order to avoid crashing it.\n",
      "To change this limit, set the config variable\n",
      "`--NotebookApp.iopub_msg_rate_limit`.\n",
      "\n",
      "Current values:\n",
      "NotebookApp.iopub_msg_rate_limit=1000.0 (msgs/sec)\n",
      "NotebookApp.rate_limit_window=3.0 (secs)\n",
      "\n"
     ]
    },
    {
     "name": "stdout",
     "output_type": "stream",
     "text": [
      "1200/1200 [==============================] - 195s 162ms/step - loss: 0.8177 - acc: 0.7662 - f1: 0.7662 - val_loss: 0.5062 - val_acc: 0.7692 - val_f1: 0.7692\n",
      "Epoch 96/100\n",
      "1200/1200 [==============================] - 195s 162ms/step - loss: 0.7971 - acc: 0.7666 - f1: 0.7666 - val_loss: 0.4762 - val_acc: 0.7874 - val_f1: 0.7874\n",
      "Epoch 97/100\n",
      "1200/1200 [==============================] - 195s 162ms/step - loss: 0.7823 - acc: 0.7784 - f1: 0.7784 - val_loss: 0.4860 - val_acc: 0.7803 - val_f1: 0.7803\n",
      "Epoch 98/100\n",
      "1200/1200 [==============================] - 195s 162ms/step - loss: 0.7842 - acc: 0.7757 - f1: 0.7757 - val_loss: 0.4707 - val_acc: 0.7867 - val_f1: 0.7867\n",
      "Epoch 99/100\n",
      "1200/1200 [==============================] - 195s 162ms/step - loss: 0.7959 - acc: 0.7695 - f1: 0.7695 - val_loss: 0.4698 - val_acc: 0.7878 - val_f1: 0.7878\n",
      "Epoch 100/100\n",
      "1200/1200 [==============================] - 196s 163ms/step - loss: 0.7786 - acc: 0.7759 - f1: 0.7759 - val_loss: 0.4719 - val_acc: 0.7931 - val_f1: 0.7931\n"
     ]
    },
    {
     "data": {
      "text/plain": [
       "<keras.callbacks.History at 0x7f292ed3c4e0>"
      ]
     },
     "execution_count": 16,
     "metadata": {},
     "output_type": "execute_result"
    }
   ],
   "source": [
    "training_batches = MagnitudeUtils.batchify(x_train, y_train, BATCH_SIZE) # Split the training data into batches\n",
    "num_batches_per_epoch_train = int(np.ceil(num_training/float(BATCH_SIZE)))\n",
    "test_batches = MagnitudeUtils.batchify(x_test, y_test, BATCH_SIZE)  # Split the test data into batches\n",
    "num_batches_per_epoch_test = int(np.ceil(num_test/float(BATCH_SIZE)))\n",
    "\n",
    "\n",
    "# Generates batches of the transformed training data\n",
    "train_batch_generator = (\n",
    "  (\n",
    "    med_vectors.query(x_train_batch), # Magnitude will handle converting the 2D array of text into the 3D word vector representations!\n",
    "    MagnitudeUtils.to_categorical(y_train_batch, num_outputs) # Magnitude will handle converting the class labels into one-hot encodings!\n",
    "  ) for x_train_batch, y_train_batch in training_batches\n",
    ")\n",
    "\n",
    "# Generates batches of the transformed test data\n",
    "test_batch_generator = (\n",
    "  (\n",
    "    med_vectors.query(x_test_batch), # Magnitude will handle converting the 2D array of text into the 3D word vector representations!\n",
    "    MagnitudeUtils.to_categorical(y_test_batch, num_outputs) # Magnitude will handle converting the class labels into one-hot encodings!\n",
    "  ) for x_test_batch, y_test_batch in test_batches\n",
    ")\n",
    "\n",
    "# Class weights\n",
    "class_weight = {\n",
    "    intent_to_int('Cardiovascular'): 20.\n",
    "    ,intent_to_int('Other'): 1.\n",
    "}\n",
    "\n",
    "# Start training\n",
    "model.fit_generator(\n",
    "    generator = train_batch_generator,\n",
    "    steps_per_epoch = num_batches_per_epoch_train,\n",
    "    validation_data = test_batch_generator,\n",
    "    validation_steps = num_batches_per_epoch_test,\n",
    "    epochs = EPOCHS,\n",
    "    class_weight=class_weight\n",
    ")"
   ]
  },
  {
   "cell_type": "code",
   "execution_count": 17,
   "metadata": {},
   "outputs": [
    {
     "name": "stdout",
     "output_type": "stream",
     "text": [
      "Results after training for 100 epochs:\n",
      "loss: 0.3312 - categorical_accuracy: 0.8568 - f1: 0.8568\n",
      "val_loss: 0.4719 - val_categorical_accuracy: 0.7931 - f1: 0.7931\n"
     ]
    }
   ],
   "source": [
    "print(\"Results after training for %d epochs:\" % (EPOCHS,))\n",
    "\n",
    "train_metrics = model.evaluate_generator(\n",
    "    generator = train_batch_generator,\n",
    "    steps = num_batches_per_epoch_train,\n",
    ")\n",
    "\n",
    "print(\"loss: %.4f - categorical_accuracy: %.4f - f1: %.4f\" % tuple(train_metrics))\n",
    "\n",
    "val_metrics = model.evaluate_generator(\n",
    "    generator = test_batch_generator,\n",
    "    steps = num_batches_per_epoch_test,\n",
    ")\n",
    "\n",
    "print(\"val_loss: %.4f - val_categorical_accuracy: %.4f - f1: %.4f\" % tuple(val_metrics))"
   ]
  },
  {
   "cell_type": "code",
   "execution_count": 19,
   "metadata": {},
   "outputs": [
    {
     "data": {
      "image/png": "[encoded data removed]",
      "text/plain": [
       "<Figure size 432x288 with 1 Axes>"
      ]
     },
     "metadata": {},
     "output_type": "display_data"
    },
    {
     "data": {
      "image/png": "[encoded data removed]",
      "text/plain": [
       "<Figure size 432x288 with 1 Axes>"
      ]
     },
     "metadata": {},
     "output_type": "display_data"
    }
   ],
   "source": [
    "# Plot training & validation accuracy values\n",
    "plt.plot(model.history.history['acc'])\n",
    "plt.plot(model.history.history['val_acc'])\n",
    "plt.title('Model accuracy')\n",
    "plt.ylabel('Accuracy')\n",
    "plt.xlabel('Epoch')\n",
    "plt.legend(['Train', 'Test'], loc='upper left')\n",
    "plt.show()\n",
    "\n",
    "# Plot training & validation loss values\n",
    "plt.plot(model.history.history['loss'])\n",
    "plt.plot(model.history.history['val_loss'])\n",
    "plt.title('Model loss')\n",
    "plt.ylabel('Loss')\n",
    "plt.xlabel('Epoch')\n",
    "plt.legend(['Train', 'Test'], loc='upper left')\n",
    "plt.show()"
   ]
  },
  {
   "cell_type": "code",
   "execution_count": 20,
   "metadata": {},
   "outputs": [
    {
     "name": "stdout",
     "output_type": "stream",
     "text": [
      "['Cardiovascular', 'Other']\n",
      "[[1397  280]\n",
      " [1983 7280]]\n",
      "                precision    recall  f1-score   support\n",
      "\n",
      "Cardiovascular       0.41      0.83      0.55      1677\n",
      "         Other       0.96      0.79      0.87      9263\n",
      "\n",
      "   avg / total       0.88      0.79      0.82     10940\n",
      "\n"
     ]
    }
   ],
   "source": [
    "from sklearn.metrics import confusion_matrix, classification_report\n",
    "\n",
    "y_pred = np.argmax(model.predict(med_vectors.query(x_test)), axis=1)\n",
    "class_labels = [int_to_intent(y) for y in set(y_test)] \n",
    "report = classification_report(y_test, y_pred, target_names=class_labels)\n",
    "print(class_labels)\n",
    "print(confusion_matrix(y_test, y_pred))\n",
    "print(report)"
   ]
  },
  {
   "cell_type": "code",
   "execution_count": 21,
   "metadata": {},
   "outputs": [
    {
     "data": {
      "text/plain": [
       "<matplotlib.axes._subplots.AxesSubplot at 0x7f292efd1048>"
      ]
     },
     "execution_count": 21,
     "metadata": {},
     "output_type": "execute_result"
    },
    {
     "data": {
      "image/png": "[encoded data removed]",
      "text/plain": [
       "<Figure size 432x288 with 2 Axes>"
      ]
     },
     "metadata": {},
     "output_type": "display_data"
    }
   ],
   "source": [
    "plot_confusion_matrix(y_test, y_pred, classes=class_labels\n",
    "                      , title='Confusion Matrix for Cardiovascular Disease CNN Classifier')"
   ]
  },
  {
   "cell_type": "code",
   "execution_count": null,
   "metadata": {},
   "outputs": [],
   "source": []
  }
 ],
 "metadata": {
  "kernelspec": {
   "display_name": "Python 3",
   "language": "python",
   "name": "python3"
  },
  "language_info": {
   "codemirror_mode": {
    "name": "ipython",
    "version": 3
   },
   "file_extension": ".py",
   "mimetype": "text/x-python",
   "name": "python",
   "nbconvert_exporter": "python",
   "pygments_lexer": "ipython3",
   "version": "3.6.5"
  }
 },
 "nbformat": 4,
 "nbformat_minor": 2
}
