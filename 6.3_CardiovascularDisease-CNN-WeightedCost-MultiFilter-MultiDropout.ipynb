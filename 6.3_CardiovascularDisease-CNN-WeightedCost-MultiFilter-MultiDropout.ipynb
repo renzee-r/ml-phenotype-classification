{
 "cells": [
  {
   "cell_type": "code",
   "execution_count": 24,
   "metadata": {},
   "outputs": [
    {
     "name": "stdout",
     "output_type": "stream",
     "text": [
      "[nltk_data] Downloading package punkt to /home/renzeer/nltk_data...\n",
      "[nltk_data]   Package punkt is already up-to-date!\n",
      "[nltk_data] Downloading package stopwords to\n",
      "[nltk_data]     /home/renzeer/nltk_data...\n",
      "[nltk_data]   Package stopwords is already up-to-date!\n"
     ]
    }
   ],
   "source": [
    "# Standard python helper libraries.\n",
    "import os, sys, re, json, time, wget, csv, string, time, random\n",
    "import itertools, collections\n",
    "\n",
    "# NumPy\n",
    "import numpy as np\n",
    "\n",
    "# NLTK for NLP utils\n",
    "import nltk\n",
    "nltk.download('punkt')\n",
    "nltk.download('stopwords')\n",
    "from nltk.corpus import stopwords\n",
    "from nltk.tokenize import word_tokenize\n",
    "from nltk.stem.porter import PorterStemmer\n",
    "\n",
    "from keras import backend as K\n",
    "from keras.models import Sequential, Model\n",
    "from keras.layers import GaussianNoise, Dropout, Dense, Embedding, MaxPool1D, GlobalMaxPool1D, Conv1D, Concatenate, Input, Activation\n",
    "from keras.optimizers import Adam\n",
    "from keras.callbacks import Callback\n",
    "\n",
    "from sklearn.metrics import confusion_matrix, f1_score, precision_score, recall_score\n",
    "\n",
    "from pymagnitude import *"
   ]
  },
  {
   "cell_type": "markdown",
   "metadata": {},
   "source": [
    "# Binary Classifier for Cardiovascular Disease using a Convolutional Neural Network\n",
    "\n",
    "In this notebook, we will be building a model for classifying a sentence from an EHR note for the presence of cardiovascular disease. The model will be trained using a convoultional neural network (CNN). "
   ]
  },
  {
   "cell_type": "markdown",
   "metadata": {},
   "source": [
    "## Text Preprocessing"
   ]
  },
  {
   "cell_type": "code",
   "execution_count": 2,
   "metadata": {},
   "outputs": [
    {
     "name": "stdout",
     "output_type": "stream",
     "text": [
      "['Other', 'PAST MEDICAL HISTORY:, He has difficulty climbing stairs, difficulty with airline seats, tying shoes, used to public seating, and lifting objects off the floor.  He exercises three times a week at home and does cardio.  He has difficulty walking two blocks or five flights of stairs.  Difficulty with snoring.  He has muscle and joint pains including knee pain, back pain, foot and ankle pain, and swelling.  He has gastroesophageal reflux disease.,PAST SURGICAL HISTORY:, Includes reconstructive surgery on his right hand 13 years ago.  ,SOCIAL HISTORY:, He is currently single.  He has about ten drinks a year.  He had smoked significantly up until several months ago.  He now smokes less than three cigarettes a day.,FAMILY HISTORY:, Heart disease in both grandfathers, grandmother with stroke, and a grandmother with diabetes.  Denies obesity and hypertension in other family members.,CURRENT MEDICATIONS:, None.,ALLERGIES:,  He is allergic to Penicillin.,MISCELLANEOUS/EATING HISTORY:, He has been going to support groups for seven months with Lynn Holmberg in Greenwich and he is from Eastchester, New York and he feels that we are the appropriate program.  He had a poor experience with the Greenwich program.  Eating history, he is not an emotional eater.  Does not like sweets.  He likes big portions and carbohydrates.  He likes chicken and not steak.  He currently weighs 312 pounds.  Ideal body weight would be 170 pounds.  He is 142 pounds overweight.  If ,he lost 60% of his excess body weight that would be 84 pounds and he should weigh about 228.,REVIEW OF SYSTEMS: ,Negative for head, neck, heart, lungs, GI, GU, orthopedic, and skin.  Specifically denies chest pain, heart attack, coronary artery disease, congestive heart failure, arrhythmia, atrial fibrillation, pacemaker, high cholesterol, pulmonary embolism, high blood pressure, CVA, venous insufficiency, thrombophlebitis, asthma, shortness of breath, COPD, emphysema, sleep apnea, diabetes, leg and foot swelling, osteoarthritis, rheumatoid arthritis, hiatal hernia, peptic ulcer disease, gallstones, infected gallbladder, pancreatitis, fatty liver, hepatitis, hemorrhoids, rectal bleeding, polyps, incontinence of stool, urinary stress incontinence, or cancer.  Denies cellulitis, pseudotumor cerebri, meningitis, or encephalitis.,PHYSICAL EXAMINATION:, He is alert and oriented x 3.  Cranial nerves II-XII are intact.  Afebrile.  Vital Signs are stable.']\n",
      "['Cardiovascular', '2-D M-MODE: , ,1.  Left atrial enlargement with left atrial diameter of 4.7 cm.,2.  Normal size right and left ventricle.,3.  Normal LV systolic function with left ventricular ejection fraction of 51%.,4.  Normal LV diastolic function.,5.  No pericardial effusion.,6.  Normal morphology of aortic valve, mitral valve, tricuspid valve, and pulmonary valve.,7.  PA systolic pressure is 36 mmHg.,DOPPLER: , ,1.  Mild mitral and tricuspid regurgitation.,2.  Trace aortic and pulmonary regurgitation.']\n"
     ]
    }
   ],
   "source": [
    "ehr_notes = []\n",
    "with open('data/ehr_samples.csv', newline='') as csvfile:\n",
    "    reader = csv.DictReader(csvfile)\n",
    "    for row in reader:     \n",
    "        if int(row['SpecialtyID']) in [39, 6, 16, 37, 11, 12, 29, 26, 7, 21, 19, 10, 2, 18]:\n",
    "            continue\n",
    "        elif int(row['SpecialtyID']) != 4:\n",
    "            ehr_notes.append(['Other', row['Note']])\n",
    "        else:\n",
    "            ehr_notes.append([row['Specialty'], row['Note']])\n",
    "\n",
    "print(ehr_notes[0])\n",
    "print(ehr_notes[2])"
   ]
  },
  {
   "cell_type": "markdown",
   "metadata": {},
   "source": [
    "## Natural Langauge Processing"
   ]
  },
  {
   "cell_type": "code",
   "execution_count": 3,
   "metadata": {},
   "outputs": [
    {
     "name": "stdout",
     "output_type": "stream",
     "text": [
      "['Cardiovascular', 'return clinic 4 weeks5']\n",
      "['Other', 'biceps tendon nonsubluxable']\n"
     ]
    }
   ],
   "source": [
    "ehr_sentences = []\n",
    "for record in ehr_notes:\n",
    "    sent_text = nltk.sent_tokenize(record[1])\n",
    "    for sent in sent_text:\n",
    "        tokens = word_tokenize(sent)\n",
    "\n",
    "        # convert to lower case\n",
    "        tokens = [w.lower() for w in tokens]\n",
    "\n",
    "        # remove punctuation from each word\n",
    "        table = str.maketrans('', '', string.punctuation)\n",
    "        tokens = [w.translate(table) for w in tokens]\n",
    "\n",
    "        # filter out stop words\n",
    "        stop_words = set(stopwords.words('english'))\n",
    "        tokens = [w for w in tokens if not w in stop_words]\n",
    "\n",
    "#         # stem words\n",
    "#         porter = PorterStemmer()\n",
    "#         tokens = [porter.stem(word) for word in tokens]\n",
    "\n",
    "        # remove blanks\n",
    "        tokens = [w for w in tokens if w != '']\n",
    "\n",
    "        ehr_sentences.append([record[0], ' '.join(tokens)])\n",
    "\n",
    "random.Random(4).shuffle(ehr_sentences)\n",
    "\n",
    "print(ehr_sentences[0])\n",
    "print(ehr_sentences[1])"
   ]
  },
  {
   "cell_type": "markdown",
   "metadata": {},
   "source": [
    "## Word Embedding\n",
    "\n",
    "The first step is to load in our word embedding, which is trained on text from Wikipedia, Pubmed, and Pubmed Central. We load our word embedding through a tool called Magnitude. A full exploration of the word embedding and Magnitude can be found in the Introduction notebook."
   ]
  },
  {
   "cell_type": "code",
   "execution_count": 4,
   "metadata": {},
   "outputs": [],
   "source": [
    "med_vectors = Magnitude(\"data/wikipedia-pubmed-and-PMC-w2v.magnitude\", pad_to_length=30)"
   ]
  },
  {
   "cell_type": "markdown",
   "metadata": {},
   "source": [
    "## Defining our Training and Test Data\n",
    "\n",
    "Before we can start building our neural networks, we first have to define our datasets. Specifically, we have to break up our EHR data so that we have records that we can train on and records that are exclusively used to test on. Maintaining a separate set for testing ensures we avoid overfitting our data.\n",
    "\n",
    "We will use some built-in functions provided by Magnitude that helps encode our classes/categories. We then partition our data into our train and test sets. For each set we have both data and labels. Initially, we will be making these partitions small to make iterating through model development much quicker. However, once the models are developed, we will expand our datasets to include all of our data. To ensure we defined our data correctly, we can print a few lines from the two sets."
   ]
  },
  {
   "cell_type": "code",
   "execution_count": 5,
   "metadata": {},
   "outputs": [
    {
     "data": {
      "text/plain": [
       "70941"
      ]
     },
     "execution_count": 5,
     "metadata": {},
     "output_type": "execute_result"
    }
   ],
   "source": [
    "len(ehr_sentences)"
   ]
  },
  {
   "cell_type": "code",
   "execution_count": 6,
   "metadata": {},
   "outputs": [
    {
     "name": "stdout",
     "output_type": "stream",
     "text": [
      "Cardiovascular\n",
      "First line of train/test data:\n",
      "\t ['return', 'clinic', '4', 'weeks5']\n",
      "\t 0 Cardiovascular\n",
      "\t ['smokes', 'one', 'pack', 'per', 'day']\n",
      "\t 0 Cardiovascular\n",
      "Second line of train/test data:\n",
      "\t ['biceps', 'tendon', 'nonsubluxable']\n",
      "\t 1 Other\n",
      "\t ['denies', 'illicit', 'drug', 'use', 'family', 'history', 'parents', 'died', 'myocardial', 'infarctions']\n",
      "\t 1 Other\n"
     ]
    }
   ],
   "source": [
    "add_intent, intent_to_int, int_to_intent = MagnitudeUtils.class_encoding()\n",
    "\n",
    "x_train = [ehr_sent[1].split(' ') for ehr_sent in ehr_sentences[:60000]]\n",
    "x_test = [ehr_sent[1].split(' ') for ehr_sent in ehr_sentences[60001:]]\n",
    "\n",
    "y_train = [add_intent(ehr_sent[0]) for ehr_sent in ehr_sentences[:60000]]\n",
    "y_test = [add_intent(ehr_sent[0]) for ehr_sent in ehr_sentences[60001:]]\n",
    "\n",
    "y_train = list(np.array(y_train).reshape(len(y_train)))\n",
    "y_test = list(np.array(y_test).reshape(len(y_test)))\n",
    "\n",
    "num_training = len(x_train)\n",
    "num_test = len(x_test)\n",
    "num_outputs = int(max(max(y_train), max(y_test))) + 1\n",
    "\n",
    "print(int_to_intent(0))\n",
    "\n",
    "print(\"First line of train/test data:\")\n",
    "print(\"\\t\", x_train[0])\n",
    "print(\"\\t\", y_train[0], int_to_intent(y_train[0]))\n",
    "print(\"\\t\", x_test[0])\n",
    "print(\"\\t\", y_test[0], int_to_intent(y_test[0]))\n",
    "print(\"Second line of train/test data:\")\n",
    "print(\"\\t\", x_train[1])\n",
    "print(\"\\t\", y_train[1], int_to_intent(y_train[1]))\n",
    "print(\"\\t\", x_test[1])\n",
    "print(\"\\t\", y_test[1], int_to_intent(y_test[1]))"
   ]
  },
  {
   "cell_type": "markdown",
   "metadata": {},
   "source": [
    "## Defining Custom Callback Function"
   ]
  },
  {
   "cell_type": "code",
   "execution_count": 7,
   "metadata": {},
   "outputs": [],
   "source": [
    "def f1(y_true, y_pred):\n",
    "    def recall(y_true, y_pred):\n",
    "        \"\"\"Recall metric.\n",
    "\n",
    "        Only computes a batch-wise average of recall.\n",
    "\n",
    "        Computes the recall, a metric for multi-label classification of\n",
    "        how many relevant items are selected.\n",
    "        \"\"\"\n",
    "        true_positives = K.sum(K.round(K.clip(y_true * y_pred, 0, 1)))\n",
    "        possible_positives = K.sum(K.round(K.clip(y_true, 0, 1)))\n",
    "        recall = true_positives / (possible_positives + K.epsilon())\n",
    "        return recall\n",
    "\n",
    "    def precision(y_true, y_pred):\n",
    "        \"\"\"Precision metric.\n",
    "\n",
    "        Only computes a batch-wise average of precision.\n",
    "\n",
    "        Computes the precision, a metric for multi-label classification of\n",
    "        how many selected items are relevant.\n",
    "        \"\"\"\n",
    "        true_positives = K.sum(K.round(K.clip(y_true * y_pred, 0, 1)))\n",
    "        predicted_positives = K.sum(K.round(K.clip(y_pred, 0, 1)))\n",
    "        precision = true_positives / (predicted_positives + K.epsilon())\n",
    "        return precision\n",
    "    \n",
    "    precision = precision(y_true, y_pred)\n",
    "    recall = recall(y_true, y_pred)\n",
    "    return 2*((precision*recall)/(precision+recall+K.epsilon()))"
   ]
  },
  {
   "cell_type": "markdown",
   "metadata": {},
   "source": [
    "## Defining Model"
   ]
  },
  {
   "cell_type": "code",
   "execution_count": 31,
   "metadata": {},
   "outputs": [
    {
     "name": "stdout",
     "output_type": "stream",
     "text": [
      "__________________________________________________________________________________________________\n",
      "Layer (type)                    Output Shape         Param #     Connected to                     \n",
      "==================================================================================================\n",
      "input_13 (InputLayer)           (None, 30, 200)      0                                            \n",
      "__________________________________________________________________________________________________\n",
      "gaussian_noise_21 (GaussianNois (None, 30, 200)      0           input_13[0][0]                   \n",
      "__________________________________________________________________________________________________\n",
      "conv1d_47 (Conv1D)              (None, 30, 128)      51328       gaussian_noise_21[0][0]          \n",
      "__________________________________________________________________________________________________\n",
      "conv1d_48 (Conv1D)              (None, 30, 128)      76928       gaussian_noise_21[0][0]          \n",
      "__________________________________________________________________________________________________\n",
      "conv1d_49 (Conv1D)              (None, 30, 128)      102528      gaussian_noise_21[0][0]          \n",
      "__________________________________________________________________________________________________\n",
      "dropout_26 (Dropout)            (None, 30, 128)      0           conv1d_47[0][0]                  \n",
      "__________________________________________________________________________________________________\n",
      "dropout_27 (Dropout)            (None, 30, 128)      0           conv1d_48[0][0]                  \n",
      "__________________________________________________________________________________________________\n",
      "dropout_28 (Dropout)            (None, 30, 128)      0           conv1d_49[0][0]                  \n",
      "__________________________________________________________________________________________________\n",
      "global_max_pooling1d_40 (Global (None, 128)          0           dropout_26[0][0]                 \n",
      "__________________________________________________________________________________________________\n",
      "global_max_pooling1d_41 (Global (None, 128)          0           dropout_27[0][0]                 \n",
      "__________________________________________________________________________________________________\n",
      "global_max_pooling1d_42 (Global (None, 128)          0           dropout_28[0][0]                 \n",
      "__________________________________________________________________________________________________\n",
      "concatenate_11 (Concatenate)    (None, 384)          0           global_max_pooling1d_40[0][0]    \n",
      "                                                                 global_max_pooling1d_41[0][0]    \n",
      "                                                                 global_max_pooling1d_42[0][0]    \n",
      "__________________________________________________________________________________________________\n",
      "dense_16 (Dense)                (None, 100)          38500       concatenate_11[0][0]             \n",
      "__________________________________________________________________________________________________\n",
      "activation_25 (Activation)      (None, 100)          0           dense_16[0][0]                   \n",
      "__________________________________________________________________________________________________\n",
      "dense_17 (Dense)                (None, 2)            202         activation_25[0][0]              \n",
      "__________________________________________________________________________________________________\n",
      "activation_26 (Activation)      (None, 2)            0           dense_17[0][0]                   \n",
      "==================================================================================================\n",
      "Total params: 269,486\n",
      "Trainable params: 269,486\n",
      "Non-trainable params: 0\n",
      "__________________________________________________________________________________________________\n"
     ]
    }
   ],
   "source": [
    "MAX_WORDS = 30 # The maximum number of words the sequence model will consider\n",
    "STD_DEV = 0.01 # Deviation of noise for Gaussian Noise applied to the embeddings\n",
    "DROPOUT_RATIO = .6 # The ratio to dropout\n",
    "BATCH_SIZE = 100 # The number of examples per train/validation step\n",
    "EPOCHS = 100 # The number of times to repeat through all of the training data\n",
    "LEARNING_RATE = .01 # The learning rate for the optimizer\n",
    "NUM_FILTERS = 128\n",
    "HIDDEN_UNITS = 100\n",
    "\n",
    "inlayer = Input(shape=(MAX_WORDS, med_vectors.dim))\n",
    "input_withnoise = GaussianNoise(STD_DEV)(inlayer)\n",
    "\n",
    "submodel_a = Conv1D(NUM_FILTERS, 2, activation='relu', padding='same')(input_withnoise)\n",
    "submodel_a = Dropout(DROPOUT_RATIO)(submodel_a)\n",
    "submodel_a = GlobalMaxPool1D()(submodel_a)\n",
    "\n",
    "submodel_b = Conv1D(NUM_FILTERS, 3, activation='relu', padding='same')(input_withnoise)\n",
    "submodel_b = Dropout(DROPOUT_RATIO)(submodel_b)\n",
    "submodel_b = GlobalMaxPool1D()(submodel_b)\n",
    "\n",
    "submodel_c = Conv1D(NUM_FILTERS, 4, activation='relu', padding='same')(input_withnoise)\n",
    "submodel_c = Dropout(DROPOUT_RATIO)(submodel_c)\n",
    "submodel_c = GlobalMaxPool1D()(submodel_c)\n",
    "\n",
    "model_concat = Concatenate(axis=-1)([submodel_a, submodel_b, submodel_c])\n",
    "model_concat = Dense(HIDDEN_UNITS)(model_concat)\n",
    "model_concat = Activation('relu')(model_concat)\n",
    "model_concat = Dense(num_outputs)(model_concat)\n",
    "model_concat = Activation('softmax')(model_concat)\n",
    "\n",
    "model = Model(inputs=inlayer, outputs=model_concat)\n",
    "\n",
    "model.compile(optimizer='adam', \n",
    "                       loss='binary_crossentropy',\n",
    "                       metrics=['accuracy', f1])\n",
    "model.summary()"
   ]
  },
  {
   "cell_type": "markdown",
   "metadata": {},
   "source": [
    "## Training Batches and Epochs"
   ]
  },
  {
   "cell_type": "code",
   "execution_count": 32,
   "metadata": {},
   "outputs": [
    {
     "name": "stdout",
     "output_type": "stream",
     "text": [
      "Epoch 1/100\n",
      "600/600 [==============================] - 315s 526ms/step - loss: 1.5327 - acc: 0.4546 - f1: 0.4546 - val_loss: 0.7612 - val_acc: 0.4900 - val_f1: 0.4900\n",
      "Epoch 2/100\n",
      "600/600 [==============================] - 19s 32ms/step - loss: 1.3594 - acc: 0.5490 - f1: 0.5490 - val_loss: 0.7273 - val_acc: 0.5587 - val_f1: 0.5587\n",
      "Epoch 3/100\n",
      "600/600 [==============================] - 19s 32ms/step - loss: 1.2515 - acc: 0.5955 - f1: 0.5955 - val_loss: 0.6804 - val_acc: 0.6015 - val_f1: 0.6015\n",
      "Epoch 4/100\n",
      "600/600 [==============================] - 19s 31ms/step - loss: 1.1656 - acc: 0.6330 - f1: 0.6330 - val_loss: 0.6986 - val_acc: 0.5830 - val_f1: 0.5830\n",
      "Epoch 5/100\n",
      "600/600 [==============================] - 19s 32ms/step - loss: 1.0944 - acc: 0.6591 - f1: 0.6591 - val_loss: 0.7083 - val_acc: 0.5783 - val_f1: 0.5783\n",
      "Epoch 6/100\n",
      "600/600 [==============================] - 20s 33ms/step - loss: 1.0234 - acc: 0.6846 - f1: 0.6846 - val_loss: 0.6254 - val_acc: 0.6480 - val_f1: 0.6480\n",
      "Epoch 7/100\n",
      "600/600 [==============================] - 20s 33ms/step - loss: 0.9664 - acc: 0.7065 - f1: 0.7065 - val_loss: 0.5839 - val_acc: 0.6684 - val_f1: 0.6684\n",
      "Epoch 8/100\n",
      "600/600 [==============================] - 20s 33ms/step - loss: 0.9345 - acc: 0.7179 - f1: 0.7179 - val_loss: 0.4941 - val_acc: 0.7293 - val_f1: 0.7293\n",
      "Epoch 9/100\n",
      "600/600 [==============================] - 20s 33ms/step - loss: 0.9115 - acc: 0.7271 - f1: 0.7271 - val_loss: 0.4997 - val_acc: 0.7345 - val_f1: 0.7345\n",
      "Epoch 10/100\n",
      "600/600 [==============================] - 20s 33ms/step - loss: 0.8915 - acc: 0.7357 - f1: 0.7357 - val_loss: 0.5264 - val_acc: 0.7080 - val_f1: 0.7080\n",
      "Epoch 11/100\n",
      "600/600 [==============================] - 20s 33ms/step - loss: 0.8618 - acc: 0.7475 - f1: 0.7474 - val_loss: 0.5136 - val_acc: 0.7270 - val_f1: 0.7270\n",
      "Epoch 12/100\n",
      "600/600 [==============================] - 20s 34ms/step - loss: 0.8243 - acc: 0.7595 - f1: 0.7595 - val_loss: 0.5047 - val_acc: 0.7383 - val_f1: 0.7383\n",
      "Epoch 13/100\n",
      "600/600 [==============================] - 20s 33ms/step - loss: 0.7901 - acc: 0.7731 - f1: 0.7731 - val_loss: 0.5987 - val_acc: 0.6856 - val_f1: 0.6856\n",
      "Epoch 14/100\n",
      "600/600 [==============================] - 20s 34ms/step - loss: 0.7834 - acc: 0.7745 - f1: 0.7745 - val_loss: 0.5266 - val_acc: 0.7264 - val_f1: 0.7264\n",
      "Epoch 15/100\n",
      "600/600 [==============================] - 20s 33ms/step - loss: 0.7712 - acc: 0.7796 - f1: 0.7796 - val_loss: 0.4609 - val_acc: 0.7698 - val_f1: 0.7698\n",
      "Epoch 16/100\n",
      "600/600 [==============================] - 20s 33ms/step - loss: 0.7602 - acc: 0.7825 - f1: 0.7825 - val_loss: 0.4599 - val_acc: 0.7771 - val_f1: 0.7771\n",
      "Epoch 17/100\n",
      "600/600 [==============================] - 19s 32ms/step - loss: 0.7362 - acc: 0.7919 - f1: 0.7919 - val_loss: 0.4813 - val_acc: 0.7590 - val_f1: 0.7590\n",
      "Epoch 18/100\n",
      "600/600 [==============================] - 19s 32ms/step - loss: 0.7065 - acc: 0.7998 - f1: 0.7998 - val_loss: 0.4808 - val_acc: 0.7710 - val_f1: 0.7710\n",
      "Epoch 19/100\n",
      "600/600 [==============================] - 20s 33ms/step - loss: 0.7226 - acc: 0.7979 - f1: 0.7979 - val_loss: 0.4902 - val_acc: 0.7615 - val_f1: 0.7615\n",
      "Epoch 20/100\n",
      "600/600 [==============================] - 20s 33ms/step - loss: 0.7053 - acc: 0.8012 - f1: 0.8012 - val_loss: 0.4677 - val_acc: 0.7734 - val_f1: 0.7734\n",
      "Epoch 21/100\n",
      "600/600 [==============================] - 20s 33ms/step - loss: 0.6736 - acc: 0.8146 - f1: 0.8146 - val_loss: 0.4751 - val_acc: 0.7754 - val_f1: 0.7754\n",
      "Epoch 22/100\n",
      "600/600 [==============================] - 20s 33ms/step - loss: 0.6957 - acc: 0.8053 - f1: 0.8053 - val_loss: 0.5174 - val_acc: 0.7312 - val_f1: 0.7312\n",
      "Epoch 23/100\n",
      "600/600 [==============================] - 20s 33ms/step - loss: 0.6776 - acc: 0.8148 - f1: 0.8148 - val_loss: 0.5203 - val_acc: 0.7483 - val_f1: 0.7483\n",
      "Epoch 24/100\n",
      "600/600 [==============================] - 20s 33ms/step - loss: 0.6697 - acc: 0.8138 - f1: 0.8138 - val_loss: 0.5142 - val_acc: 0.7562 - val_f1: 0.7562\n",
      "Epoch 25/100\n",
      "600/600 [==============================] - 19s 32ms/step - loss: 0.6678 - acc: 0.8159 - f1: 0.8159 - val_loss: 0.4596 - val_acc: 0.7812 - val_f1: 0.7812\n",
      "Epoch 26/100\n",
      "600/600 [==============================] - 20s 33ms/step - loss: 0.6470 - acc: 0.8203 - f1: 0.8203 - val_loss: 0.5031 - val_acc: 0.7581 - val_f1: 0.7581\n",
      "Epoch 27/100\n",
      "600/600 [==============================] - 30s 50ms/step - loss: 0.6471 - acc: 0.8233 - f1: 0.8233 - val_loss: 0.4994 - val_acc: 0.7591 - val_f1: 0.7591\n",
      "Epoch 28/100\n",
      "600/600 [==============================] - 29s 49ms/step - loss: 0.6336 - acc: 0.8282 - f1: 0.8282 - val_loss: 0.4471 - val_acc: 0.7933 - val_f1: 0.7933\n",
      "Epoch 29/100\n",
      "600/600 [==============================] - 30s 49ms/step - loss: 0.6295 - acc: 0.8281 - f1: 0.8281 - val_loss: 0.4465 - val_acc: 0.7959 - val_f1: 0.7959\n",
      "Epoch 30/100\n",
      "600/600 [==============================] - 29s 48ms/step - loss: 0.6171 - acc: 0.8333 - f1: 0.8333 - val_loss: 0.4909 - val_acc: 0.7712 - val_f1: 0.7712\n",
      "Epoch 31/100\n",
      "600/600 [==============================] - 29s 49ms/step - loss: 0.6310 - acc: 0.8281 - f1: 0.8281 - val_loss: 0.4338 - val_acc: 0.8016 - val_f1: 0.8016\n",
      "Epoch 32/100\n",
      "600/600 [==============================] - 29s 49ms/step - loss: 0.6150 - acc: 0.8325 - f1: 0.8325 - val_loss: 0.4155 - val_acc: 0.8132 - val_f1: 0.8132\n",
      "Epoch 33/100\n",
      "600/600 [==============================] - 29s 49ms/step - loss: 0.6072 - acc: 0.8372 - f1: 0.8372 - val_loss: 0.5122 - val_acc: 0.7569 - val_f1: 0.7569\n",
      "Epoch 34/100\n",
      "600/600 [==============================] - 30s 49ms/step - loss: 0.6030 - acc: 0.8379 - f1: 0.8379 - val_loss: 0.4661 - val_acc: 0.7840 - val_f1: 0.7840\n",
      "Epoch 35/100\n",
      "600/600 [==============================] - 29s 49ms/step - loss: 0.5864 - acc: 0.8441 - f1: 0.8441 - val_loss: 0.3958 - val_acc: 0.8279 - val_f1: 0.8279\n",
      "Epoch 36/100\n",
      "600/600 [==============================] - 29s 49ms/step - loss: 0.5930 - acc: 0.8407 - f1: 0.8407 - val_loss: 0.4475 - val_acc: 0.8005 - val_f1: 0.8005\n",
      "Epoch 37/100\n",
      "600/600 [==============================] - 29s 49ms/step - loss: 0.5917 - acc: 0.8408 - f1: 0.8408 - val_loss: 0.4175 - val_acc: 0.8112 - val_f1: 0.8112\n",
      "Epoch 38/100\n",
      "600/600 [==============================] - 30s 50ms/step - loss: 0.5927 - acc: 0.8418 - f1: 0.8418 - val_loss: 0.4489 - val_acc: 0.8021 - val_f1: 0.8021\n",
      "Epoch 39/100\n",
      "600/600 [==============================] - 30s 49ms/step - loss: 0.5585 - acc: 0.8514 - f1: 0.8514 - val_loss: 0.4299 - val_acc: 0.8124 - val_f1: 0.8124\n",
      "Epoch 40/100\n",
      "600/600 [==============================] - 29s 48ms/step - loss: 0.5732 - acc: 0.8483 - f1: 0.8483 - val_loss: 0.5111 - val_acc: 0.7660 - val_f1: 0.7660\n",
      "Epoch 41/100\n",
      "600/600 [==============================] - 29s 49ms/step - loss: 0.5603 - acc: 0.8517 - f1: 0.8517 - val_loss: 0.4495 - val_acc: 0.8018 - val_f1: 0.8018\n",
      "Epoch 42/100\n",
      "600/600 [==============================] - 30s 49ms/step - loss: 0.5492 - acc: 0.8536 - f1: 0.8536 - val_loss: 0.4315 - val_acc: 0.8125 - val_f1: 0.8125\n",
      "Epoch 43/100\n",
      "600/600 [==============================] - 29s 49ms/step - loss: 0.5627 - acc: 0.8515 - f1: 0.8515 - val_loss: 0.4458 - val_acc: 0.8037 - val_f1: 0.8037\n",
      "Epoch 44/100\n",
      "600/600 [==============================] - 30s 49ms/step - loss: 0.5536 - acc: 0.8517 - f1: 0.8517 - val_loss: 0.4406 - val_acc: 0.8046 - val_f1: 0.8046\n",
      "Epoch 45/100\n",
      "600/600 [==============================] - 29s 49ms/step - loss: 0.5435 - acc: 0.8561 - f1: 0.8561 - val_loss: 0.4442 - val_acc: 0.8054 - val_f1: 0.8054\n",
      "Epoch 46/100\n",
      "600/600 [==============================] - 29s 49ms/step - loss: 0.5304 - acc: 0.8604 - f1: 0.8604 - val_loss: 0.4259 - val_acc: 0.8206 - val_f1: 0.8206\n",
      "Epoch 47/100\n",
      "600/600 [==============================] - 30s 49ms/step - loss: 0.5472 - acc: 0.8572 - f1: 0.8572 - val_loss: 0.4666 - val_acc: 0.7942 - val_f1: 0.7942\n",
      "Epoch 48/100\n",
      "600/600 [==============================] - 30s 50ms/step - loss: 0.5352 - acc: 0.8584 - f1: 0.8584 - val_loss: 0.4346 - val_acc: 0.8181 - val_f1: 0.8181\n",
      "Epoch 49/100\n",
      "600/600 [==============================] - 30s 49ms/step - loss: 0.5366 - acc: 0.8580 - f1: 0.8580 - val_loss: 0.4413 - val_acc: 0.8123 - val_f1: 0.8123\n",
      "Epoch 50/100\n"
     ]
    },
    {
     "name": "stdout",
     "output_type": "stream",
     "text": [
      "600/600 [==============================] - 29s 48ms/step - loss: 0.5256 - acc: 0.8621 - f1: 0.8621 - val_loss: 0.4425 - val_acc: 0.8088 - val_f1: 0.8088\n",
      "Epoch 51/100\n",
      "600/600 [==============================] - 29s 49ms/step - loss: 0.5231 - acc: 0.8626 - f1: 0.8626 - val_loss: 0.4124 - val_acc: 0.8267 - val_f1: 0.8267\n",
      "Epoch 52/100\n",
      "600/600 [==============================] - 29s 49ms/step - loss: 0.5258 - acc: 0.8621 - f1: 0.8621 - val_loss: 0.4522 - val_acc: 0.8137 - val_f1: 0.8137\n",
      "Epoch 53/100\n",
      "600/600 [==============================] - 30s 49ms/step - loss: 0.5153 - acc: 0.8665 - f1: 0.8665 - val_loss: 0.4117 - val_acc: 0.8348 - val_f1: 0.8348\n",
      "Epoch 54/100\n",
      "600/600 [==============================] - 30s 49ms/step - loss: 0.5174 - acc: 0.8656 - f1: 0.8656 - val_loss: 0.4330 - val_acc: 0.8239 - val_f1: 0.8239\n",
      "Epoch 55/100\n",
      "600/600 [==============================] - 29s 49ms/step - loss: 0.5092 - acc: 0.8667 - f1: 0.8667 - val_loss: 0.4134 - val_acc: 0.8258 - val_f1: 0.8258\n",
      "Epoch 56/100\n",
      "600/600 [==============================] - 29s 49ms/step - loss: 0.5079 - acc: 0.8699 - f1: 0.8699 - val_loss: 0.4223 - val_acc: 0.8273 - val_f1: 0.8273\n",
      "Epoch 57/100\n",
      "600/600 [==============================] - 30s 49ms/step - loss: 0.5018 - acc: 0.8693 - f1: 0.8693 - val_loss: 0.4416 - val_acc: 0.8242 - val_f1: 0.8242\n",
      "Epoch 58/100\n",
      "600/600 [==============================] - 30s 49ms/step - loss: 0.5121 - acc: 0.8653 - f1: 0.8653 - val_loss: 0.4290 - val_acc: 0.8155 - val_f1: 0.8155\n",
      "Epoch 59/100\n",
      "600/600 [==============================] - 30s 50ms/step - loss: 0.5037 - acc: 0.8683 - f1: 0.8683 - val_loss: 0.4155 - val_acc: 0.8307 - val_f1: 0.8307\n",
      "Epoch 60/100\n",
      "600/600 [==============================] - 29s 49ms/step - loss: 0.4923 - acc: 0.8717 - f1: 0.8717 - val_loss: 0.3976 - val_acc: 0.8459 - val_f1: 0.8459\n",
      "Epoch 61/100\n",
      "600/600 [==============================] - 29s 49ms/step - loss: 0.5048 - acc: 0.8700 - f1: 0.8700 - val_loss: 0.4765 - val_acc: 0.8016 - val_f1: 0.8016\n",
      "Epoch 62/100\n",
      "600/600 [==============================] - 30s 49ms/step - loss: 0.4805 - acc: 0.8761 - f1: 0.8761 - val_loss: 0.4254 - val_acc: 0.8349 - val_f1: 0.8349\n",
      "Epoch 63/100\n",
      "600/600 [==============================] - 30s 49ms/step - loss: 0.4978 - acc: 0.8708 - f1: 0.8708 - val_loss: 0.4535 - val_acc: 0.8201 - val_f1: 0.8201\n",
      "Epoch 64/100\n",
      "600/600 [==============================] - 30s 49ms/step - loss: 0.4901 - acc: 0.8733 - f1: 0.8733 - val_loss: 0.4240 - val_acc: 0.8267 - val_f1: 0.8267\n",
      "Epoch 65/100\n",
      "600/600 [==============================] - 30s 49ms/step - loss: 0.4770 - acc: 0.8759 - f1: 0.8759 - val_loss: 0.4522 - val_acc: 0.8185 - val_f1: 0.8185\n",
      "Epoch 66/100\n",
      "600/600 [==============================] - 30s 49ms/step - loss: 0.4903 - acc: 0.8726 - f1: 0.8726 - val_loss: 0.4254 - val_acc: 0.8319 - val_f1: 0.8319\n",
      "Epoch 67/100\n",
      "600/600 [==============================] - 29s 49ms/step - loss: 0.4739 - acc: 0.8774 - f1: 0.8774 - val_loss: 0.4383 - val_acc: 0.8365 - val_f1: 0.8365\n",
      "Epoch 68/100\n",
      "600/600 [==============================] - 30s 49ms/step - loss: 0.4736 - acc: 0.8763 - f1: 0.8763 - val_loss: 0.4425 - val_acc: 0.8318 - val_f1: 0.8318\n",
      "Epoch 69/100\n",
      "600/600 [==============================] - 30s 50ms/step - loss: 0.4819 - acc: 0.8754 - f1: 0.8754 - val_loss: 0.4233 - val_acc: 0.8358 - val_f1: 0.8358\n",
      "Epoch 70/100\n",
      "600/600 [==============================] - 29s 49ms/step - loss: 0.4878 - acc: 0.8749 - f1: 0.8749 - val_loss: 0.4350 - val_acc: 0.8327 - val_f1: 0.8327\n",
      "Epoch 71/100\n",
      "600/600 [==============================] - 29s 49ms/step - loss: 0.4693 - acc: 0.8785 - f1: 0.8785 - val_loss: 0.4524 - val_acc: 0.8259 - val_f1: 0.8259\n",
      "Epoch 72/100\n",
      "600/600 [==============================] - 30s 49ms/step - loss: 0.4591 - acc: 0.8813 - f1: 0.8813 - val_loss: 0.4379 - val_acc: 0.8354 - val_f1: 0.8354\n",
      "Epoch 73/100\n",
      "600/600 [==============================] - 29s 49ms/step - loss: 0.4607 - acc: 0.8822 - f1: 0.8822 - val_loss: 0.4427 - val_acc: 0.8263 - val_f1: 0.8263\n",
      "Epoch 74/100\n",
      "600/600 [==============================] - 29s 49ms/step - loss: 0.4598 - acc: 0.8809 - f1: 0.8809 - val_loss: 0.4445 - val_acc: 0.8276 - val_f1: 0.8276\n",
      "Epoch 75/100\n",
      "600/600 [==============================] - 30s 49ms/step - loss: 0.4681 - acc: 0.8798 - f1: 0.8798 - val_loss: 0.4392 - val_acc: 0.8344 - val_f1: 0.8344\n",
      "Epoch 76/100\n",
      "600/600 [==============================] - 29s 49ms/step - loss: 0.4615 - acc: 0.8818 - f1: 0.8818 - val_loss: 0.4504 - val_acc: 0.8236 - val_f1: 0.8236\n",
      "Epoch 77/100\n",
      "600/600 [==============================] - 29s 49ms/step - loss: 0.4520 - acc: 0.8827 - f1: 0.8827 - val_loss: 0.4274 - val_acc: 0.8380 - val_f1: 0.8380\n",
      "Epoch 78/100\n",
      "600/600 [==============================] - 29s 49ms/step - loss: 0.4599 - acc: 0.8812 - f1: 0.8812 - val_loss: 0.4522 - val_acc: 0.8165 - val_f1: 0.8165\n",
      "Epoch 79/100\n",
      "600/600 [==============================] - 29s 49ms/step - loss: 0.4540 - acc: 0.8826 - f1: 0.8826 - val_loss: 0.4215 - val_acc: 0.8415 - val_f1: 0.8415\n",
      "Epoch 80/100\n",
      "600/600 [==============================] - 30s 49ms/step - loss: 0.4606 - acc: 0.8838 - f1: 0.8838 - val_loss: 0.4111 - val_acc: 0.8456 - val_f1: 0.8456\n",
      "Epoch 81/100\n",
      "600/600 [==============================] - 30s 50ms/step - loss: 0.4462 - acc: 0.8855 - f1: 0.8855 - val_loss: 0.4365 - val_acc: 0.8365 - val_f1: 0.8365\n",
      "Epoch 82/100\n",
      "600/600 [==============================] - 30s 50ms/step - loss: 0.4612 - acc: 0.8825 - f1: 0.8825 - val_loss: 0.4173 - val_acc: 0.8385 - val_f1: 0.8385\n",
      "Epoch 83/100\n",
      "600/600 [==============================] - 30s 49ms/step - loss: 0.4423 - acc: 0.8876 - f1: 0.8876 - val_loss: 0.4255 - val_acc: 0.8386 - val_f1: 0.8386\n",
      "Epoch 84/100\n",
      "600/600 [==============================] - 30s 49ms/step - loss: 0.4349 - acc: 0.8875 - f1: 0.8875 - val_loss: 0.4212 - val_acc: 0.8464 - val_f1: 0.8464\n",
      "Epoch 85/100\n",
      "600/600 [==============================] - 29s 49ms/step - loss: 0.4364 - acc: 0.8874 - f1: 0.8874 - val_loss: 0.4369 - val_acc: 0.8410 - val_f1: 0.8410\n",
      "Epoch 86/100\n",
      "600/600 [==============================] - 30s 49ms/step - loss: 0.4426 - acc: 0.8873 - f1: 0.8872 - val_loss: 0.4215 - val_acc: 0.8461 - val_f1: 0.8461\n",
      "Epoch 87/100\n",
      "600/600 [==============================] - 30s 49ms/step - loss: 0.4376 - acc: 0.8883 - f1: 0.8882 - val_loss: 0.4171 - val_acc: 0.8477 - val_f1: 0.8477\n",
      "Epoch 88/100\n",
      "600/600 [==============================] - 29s 49ms/step - loss: 0.4348 - acc: 0.8891 - f1: 0.8891 - val_loss: 0.4555 - val_acc: 0.8265 - val_f1: 0.8265\n",
      "Epoch 89/100\n",
      "600/600 [==============================] - 29s 49ms/step - loss: 0.4312 - acc: 0.8914 - f1: 0.8913 - val_loss: 0.4414 - val_acc: 0.8346 - val_f1: 0.8346\n",
      "Epoch 90/100\n",
      "600/600 [==============================] - 29s 49ms/step - loss: 0.4325 - acc: 0.8899 - f1: 0.8899 - val_loss: 0.4396 - val_acc: 0.8391 - val_f1: 0.8391\n",
      "Epoch 91/100\n",
      "600/600 [==============================] - 30s 50ms/step - loss: 0.4253 - acc: 0.8916 - f1: 0.8915 - val_loss: 0.4297 - val_acc: 0.8432 - val_f1: 0.8432\n",
      "Epoch 92/100\n",
      "600/600 [==============================] - 29s 49ms/step - loss: 0.4220 - acc: 0.8941 - f1: 0.8941 - val_loss: 0.4294 - val_acc: 0.8431 - val_f1: 0.8431\n",
      "Epoch 93/100\n",
      "600/600 [==============================] - 29s 49ms/step - loss: 0.4266 - acc: 0.8903 - f1: 0.8903 - val_loss: 0.4269 - val_acc: 0.8484 - val_f1: 0.8484\n",
      "Epoch 94/100\n",
      "600/600 [==============================] - 30s 49ms/step - loss: 0.4412 - acc: 0.8886 - f1: 0.8886 - val_loss: 0.4448 - val_acc: 0.8326 - val_f1: 0.8326\n",
      "Epoch 95/100\n",
      "600/600 [==============================] - 29s 49ms/step - loss: 0.4301 - acc: 0.8904 - f1: 0.8904 - val_loss: 0.4303 - val_acc: 0.8415 - val_f1: 0.8415\n",
      "Epoch 96/100\n",
      "600/600 [==============================] - 29s 49ms/step - loss: 0.4292 - acc: 0.8906 - f1: 0.8906 - val_loss: 0.4418 - val_acc: 0.8338 - val_f1: 0.8338\n",
      "Epoch 97/100\n",
      "600/600 [==============================] - 29s 49ms/step - loss: 0.4217 - acc: 0.8942 - f1: 0.8942 - val_loss: 0.4313 - val_acc: 0.8422 - val_f1: 0.8422\n",
      "Epoch 98/100\n",
      "600/600 [==============================] - 29s 49ms/step - loss: 0.4265 - acc: 0.8910 - f1: 0.8910 - val_loss: 0.4327 - val_acc: 0.8366 - val_f1: 0.8366\n",
      "Epoch 99/100\n"
     ]
    },
    {
     "name": "stdout",
     "output_type": "stream",
     "text": [
      "600/600 [==============================] - 29s 49ms/step - loss: 0.4335 - acc: 0.8891 - f1: 0.8891 - val_loss: 0.4247 - val_acc: 0.8470 - val_f1: 0.8470\n",
      "Epoch 100/100\n",
      "600/600 [==============================] - 29s 48ms/step - loss: 0.4120 - acc: 0.8949 - f1: 0.8949 - val_loss: 0.4259 - val_acc: 0.8460 - val_f1: 0.8460\n"
     ]
    },
    {
     "data": {
      "text/plain": [
       "<keras.callbacks.History at 0x7f6053cf86d8>"
      ]
     },
     "execution_count": 32,
     "metadata": {},
     "output_type": "execute_result"
    }
   ],
   "source": [
    "training_batches = MagnitudeUtils.batchify(x_train, y_train, BATCH_SIZE) # Split the training data into batches\n",
    "num_batches_per_epoch_train = int(np.ceil(num_training/float(BATCH_SIZE)))\n",
    "test_batches = MagnitudeUtils.batchify(x_test, y_test, BATCH_SIZE)  # Split the test data into batches\n",
    "num_batches_per_epoch_test = int(np.ceil(num_test/float(BATCH_SIZE)))\n",
    "\n",
    "\n",
    "# Generates batches of the transformed training data\n",
    "train_batch_generator = (\n",
    "  (\n",
    "    med_vectors.query(x_train_batch), # Magnitude will handle converting the 2D array of text into the 3D word vector representations!\n",
    "    MagnitudeUtils.to_categorical(y_train_batch, num_outputs) # Magnitude will handle converting the class labels into one-hot encodings!\n",
    "  ) for x_train_batch, y_train_batch in training_batches\n",
    ")\n",
    "\n",
    "# Generates batches of the transformed test data\n",
    "test_batch_generator = (\n",
    "  (\n",
    "    med_vectors.query(x_test_batch), # Magnitude will handle converting the 2D array of text into the 3D word vector representations!\n",
    "    MagnitudeUtils.to_categorical(y_test_batch, num_outputs) # Magnitude will handle converting the class labels into one-hot encodings!\n",
    "  ) for x_test_batch, y_test_batch in test_batches\n",
    ")\n",
    "\n",
    "# Class weights\n",
    "class_weight = {\n",
    "    intent_to_int('Cardiovascular'): 20.\n",
    "    ,intent_to_int('Other'): 1.\n",
    "}\n",
    "\n",
    "# Start training\n",
    "model.fit_generator(\n",
    "    generator = train_batch_generator,\n",
    "    steps_per_epoch = num_batches_per_epoch_train,\n",
    "    validation_data = test_batch_generator,\n",
    "    validation_steps = num_batches_per_epoch_test,\n",
    "    epochs = EPOCHS,\n",
    "    class_weight=class_weight\n",
    ")"
   ]
  },
  {
   "cell_type": "markdown",
   "metadata": {},
   "source": [
    "## Results"
   ]
  },
  {
   "cell_type": "code",
   "execution_count": 33,
   "metadata": {},
   "outputs": [
    {
     "name": "stdout",
     "output_type": "stream",
     "text": [
      "Results after training for 100 epochs:\n",
      "loss: 0.1873 - categorical_accuracy: 0.9196 - f1: 0.9196\n",
      "val_loss: 0.4259 - val_categorical_accuracy: 0.8460 - f1: 0.8460\n"
     ]
    }
   ],
   "source": [
    "print(\"Results after training for %d epochs:\" % (EPOCHS,))\n",
    "\n",
    "train_metrics = model.evaluate_generator(\n",
    "    generator = train_batch_generator,\n",
    "    steps = num_batches_per_epoch_train,\n",
    ")\n",
    "\n",
    "print(\"loss: %.4f - categorical_accuracy: %.4f - f1: %.4f\" % tuple(train_metrics))\n",
    "\n",
    "val_metrics = model.evaluate_generator(\n",
    "    generator = test_batch_generator,\n",
    "    steps = num_batches_per_epoch_test,\n",
    ")\n",
    "\n",
    "print(\"val_loss: %.4f - val_categorical_accuracy: %.4f - f1: %.4f\" % tuple(val_metrics))"
   ]
  },
  {
   "cell_type": "markdown",
   "metadata": {},
   "source": [
    "## Conclusion"
   ]
  },
  {
   "cell_type": "code",
   "execution_count": 35,
   "metadata": {},
   "outputs": [
    {
     "data": {
      "image/png": "[encoded data removed]",
      "text/plain": [
       "<Figure size 432x288 with 1 Axes>"
      ]
     },
     "metadata": {},
     "output_type": "display_data"
    },
    {
     "data": {
      "image/png": "[encoded data removed]",
      "text/plain": [
       "<Figure size 432x288 with 1 Axes>"
      ]
     },
     "metadata": {},
     "output_type": "display_data"
    }
   ],
   "source": [
    "import matplotlib.pyplot as plt\n",
    "\n",
    "# Plot training & validation accuracy values\n",
    "plt.plot(model.history.history['acc'])\n",
    "plt.plot(model.history.history['val_acc'])\n",
    "plt.title('Model accuracy')\n",
    "plt.ylabel('Accuracy')\n",
    "plt.xlabel('Epoch')\n",
    "plt.legend(['Train', 'Test'], loc='upper left')\n",
    "plt.show()\n",
    "\n",
    "# Plot training & validation loss values\n",
    "plt.plot(model.history.history['loss'])\n",
    "plt.plot(model.history.history['val_loss'])\n",
    "plt.title('Model loss')\n",
    "plt.ylabel('Loss')\n",
    "plt.xlabel('Epoch')\n",
    "plt.legend(['Train', 'Test'], loc='upper left')\n",
    "plt.show()"
   ]
  },
  {
   "cell_type": "code",
   "execution_count": 36,
   "metadata": {},
   "outputs": [
    {
     "name": "stdout",
     "output_type": "stream",
     "text": [
      "['Cardiovascular', 'Other']\n",
      "[[1301  376]\n",
      " [1309 7954]]\n",
      "                precision    recall  f1-score   support\n",
      "\n",
      "Cardiovascular       0.50      0.78      0.61      1677\n",
      "         Other       0.95      0.86      0.90      9263\n",
      "\n",
      "   avg / total       0.88      0.85      0.86     10940\n",
      "\n"
     ]
    }
   ],
   "source": [
    "from sklearn.metrics import confusion_matrix, classification_report\n",
    "\n",
    "y_pred = np.argmax(model.predict(med_vectors.query(x_test)), axis=1)\n",
    "class_labels = [int_to_intent(y) for y in set(y_test)] \n",
    "report = classification_report(y_test, y_pred, target_names=class_labels)\n",
    "print(class_labels)\n",
    "print(confusion_matrix(y_test, y_pred))\n",
    "print(report)"
   ]
  },
  {
   "cell_type": "code",
   "execution_count": 37,
   "metadata": {},
   "outputs": [
    {
     "data": {
      "text/plain": [
       "<matplotlib.axes._subplots.AxesSubplot at 0x7f5f1a2e3da0>"
      ]
     },
     "execution_count": 37,
     "metadata": {},
     "output_type": "execute_result"
    },
    {
     "data": {
      "image/png": "[encoded data removed]",
      "text/plain": [
       "<Figure size 432x288 with 2 Axes>"
      ]
     },
     "metadata": {},
     "output_type": "display_data"
    }
   ],
   "source": [
    "from sklearn.utils.multiclass import unique_labels\n",
    "\n",
    "def plot_confusion_matrix(y_true, y_pred, classes,\n",
    "                          title=None,\n",
    "                          cmap=plt.cm.Blues):\n",
    "    \"\"\"\n",
    "    This function prints and plots the confusion matrix.\n",
    "    Normalization can be applied by setting `normalize=True`.\n",
    "    \"\"\"\n",
    "    if not title:\n",
    "        if normalize:\n",
    "            title = 'Normalized confusion matrix'\n",
    "        else:\n",
    "            title = 'Confusion matrix, without normalization'\n",
    "\n",
    "    # Compute confusion matrix\n",
    "    cm = confusion_matrix(y_true, y_pred)\n",
    "    # Only use the labels that appear in the data\n",
    "    classes = [int_to_intent(y_class) for y_class in unique_labels(y_test, y_pred)]\n",
    "\n",
    "    fig, ax = plt.subplots()\n",
    "#     fig.set_figheight(15)\n",
    "#     fig.set_figwidth(15)\n",
    "    im = ax.imshow(cm, interpolation='nearest', cmap=cmap)\n",
    "    ax.figure.colorbar(im, ax=ax)\n",
    "    # We want to show all ticks...\n",
    "    ax.set(xticks=np.arange(cm.shape[1]),\n",
    "           yticks=np.arange(cm.shape[0]),\n",
    "           # ... and label them with the respective list entries\n",
    "           xticklabels=classes, yticklabels=classes,\n",
    "           title=title,\n",
    "           ylabel='True label',\n",
    "           xlabel='Predicted label')\n",
    "\n",
    "    # Rotate the tick labels and set their alignment.\n",
    "    plt.setp(ax.get_xticklabels(), rotation=45, ha=\"right\",\n",
    "             rotation_mode=\"anchor\")\n",
    "\n",
    "    # Loop over data dimensions and create text annotations.\n",
    "    fmt = 'd'\n",
    "    thresh = cm.max() / 2.\n",
    "    for i in range(cm.shape[0]):\n",
    "        for j in range(cm.shape[1]):\n",
    "            ax.text(j, i, format(cm[i, j], fmt),\n",
    "                    ha=\"center\", va=\"center\",\n",
    "                    color=\"white\" if cm[i, j] > thresh else \"black\")\n",
    "    fig.tight_layout()\n",
    "    return ax\n",
    "\n",
    "\n",
    "np.set_printoptions(precision=2)\n",
    "\n",
    "plot_confusion_matrix(y_test, y_pred, classes=class_labels\n",
    "                      , title='Confusion Matrix for Cardiovascular Disease CNN Classifier')"
   ]
  },
  {
   "cell_type": "code",
   "execution_count": null,
   "metadata": {},
   "outputs": [],
   "source": []
  }
 ],
 "metadata": {
  "kernelspec": {
   "display_name": "Python 3",
   "language": "python",
   "name": "python3"
  },
  "language_info": {
   "codemirror_mode": {
    "name": "ipython",
    "version": 3
   },
   "file_extension": ".py",
   "mimetype": "text/x-python",
   "name": "python",
   "nbconvert_exporter": "python",
   "pygments_lexer": "ipython3",
   "version": "3.6.5"
  }
 },
 "nbformat": 4,
 "nbformat_minor": 2
}
