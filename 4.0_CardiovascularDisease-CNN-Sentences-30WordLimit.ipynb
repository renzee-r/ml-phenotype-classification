{
 "cells": [
  {
   "cell_type": "code",
   "execution_count": 1,
   "metadata": {},
   "outputs": [
    {
     "name": "stdout",
     "output_type": "stream",
     "text": [
      "[nltk_data] Downloading package punkt to /home/renzeer/nltk_data...\n",
      "[nltk_data]   Package punkt is already up-to-date!\n",
      "[nltk_data] Downloading package stopwords to\n",
      "[nltk_data]     /home/renzeer/nltk_data...\n",
      "[nltk_data]   Package stopwords is already up-to-date!\n"
     ]
    },
    {
     "name": "stderr",
     "output_type": "stream",
     "text": [
      "Using TensorFlow backend.\n"
     ]
    }
   ],
   "source": [
    "# Standard python helper libraries.\n",
    "import os, sys, re, json, time, wget, csv, string, time, random\n",
    "import itertools, collections\n",
    "\n",
    "# NumPy\n",
    "import numpy as np\n",
    "\n",
    "# NLTK for NLP utils\n",
    "import nltk\n",
    "nltk.download('punkt')\n",
    "nltk.download('stopwords')\n",
    "from nltk.corpus import stopwords\n",
    "from nltk.tokenize import word_tokenize\n",
    "from nltk.stem.porter import PorterStemmer\n",
    "\n",
    "from keras import backend as K\n",
    "from keras.models import Sequential\n",
    "from keras.layers import GaussianNoise, Dropout, Dense, Embedding, MaxPool1D, GlobalMaxPool1D, Conv1D\n",
    "from keras.optimizers import Adam\n",
    "from keras.callbacks import Callback\n",
    "\n",
    "from sklearn.metrics import confusion_matrix, f1_score, precision_score, recall_score\n",
    "\n",
    "from pymagnitude import *"
   ]
  },
  {
   "cell_type": "markdown",
   "metadata": {},
   "source": [
    "# Binary Classifier for Cardiovascular Disease using a Convolutional Neural Network\n",
    "\n",
    "In this notebook, we will be building a model for classifying a sentence from an EHR note for the presence of cardiovascular disease. The model will be trained using a convoultional neural network (CNN). "
   ]
  },
  {
   "cell_type": "markdown",
   "metadata": {},
   "source": [
    "## Text Preprocessing"
   ]
  },
  {
   "cell_type": "code",
   "execution_count": 3,
   "metadata": {},
   "outputs": [
    {
     "name": "stdout",
     "output_type": "stream",
     "text": [
      "['Other', 'PAST MEDICAL HISTORY:, He has difficulty climbing stairs, difficulty with airline seats, tying shoes, used to public seating, and lifting objects off the floor.  He exercises three times a week at home and does cardio.  He has difficulty walking two blocks or five flights of stairs.  Difficulty with snoring.  He has muscle and joint pains including knee pain, back pain, foot and ankle pain, and swelling.  He has gastroesophageal reflux disease.,PAST SURGICAL HISTORY:, Includes reconstructive surgery on his right hand 13 years ago.  ,SOCIAL HISTORY:, He is currently single.  He has about ten drinks a year.  He had smoked significantly up until several months ago.  He now smokes less than three cigarettes a day.,FAMILY HISTORY:, Heart disease in both grandfathers, grandmother with stroke, and a grandmother with diabetes.  Denies obesity and hypertension in other family members.,CURRENT MEDICATIONS:, None.,ALLERGIES:,  He is allergic to Penicillin.,MISCELLANEOUS/EATING HISTORY:, He has been going to support groups for seven months with Lynn Holmberg in Greenwich and he is from Eastchester, New York and he feels that we are the appropriate program.  He had a poor experience with the Greenwich program.  Eating history, he is not an emotional eater.  Does not like sweets.  He likes big portions and carbohydrates.  He likes chicken and not steak.  He currently weighs 312 pounds.  Ideal body weight would be 170 pounds.  He is 142 pounds overweight.  If ,he lost 60% of his excess body weight that would be 84 pounds and he should weigh about 228.,REVIEW OF SYSTEMS: ,Negative for head, neck, heart, lungs, GI, GU, orthopedic, and skin.  Specifically denies chest pain, heart attack, coronary artery disease, congestive heart failure, arrhythmia, atrial fibrillation, pacemaker, high cholesterol, pulmonary embolism, high blood pressure, CVA, venous insufficiency, thrombophlebitis, asthma, shortness of breath, COPD, emphysema, sleep apnea, diabetes, leg and foot swelling, osteoarthritis, rheumatoid arthritis, hiatal hernia, peptic ulcer disease, gallstones, infected gallbladder, pancreatitis, fatty liver, hepatitis, hemorrhoids, rectal bleeding, polyps, incontinence of stool, urinary stress incontinence, or cancer.  Denies cellulitis, pseudotumor cerebri, meningitis, or encephalitis.,PHYSICAL EXAMINATION:, He is alert and oriented x 3.  Cranial nerves II-XII are intact.  Afebrile.  Vital Signs are stable.']\n",
      "['Cardiovascular', '2-D M-MODE: , ,1.  Left atrial enlargement with left atrial diameter of 4.7 cm.,2.  Normal size right and left ventricle.,3.  Normal LV systolic function with left ventricular ejection fraction of 51%.,4.  Normal LV diastolic function.,5.  No pericardial effusion.,6.  Normal morphology of aortic valve, mitral valve, tricuspid valve, and pulmonary valve.,7.  PA systolic pressure is 36 mmHg.,DOPPLER: , ,1.  Mild mitral and tricuspid regurgitation.,2.  Trace aortic and pulmonary regurgitation.']\n"
     ]
    }
   ],
   "source": [
    "ehr_notes = []\n",
    "with open('data/ehr_samples.csv', newline='') as csvfile:\n",
    "    reader = csv.DictReader(csvfile)\n",
    "    for row in reader:     \n",
    "        if int(row['SpecialtyID']) in [39, 6, 16, 37, 11, 12, 29, 26, 7, 21, 19, 10, 2, 18]:\n",
    "            continue\n",
    "        elif int(row['SpecialtyID']) != 4:\n",
    "            ehr_notes.append(['Other', row['Note']])\n",
    "        else:\n",
    "            ehr_notes.append([row['Specialty'], row['Note']])\n",
    "\n",
    "print(ehr_notes[0])\n",
    "print(ehr_notes[2])"
   ]
  },
  {
   "cell_type": "markdown",
   "metadata": {},
   "source": [
    "## Natural Langauge Processing"
   ]
  },
  {
   "cell_type": "code",
   "execution_count": 4,
   "metadata": {},
   "outputs": [
    {
     "name": "stdout",
     "output_type": "stream",
     "text": [
      "['Cardiovascular', 'return clinic 4 weeks5']\n",
      "['Other', 'biceps tendon nonsubluxable']\n"
     ]
    }
   ],
   "source": [
    "ehr_sentences = []\n",
    "for record in ehr_notes:\n",
    "    sent_text = nltk.sent_tokenize(record[1])\n",
    "    for sent in sent_text:\n",
    "        tokens = word_tokenize(sent)\n",
    "\n",
    "        # convert to lower case\n",
    "        tokens = [w.lower() for w in tokens]\n",
    "\n",
    "        # remove punctuation from each word\n",
    "        table = str.maketrans('', '', string.punctuation)\n",
    "        tokens = [w.translate(table) for w in tokens]\n",
    "\n",
    "        # filter out stop words\n",
    "        stop_words = set(stopwords.words('english'))\n",
    "        tokens = [w for w in tokens if not w in stop_words]\n",
    "\n",
    "#         # stem words\n",
    "#         porter = PorterStemmer()\n",
    "#         tokens = [porter.stem(word) for word in tokens]\n",
    "\n",
    "        # remove blanks\n",
    "        tokens = [w for w in tokens if w != '']\n",
    "\n",
    "        ehr_sentences.append([record[0], ' '.join(tokens)])\n",
    "\n",
    "random.Random(4).shuffle(ehr_sentences)\n",
    "\n",
    "print(ehr_sentences[0])\n",
    "print(ehr_sentences[1])"
   ]
  },
  {
   "cell_type": "markdown",
   "metadata": {},
   "source": [
    "## Word Embedding\n",
    "\n",
    "The first step is to load in our word embedding, which is trained on text from Wikipedia, Pubmed, and Pubmed Central. We load our word embedding through a tool called Magnitude. A full exploration of the word embedding and Magnitude can be found in the Introduction notebook."
   ]
  },
  {
   "cell_type": "code",
   "execution_count": 77,
   "metadata": {},
   "outputs": [],
   "source": [
    "med_vectors = Magnitude(\"data/wikipedia-pubmed-and-PMC-w2v.magnitude\", pad_to_length=30)"
   ]
  },
  {
   "cell_type": "markdown",
   "metadata": {},
   "source": [
    "## Defining our Training and Test Data\n",
    "\n",
    "Before we can start building our neural networks, we first have to define our datasets. Specifically, we have to break up our EHR data so that we have records that we can train on and records that are exclusively used to test on. Maintaining a separate set for testing ensures we avoid overfitting our data.\n",
    "\n",
    "We will use some built-in functions provided by Magnitude that helps encode our classes/categories. We then partition our data into our train and test sets. For each set we have both data and labels. Initially, we will be making these partitions small to make iterating through model development much quicker. However, once the models are developed, we will expand our datasets to include all of our data. To ensure we defined our data correctly, we can print a few lines from the two sets."
   ]
  },
  {
   "cell_type": "code",
   "execution_count": 5,
   "metadata": {},
   "outputs": [
    {
     "data": {
      "text/plain": [
       "70941"
      ]
     },
     "execution_count": 5,
     "metadata": {},
     "output_type": "execute_result"
    }
   ],
   "source": [
    "len(ehr_sentences)"
   ]
  },
  {
   "cell_type": "code",
   "execution_count": 6,
   "metadata": {},
   "outputs": [
    {
     "name": "stdout",
     "output_type": "stream",
     "text": [
      "Cardiovascular\n",
      "First line of train/test data:\n",
      "\t ['return', 'clinic', '4', 'weeks5']\n",
      "\t 0 Cardiovascular\n",
      "\t ['smokes', 'one', 'pack', 'per', 'day']\n",
      "\t 0 Cardiovascular\n",
      "Second line of train/test data:\n",
      "\t ['biceps', 'tendon', 'nonsubluxable']\n",
      "\t 1 Other\n",
      "\t ['denies', 'illicit', 'drug', 'use', 'family', 'history', 'parents', 'died', 'myocardial', 'infarctions']\n",
      "\t 1 Other\n"
     ]
    }
   ],
   "source": [
    "add_intent, intent_to_int, int_to_intent = MagnitudeUtils.class_encoding()\n",
    "\n",
    "x_train = [ehr_sent[1].split(' ') for ehr_sent in ehr_sentences[:60000]]\n",
    "x_test = [ehr_sent[1].split(' ') for ehr_sent in ehr_sentences[60001:]]\n",
    "\n",
    "y_train = [add_intent(ehr_sent[0]) for ehr_sent in ehr_sentences[:60000]]\n",
    "y_test = [add_intent(ehr_sent[0]) for ehr_sent in ehr_sentences[60001:]]\n",
    "\n",
    "y_train = list(np.array(y_train).reshape(len(y_train)))\n",
    "y_test = list(np.array(y_test).reshape(len(y_test)))\n",
    "\n",
    "num_training = len(x_train)\n",
    "num_test = len(x_test)\n",
    "num_outputs = int(max(max(y_train), max(y_test))) + 1\n",
    "\n",
    "print(int_to_intent(0))\n",
    "\n",
    "print(\"First line of train/test data:\")\n",
    "print(\"\\t\", x_train[0])\n",
    "print(\"\\t\", y_train[0], int_to_intent(y_train[0]))\n",
    "print(\"\\t\", x_test[0])\n",
    "print(\"\\t\", y_test[0], int_to_intent(y_test[0]))\n",
    "print(\"Second line of train/test data:\")\n",
    "print(\"\\t\", x_train[1])\n",
    "print(\"\\t\", y_train[1], int_to_intent(y_train[1]))\n",
    "print(\"\\t\", x_test[1])\n",
    "print(\"\\t\", y_test[1], int_to_intent(y_test[1]))"
   ]
  },
  {
   "cell_type": "markdown",
   "metadata": {},
   "source": [
    "## Defining Custom Callback Function"
   ]
  },
  {
   "cell_type": "code",
   "execution_count": 7,
   "metadata": {},
   "outputs": [],
   "source": [
    "def f1(y_true, y_pred):\n",
    "    def recall(y_true, y_pred):\n",
    "        \"\"\"Recall metric.\n",
    "\n",
    "        Only computes a batch-wise average of recall.\n",
    "\n",
    "        Computes the recall, a metric for multi-label classification of\n",
    "        how many relevant items are selected.\n",
    "        \"\"\"\n",
    "        true_positives = K.sum(K.round(K.clip(y_true * y_pred, 0, 1)))\n",
    "        possible_positives = K.sum(K.round(K.clip(y_true, 0, 1)))\n",
    "        recall = true_positives / (possible_positives + K.epsilon())\n",
    "        return recall\n",
    "\n",
    "    def precision(y_true, y_pred):\n",
    "        \"\"\"Precision metric.\n",
    "\n",
    "        Only computes a batch-wise average of precision.\n",
    "\n",
    "        Computes the precision, a metric for multi-label classification of\n",
    "        how many selected items are relevant.\n",
    "        \"\"\"\n",
    "        true_positives = K.sum(K.round(K.clip(y_true * y_pred, 0, 1)))\n",
    "        predicted_positives = K.sum(K.round(K.clip(y_pred, 0, 1)))\n",
    "        precision = true_positives / (predicted_positives + K.epsilon())\n",
    "        return precision\n",
    "    \n",
    "    precision = precision(y_true, y_pred)\n",
    "    recall = recall(y_true, y_pred)\n",
    "    return 2*((precision*recall)/(precision+recall+K.epsilon()))"
   ]
  },
  {
   "cell_type": "markdown",
   "metadata": {},
   "source": [
    "## Defining Model"
   ]
  },
  {
   "cell_type": "code",
   "execution_count": 78,
   "metadata": {},
   "outputs": [
    {
     "name": "stdout",
     "output_type": "stream",
     "text": [
      "_________________________________________________________________\n",
      "Layer (type)                 Output Shape              Param #   \n",
      "=================================================================\n",
      "gaussian_noise_2 (GaussianNo (None, 163, 200)          0         \n",
      "_________________________________________________________________\n",
      "conv1d_3 (Conv1D)            (None, 163, 128)          179328    \n",
      "_________________________________________________________________\n",
      "max_pooling1d_2 (MaxPooling1 (None, 81, 128)           0         \n",
      "_________________________________________________________________\n",
      "conv1d_4 (Conv1D)            (None, 81, 128)           114816    \n",
      "_________________________________________________________________\n",
      "global_max_pooling1d_2 (Glob (None, 128)               0         \n",
      "_________________________________________________________________\n",
      "dropout_2 (Dropout)          (None, 128)               0         \n",
      "_________________________________________________________________\n",
      "dense_3 (Dense)              (None, 64)                8256      \n",
      "_________________________________________________________________\n",
      "dense_4 (Dense)              (None, 2)                 130       \n",
      "=================================================================\n",
      "Total params: 302,530\n",
      "Trainable params: 302,530\n",
      "Non-trainable params: 0\n",
      "_________________________________________________________________\n"
     ]
    }
   ],
   "source": [
    "MAX_WORDS = 30 # The maximum number of words the sequence model will consider\n",
    "STD_DEV = 0.01 # Deviation of noise for Gaussian Noise applied to the embeddings\n",
    "DROPOUT_RATIO = .5 # The ratio to dropout\n",
    "BATCH_SIZE = 100 # The number of examples per train/validation step\n",
    "EPOCHS = 100 # The number of times to repeat through all of the training data\n",
    "LEARNING_RATE = .01 # The learning rate for the optimizer\n",
    "NUM_FILTERS = 128\n",
    "\n",
    "model = Sequential()\n",
    "model.add(GaussianNoise(STD_DEV, input_shape=(MAX_WORDS, med_vectors.dim)))\n",
    "model.add(Conv1D(NUM_FILTERS, 7, activation='relu', padding='same'))\n",
    "model.add(MaxPool1D(2))\n",
    "model.add(Conv1D(NUM_FILTERS, 7, activation='relu', padding='same'))\n",
    "model.add(GlobalMaxPool1D())\n",
    "model.add(Dropout(DROPOUT_RATIO))\n",
    "model.add(Dense(64, activation='relu'))\n",
    "model.add(Dense(num_outputs, activation='softmax'))\n",
    "model.compile(optimizer='adam',\n",
    "              loss='binary_crossentropy',\n",
    "              metrics=['accuracy', f1])\n",
    "model.summary()"
   ]
  },
  {
   "cell_type": "markdown",
   "metadata": {},
   "source": [
    "## Training Batches and Epochs"
   ]
  },
  {
   "cell_type": "code",
   "execution_count": 9,
   "metadata": {},
   "outputs": [
    {
     "name": "stdout",
     "output_type": "stream",
     "text": [
      "Epoch 1/100\n",
      "600/600 [==============================] - 2297s 4s/step - loss: 0.3295 - acc: 0.8682 - f1: 0.8682 - val_loss: 0.3034 - val_acc: 0.8832 - val_f1: 0.8832\n",
      "Epoch 2/100\n",
      "600/600 [==============================] - 77s 129ms/step - loss: 0.2785 - acc: 0.8894 - f1: 0.8894 - val_loss: 0.2840 - val_acc: 0.8865 - val_f1: 0.8865\n",
      "Epoch 3/100\n",
      "600/600 [==============================] - 77s 128ms/step - loss: 0.2398 - acc: 0.9040 - f1: 0.9040 - val_loss: 0.2928 - val_acc: 0.8813 - val_f1: 0.8813\n",
      "Epoch 4/100\n",
      "600/600 [==============================] - 76s 127ms/step - loss: 0.2018 - acc: 0.9169 - f1: 0.9169 - val_loss: 0.3160 - val_acc: 0.8730 - val_f1: 0.8730\n",
      "Epoch 5/100\n",
      "600/600 [==============================] - 78s 131ms/step - loss: 0.1723 - acc: 0.9274 - f1: 0.9274 - val_loss: 0.3385 - val_acc: 0.8636 - val_f1: 0.8636\n",
      "Epoch 6/100\n",
      "600/600 [==============================] - 78s 129ms/step - loss: 0.1559 - acc: 0.9333 - f1: 0.9333 - val_loss: 0.3658 - val_acc: 0.8624 - val_f1: 0.8624\n",
      "Epoch 7/100\n",
      "600/600 [==============================] - 76s 127ms/step - loss: 0.1425 - acc: 0.9390 - f1: 0.9390 - val_loss: 0.3769 - val_acc: 0.8626 - val_f1: 0.8626\n",
      "Epoch 8/100\n",
      "600/600 [==============================] - 78s 130ms/step - loss: 0.1302 - acc: 0.9445 - f1: 0.9445 - val_loss: 0.4293 - val_acc: 0.8666 - val_f1: 0.8666\n",
      "Epoch 9/100\n",
      "600/600 [==============================] - 80s 133ms/step - loss: 0.1230 - acc: 0.9475 - f1: 0.9474 - val_loss: 0.4366 - val_acc: 0.8684 - val_f1: 0.8684\n",
      "Epoch 10/100\n",
      "600/600 [==============================] - 77s 128ms/step - loss: 0.1180 - acc: 0.9494 - f1: 0.9494 - val_loss: 0.4273 - val_acc: 0.8537 - val_f1: 0.8537\n",
      "Epoch 11/100\n",
      "600/600 [==============================] - 77s 129ms/step - loss: 0.1105 - acc: 0.9527 - f1: 0.9526 - val_loss: 0.4552 - val_acc: 0.8489 - val_f1: 0.8489\n",
      "Epoch 12/100\n",
      "600/600 [==============================] - 77s 128ms/step - loss: 0.1046 - acc: 0.9549 - f1: 0.9549 - val_loss: 0.4838 - val_acc: 0.8569 - val_f1: 0.8569\n",
      "Epoch 13/100\n",
      "600/600 [==============================] - 79s 132ms/step - loss: 0.1018 - acc: 0.9559 - f1: 0.9558 - val_loss: 0.5040 - val_acc: 0.8633 - val_f1: 0.8633\n",
      "Epoch 14/100\n",
      "600/600 [==============================] - 77s 129ms/step - loss: 0.1004 - acc: 0.9552 - f1: 0.9552 - val_loss: 0.5182 - val_acc: 0.8596 - val_f1: 0.8596\n",
      "Epoch 15/100\n",
      "600/600 [==============================] - 76s 127ms/step - loss: 0.0967 - acc: 0.9569 - f1: 0.9569 - val_loss: 0.5487 - val_acc: 0.8633 - val_f1: 0.8633\n",
      "Epoch 16/100\n",
      "600/600 [==============================] - 77s 128ms/step - loss: 0.0953 - acc: 0.9575 - f1: 0.9575 - val_loss: 0.5630 - val_acc: 0.8600 - val_f1: 0.8600\n",
      "Epoch 17/100\n",
      "600/600 [==============================] - 78s 130ms/step - loss: 0.0925 - acc: 0.9577 - f1: 0.9577 - val_loss: 0.5632 - val_acc: 0.8547 - val_f1: 0.8547\n",
      "Epoch 18/100\n",
      "600/600 [==============================] - 76s 127ms/step - loss: 0.0898 - acc: 0.9585 - f1: 0.9584 - val_loss: 0.6155 - val_acc: 0.8686 - val_f1: 0.8686\n",
      "Epoch 19/100\n",
      "600/600 [==============================] - 76s 127ms/step - loss: 0.0881 - acc: 0.9589 - f1: 0.9588 - val_loss: 0.5968 - val_acc: 0.8633 - val_f1: 0.8633\n",
      "Epoch 20/100\n",
      "600/600 [==============================] - 76s 127ms/step - loss: 0.0863 - acc: 0.9593 - f1: 0.9592 - val_loss: 0.6391 - val_acc: 0.8635 - val_f1: 0.8635\n",
      "Epoch 21/100\n",
      "600/600 [==============================] - 79s 132ms/step - loss: 0.0843 - acc: 0.9597 - f1: 0.9597 - val_loss: 0.6076 - val_acc: 0.8621 - val_f1: 0.8621\n",
      "Epoch 22/100\n",
      "600/600 [==============================] - 76s 127ms/step - loss: 0.0840 - acc: 0.9603 - f1: 0.9603 - val_loss: 0.6565 - val_acc: 0.8640 - val_f1: 0.8640\n",
      "Epoch 23/100\n",
      "600/600 [==============================] - 77s 128ms/step - loss: 0.0825 - acc: 0.9595 - f1: 0.9595 - val_loss: 0.6884 - val_acc: 0.8699 - val_f1: 0.8699\n",
      "Epoch 24/100\n",
      "600/600 [==============================] - 77s 128ms/step - loss: 0.0798 - acc: 0.9611 - f1: 0.9611 - val_loss: 0.7580 - val_acc: 0.8691 - val_f1: 0.8691\n",
      "Epoch 25/100\n",
      "600/600 [==============================] - 77s 129ms/step - loss: 0.0814 - acc: 0.9593 - f1: 0.9593 - val_loss: 0.7626 - val_acc: 0.8660 - val_f1: 0.8660\n",
      "Epoch 26/100\n",
      "600/600 [==============================] - 77s 128ms/step - loss: 0.0771 - acc: 0.9607 - f1: 0.9607 - val_loss: 0.7537 - val_acc: 0.8676 - val_f1: 0.8676\n",
      "Epoch 27/100\n",
      "600/600 [==============================] - 77s 129ms/step - loss: 0.0790 - acc: 0.9600 - f1: 0.9600 - val_loss: 0.7466 - val_acc: 0.8702 - val_f1: 0.8702\n",
      "Epoch 28/100\n",
      "600/600 [==============================] - 77s 129ms/step - loss: 0.0762 - acc: 0.9617 - f1: 0.9617 - val_loss: 0.8032 - val_acc: 0.8676 - val_f1: 0.8676\n",
      "Epoch 29/100\n",
      "600/600 [==============================] - 80s 133ms/step - loss: 0.0781 - acc: 0.9605 - f1: 0.9605 - val_loss: 0.7089 - val_acc: 0.8673 - val_f1: 0.8673\n",
      "Epoch 30/100\n",
      "600/600 [==============================] - 77s 129ms/step - loss: 0.0757 - acc: 0.9616 - f1: 0.9616 - val_loss: 0.7162 - val_acc: 0.8621 - val_f1: 0.8621\n",
      "Epoch 31/100\n",
      "600/600 [==============================] - 76s 127ms/step - loss: 0.0732 - acc: 0.9624 - f1: 0.9624 - val_loss: 0.8078 - val_acc: 0.8676 - val_f1: 0.8676\n",
      "Epoch 32/100\n",
      "600/600 [==============================] - 76s 127ms/step - loss: 0.0734 - acc: 0.9623 - f1: 0.9622 - val_loss: 0.7473 - val_acc: 0.8655 - val_f1: 0.8655\n",
      "Epoch 33/100\n",
      "600/600 [==============================] - 77s 129ms/step - loss: 0.0735 - acc: 0.9619 - f1: 0.9619 - val_loss: 0.8033 - val_acc: 0.8631 - val_f1: 0.8631\n",
      "Epoch 34/100\n",
      "600/600 [==============================] - 77s 128ms/step - loss: 0.0724 - acc: 0.9618 - f1: 0.9618 - val_loss: 0.7716 - val_acc: 0.8651 - val_f1: 0.8651\n",
      "Epoch 35/100\n",
      "600/600 [==============================] - 76s 127ms/step - loss: 0.0723 - acc: 0.9621 - f1: 0.9621 - val_loss: 0.7710 - val_acc: 0.8633 - val_f1: 0.8633\n",
      "Epoch 36/100\n",
      "600/600 [==============================] - 76s 126ms/step - loss: 0.0713 - acc: 0.9620 - f1: 0.9620 - val_loss: 0.8055 - val_acc: 0.8662 - val_f1: 0.8662\n",
      "Epoch 37/100\n",
      "600/600 [==============================] - 79s 131ms/step - loss: 0.0693 - acc: 0.9624 - f1: 0.9624 - val_loss: 0.7978 - val_acc: 0.8621 - val_f1: 0.8621\n",
      "Epoch 38/100\n",
      "600/600 [==============================] - 77s 128ms/step - loss: 0.0688 - acc: 0.9627 - f1: 0.9627 - val_loss: 0.7887 - val_acc: 0.8666 - val_f1: 0.8666\n",
      "Epoch 39/100\n",
      "600/600 [==============================] - 77s 128ms/step - loss: 0.0697 - acc: 0.9631 - f1: 0.9631 - val_loss: 0.8840 - val_acc: 0.8665 - val_f1: 0.8665\n",
      "Epoch 40/100\n",
      "600/600 [==============================] - 77s 129ms/step - loss: 0.0679 - acc: 0.9625 - f1: 0.9624 - val_loss: 0.8910 - val_acc: 0.8664 - val_f1: 0.8664\n",
      "Epoch 41/100\n",
      "600/600 [==============================] - 78s 130ms/step - loss: 0.0678 - acc: 0.9629 - f1: 0.9629 - val_loss: 0.8111 - val_acc: 0.8642 - val_f1: 0.8642\n",
      "Epoch 42/100\n",
      "600/600 [==============================] - 77s 129ms/step - loss: 0.0676 - acc: 0.9632 - f1: 0.9632 - val_loss: 0.8876 - val_acc: 0.8680 - val_f1: 0.8680\n",
      "Epoch 43/100\n",
      "600/600 [==============================] - 78s 130ms/step - loss: 0.0677 - acc: 0.9636 - f1: 0.9636 - val_loss: 0.8723 - val_acc: 0.8655 - val_f1: 0.8655\n",
      "Epoch 44/100\n",
      "600/600 [==============================] - 77s 128ms/step - loss: 0.0659 - acc: 0.9634 - f1: 0.9634 - val_loss: 0.8863 - val_acc: 0.8680 - val_f1: 0.8680\n",
      "Epoch 45/100\n",
      "600/600 [==============================] - 79s 132ms/step - loss: 0.0671 - acc: 0.9642 - f1: 0.9641 - val_loss: 0.8508 - val_acc: 0.8628 - val_f1: 0.8628\n",
      "Epoch 46/100\n",
      "600/600 [==============================] - 78s 130ms/step - loss: 0.0648 - acc: 0.9644 - f1: 0.9644 - val_loss: 0.9681 - val_acc: 0.8662 - val_f1: 0.8662\n",
      "Epoch 47/100\n",
      "600/600 [==============================] - 78s 129ms/step - loss: 0.0666 - acc: 0.9640 - f1: 0.9640 - val_loss: 0.9391 - val_acc: 0.8675 - val_f1: 0.8675\n",
      "Epoch 48/100\n",
      "600/600 [==============================] - 76s 127ms/step - loss: 0.0655 - acc: 0.9649 - f1: 0.9648 - val_loss: 0.9304 - val_acc: 0.8664 - val_f1: 0.8664\n",
      "Epoch 49/100\n",
      "600/600 [==============================] - 78s 130ms/step - loss: 0.0645 - acc: 0.9641 - f1: 0.9641 - val_loss: 0.9436 - val_acc: 0.8672 - val_f1: 0.8672\n",
      "Epoch 50/100\n"
     ]
    },
    {
     "name": "stdout",
     "output_type": "stream",
     "text": [
      "600/600 [==============================] - 77s 129ms/step - loss: 0.0644 - acc: 0.9645 - f1: 0.9645 - val_loss: 1.0041 - val_acc: 0.8689 - val_f1: 0.8689\n",
      "Epoch 51/100\n",
      "600/600 [==============================] - 77s 128ms/step - loss: 0.0645 - acc: 0.9640 - f1: 0.9640 - val_loss: 0.8236 - val_acc: 0.8622 - val_f1: 0.8622\n",
      "Epoch 52/100\n",
      "600/600 [==============================] - 77s 129ms/step - loss: 0.0629 - acc: 0.9648 - f1: 0.9647 - val_loss: 1.0169 - val_acc: 0.8669 - val_f1: 0.8669\n",
      "Epoch 53/100\n",
      "600/600 [==============================] - 80s 133ms/step - loss: 0.0631 - acc: 0.9647 - f1: 0.9647 - val_loss: 0.8499 - val_acc: 0.8650 - val_f1: 0.8650\n",
      "Epoch 54/100\n",
      "600/600 [==============================] - 77s 128ms/step - loss: 0.0621 - acc: 0.9648 - f1: 0.9648 - val_loss: 0.8835 - val_acc: 0.8658 - val_f1: 0.8658\n",
      "Epoch 55/100\n",
      "600/600 [==============================] - 76s 127ms/step - loss: 0.0618 - acc: 0.9648 - f1: 0.9648 - val_loss: 0.9365 - val_acc: 0.8633 - val_f1: 0.8633\n",
      "Epoch 56/100\n",
      "600/600 [==============================] - 76s 126ms/step - loss: 0.0620 - acc: 0.9642 - f1: 0.9642 - val_loss: 0.9495 - val_acc: 0.8636 - val_f1: 0.8636\n",
      "Epoch 57/100\n",
      "600/600 [==============================] - 78s 130ms/step - loss: 0.0628 - acc: 0.9643 - f1: 0.9643 - val_loss: 0.9032 - val_acc: 0.8608 - val_f1: 0.8608\n",
      "Epoch 58/100\n",
      "600/600 [==============================] - 76s 126ms/step - loss: 0.0613 - acc: 0.9659 - f1: 0.9659 - val_loss: 0.9308 - val_acc: 0.8650 - val_f1: 0.8650\n",
      "Epoch 59/100\n",
      "600/600 [==============================] - 75s 126ms/step - loss: 0.0622 - acc: 0.9648 - f1: 0.9648 - val_loss: 0.9582 - val_acc: 0.8633 - val_f1: 0.8633\n",
      "Epoch 60/100\n",
      "600/600 [==============================] - 75s 125ms/step - loss: 0.0616 - acc: 0.9650 - f1: 0.9650 - val_loss: 0.8855 - val_acc: 0.8617 - val_f1: 0.8617\n",
      "Epoch 61/100\n",
      "600/600 [==============================] - 77s 128ms/step - loss: 0.0614 - acc: 0.9649 - f1: 0.9649 - val_loss: 0.9390 - val_acc: 0.8632 - val_f1: 0.8632\n",
      "Epoch 62/100\n",
      "600/600 [==============================] - 76s 127ms/step - loss: 0.0616 - acc: 0.9651 - f1: 0.9651 - val_loss: 0.9479 - val_acc: 0.8644 - val_f1: 0.8644\n",
      "Epoch 63/100\n",
      "600/600 [==============================] - 76s 126ms/step - loss: 0.0604 - acc: 0.9656 - f1: 0.9656 - val_loss: 0.9915 - val_acc: 0.8649 - val_f1: 0.8649\n",
      "Epoch 64/100\n",
      "600/600 [==============================] - 76s 127ms/step - loss: 0.0617 - acc: 0.9654 - f1: 0.9654 - val_loss: 0.9849 - val_acc: 0.8673 - val_f1: 0.8673\n",
      "Epoch 65/100\n",
      "600/600 [==============================] - 77s 128ms/step - loss: 0.0609 - acc: 0.9649 - f1: 0.9649 - val_loss: 1.0943 - val_acc: 0.8661 - val_f1: 0.8661\n",
      "Epoch 66/100\n",
      "600/600 [==============================] - 76s 127ms/step - loss: 0.0599 - acc: 0.9649 - f1: 0.9649 - val_loss: 1.0049 - val_acc: 0.8661 - val_f1: 0.8661\n",
      "Epoch 67/100\n",
      "600/600 [==============================] - 76s 126ms/step - loss: 0.0602 - acc: 0.9659 - f1: 0.9659 - val_loss: 1.0259 - val_acc: 0.8658 - val_f1: 0.8658\n",
      "Epoch 68/100\n",
      "600/600 [==============================] - 74s 124ms/step - loss: 0.0605 - acc: 0.9653 - f1: 0.9653 - val_loss: 1.0134 - val_acc: 0.8620 - val_f1: 0.8620\n",
      "Epoch 69/100\n",
      "600/600 [==============================] - 75s 125ms/step - loss: 0.0619 - acc: 0.9639 - f1: 0.9639 - val_loss: 0.9383 - val_acc: 0.8691 - val_f1: 0.8691\n",
      "Epoch 70/100\n",
      "600/600 [==============================] - 76s 126ms/step - loss: 0.0588 - acc: 0.9657 - f1: 0.9657 - val_loss: 1.0587 - val_acc: 0.8688 - val_f1: 0.8688\n",
      "Epoch 71/100\n",
      "600/600 [==============================] - 75s 124ms/step - loss: 0.0583 - acc: 0.9654 - f1: 0.9654 - val_loss: 1.0274 - val_acc: 0.8652 - val_f1: 0.8652\n",
      "Epoch 72/100\n",
      "600/600 [==============================] - 76s 126ms/step - loss: 0.0601 - acc: 0.9647 - f1: 0.9647 - val_loss: 0.9992 - val_acc: 0.8650 - val_f1: 0.8650\n",
      "Epoch 73/100\n",
      "600/600 [==============================] - 76s 126ms/step - loss: 0.0584 - acc: 0.9659 - f1: 0.9659 - val_loss: 1.0717 - val_acc: 0.8659 - val_f1: 0.8659\n",
      "Epoch 74/100\n",
      "600/600 [==============================] - 76s 126ms/step - loss: 0.0591 - acc: 0.9656 - f1: 0.9656 - val_loss: 0.9554 - val_acc: 0.8688 - val_f1: 0.8688\n",
      "Epoch 75/100\n",
      "600/600 [==============================] - 75s 125ms/step - loss: 0.0608 - acc: 0.9648 - f1: 0.9648 - val_loss: 1.0219 - val_acc: 0.8666 - val_f1: 0.8666\n",
      "Epoch 76/100\n",
      "600/600 [==============================] - 75s 126ms/step - loss: 0.0595 - acc: 0.9649 - f1: 0.9649 - val_loss: 1.0001 - val_acc: 0.8681 - val_f1: 0.8681\n",
      "Epoch 77/100\n",
      "600/600 [==============================] - 76s 127ms/step - loss: 0.0590 - acc: 0.9652 - f1: 0.9651 - val_loss: 1.0245 - val_acc: 0.8674 - val_f1: 0.8674\n",
      "Epoch 78/100\n",
      "600/600 [==============================] - 77s 128ms/step - loss: 0.0581 - acc: 0.9662 - f1: 0.9662 - val_loss: 1.0578 - val_acc: 0.8668 - val_f1: 0.8668\n",
      "Epoch 79/100\n",
      "600/600 [==============================] - 75s 126ms/step - loss: 0.0585 - acc: 0.9656 - f1: 0.9656 - val_loss: 1.0857 - val_acc: 0.8669 - val_f1: 0.8669\n",
      "Epoch 80/100\n",
      "600/600 [==============================] - 75s 124ms/step - loss: 0.0588 - acc: 0.9653 - f1: 0.9653 - val_loss: 1.0724 - val_acc: 0.8680 - val_f1: 0.8680\n",
      "Epoch 81/100\n",
      "600/600 [==============================] - 76s 126ms/step - loss: 0.0598 - acc: 0.9660 - f1: 0.9660 - val_loss: 0.9671 - val_acc: 0.8611 - val_f1: 0.8611\n",
      "Epoch 82/100\n",
      "600/600 [==============================] - 76s 127ms/step - loss: 0.0575 - acc: 0.9652 - f1: 0.9652 - val_loss: 1.0549 - val_acc: 0.8620 - val_f1: 0.8620\n",
      "Epoch 83/100\n",
      "600/600 [==============================] - 75s 124ms/step - loss: 0.0582 - acc: 0.9666 - f1: 0.9666 - val_loss: 1.0393 - val_acc: 0.8673 - val_f1: 0.8673\n",
      "Epoch 84/100\n",
      "600/600 [==============================] - 72s 121ms/step - loss: 0.0577 - acc: 0.9662 - f1: 0.9662 - val_loss: 0.9901 - val_acc: 0.8693 - val_f1: 0.8693\n",
      "Epoch 85/100\n",
      "600/600 [==============================] - 76s 127ms/step - loss: 0.0571 - acc: 0.9662 - f1: 0.9661 - val_loss: 1.0522 - val_acc: 0.8682 - val_f1: 0.8682\n",
      "Epoch 87/100\n",
      "600/600 [==============================] - 75s 124ms/step - loss: 0.0573 - acc: 0.9660 - f1: 0.9660 - val_loss: 1.1388 - val_acc: 0.8680 - val_f1: 0.8680\n",
      "Epoch 88/100\n",
      "600/600 [==============================] - 74s 124ms/step - loss: 0.0572 - acc: 0.9660 - f1: 0.9660 - val_loss: 1.0530 - val_acc: 0.8668 - val_f1: 0.8668\n",
      "Epoch 89/100\n",
      "600/600 [==============================] - 75s 125ms/step - loss: 0.0578 - acc: 0.9663 - f1: 0.9663 - val_loss: 1.0071 - val_acc: 0.8623 - val_f1: 0.8623\n",
      "Epoch 90/100\n",
      "600/600 [==============================] - 76s 126ms/step - loss: 0.0566 - acc: 0.9652 - f1: 0.9652 - val_loss: 1.1002 - val_acc: 0.8682 - val_f1: 0.8682\n",
      "Epoch 91/100\n",
      "346/600 [================>.............] - ETA: 29s - loss: 0.0564 - acc: 0.9669 - f1: 0.9669"
     ]
    },
    {
     "name": "stderr",
     "output_type": "stream",
     "text": [
      "IOPub message rate exceeded.\n",
      "The notebook server will temporarily stop sending output\n",
      "to the client in order to avoid crashing it.\n",
      "To change this limit, set the config variable\n",
      "`--NotebookApp.iopub_msg_rate_limit`.\n",
      "\n",
      "Current values:\n",
      "NotebookApp.iopub_msg_rate_limit=1000.0 (msgs/sec)\n",
      "NotebookApp.rate_limit_window=3.0 (secs)\n",
      "\n"
     ]
    },
    {
     "name": "stdout",
     "output_type": "stream",
     "text": [
      "600/600 [==============================] - 74s 123ms/step - loss: 0.0571 - acc: 0.9655 - f1: 0.9655 - val_loss: 1.0823 - val_acc: 0.8639 - val_f1: 0.8639\n",
      "Epoch 94/100\n",
      "600/600 [==============================] - 76s 127ms/step - loss: 0.0557 - acc: 0.9665 - f1: 0.9665 - val_loss: 1.0885 - val_acc: 0.8681 - val_f1: 0.8681\n",
      "Epoch 95/100\n",
      "600/600 [==============================] - 74s 124ms/step - loss: 0.0569 - acc: 0.9655 - f1: 0.9655 - val_loss: 1.0481 - val_acc: 0.8650 - val_f1: 0.8650\n",
      "Epoch 96/100\n",
      "600/600 [==============================] - 75s 124ms/step - loss: 0.0570 - acc: 0.9663 - f1: 0.9663 - val_loss: 1.0799 - val_acc: 0.8665 - val_f1: 0.8665\n",
      "Epoch 97/100\n",
      "600/600 [==============================] - 73s 122ms/step - loss: 0.0564 - acc: 0.9667 - f1: 0.9667 - val_loss: 1.0513 - val_acc: 0.8652 - val_f1: 0.8652\n",
      "Epoch 98/100\n",
      "375/600 [=================>............] - ETA: 27s - loss: 0.0570 - acc: 0.9662 - f1: 0.9662"
     ]
    },
    {
     "name": "stderr",
     "output_type": "stream",
     "text": [
      "IOPub message rate exceeded.\n",
      "The notebook server will temporarily stop sending output\n",
      "to the client in order to avoid crashing it.\n",
      "To change this limit, set the config variable\n",
      "`--NotebookApp.iopub_msg_rate_limit`.\n",
      "\n",
      "Current values:\n",
      "NotebookApp.iopub_msg_rate_limit=1000.0 (msgs/sec)\n",
      "NotebookApp.rate_limit_window=3.0 (secs)\n",
      "\n"
     ]
    }
   ],
   "source": [
    "training_batches = MagnitudeUtils.batchify(x_train, y_train, BATCH_SIZE) # Split the training data into batches\n",
    "num_batches_per_epoch_train = int(np.ceil(num_training/float(BATCH_SIZE)))\n",
    "test_batches = MagnitudeUtils.batchify(x_test, y_test, BATCH_SIZE)  # Split the test data into batches\n",
    "num_batches_per_epoch_test = int(np.ceil(num_test/float(BATCH_SIZE)))\n",
    "\n",
    "\n",
    "# Generates batches of the transformed training data\n",
    "train_batch_generator = (\n",
    "  (\n",
    "    med_vectors.query(x_train_batch), # Magnitude will handle converting the 2D array of text into the 3D word vector representations!\n",
    "    MagnitudeUtils.to_categorical(y_train_batch, num_outputs) # Magnitude will handle converting the class labels into one-hot encodings!\n",
    "  ) for x_train_batch, y_train_batch in training_batches\n",
    ")\n",
    "\n",
    "# Generates batches of the transformed test data\n",
    "test_batch_generator = (\n",
    "  (\n",
    "    med_vectors.query(x_test_batch), # Magnitude will handle converting the 2D array of text into the 3D word vector representations!\n",
    "    MagnitudeUtils.to_categorical(y_test_batch, num_outputs) # Magnitude will handle converting the class labels into one-hot encodings!\n",
    "  ) for x_test_batch, y_test_batch in test_batches\n",
    ")\n",
    "\n",
    "# Start training\n",
    "model.fit_generator(\n",
    "    generator = train_batch_generator,\n",
    "    steps_per_epoch = num_batches_per_epoch_train,\n",
    "    validation_data = test_batch_generator,\n",
    "    validation_steps = num_batches_per_epoch_test,\n",
    "    epochs = EPOCHS,\n",
    ")"
   ]
  },
  {
   "cell_type": "markdown",
   "metadata": {},
   "source": [
    "## Results"
   ]
  },
  {
   "cell_type": "code",
   "execution_count": 10,
   "metadata": {},
   "outputs": [
    {
     "name": "stdout",
     "output_type": "stream",
     "text": [
      "Results after training for 100 epochs:\n",
      "loss: 0.0509 - categorical_accuracy: 0.9681 - f1: 0.9681\n",
      "val_loss: 1.0534 - val_categorical_accuracy: 0.8629 - f1: 0.8629\n"
     ]
    }
   ],
   "source": [
    "print(\"Results after training for %d epochs:\" % (EPOCHS,))\n",
    "\n",
    "train_metrics = model.evaluate_generator(\n",
    "    generator = train_batch_generator,\n",
    "    steps = num_batches_per_epoch_train,\n",
    ")\n",
    "\n",
    "print(\"loss: %.4f - categorical_accuracy: %.4f - f1: %.4f\" % tuple(train_metrics))\n",
    "\n",
    "val_metrics = model.evaluate_generator(\n",
    "    generator = test_batch_generator,\n",
    "    steps = num_batches_per_epoch_test,\n",
    ")\n",
    "\n",
    "print(\"val_loss: %.4f - val_categorical_accuracy: %.4f - f1: %.4f\" % tuple(val_metrics))"
   ]
  },
  {
   "cell_type": "markdown",
   "metadata": {},
   "source": [
    "## Conclusion"
   ]
  },
  {
   "cell_type": "code",
   "execution_count": 17,
   "metadata": {},
   "outputs": [
    {
     "data": {
      "image/png": "[encoded data removed]",
      "text/plain": [
       "<Figure size 432x288 with 1 Axes>"
      ]
     },
     "metadata": {},
     "output_type": "display_data"
    },
    {
     "data": {
      "image/png": "[encoded data removed]",
      "text/plain": [
       "<Figure size 432x288 with 1 Axes>"
      ]
     },
     "metadata": {},
     "output_type": "display_data"
    }
   ],
   "source": [
    "import matplotlib.pyplot as plt\n",
    "\n",
    "# Plot training & validation accuracy values\n",
    "plt.plot(model.history.history['acc'])\n",
    "plt.plot(model.history.history['val_acc'])\n",
    "plt.title('Model accuracy')\n",
    "plt.ylabel('Accuracy')\n",
    "plt.xlabel('Epoch')\n",
    "plt.legend(['Train', 'Test'], loc='upper left')\n",
    "plt.show()\n",
    "\n",
    "# Plot training & validation loss values\n",
    "plt.plot(model.history.history['loss'])\n",
    "plt.plot(model.history.history['val_loss'])\n",
    "plt.title('Model loss')\n",
    "plt.ylabel('Loss')\n",
    "plt.xlabel('Epoch')\n",
    "plt.legend(['Train', 'Test'], loc='upper left')\n",
    "plt.show()"
   ]
  },
  {
   "cell_type": "code",
   "execution_count": 51,
   "metadata": {},
   "outputs": [
    {
     "name": "stdout",
     "output_type": "stream",
     "text": [
      "['Cardiovascular', 'Other']\n",
      "[[ 784  893]\n",
      " [ 607 8656]]\n",
      "                precision    recall  f1-score   support\n",
      "\n",
      "Cardiovascular       0.56      0.47      0.51      1677\n",
      "         Other       0.91      0.93      0.92      9263\n",
      "\n",
      "   avg / total       0.85      0.86      0.86     10940\n",
      "\n"
     ]
    }
   ],
   "source": [
    "from sklearn.metrics import confusion_matrix, classification_report\n",
    "\n",
    "y_pred = np.argmax(model.predict(med_vectors.query(x_test)), axis=1)\n",
    "class_labels = [int_to_intent(y) for y in set(y_test)] \n",
    "report = classification_report(y_test, y_pred, target_names=class_labels)\n",
    "print(class_labels)\n",
    "print(confusion_matrix(y_test, y_pred))\n",
    "print(report)"
   ]
  },
  {
   "cell_type": "code",
   "execution_count": 74,
   "metadata": {},
   "outputs": [
    {
     "data": {
      "text/plain": [
       "<matplotlib.axes._subplots.AxesSubplot at 0x7f41b4a28780>"
      ]
     },
     "execution_count": 74,
     "metadata": {},
     "output_type": "execute_result"
    },
    {
     "data": {
      "image/png": "[encoded data removed]",
      "text/plain": [
       "<Figure size 432x288 with 2 Axes>"
      ]
     },
     "metadata": {},
     "output_type": "display_data"
    }
   ],
   "source": [
    "from sklearn.utils.multiclass import unique_labels\n",
    "\n",
    "def plot_confusion_matrix(y_true, y_pred, classes,\n",
    "                          title=None,\n",
    "                          cmap=plt.cm.Blues):\n",
    "    \"\"\"\n",
    "    This function prints and plots the confusion matrix.\n",
    "    Normalization can be applied by setting `normalize=True`.\n",
    "    \"\"\"\n",
    "    if not title:\n",
    "        if normalize:\n",
    "            title = 'Normalized confusion matrix'\n",
    "        else:\n",
    "            title = 'Confusion matrix, without normalization'\n",
    "\n",
    "    # Compute confusion matrix\n",
    "    cm = confusion_matrix(y_true, y_pred)\n",
    "    # Only use the labels that appear in the data\n",
    "    classes = [int_to_intent(y_class) for y_class in unique_labels(y_test, y_pred)]\n",
    "\n",
    "    fig, ax = plt.subplots()\n",
    "#     fig.set_figheight(15)\n",
    "#     fig.set_figwidth(15)\n",
    "    im = ax.imshow(cm, interpolation='nearest', cmap=cmap)\n",
    "    ax.figure.colorbar(im, ax=ax)\n",
    "    # We want to show all ticks...\n",
    "    ax.set(xticks=np.arange(cm.shape[1]),\n",
    "           yticks=np.arange(cm.shape[0]),\n",
    "           # ... and label them with the respective list entries\n",
    "           xticklabels=classes, yticklabels=classes,\n",
    "           title=title,\n",
    "           ylabel='True label',\n",
    "           xlabel='Predicted label')\n",
    "\n",
    "    # Rotate the tick labels and set their alignment.\n",
    "    plt.setp(ax.get_xticklabels(), rotation=45, ha=\"right\",\n",
    "             rotation_mode=\"anchor\")\n",
    "\n",
    "    # Loop over data dimensions and create text annotations.\n",
    "    fmt = 'd'\n",
    "    thresh = cm.max() / 2.\n",
    "    for i in range(cm.shape[0]):\n",
    "        for j in range(cm.shape[1]):\n",
    "            ax.text(j, i, format(cm[i, j], fmt),\n",
    "                    ha=\"center\", va=\"center\",\n",
    "                    color=\"white\" if cm[i, j] > thresh else \"black\")\n",
    "    fig.tight_layout()\n",
    "    return ax\n",
    "\n",
    "\n",
    "np.set_printoptions(precision=2)\n",
    "\n",
    "plot_confusion_matrix(y_test, y_pred, classes=class_labels\n",
    "                      , title='Confusion Matrix for Cardiovascular Disease CNN Classifier')"
   ]
  }
 ],
 "metadata": {
  "kernelspec": {
   "display_name": "Python 3",
   "language": "python",
   "name": "python3"
  },
  "language_info": {
   "codemirror_mode": {
    "name": "ipython",
    "version": 3
   },
   "file_extension": ".py",
   "mimetype": "text/x-python",
   "name": "python",
   "nbconvert_exporter": "python",
   "pygments_lexer": "ipython3",
   "version": "3.6.5"
  }
 },
 "nbformat": 4,
 "nbformat_minor": 2
}
