{
 "cells": [
  {
   "cell_type": "code",
   "execution_count": 1,
   "metadata": {},
   "outputs": [
    {
     "name": "stdout",
     "output_type": "stream",
     "text": [
      "[nltk_data] Downloading package punkt to /home/renzeer/nltk_data...\n",
      "[nltk_data]   Package punkt is already up-to-date!\n",
      "[nltk_data] Downloading package stopwords to\n",
      "[nltk_data]     /home/renzeer/nltk_data...\n",
      "[nltk_data]   Package stopwords is already up-to-date!\n"
     ]
    },
    {
     "name": "stderr",
     "output_type": "stream",
     "text": [
      "Using TensorFlow backend.\n"
     ]
    }
   ],
   "source": [
    "# Standard python helper libraries.\n",
    "import os, sys, re, json, time, wget, csv, string, time, random\n",
    "import itertools, collections\n",
    "\n",
    "# NumPy\n",
    "import numpy as np\n",
    "\n",
    "# NLTK for NLP utils\n",
    "import nltk\n",
    "nltk.download('punkt')\n",
    "nltk.download('stopwords')\n",
    "from nltk.corpus import stopwords\n",
    "from nltk.tokenize import word_tokenize\n",
    "from nltk.stem.porter import PorterStemmer\n",
    "\n",
    "from keras import backend as K\n",
    "from keras.models import Sequential\n",
    "from keras.layers import GaussianNoise, Dropout, Dense, Embedding, MaxPool1D, GlobalMaxPool1D, Conv1D\n",
    "from keras.optimizers import Adam\n",
    "from keras.callbacks import Callback\n",
    "\n",
    "from sklearn.metrics import confusion_matrix, f1_score, precision_score, recall_score\n",
    "\n",
    "from pymagnitude import *"
   ]
  },
  {
   "cell_type": "markdown",
   "metadata": {},
   "source": [
    "# Binary Classifier for Orthopedic Disorder using a Convolutional Neural Network\n",
    "\n",
    "In this notebook, we will be building a model for classifying a sentence from an EHR note for the presence of orthopedic disorder. The model will be trained using a convoultional neural network (CNN). \n",
    "\n",
    "## Word Embedding\n",
    "\n",
    "The first step is to load in our word embedding, which is trained on text from Wikipedia, Pubmed, and Pubmed Central. We load our word embedding through a tool called Magnitude. A full exploration of the word embedding and Magnitude can be found in the Introduction notebook."
   ]
  },
  {
   "cell_type": "code",
   "execution_count": 2,
   "metadata": {},
   "outputs": [],
   "source": [
    "med_vectors = Magnitude(\"data/wikipedia-pubmed-and-PMC-w2v.magnitude\", pad_to_length=30)"
   ]
  },
  {
   "cell_type": "markdown",
   "metadata": {},
   "source": [
    "## Text Preprocessing"
   ]
  },
  {
   "cell_type": "code",
   "execution_count": 3,
   "metadata": {},
   "outputs": [
    {
     "name": "stdout",
     "output_type": "stream",
     "text": [
      "['Other', 'PAST MEDICAL HISTORY:, He has difficulty climbing stairs, difficulty with airline seats, tying shoes, used to public seating, and lifting objects off the floor.  He exercises three times a week at home and does cardio.  He has difficulty walking two blocks or five flights of stairs.  Difficulty with snoring.  He has muscle and joint pains including knee pain, back pain, foot and ankle pain, and swelling.  He has gastroesophageal reflux disease.,PAST SURGICAL HISTORY:, Includes reconstructive surgery on his right hand 13 years ago.  ,SOCIAL HISTORY:, He is currently single.  He has about ten drinks a year.  He had smoked significantly up until several months ago.  He now smokes less than three cigarettes a day.,FAMILY HISTORY:, Heart disease in both grandfathers, grandmother with stroke, and a grandmother with diabetes.  Denies obesity and hypertension in other family members.,CURRENT MEDICATIONS:, None.,ALLERGIES:,  He is allergic to Penicillin.,MISCELLANEOUS/EATING HISTORY:, He has been going to support groups for seven months with Lynn Holmberg in Greenwich and he is from Eastchester, New York and he feels that we are the appropriate program.  He had a poor experience with the Greenwich program.  Eating history, he is not an emotional eater.  Does not like sweets.  He likes big portions and carbohydrates.  He likes chicken and not steak.  He currently weighs 312 pounds.  Ideal body weight would be 170 pounds.  He is 142 pounds overweight.  If ,he lost 60% of his excess body weight that would be 84 pounds and he should weigh about 228.,REVIEW OF SYSTEMS: ,Negative for head, neck, heart, lungs, GI, GU, orthopedic, and skin.  Specifically denies chest pain, heart attack, coronary artery disease, congestive heart failure, arrhythmia, atrial fibrillation, pacemaker, high cholesterol, pulmonary embolism, high blood pressure, CVA, venous insufficiency, thrombophlebitis, asthma, shortness of breath, COPD, emphysema, sleep apnea, diabetes, leg and foot swelling, osteoarthritis, rheumatoid arthritis, hiatal hernia, peptic ulcer disease, gallstones, infected gallbladder, pancreatitis, fatty liver, hepatitis, hemorrhoids, rectal bleeding, polyps, incontinence of stool, urinary stress incontinence, or cancer.  Denies cellulitis, pseudotumor cerebri, meningitis, or encephalitis.,PHYSICAL EXAMINATION:, He is alert and oriented x 3.  Cranial nerves II-XII are intact.  Afebrile.  Vital Signs are stable.']\n",
      "['Other', '2-D M-MODE: , ,1.  Left atrial enlargement with left atrial diameter of 4.7 cm.,2.  Normal size right and left ventricle.,3.  Normal LV systolic function with left ventricular ejection fraction of 51%.,4.  Normal LV diastolic function.,5.  No pericardial effusion.,6.  Normal morphology of aortic valve, mitral valve, tricuspid valve, and pulmonary valve.,7.  PA systolic pressure is 36 mmHg.,DOPPLER: , ,1.  Mild mitral and tricuspid regurgitation.,2.  Trace aortic and pulmonary regurgitation.']\n"
     ]
    }
   ],
   "source": [
    "ehr_notes = []\n",
    "with open('data/ehr_samples.csv', newline='') as csvfile:\n",
    "    reader = csv.DictReader(csvfile)\n",
    "    for row in reader:     \n",
    "        if int(row['SpecialtyID']) in [39, 6, 16, 37, 11, 12, 29, 26, 7, 21, 19, 10, 2, 18]:\n",
    "            continue\n",
    "        elif int(row['SpecialtyID']) != 28:\n",
    "            ehr_notes.append(['Other', row['Note']])\n",
    "        else:\n",
    "            ehr_notes.append([row['Specialty'], row['Note']])\n",
    "\n",
    "print(ehr_notes[0])\n",
    "print(ehr_notes[2])"
   ]
  },
  {
   "cell_type": "markdown",
   "metadata": {},
   "source": [
    "## Natural Langauge Processing"
   ]
  },
  {
   "cell_type": "code",
   "execution_count": 4,
   "metadata": {},
   "outputs": [
    {
     "name": "stdout",
     "output_type": "stream",
     "text": [
      "['Other', 'return clinic 4 weeks5']\n",
      "['Orthopedic', 'biceps tendon nonsubluxable']\n"
     ]
    }
   ],
   "source": [
    "ehr_sentences = []\n",
    "for record in ehr_notes:\n",
    "    sent_text = nltk.sent_tokenize(record[1])\n",
    "    for sent in sent_text:\n",
    "        tokens = word_tokenize(sent)\n",
    "\n",
    "        # convert to lower case\n",
    "        tokens = [w.lower() for w in tokens]\n",
    "\n",
    "        # remove punctuation from each word\n",
    "        table = str.maketrans('', '', string.punctuation)\n",
    "        tokens = [w.translate(table) for w in tokens]\n",
    "\n",
    "        # filter out stop words\n",
    "        stop_words = set(stopwords.words('english'))\n",
    "        tokens = [w for w in tokens if not w in stop_words]\n",
    "\n",
    "#         # stem words\n",
    "#         porter = PorterStemmer()\n",
    "#         tokens = [porter.stem(word) for word in tokens]\n",
    "\n",
    "        # remove blanks\n",
    "        tokens = [w for w in tokens if w != '']\n",
    "\n",
    "        ehr_sentences.append([record[0], ' '.join(tokens)])\n",
    "\n",
    "random.Random(4).shuffle(ehr_sentences)\n",
    "\n",
    "print(ehr_sentences[0])\n",
    "print(ehr_sentences[1])"
   ]
  },
  {
   "cell_type": "markdown",
   "metadata": {},
   "source": [
    "## Defining our Training and Test Data\n",
    "\n",
    "Before we can start building our neural networks, we first have to define our datasets. Specifically, we have to break up our EHR data so that we have records that we can train on and records that are exclusively used to test on. Maintaining a separate set for testing ensures we avoid overfitting our data.\n",
    "\n",
    "We will use some built-in functions provided by Magnitude that helps encode our classes/categories. We then partition our data into our train and test sets. For each set we have both data and labels. Initially, we will be making these partitions small to make iterating through model development much quicker. However, once the models are developed, we will expand our datasets to include all of our data. To ensure we defined our data correctly, we can print a few lines from the two sets."
   ]
  },
  {
   "cell_type": "code",
   "execution_count": 5,
   "metadata": {},
   "outputs": [
    {
     "data": {
      "text/plain": [
       "70941"
      ]
     },
     "execution_count": 5,
     "metadata": {},
     "output_type": "execute_result"
    }
   ],
   "source": [
    "len(ehr_sentences)"
   ]
  },
  {
   "cell_type": "code",
   "execution_count": 6,
   "metadata": {},
   "outputs": [
    {
     "name": "stdout",
     "output_type": "stream",
     "text": [
      "Other\n",
      "First line of train/test data:\n",
      "\t ['return', 'clinic', '4', 'weeks5']\n",
      "\t 0 Other\n",
      "\t ['smokes', 'one', 'pack', 'per', 'day']\n",
      "\t 0 Other\n",
      "Second line of train/test data:\n",
      "\t ['biceps', 'tendon', 'nonsubluxable']\n",
      "\t 1 Orthopedic\n",
      "\t ['denies', 'illicit', 'drug', 'use', 'family', 'history', 'parents', 'died', 'myocardial', 'infarctions']\n",
      "\t 0 Other\n"
     ]
    }
   ],
   "source": [
    "add_intent, intent_to_int, int_to_intent = MagnitudeUtils.class_encoding()\n",
    "\n",
    "x_train = [ehr_sent[1].split(' ') for ehr_sent in ehr_sentences[:60000]]\n",
    "x_test = [ehr_sent[1].split(' ') for ehr_sent in ehr_sentences[60001:]]\n",
    "\n",
    "y_train = [add_intent(ehr_sent[0]) for ehr_sent in ehr_sentences[:60000]]\n",
    "y_test = [add_intent(ehr_sent[0]) for ehr_sent in ehr_sentences[60001:]]\n",
    "\n",
    "y_train = list(np.array(y_train).reshape(len(y_train)))\n",
    "y_test = list(np.array(y_test).reshape(len(y_test)))\n",
    "\n",
    "num_training = len(x_train)\n",
    "num_test = len(x_test)\n",
    "num_outputs = int(max(max(y_train), max(y_test))) + 1\n",
    "\n",
    "print(int_to_intent(0))\n",
    "\n",
    "print(\"First line of train/test data:\")\n",
    "print(\"\\t\", x_train[0])\n",
    "print(\"\\t\", y_train[0], int_to_intent(y_train[0]))\n",
    "print(\"\\t\", x_test[0])\n",
    "print(\"\\t\", y_test[0], int_to_intent(y_test[0]))\n",
    "print(\"Second line of train/test data:\")\n",
    "print(\"\\t\", x_train[1])\n",
    "print(\"\\t\", y_train[1], int_to_intent(y_train[1]))\n",
    "print(\"\\t\", x_test[1])\n",
    "print(\"\\t\", y_test[1], int_to_intent(y_test[1]))"
   ]
  },
  {
   "cell_type": "markdown",
   "metadata": {},
   "source": [
    "## Defining Custom Callback Function"
   ]
  },
  {
   "cell_type": "code",
   "execution_count": 7,
   "metadata": {},
   "outputs": [],
   "source": [
    "def f1(y_true, y_pred):\n",
    "    def recall(y_true, y_pred):\n",
    "        \"\"\"Recall metric.\n",
    "\n",
    "        Only computes a batch-wise average of recall.\n",
    "\n",
    "        Computes the recall, a metric for multi-label classification of\n",
    "        how many relevant items are selected.\n",
    "        \"\"\"\n",
    "        true_positives = K.sum(K.round(K.clip(y_true * y_pred, 0, 1)))\n",
    "        possible_positives = K.sum(K.round(K.clip(y_true, 0, 1)))\n",
    "        recall = true_positives / (possible_positives + K.epsilon())\n",
    "        return recall\n",
    "\n",
    "    def precision(y_true, y_pred):\n",
    "        \"\"\"Precision metric.\n",
    "\n",
    "        Only computes a batch-wise average of precision.\n",
    "\n",
    "        Computes the precision, a metric for multi-label classification of\n",
    "        how many selected items are relevant.\n",
    "        \"\"\"\n",
    "        true_positives = K.sum(K.round(K.clip(y_true * y_pred, 0, 1)))\n",
    "        predicted_positives = K.sum(K.round(K.clip(y_pred, 0, 1)))\n",
    "        precision = true_positives / (predicted_positives + K.epsilon())\n",
    "        return precision\n",
    "    \n",
    "    precision = precision(y_true, y_pred)\n",
    "    recall = recall(y_true, y_pred)\n",
    "    return 2*((precision*recall)/(precision+recall+K.epsilon()))"
   ]
  },
  {
   "cell_type": "markdown",
   "metadata": {},
   "source": [
    "## Defining Model"
   ]
  },
  {
   "cell_type": "code",
   "execution_count": 8,
   "metadata": {},
   "outputs": [
    {
     "name": "stdout",
     "output_type": "stream",
     "text": [
      "_________________________________________________________________\n",
      "Layer (type)                 Output Shape              Param #   \n",
      "=================================================================\n",
      "gaussian_noise_1 (GaussianNo (None, 30, 200)           0         \n",
      "_________________________________________________________________\n",
      "conv1d_1 (Conv1D)            (None, 30, 128)           179328    \n",
      "_________________________________________________________________\n",
      "max_pooling1d_1 (MaxPooling1 (None, 15, 128)           0         \n",
      "_________________________________________________________________\n",
      "conv1d_2 (Conv1D)            (None, 15, 128)           114816    \n",
      "_________________________________________________________________\n",
      "global_max_pooling1d_1 (Glob (None, 128)               0         \n",
      "_________________________________________________________________\n",
      "dropout_1 (Dropout)          (None, 128)               0         \n",
      "_________________________________________________________________\n",
      "dense_1 (Dense)              (None, 64)                8256      \n",
      "_________________________________________________________________\n",
      "dense_2 (Dense)              (None, 2)                 130       \n",
      "=================================================================\n",
      "Total params: 302,530\n",
      "Trainable params: 302,530\n",
      "Non-trainable params: 0\n",
      "_________________________________________________________________\n"
     ]
    }
   ],
   "source": [
    "MAX_WORDS = 30 # The maximum number of words the sequence model will consider\n",
    "STD_DEV = 0.01 # Deviation of noise for Gaussian Noise applied to the embeddings\n",
    "DROPOUT_RATIO = .5 # The ratio to dropout\n",
    "BATCH_SIZE = 100 # The number of examples per train/validation step\n",
    "EPOCHS = 100 # The number of times to repeat through all of the training data\n",
    "LEARNING_RATE = .01 # The learning rate for the optimizer\n",
    "NUM_FILTERS = 128\n",
    "\n",
    "model = Sequential()\n",
    "model.add(GaussianNoise(STD_DEV, input_shape=(MAX_WORDS, med_vectors.dim)))\n",
    "model.add(Conv1D(NUM_FILTERS, 7, activation='relu', padding='same'))\n",
    "model.add(MaxPool1D(2))\n",
    "model.add(Conv1D(NUM_FILTERS, 7, activation='relu', padding='same'))\n",
    "model.add(GlobalMaxPool1D())\n",
    "model.add(Dropout(DROPOUT_RATIO))\n",
    "model.add(Dense(64, activation='relu'))\n",
    "model.add(Dense(num_outputs, activation='softmax'))\n",
    "model.compile(optimizer='adam',\n",
    "              loss='binary_crossentropy',\n",
    "              metrics=['accuracy', f1])\n",
    "model.summary()"
   ]
  },
  {
   "cell_type": "markdown",
   "metadata": {},
   "source": [
    "## Training Batches and Epochs"
   ]
  },
  {
   "cell_type": "code",
   "execution_count": 9,
   "metadata": {},
   "outputs": [
    {
     "name": "stdout",
     "output_type": "stream",
     "text": [
      "Epoch 1/100\n",
      "600/600 [==============================] - 2299s 4s/step - loss: 0.3421 - acc: 0.8571 - f1: 0.8571 - val_loss: 0.3049 - val_acc: 0.8723 - val_f1: 0.8723\n",
      "Epoch 2/100\n",
      "600/600 [==============================] - 76s 127ms/step - loss: 0.2933 - acc: 0.8777 - f1: 0.8777 - val_loss: 0.2956 - val_acc: 0.8729 - val_f1: 0.8729\n",
      "Epoch 3/100\n",
      "600/600 [==============================] - 76s 127ms/step - loss: 0.2622 - acc: 0.8883 - f1: 0.8883 - val_loss: 0.3058 - val_acc: 0.8658 - val_f1: 0.8658\n",
      "Epoch 4/100\n",
      "600/600 [==============================] - 76s 127ms/step - loss: 0.2322 - acc: 0.8981 - f1: 0.8981 - val_loss: 0.3370 - val_acc: 0.8671 - val_f1: 0.8671\n",
      "Epoch 5/100\n",
      "600/600 [==============================] - 79s 131ms/step - loss: 0.2064 - acc: 0.9048 - f1: 0.9048 - val_loss: 0.3689 - val_acc: 0.8616 - val_f1: 0.8616\n",
      "Epoch 6/100\n",
      "600/600 [==============================] - 76s 127ms/step - loss: 0.1883 - acc: 0.9103 - f1: 0.9103 - val_loss: 0.4318 - val_acc: 0.8606 - val_f1: 0.8606\n",
      "Epoch 7/100\n",
      "600/600 [==============================] - 76s 127ms/step - loss: 0.1789 - acc: 0.9135 - f1: 0.9135 - val_loss: 0.4057 - val_acc: 0.8492 - val_f1: 0.8492\n",
      "Epoch 8/100\n",
      "600/600 [==============================] - 78s 130ms/step - loss: 0.1656 - acc: 0.9197 - f1: 0.9197 - val_loss: 0.4405 - val_acc: 0.8283 - val_f1: 0.8283\n",
      "Epoch 9/100\n",
      "600/600 [==============================] - 79s 132ms/step - loss: 0.1590 - acc: 0.9220 - f1: 0.9220 - val_loss: 0.4584 - val_acc: 0.8278 - val_f1: 0.8278\n",
      "Epoch 10/100\n",
      "600/600 [==============================] - 77s 128ms/step - loss: 0.1549 - acc: 0.9226 - f1: 0.9226 - val_loss: 0.4744 - val_acc: 0.8261 - val_f1: 0.8261\n",
      "Epoch 11/100\n",
      "600/600 [==============================] - 76s 127ms/step - loss: 0.1490 - acc: 0.9255 - f1: 0.9255 - val_loss: 0.4793 - val_acc: 0.8383 - val_f1: 0.8383\n",
      "Epoch 12/100\n",
      "600/600 [==============================] - 76s 126ms/step - loss: 0.1442 - acc: 0.9277 - f1: 0.9276 - val_loss: 0.5250 - val_acc: 0.8416 - val_f1: 0.8416\n",
      "Epoch 13/100\n",
      "600/600 [==============================] - 79s 132ms/step - loss: 0.1426 - acc: 0.9284 - f1: 0.9284 - val_loss: 0.5237 - val_acc: 0.8349 - val_f1: 0.8349\n",
      "Epoch 14/100\n",
      "600/600 [==============================] - 77s 128ms/step - loss: 0.1384 - acc: 0.9305 - f1: 0.9305 - val_loss: 0.5052 - val_acc: 0.8250 - val_f1: 0.8250\n",
      "Epoch 15/100\n",
      "600/600 [==============================] - 76s 126ms/step - loss: 0.1344 - acc: 0.9316 - f1: 0.9316 - val_loss: 0.5118 - val_acc: 0.8288 - val_f1: 0.8288\n",
      "Epoch 16/100\n",
      "600/600 [==============================] - 76s 127ms/step - loss: 0.1324 - acc: 0.9309 - f1: 0.9308 - val_loss: 0.5069 - val_acc: 0.8183 - val_f1: 0.8183\n",
      "Epoch 17/100\n",
      "600/600 [==============================] - 77s 128ms/step - loss: 0.1301 - acc: 0.9328 - f1: 0.9328 - val_loss: 0.5366 - val_acc: 0.8071 - val_f1: 0.8071\n",
      "Epoch 18/100\n",
      "600/600 [==============================] - 76s 127ms/step - loss: 0.1307 - acc: 0.9328 - f1: 0.9328 - val_loss: 0.5045 - val_acc: 0.8247 - val_f1: 0.8247\n",
      "Epoch 19/100\n",
      "600/600 [==============================] - 76s 126ms/step - loss: 0.1288 - acc: 0.9324 - f1: 0.9323 - val_loss: 0.5483 - val_acc: 0.8296 - val_f1: 0.8296\n",
      "Epoch 20/100\n",
      "600/600 [==============================] - 76s 127ms/step - loss: 0.1245 - acc: 0.9349 - f1: 0.9349 - val_loss: 0.5857 - val_acc: 0.8307 - val_f1: 0.8307\n",
      "Epoch 21/100\n",
      "600/600 [==============================] - 78s 130ms/step - loss: 0.1234 - acc: 0.9353 - f1: 0.9353 - val_loss: 0.5952 - val_acc: 0.8320 - val_f1: 0.8320\n",
      "Epoch 22/100\n",
      "600/600 [==============================] - 76s 127ms/step - loss: 0.1225 - acc: 0.9356 - f1: 0.9356 - val_loss: 0.6291 - val_acc: 0.8345 - val_f1: 0.8345\n",
      "Epoch 23/100\n",
      "600/600 [==============================] - 76s 127ms/step - loss: 0.1211 - acc: 0.9357 - f1: 0.9357 - val_loss: 0.6364 - val_acc: 0.8395 - val_f1: 0.8395\n",
      "Epoch 24/100\n",
      "600/600 [==============================] - 77s 128ms/step - loss: 0.1207 - acc: 0.9355 - f1: 0.9355 - val_loss: 0.6587 - val_acc: 0.8312 - val_f1: 0.8312\n",
      "Epoch 25/100\n",
      "600/600 [==============================] - 77s 129ms/step - loss: 0.1213 - acc: 0.9351 - f1: 0.9351 - val_loss: 0.6294 - val_acc: 0.8303 - val_f1: 0.8303\n",
      "Epoch 26/100\n",
      "600/600 [==============================] - 76s 126ms/step - loss: 0.1188 - acc: 0.9358 - f1: 0.9358 - val_loss: 0.6765 - val_acc: 0.8343 - val_f1: 0.8343\n",
      "Epoch 27/100\n",
      "600/600 [==============================] - 76s 127ms/step - loss: 0.1184 - acc: 0.9355 - f1: 0.9355 - val_loss: 0.6252 - val_acc: 0.8410 - val_f1: 0.8410\n",
      "Epoch 28/100\n",
      "600/600 [==============================] - 77s 128ms/step - loss: 0.1161 - acc: 0.9376 - f1: 0.9376 - val_loss: 0.7247 - val_acc: 0.8461 - val_f1: 0.8461\n",
      "Epoch 29/100\n",
      "600/600 [==============================] - 80s 133ms/step - loss: 0.1163 - acc: 0.9363 - f1: 0.9363 - val_loss: 0.7812 - val_acc: 0.8476 - val_f1: 0.8476\n",
      "Epoch 30/100\n",
      "600/600 [==============================] - 77s 129ms/step - loss: 0.1145 - acc: 0.9392 - f1: 0.9392 - val_loss: 0.7407 - val_acc: 0.8473 - val_f1: 0.8473\n",
      "Epoch 31/100\n",
      "600/600 [==============================] - 77s 128ms/step - loss: 0.1142 - acc: 0.9380 - f1: 0.9379 - val_loss: 0.6421 - val_acc: 0.8490 - val_f1: 0.8490\n",
      "Epoch 32/100\n",
      "600/600 [==============================] - 76s 127ms/step - loss: 0.1121 - acc: 0.9393 - f1: 0.9393 - val_loss: 0.7614 - val_acc: 0.8473 - val_f1: 0.8473\n",
      "Epoch 33/100\n",
      "600/600 [==============================] - 77s 129ms/step - loss: 0.1119 - acc: 0.9405 - f1: 0.9404 - val_loss: 0.7439 - val_acc: 0.8468 - val_f1: 0.8468\n",
      "Epoch 34/100\n",
      "600/600 [==============================] - 76s 127ms/step - loss: 0.1136 - acc: 0.9389 - f1: 0.9389 - val_loss: 0.7476 - val_acc: 0.8443 - val_f1: 0.8443\n",
      "Epoch 35/100\n",
      "600/600 [==============================] - 76s 127ms/step - loss: 0.1110 - acc: 0.9389 - f1: 0.9389 - val_loss: 0.7464 - val_acc: 0.8420 - val_f1: 0.8420\n",
      "Epoch 36/100\n",
      "600/600 [==============================] - 75s 125ms/step - loss: 0.1084 - acc: 0.9406 - f1: 0.9406 - val_loss: 0.7610 - val_acc: 0.8466 - val_f1: 0.8466\n",
      "Epoch 37/100\n",
      "600/600 [==============================] - 77s 129ms/step - loss: 0.1091 - acc: 0.9406 - f1: 0.9406 - val_loss: 0.7476 - val_acc: 0.8403 - val_f1: 0.8403\n",
      "Epoch 38/100\n",
      "600/600 [==============================] - 77s 128ms/step - loss: 0.1095 - acc: 0.9408 - f1: 0.9408 - val_loss: 0.7382 - val_acc: 0.8473 - val_f1: 0.8473\n",
      "Epoch 39/100\n",
      "600/600 [==============================] - 77s 128ms/step - loss: 0.1098 - acc: 0.9401 - f1: 0.9401 - val_loss: 0.7028 - val_acc: 0.8452 - val_f1: 0.8452\n",
      "Epoch 40/100\n",
      "600/600 [==============================] - 77s 128ms/step - loss: 0.1078 - acc: 0.9410 - f1: 0.9410 - val_loss: 0.7682 - val_acc: 0.8428 - val_f1: 0.8428\n",
      "Epoch 41/100\n",
      "600/600 [==============================] - 78s 130ms/step - loss: 0.1073 - acc: 0.9409 - f1: 0.9409 - val_loss: 0.8111 - val_acc: 0.8458 - val_f1: 0.8458\n",
      "Epoch 42/100\n",
      "600/600 [==============================] - 77s 128ms/step - loss: 0.1059 - acc: 0.9416 - f1: 0.9416 - val_loss: 0.7979 - val_acc: 0.8427 - val_f1: 0.8427\n",
      "Epoch 43/100\n",
      "600/600 [==============================] - 78s 129ms/step - loss: 0.1048 - acc: 0.9415 - f1: 0.9415 - val_loss: 0.7764 - val_acc: 0.8418 - val_f1: 0.8418\n",
      "Epoch 44/100\n",
      "600/600 [==============================] - 77s 129ms/step - loss: 0.1052 - acc: 0.9429 - f1: 0.9428 - val_loss: 0.7681 - val_acc: 0.8397 - val_f1: 0.8397\n",
      "Epoch 45/100\n",
      "600/600 [==============================] - 78s 131ms/step - loss: 0.1038 - acc: 0.9439 - f1: 0.9438 - val_loss: 0.7744 - val_acc: 0.8429 - val_f1: 0.8429\n",
      "Epoch 46/100\n",
      "600/600 [==============================] - 78s 130ms/step - loss: 0.1036 - acc: 0.9438 - f1: 0.9438 - val_loss: 0.7257 - val_acc: 0.8384 - val_f1: 0.8384\n",
      "Epoch 47/100\n",
      "600/600 [==============================] - 78s 129ms/step - loss: 0.1022 - acc: 0.9434 - f1: 0.9434 - val_loss: 0.7949 - val_acc: 0.8387 - val_f1: 0.8387\n",
      "Epoch 48/100\n",
      "600/600 [==============================] - 75s 126ms/step - loss: 0.1040 - acc: 0.9436 - f1: 0.9436 - val_loss: 0.7742 - val_acc: 0.8402 - val_f1: 0.8402\n",
      "Epoch 49/100\n",
      "600/600 [==============================] - 77s 129ms/step - loss: 0.1035 - acc: 0.9434 - f1: 0.9434 - val_loss: 0.7261 - val_acc: 0.8373 - val_f1: 0.8373\n",
      "Epoch 50/100\n"
     ]
    },
    {
     "name": "stdout",
     "output_type": "stream",
     "text": [
      "600/600 [==============================] - 78s 131ms/step - loss: 0.1020 - acc: 0.9446 - f1: 0.9446 - val_loss: 0.7354 - val_acc: 0.8378 - val_f1: 0.8378\n",
      "Epoch 51/100\n",
      "600/600 [==============================] - 77s 129ms/step - loss: 0.1016 - acc: 0.9433 - f1: 0.9433 - val_loss: 0.6711 - val_acc: 0.8334 - val_f1: 0.8334\n",
      "Epoch 52/100\n",
      "600/600 [==============================] - 78s 130ms/step - loss: 0.1012 - acc: 0.9441 - f1: 0.9441 - val_loss: 0.6935 - val_acc: 0.8427 - val_f1: 0.8427\n",
      "Epoch 53/100\n",
      "600/600 [==============================] - 80s 133ms/step - loss: 0.1007 - acc: 0.9449 - f1: 0.9449 - val_loss: 0.7148 - val_acc: 0.8408 - val_f1: 0.8408\n",
      "Epoch 54/100\n",
      "600/600 [==============================] - 77s 128ms/step - loss: 0.0986 - acc: 0.9454 - f1: 0.9454 - val_loss: 0.7326 - val_acc: 0.8374 - val_f1: 0.8374\n",
      "Epoch 55/100\n",
      "600/600 [==============================] - 77s 128ms/step - loss: 0.1004 - acc: 0.9463 - f1: 0.9463 - val_loss: 0.6897 - val_acc: 0.8367 - val_f1: 0.8367\n",
      "Epoch 56/100\n",
      "600/600 [==============================] - 75s 125ms/step - loss: 0.0996 - acc: 0.9452 - f1: 0.9452 - val_loss: 0.6784 - val_acc: 0.8358 - val_f1: 0.8358\n",
      "Epoch 57/100\n",
      "600/600 [==============================] - 76s 126ms/step - loss: 0.1004 - acc: 0.9447 - f1: 0.9447 - val_loss: 0.6782 - val_acc: 0.8356 - val_f1: 0.8356\n",
      "Epoch 58/100\n",
      "600/600 [==============================] - 77s 129ms/step - loss: 0.0975 - acc: 0.9462 - f1: 0.9462 - val_loss: 0.7006 - val_acc: 0.8350 - val_f1: 0.8350\n",
      "Epoch 59/100\n",
      "600/600 [==============================] - 75s 125ms/step - loss: 0.0984 - acc: 0.9465 - f1: 0.9464 - val_loss: 0.6785 - val_acc: 0.8367 - val_f1: 0.8367\n",
      "Epoch 60/100\n",
      "600/600 [==============================] - 75s 125ms/step - loss: 0.0975 - acc: 0.9468 - f1: 0.9468 - val_loss: 0.6793 - val_acc: 0.8349 - val_f1: 0.8349\n",
      "Epoch 61/100\n",
      "600/600 [==============================] - 75s 124ms/step - loss: 0.0967 - acc: 0.9463 - f1: 0.9463 - val_loss: 0.7653 - val_acc: 0.8363 - val_f1: 0.8363\n",
      "Epoch 62/100\n",
      "600/600 [==============================] - 77s 129ms/step - loss: 0.0965 - acc: 0.9472 - f1: 0.9472 - val_loss: 0.7203 - val_acc: 0.8405 - val_f1: 0.8405\n",
      "Epoch 63/100\n",
      "600/600 [==============================] - 76s 126ms/step - loss: 0.0974 - acc: 0.9467 - f1: 0.9467 - val_loss: 0.7716 - val_acc: 0.8396 - val_f1: 0.8396\n",
      "Epoch 64/100\n",
      "600/600 [==============================] - 75s 125ms/step - loss: 0.0962 - acc: 0.9479 - f1: 0.9478 - val_loss: 0.8040 - val_acc: 0.8384 - val_f1: 0.8384\n",
      "Epoch 65/100\n",
      "600/600 [==============================] - 74s 124ms/step - loss: 0.0969 - acc: 0.9462 - f1: 0.9462 - val_loss: 0.7793 - val_acc: 0.8411 - val_f1: 0.8411\n",
      "Epoch 66/100\n",
      "600/600 [==============================] - 76s 127ms/step - loss: 0.0961 - acc: 0.9461 - f1: 0.9461 - val_loss: 0.7586 - val_acc: 0.8370 - val_f1: 0.8370\n",
      "Epoch 67/100\n",
      "600/600 [==============================] - 75s 125ms/step - loss: 0.0954 - acc: 0.9476 - f1: 0.9476 - val_loss: 0.9046 - val_acc: 0.8324 - val_f1: 0.8324\n",
      "Epoch 68/100\n",
      "600/600 [==============================] - 75s 125ms/step - loss: 0.0955 - acc: 0.9476 - f1: 0.9476 - val_loss: 0.8519 - val_acc: 0.8301 - val_f1: 0.8301\n",
      "Epoch 69/100\n",
      "600/600 [==============================] - 75s 125ms/step - loss: 0.0954 - acc: 0.9473 - f1: 0.9473 - val_loss: 0.8201 - val_acc: 0.8332 - val_f1: 0.8332\n",
      "Epoch 70/100\n",
      "600/600 [==============================] - 76s 127ms/step - loss: 0.0951 - acc: 0.9487 - f1: 0.9486 - val_loss: 0.8346 - val_acc: 0.8389 - val_f1: 0.8389\n",
      "Epoch 71/100\n",
      "600/600 [==============================] - 74s 124ms/step - loss: 0.0959 - acc: 0.9481 - f1: 0.9480 - val_loss: 0.9602 - val_acc: 0.8377 - val_f1: 0.8377\n",
      "Epoch 72/100\n",
      "600/600 [==============================] - 75s 125ms/step - loss: 0.0941 - acc: 0.9496 - f1: 0.9496 - val_loss: 0.9845 - val_acc: 0.8385 - val_f1: 0.8385\n",
      "Epoch 73/100\n",
      "600/600 [==============================] - 76s 127ms/step - loss: 0.0947 - acc: 0.9479 - f1: 0.9479 - val_loss: 0.9221 - val_acc: 0.8356 - val_f1: 0.8356\n",
      "Epoch 74/100\n",
      "600/600 [==============================] - 76s 127ms/step - loss: 0.0932 - acc: 0.9495 - f1: 0.9495 - val_loss: 0.9641 - val_acc: 0.8334 - val_f1: 0.8334\n",
      "Epoch 75/100\n",
      "600/600 [==============================] - 75s 124ms/step - loss: 0.0927 - acc: 0.9500 - f1: 0.9499 - val_loss: 1.0206 - val_acc: 0.8299 - val_f1: 0.8299\n",
      "Epoch 76/100\n",
      "600/600 [==============================] - 75s 125ms/step - loss: 0.0911 - acc: 0.9511 - f1: 0.9511 - val_loss: 1.1191 - val_acc: 0.8346 - val_f1: 0.8346\n",
      "Epoch 77/100\n",
      "600/600 [==============================] - 76s 126ms/step - loss: 0.0906 - acc: 0.9517 - f1: 0.9517 - val_loss: 1.0486 - val_acc: 0.8379 - val_f1: 0.8379\n",
      "Epoch 78/100\n",
      "600/600 [==============================] - 78s 129ms/step - loss: 0.0914 - acc: 0.9510 - f1: 0.9510 - val_loss: 1.0247 - val_acc: 0.8367 - val_f1: 0.8367\n",
      "Epoch 79/100\n",
      "600/600 [==============================] - 74s 123ms/step - loss: 0.0889 - acc: 0.9518 - f1: 0.9518 - val_loss: 1.1670 - val_acc: 0.8291 - val_f1: 0.8291\n",
      "Epoch 80/100\n",
      "600/600 [==============================] - 74s 123ms/step - loss: 0.0890 - acc: 0.9532 - f1: 0.9532 - val_loss: 1.1406 - val_acc: 0.8283 - val_f1: 0.8283\n",
      "Epoch 81/100\n",
      "600/600 [==============================] - 75s 125ms/step - loss: 0.0886 - acc: 0.9526 - f1: 0.9525 - val_loss: 1.3141 - val_acc: 0.8313 - val_f1: 0.8313\n",
      "Epoch 82/100\n",
      "600/600 [==============================] - 76s 127ms/step - loss: 0.0893 - acc: 0.9524 - f1: 0.9524 - val_loss: 1.2451 - val_acc: 0.8320 - val_f1: 0.8320\n",
      "Epoch 83/100\n",
      "600/600 [==============================] - 73s 122ms/step - loss: 0.0890 - acc: 0.9535 - f1: 0.9535 - val_loss: 1.3942 - val_acc: 0.8378 - val_f1: 0.8378\n",
      "Epoch 84/100\n",
      "600/600 [==============================] - 74s 124ms/step - loss: 0.0868 - acc: 0.9542 - f1: 0.9541 - val_loss: 1.4353 - val_acc: 0.8416 - val_f1: 0.8416\n",
      "Epoch 85/100\n",
      "600/600 [==============================] - 76s 127ms/step - loss: 0.0879 - acc: 0.9537 - f1: 0.9537 - val_loss: 1.3984 - val_acc: 0.8388 - val_f1: 0.8388\n",
      "Epoch 87/100\n",
      "600/600 [==============================] - 75s 126ms/step - loss: 0.0861 - acc: 0.9542 - f1: 0.9542 - val_loss: 1.5270 - val_acc: 0.8401 - val_f1: 0.8401\n",
      "Epoch 88/100\n",
      "600/600 [==============================] - 74s 124ms/step - loss: 0.0864 - acc: 0.9557 - f1: 0.9556 - val_loss: 1.4891 - val_acc: 0.8378 - val_f1: 0.8378\n",
      "Epoch 89/100\n",
      "600/600 [==============================] - 74s 124ms/step - loss: 0.0865 - acc: 0.9553 - f1: 0.9553 - val_loss: 1.5240 - val_acc: 0.8390 - val_f1: 0.8390\n",
      "Epoch 90/100\n",
      "600/600 [==============================] - 75s 125ms/step - loss: 0.0847 - acc: 0.9556 - f1: 0.9556 - val_loss: 1.6261 - val_acc: 0.8371 - val_f1: 0.8371\n",
      "Epoch 91/100\n",
      "420/600 [====================>.........] - ETA: 21s - loss: 0.0910 - acc: 0.9530 - f1: 0.9530"
     ]
    },
    {
     "name": "stderr",
     "output_type": "stream",
     "text": [
      "IOPub message rate exceeded.\n",
      "The notebook server will temporarily stop sending output\n",
      "to the client in order to avoid crashing it.\n",
      "To change this limit, set the config variable\n",
      "`--NotebookApp.iopub_msg_rate_limit`.\n",
      "\n",
      "Current values:\n",
      "NotebookApp.iopub_msg_rate_limit=1000.0 (msgs/sec)\n",
      "NotebookApp.rate_limit_window=3.0 (secs)\n",
      "\n"
     ]
    },
    {
     "name": "stdout",
     "output_type": "stream",
     "text": [
      "600/600 [==============================] - 73s 121ms/step - loss: 0.0839 - acc: 0.9566 - f1: 0.9566 - val_loss: 1.5556 - val_acc: 0.8410 - val_f1: 0.8410\n",
      "Epoch 94/100\n",
      "600/600 [==============================] - 74s 124ms/step - loss: 0.0831 - acc: 0.9578 - f1: 0.9578 - val_loss: 1.5837 - val_acc: 0.8399 - val_f1: 0.8399\n",
      "Epoch 95/100\n",
      "600/600 [==============================] - 76s 127ms/step - loss: 0.0803 - acc: 0.9587 - f1: 0.9587 - val_loss: 1.6306 - val_acc: 0.8410 - val_f1: 0.8410\n",
      "Epoch 96/100\n",
      "600/600 [==============================] - 74s 123ms/step - loss: 0.0818 - acc: 0.9584 - f1: 0.9584 - val_loss: 1.5845 - val_acc: 0.8430 - val_f1: 0.8430\n",
      "Epoch 97/100\n",
      "600/600 [==============================] - 74s 123ms/step - loss: 0.0809 - acc: 0.9581 - f1: 0.9580 - val_loss: 1.6527 - val_acc: 0.8424 - val_f1: 0.8424\n",
      "Epoch 98/100\n",
      "600/600 [==============================] - 75s 124ms/step - loss: 0.0803 - acc: 0.9588 - f1: 0.9587 - val_loss: 1.6873 - val_acc: 0.8399 - val_f1: 0.8399\n",
      "Epoch 99/100\n",
      "600/600 [==============================] - 74s 123ms/step - loss: 0.0799 - acc: 0.9585 - f1: 0.9585 - val_loss: 1.6529 - val_acc: 0.8425 - val_f1: 0.8425\n",
      "Epoch 100/100\n",
      "600/600 [==============================] - 74s 123ms/step - loss: 0.0805 - acc: 0.9593 - f1: 0.9593 - val_loss: 1.6452 - val_acc: 0.8441 - val_f1: 0.8441\n"
     ]
    },
    {
     "data": {
      "text/plain": [
       "<keras.callbacks.History at 0x7f6b94120f28>"
      ]
     },
     "execution_count": 9,
     "metadata": {},
     "output_type": "execute_result"
    }
   ],
   "source": [
    "training_batches = MagnitudeUtils.batchify(x_train, y_train, BATCH_SIZE) # Split the training data into batches\n",
    "num_batches_per_epoch_train = int(np.ceil(num_training/float(BATCH_SIZE)))\n",
    "test_batches = MagnitudeUtils.batchify(x_test, y_test, BATCH_SIZE)  # Split the test data into batches\n",
    "num_batches_per_epoch_test = int(np.ceil(num_test/float(BATCH_SIZE)))\n",
    "\n",
    "\n",
    "# Generates batches of the transformed training data\n",
    "train_batch_generator = (\n",
    "  (\n",
    "    med_vectors.query(x_train_batch), # Magnitude will handle converting the 2D array of text into the 3D word vector representations!\n",
    "    MagnitudeUtils.to_categorical(y_train_batch, num_outputs) # Magnitude will handle converting the class labels into one-hot encodings!\n",
    "  ) for x_train_batch, y_train_batch in training_batches\n",
    ")\n",
    "\n",
    "# Generates batches of the transformed test data\n",
    "test_batch_generator = (\n",
    "  (\n",
    "    med_vectors.query(x_test_batch), # Magnitude will handle converting the 2D array of text into the 3D word vector representations!\n",
    "    MagnitudeUtils.to_categorical(y_test_batch, num_outputs) # Magnitude will handle converting the class labels into one-hot encodings!\n",
    "  ) for x_test_batch, y_test_batch in test_batches\n",
    ")\n",
    "\n",
    "# Start training\n",
    "model.fit_generator(\n",
    "    generator = train_batch_generator,\n",
    "    steps_per_epoch = num_batches_per_epoch_train,\n",
    "    validation_data = test_batch_generator,\n",
    "    validation_steps = num_batches_per_epoch_test,\n",
    "    epochs = EPOCHS,\n",
    ")"
   ]
  },
  {
   "cell_type": "markdown",
   "metadata": {},
   "source": [
    "## Results"
   ]
  },
  {
   "cell_type": "code",
   "execution_count": 10,
   "metadata": {},
   "outputs": [
    {
     "name": "stdout",
     "output_type": "stream",
     "text": [
      "Results after training for 100 epochs:\n",
      "loss: 0.2495 - categorical_accuracy: 0.9396 - f1: 0.9396\n",
      "val_loss: 1.6452 - val_categorical_accuracy: 0.8441 - f1: 0.8441\n"
     ]
    }
   ],
   "source": [
    "print(\"Results after training for %d epochs:\" % (EPOCHS,))\n",
    "\n",
    "train_metrics = model.evaluate_generator(\n",
    "    generator = train_batch_generator,\n",
    "    steps = num_batches_per_epoch_train,\n",
    ")\n",
    "\n",
    "print(\"loss: %.4f - categorical_accuracy: %.4f - f1: %.4f\" % tuple(train_metrics))\n",
    "\n",
    "val_metrics = model.evaluate_generator(\n",
    "    generator = test_batch_generator,\n",
    "    steps = num_batches_per_epoch_test,\n",
    ")\n",
    "\n",
    "print(\"val_loss: %.4f - val_categorical_accuracy: %.4f - f1: %.4f\" % tuple(val_metrics))"
   ]
  },
  {
   "cell_type": "markdown",
   "metadata": {},
   "source": [
    "## Conclusion"
   ]
  },
  {
   "cell_type": "code",
   "execution_count": 12,
   "metadata": {},
   "outputs": [
    {
     "data": {
      "image/png": "[encoded data removed]",
      "text/plain": [
       "<Figure size 432x288 with 1 Axes>"
      ]
     },
     "metadata": {},
     "output_type": "display_data"
    },
    {
     "data": {
      "image/png": "[encoded data removed]",
      "text/plain": [
       "<Figure size 432x288 with 1 Axes>"
      ]
     },
     "metadata": {},
     "output_type": "display_data"
    }
   ],
   "source": [
    "import matplotlib.pyplot as plt\n",
    "\n",
    "# Plot training & validation accuracy values\n",
    "plt.plot(model.history.history['acc'])\n",
    "plt.plot(model.history.history['val_acc'])\n",
    "plt.title('Model accuracy')\n",
    "plt.ylabel('Accuracy')\n",
    "plt.xlabel('Epoch')\n",
    "plt.legend(['Train', 'Test'], loc='upper left')\n",
    "plt.show()\n",
    "\n",
    "# Plot training & validation loss values\n",
    "plt.plot(model.history.history['loss'])\n",
    "plt.plot(model.history.history['val_loss'])\n",
    "plt.title('Model loss')\n",
    "plt.ylabel('Loss')\n",
    "plt.xlabel('Epoch')\n",
    "plt.legend(['Train', 'Test'], loc='upper left')\n",
    "plt.show()"
   ]
  },
  {
   "cell_type": "code",
   "execution_count": 13,
   "metadata": {},
   "outputs": [
    {
     "name": "stdout",
     "output_type": "stream",
     "text": [
      "['Other', 'Orthopedic']\n",
      "[[8464  684]\n",
      " [1022  770]]\n",
      "             precision    recall  f1-score   support\n",
      "\n",
      "      Other       0.89      0.93      0.91      9148\n",
      " Orthopedic       0.53      0.43      0.47      1792\n",
      "\n",
      "avg / total       0.83      0.84      0.84     10940\n",
      "\n"
     ]
    }
   ],
   "source": [
    "from sklearn.metrics import confusion_matrix, classification_report\n",
    "\n",
    "y_pred = np.argmax(model.predict(med_vectors.query(x_test)), axis=1)\n",
    "class_labels = [int_to_intent(y) for y in set(y_test)] \n",
    "report = classification_report(y_test, y_pred, target_names=class_labels)\n",
    "print(class_labels)\n",
    "print(confusion_matrix(y_test, y_pred))\n",
    "print(report)"
   ]
  },
  {
   "cell_type": "code",
   "execution_count": 3,
   "metadata": {},
   "outputs": [
    {
     "ename": "NameError",
     "evalue": "name 'np' is not defined",
     "output_type": "error",
     "traceback": [
      "\u001b[0;31m---------------------------------------------------------------------------\u001b[0m",
      "\u001b[0;31mNameError\u001b[0m                                 Traceback (most recent call last)",
      "\u001b[0;32m<ipython-input-3-238937fcf475>\u001b[0m in \u001b[0;36m<module>\u001b[0;34m()\u001b[0m\n\u001b[1;32m     50\u001b[0m \u001b[0;34m\u001b[0m\u001b[0m\n\u001b[1;32m     51\u001b[0m \u001b[0;34m\u001b[0m\u001b[0m\n\u001b[0;32m---> 52\u001b[0;31m \u001b[0mnp\u001b[0m\u001b[0;34m.\u001b[0m\u001b[0mset_printoptions\u001b[0m\u001b[0;34m(\u001b[0m\u001b[0mprecision\u001b[0m\u001b[0;34m=\u001b[0m\u001b[0;36m2\u001b[0m\u001b[0;34m)\u001b[0m\u001b[0;34m\u001b[0m\u001b[0m\n\u001b[0m\u001b[1;32m     53\u001b[0m \u001b[0;34m\u001b[0m\u001b[0m\n\u001b[1;32m     54\u001b[0m plot_confusion_matrix(y_test, y_pred, classes=class_labels\n",
      "\u001b[0;31mNameError\u001b[0m: name 'np' is not defined"
     ]
    }
   ],
   "source": [
    "def plot_confusion_matrix(y_true, y_pred, classes,\n",
    "                          title=None,\n",
    "                          cmap=plt.cm.Blues):\n",
    "    \"\"\"\n",
    "    This function prints and plots the confusion matrix.\n",
    "    Normalization can be applied by setting `normalize=True`.\n",
    "    \"\"\"\n",
    "    if not title:\n",
    "        if normalize:\n",
    "            title = 'Normalized confusion matrix'\n",
    "        else:\n",
    "            title = 'Confusion matrix, without normalization'\n",
    "\n",
    "    # Compute confusion matrix\n",
    "    cm = confusion_matrix(y_true, y_pred)\n",
    "    # Only use the labels that appear in the data\n",
    "    classes = [int_to_intent(y_class) for y_class in unique_labels(y_test, y_pred)]\n",
    "\n",
    "    fig, ax = plt.subplots()\n",
    "#     fig.set_figheight(15)\n",
    "#     fig.set_figwidth(15)\n",
    "    im = ax.imshow(cm, interpolation='nearest', cmap=cmap)\n",
    "    ax.figure.colorbar(im, ax=ax)\n",
    "    # We want to show all ticks...\n",
    "    ax.set(xticks=np.arange(cm.shape[1]),\n",
    "           yticks=np.arange(cm.shape[0]),\n",
    "           # ... and label them with the respective list entries\n",
    "           xticklabels=classes, yticklabels=classes,\n",
    "           title=title,\n",
    "           ylabel='True label',\n",
    "           xlabel='Predicted label')\n",
    "\n",
    "    # Rotate the tick labels and set their alignment.\n",
    "    plt.setp(ax.get_xticklabels(), rotation=45, ha=\"right\",\n",
    "             rotation_mode=\"anchor\")\n",
    "\n",
    "    # Loop over data dimensions and create text annotations.\n",
    "    fmt = 'd'\n",
    "    thresh = cm.max() / 2.\n",
    "    for i in range(cm.shape[0]):\n",
    "        for j in range(cm.shape[1]):\n",
    "            ax.text(j, i, format(cm[i, j], fmt),\n",
    "                    ha=\"center\", va=\"center\",\n",
    "                    color=\"white\" if cm[i, j] > thresh else \"black\")\n",
    "    fig.tight_layout()\n",
    "    return ax\n",
    "\n",
    "\n",
    "np.set_printoptions(precision=2)\n",
    "\n",
    "plot_confusion_matrix(y_test, y_pred, classes=class_labels\n",
    "                      , title='Confusion Matrix for Orthopedic Disorder CNN Classifier')"
   ]
  },
  {
   "cell_type": "code",
   "execution_count": null,
   "metadata": {},
   "outputs": [],
   "source": []
  }
 ],
 "metadata": {
  "kernelspec": {
   "display_name": "Python 3",
   "language": "python",
   "name": "python3"
  },
  "language_info": {
   "codemirror_mode": {
    "name": "ipython",
    "version": 3
   },
   "file_extension": ".py",
   "mimetype": "text/x-python",
   "name": "python",
   "nbconvert_exporter": "python",
   "pygments_lexer": "ipython3",
   "version": "3.6.5"
  }
 },
 "nbformat": 4,
 "nbformat_minor": 2
}
