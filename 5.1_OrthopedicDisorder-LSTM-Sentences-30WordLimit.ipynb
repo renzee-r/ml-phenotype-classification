{
 "cells": [
  {
   "cell_type": "code",
   "execution_count": 1,
   "metadata": {},
   "outputs": [
    {
     "name": "stdout",
     "output_type": "stream",
     "text": [
      "[nltk_data] Downloading package punkt to /home/renzeer/nltk_data...\n",
      "[nltk_data]   Package punkt is already up-to-date!\n",
      "[nltk_data] Downloading package stopwords to\n",
      "[nltk_data]     /home/renzeer/nltk_data...\n",
      "[nltk_data]   Package stopwords is already up-to-date!\n"
     ]
    },
    {
     "name": "stderr",
     "output_type": "stream",
     "text": [
      "Using TensorFlow backend.\n"
     ]
    }
   ],
   "source": [
    "# Standard python helper libraries.\n",
    "import os, sys, re, json, time, wget, csv, string, time, random\n",
    "import itertools, collections\n",
    "\n",
    "# NumPy\n",
    "import numpy as np\n",
    "\n",
    "# NLTK for NLP utils\n",
    "import nltk\n",
    "nltk.download('punkt')\n",
    "nltk.download('stopwords')\n",
    "from nltk.corpus import stopwords\n",
    "from nltk.tokenize import word_tokenize\n",
    "from nltk.stem.porter import PorterStemmer\n",
    "\n",
    "from keras import backend as K\n",
    "from keras.models import Sequential\n",
    "from keras.layers import GaussianNoise, Dropout, Dense, Embedding, MaxPool1D, GlobalMaxPool1D, Conv1D, LSTM, Bidirectional\n",
    "from keras.optimizers import Adam\n",
    "from keras.callbacks import Callback\n",
    "\n",
    "from sklearn.metrics import confusion_matrix, f1_score, precision_score, recall_score\n",
    "\n",
    "from pymagnitude import *"
   ]
  },
  {
   "cell_type": "markdown",
   "metadata": {},
   "source": [
    "# Binary Classifier for Orthopedic Disorder using a Convolutional Neural Network\n",
    "\n",
    "In this notebook, we will be building a model for classifying a sentence from an EHR note for the presence of orthopedic disorder. The model will be trained using a convoultional neural network (CNN). \n",
    "\n",
    "## Word Embedding\n",
    "\n",
    "The first step is to load in our word embedding, which is trained on text from Wikipedia, Pubmed, and Pubmed Central. We load our word embedding through a tool called Magnitude. A full exploration of the word embedding and Magnitude can be found in the Introduction notebook."
   ]
  },
  {
   "cell_type": "code",
   "execution_count": 2,
   "metadata": {},
   "outputs": [],
   "source": [
    "med_vectors = Magnitude(\"data/wikipedia-pubmed-and-PMC-w2v.magnitude\", pad_to_length=30)"
   ]
  },
  {
   "cell_type": "markdown",
   "metadata": {},
   "source": [
    "## Text Preprocessing"
   ]
  },
  {
   "cell_type": "code",
   "execution_count": 3,
   "metadata": {},
   "outputs": [
    {
     "name": "stdout",
     "output_type": "stream",
     "text": [
      "['Other', 'PAST MEDICAL HISTORY:, He has difficulty climbing stairs, difficulty with airline seats, tying shoes, used to public seating, and lifting objects off the floor.  He exercises three times a week at home and does cardio.  He has difficulty walking two blocks or five flights of stairs.  Difficulty with snoring.  He has muscle and joint pains including knee pain, back pain, foot and ankle pain, and swelling.  He has gastroesophageal reflux disease.,PAST SURGICAL HISTORY:, Includes reconstructive surgery on his right hand 13 years ago.  ,SOCIAL HISTORY:, He is currently single.  He has about ten drinks a year.  He had smoked significantly up until several months ago.  He now smokes less than three cigarettes a day.,FAMILY HISTORY:, Heart disease in both grandfathers, grandmother with stroke, and a grandmother with diabetes.  Denies obesity and hypertension in other family members.,CURRENT MEDICATIONS:, None.,ALLERGIES:,  He is allergic to Penicillin.,MISCELLANEOUS/EATING HISTORY:, He has been going to support groups for seven months with Lynn Holmberg in Greenwich and he is from Eastchester, New York and he feels that we are the appropriate program.  He had a poor experience with the Greenwich program.  Eating history, he is not an emotional eater.  Does not like sweets.  He likes big portions and carbohydrates.  He likes chicken and not steak.  He currently weighs 312 pounds.  Ideal body weight would be 170 pounds.  He is 142 pounds overweight.  If ,he lost 60% of his excess body weight that would be 84 pounds and he should weigh about 228.,REVIEW OF SYSTEMS: ,Negative for head, neck, heart, lungs, GI, GU, orthopedic, and skin.  Specifically denies chest pain, heart attack, coronary artery disease, congestive heart failure, arrhythmia, atrial fibrillation, pacemaker, high cholesterol, pulmonary embolism, high blood pressure, CVA, venous insufficiency, thrombophlebitis, asthma, shortness of breath, COPD, emphysema, sleep apnea, diabetes, leg and foot swelling, osteoarthritis, rheumatoid arthritis, hiatal hernia, peptic ulcer disease, gallstones, infected gallbladder, pancreatitis, fatty liver, hepatitis, hemorrhoids, rectal bleeding, polyps, incontinence of stool, urinary stress incontinence, or cancer.  Denies cellulitis, pseudotumor cerebri, meningitis, or encephalitis.,PHYSICAL EXAMINATION:, He is alert and oriented x 3.  Cranial nerves II-XII are intact.  Afebrile.  Vital Signs are stable.']\n",
      "['Other', '2-D M-MODE: , ,1.  Left atrial enlargement with left atrial diameter of 4.7 cm.,2.  Normal size right and left ventricle.,3.  Normal LV systolic function with left ventricular ejection fraction of 51%.,4.  Normal LV diastolic function.,5.  No pericardial effusion.,6.  Normal morphology of aortic valve, mitral valve, tricuspid valve, and pulmonary valve.,7.  PA systolic pressure is 36 mmHg.,DOPPLER: , ,1.  Mild mitral and tricuspid regurgitation.,2.  Trace aortic and pulmonary regurgitation.']\n"
     ]
    }
   ],
   "source": [
    "ehr_notes = []\n",
    "with open('data/ehr_samples.csv', newline='') as csvfile:\n",
    "    reader = csv.DictReader(csvfile)\n",
    "    for row in reader:     \n",
    "        if int(row['SpecialtyID']) in [39, 6, 16, 37, 11, 12, 29, 26, 7, 21, 19, 10, 2, 18]:\n",
    "            continue\n",
    "        elif int(row['SpecialtyID']) != 28:\n",
    "            ehr_notes.append(['Other', row['Note']])\n",
    "        else:\n",
    "            ehr_notes.append([row['Specialty'], row['Note']])\n",
    "\n",
    "print(ehr_notes[0])\n",
    "print(ehr_notes[2])"
   ]
  },
  {
   "cell_type": "markdown",
   "metadata": {},
   "source": [
    "## Natural Langauge Processing"
   ]
  },
  {
   "cell_type": "code",
   "execution_count": 4,
   "metadata": {},
   "outputs": [
    {
     "name": "stdout",
     "output_type": "stream",
     "text": [
      "['Other', 'return clinic 4 weeks5']\n",
      "['Orthopedic', 'biceps tendon nonsubluxable']\n"
     ]
    }
   ],
   "source": [
    "ehr_sentences = []\n",
    "for record in ehr_notes:\n",
    "    sent_text = nltk.sent_tokenize(record[1])\n",
    "    for sent in sent_text:\n",
    "        tokens = word_tokenize(sent)\n",
    "\n",
    "        # convert to lower case\n",
    "        tokens = [w.lower() for w in tokens]\n",
    "\n",
    "        # remove punctuation from each word\n",
    "        table = str.maketrans('', '', string.punctuation)\n",
    "        tokens = [w.translate(table) for w in tokens]\n",
    "\n",
    "        # filter out stop words\n",
    "        stop_words = set(stopwords.words('english'))\n",
    "        tokens = [w for w in tokens if not w in stop_words]\n",
    "\n",
    "#         # stem words\n",
    "#         porter = PorterStemmer()\n",
    "#         tokens = [porter.stem(word) for word in tokens]\n",
    "\n",
    "        # remove blanks\n",
    "        tokens = [w for w in tokens if w != '']\n",
    "\n",
    "        ehr_sentences.append([record[0], ' '.join(tokens)])\n",
    "\n",
    "random.Random(4).shuffle(ehr_sentences)\n",
    "\n",
    "print(ehr_sentences[0])\n",
    "print(ehr_sentences[1])"
   ]
  },
  {
   "cell_type": "markdown",
   "metadata": {},
   "source": [
    "## Defining our Training and Test Data\n",
    "\n",
    "Before we can start building our neural networks, we first have to define our datasets. Specifically, we have to break up our EHR data so that we have records that we can train on and records that are exclusively used to test on. Maintaining a separate set for testing ensures we avoid overfitting our data.\n",
    "\n",
    "We will use some built-in functions provided by Magnitude that helps encode our classes/categories. We then partition our data into our train and test sets. For each set we have both data and labels. Initially, we will be making these partitions small to make iterating through model development much quicker. However, once the models are developed, we will expand our datasets to include all of our data. To ensure we defined our data correctly, we can print a few lines from the two sets."
   ]
  },
  {
   "cell_type": "code",
   "execution_count": 5,
   "metadata": {},
   "outputs": [
    {
     "data": {
      "text/plain": [
       "70941"
      ]
     },
     "execution_count": 5,
     "metadata": {},
     "output_type": "execute_result"
    }
   ],
   "source": [
    "len(ehr_sentences)"
   ]
  },
  {
   "cell_type": "code",
   "execution_count": 6,
   "metadata": {},
   "outputs": [
    {
     "name": "stdout",
     "output_type": "stream",
     "text": [
      "Other\n",
      "First line of train/test data:\n",
      "\t ['return', 'clinic', '4', 'weeks5']\n",
      "\t 0 Other\n",
      "\t ['smokes', 'one', 'pack', 'per', 'day']\n",
      "\t 0 Other\n",
      "Second line of train/test data:\n",
      "\t ['biceps', 'tendon', 'nonsubluxable']\n",
      "\t 1 Orthopedic\n",
      "\t ['denies', 'illicit', 'drug', 'use', 'family', 'history', 'parents', 'died', 'myocardial', 'infarctions']\n",
      "\t 0 Other\n"
     ]
    }
   ],
   "source": [
    "add_intent, intent_to_int, int_to_intent = MagnitudeUtils.class_encoding()\n",
    "\n",
    "x_train = [ehr_sent[1].split(' ') for ehr_sent in ehr_sentences[:60000]]\n",
    "x_test = [ehr_sent[1].split(' ') for ehr_sent in ehr_sentences[60001:]]\n",
    "\n",
    "y_train = [add_intent(ehr_sent[0]) for ehr_sent in ehr_sentences[:60000]]\n",
    "y_test = [add_intent(ehr_sent[0]) for ehr_sent in ehr_sentences[60001:]]\n",
    "\n",
    "y_train = list(np.array(y_train).reshape(len(y_train)))\n",
    "y_test = list(np.array(y_test).reshape(len(y_test)))\n",
    "\n",
    "num_training = len(x_train)\n",
    "num_test = len(x_test)\n",
    "num_outputs = int(max(max(y_train), max(y_test))) + 1\n",
    "\n",
    "print(int_to_intent(0))\n",
    "\n",
    "print(\"First line of train/test data:\")\n",
    "print(\"\\t\", x_train[0])\n",
    "print(\"\\t\", y_train[0], int_to_intent(y_train[0]))\n",
    "print(\"\\t\", x_test[0])\n",
    "print(\"\\t\", y_test[0], int_to_intent(y_test[0]))\n",
    "print(\"Second line of train/test data:\")\n",
    "print(\"\\t\", x_train[1])\n",
    "print(\"\\t\", y_train[1], int_to_intent(y_train[1]))\n",
    "print(\"\\t\", x_test[1])\n",
    "print(\"\\t\", y_test[1], int_to_intent(y_test[1]))"
   ]
  },
  {
   "cell_type": "markdown",
   "metadata": {},
   "source": [
    "## Defining Custom Callback Function"
   ]
  },
  {
   "cell_type": "code",
   "execution_count": 7,
   "metadata": {},
   "outputs": [],
   "source": [
    "def f1(y_true, y_pred):\n",
    "    def recall(y_true, y_pred):\n",
    "        \"\"\"Recall metric.\n",
    "\n",
    "        Only computes a batch-wise average of recall.\n",
    "\n",
    "        Computes the recall, a metric for multi-label classification of\n",
    "        how many relevant items are selected.\n",
    "        \"\"\"\n",
    "        true_positives = K.sum(K.round(K.clip(y_true * y_pred, 0, 1)))\n",
    "        possible_positives = K.sum(K.round(K.clip(y_true, 0, 1)))\n",
    "        recall = true_positives / (possible_positives + K.epsilon())\n",
    "        return recall\n",
    "\n",
    "    def precision(y_true, y_pred):\n",
    "        \"\"\"Precision metric.\n",
    "\n",
    "        Only computes a batch-wise average of precision.\n",
    "\n",
    "        Computes the precision, a metric for multi-label classification of\n",
    "        how many selected items are relevant.\n",
    "        \"\"\"\n",
    "        true_positives = K.sum(K.round(K.clip(y_true * y_pred, 0, 1)))\n",
    "        predicted_positives = K.sum(K.round(K.clip(y_pred, 0, 1)))\n",
    "        precision = true_positives / (predicted_positives + K.epsilon())\n",
    "        return precision\n",
    "    \n",
    "    precision = precision(y_true, y_pred)\n",
    "    recall = recall(y_true, y_pred)\n",
    "    return 2*((precision*recall)/(precision+recall+K.epsilon()))"
   ]
  },
  {
   "cell_type": "markdown",
   "metadata": {},
   "source": [
    "## Defining Model"
   ]
  },
  {
   "cell_type": "code",
   "execution_count": 8,
   "metadata": {},
   "outputs": [
    {
     "name": "stdout",
     "output_type": "stream",
     "text": [
      "_________________________________________________________________\n",
      "Layer (type)                 Output Shape              Param #   \n",
      "=================================================================\n",
      "gaussian_noise_1 (GaussianNo (None, 30, 200)           0         \n",
      "_________________________________________________________________\n",
      "bidirectional_1 (Bidirection (None, 200)               240800    \n",
      "_________________________________________________________________\n",
      "dropout_1 (Dropout)          (None, 200)               0         \n",
      "_________________________________________________________________\n",
      "dense_1 (Dense)              (None, 2)                 402       \n",
      "=================================================================\n",
      "Total params: 241,202\n",
      "Trainable params: 241,202\n",
      "Non-trainable params: 0\n",
      "_________________________________________________________________\n"
     ]
    }
   ],
   "source": [
    "MAX_WORDS = 30 # The maximum number of words the sequence model will consider\n",
    "STD_DEV = 0.01 # Deviation of noise for Gaussian Noise applied to the embeddings\n",
    "DROPOUT_RATIO = .5 # The ratio to dropout\n",
    "BATCH_SIZE = 100 # The number of examples per train/validation step\n",
    "EPOCHS = 100 # The number of times to repeat through all of the training data\n",
    "LEARNING_RATE = .01 # The learning rate for the optimizer\n",
    "HIDDEN_UNITS = 100\n",
    "\n",
    "model = Sequential()\n",
    "model.add(GaussianNoise(STD_DEV, input_shape=(MAX_WORDS, med_vectors.dim)))\n",
    "model.add(Bidirectional(LSTM(HIDDEN_UNITS, activation='tanh'), merge_mode='concat'))\n",
    "model.add(Dropout(DROPOUT_RATIO))\n",
    "model.add(Dense(num_outputs, activation='softmax'))\n",
    "model.compile(optimizer='adam',\n",
    "              loss='binary_crossentropy',\n",
    "              metrics=['accuracy', f1])\n",
    "model.summary()"
   ]
  },
  {
   "cell_type": "markdown",
   "metadata": {},
   "source": [
    "## Training Batches and Epochs"
   ]
  },
  {
   "cell_type": "code",
   "execution_count": 9,
   "metadata": {},
   "outputs": [
    {
     "name": "stdout",
     "output_type": "stream",
     "text": [
      "Epoch 1/100\n",
      "600/600 [==============================] - 2281s 4s/step - loss: 0.3530 - acc: 0.8581 - f1: 0.8581 - val_loss: 0.3198 - val_acc: 0.8699 - val_f1: 0.8699\n",
      "Epoch 2/100\n",
      "600/600 [==============================] - 123s 204ms/step - loss: 0.3255 - acc: 0.8680 - f1: 0.8680 - val_loss: 0.3131 - val_acc: 0.8713 - val_f1: 0.8713\n",
      "Epoch 3/100\n",
      "600/600 [==============================] - 123s 205ms/step - loss: 0.3159 - acc: 0.8713 - f1: 0.8713 - val_loss: 0.3089 - val_acc: 0.8680 - val_f1: 0.8680\n",
      "Epoch 4/100\n",
      "600/600 [==============================] - 124s 206ms/step - loss: 0.3090 - acc: 0.8744 - f1: 0.8744 - val_loss: 0.3026 - val_acc: 0.8723 - val_f1: 0.8723\n",
      "Epoch 5/100\n",
      "600/600 [==============================] - 124s 207ms/step - loss: 0.3036 - acc: 0.8753 - f1: 0.8753 - val_loss: 0.3027 - val_acc: 0.8719 - val_f1: 0.8719\n",
      "Epoch 6/100\n",
      "600/600 [==============================] - 126s 209ms/step - loss: 0.2983 - acc: 0.8774 - f1: 0.8774 - val_loss: 0.2991 - val_acc: 0.8743 - val_f1: 0.8743\n",
      "Epoch 7/100\n",
      "600/600 [==============================] - 123s 205ms/step - loss: 0.2931 - acc: 0.8792 - f1: 0.8791 - val_loss: 0.3002 - val_acc: 0.8717 - val_f1: 0.8717\n",
      "Epoch 8/100\n",
      "600/600 [==============================] - 122s 204ms/step - loss: 0.2877 - acc: 0.8809 - f1: 0.8809 - val_loss: 0.2942 - val_acc: 0.8750 - val_f1: 0.8750\n",
      "Epoch 9/100\n",
      "600/600 [==============================] - 125s 208ms/step - loss: 0.2834 - acc: 0.8821 - f1: 0.8821 - val_loss: 0.2926 - val_acc: 0.8767 - val_f1: 0.8767\n",
      "Epoch 10/100\n",
      "600/600 [==============================] - 123s 205ms/step - loss: 0.2796 - acc: 0.8828 - f1: 0.8828 - val_loss: 0.2926 - val_acc: 0.8777 - val_f1: 0.8777\n",
      "Epoch 11/100\n",
      "600/600 [==============================] - 124s 207ms/step - loss: 0.2739 - acc: 0.8848 - f1: 0.8847 - val_loss: 0.2922 - val_acc: 0.8771 - val_f1: 0.8771\n",
      "Epoch 12/100\n",
      "600/600 [==============================] - 122s 204ms/step - loss: 0.2708 - acc: 0.8857 - f1: 0.8857 - val_loss: 0.2953 - val_acc: 0.8730 - val_f1: 0.8730\n",
      "Epoch 13/100\n",
      "600/600 [==============================] - 123s 205ms/step - loss: 0.2657 - acc: 0.8866 - f1: 0.8866 - val_loss: 0.2971 - val_acc: 0.8724 - val_f1: 0.8724\n",
      "Epoch 14/100\n",
      "600/600 [==============================] - 124s 206ms/step - loss: 0.2613 - acc: 0.8892 - f1: 0.8892 - val_loss: 0.3042 - val_acc: 0.8709 - val_f1: 0.8709\n",
      "Epoch 15/100\n",
      "600/600 [==============================] - 122s 204ms/step - loss: 0.2556 - acc: 0.8902 - f1: 0.8902 - val_loss: 0.3050 - val_acc: 0.8710 - val_f1: 0.8710\n",
      "Epoch 16/100\n",
      "600/600 [==============================] - 124s 206ms/step - loss: 0.2524 - acc: 0.8907 - f1: 0.8907 - val_loss: 0.3094 - val_acc: 0.8717 - val_f1: 0.8717\n",
      "Epoch 17/100\n",
      "600/600 [==============================] - 121s 202ms/step - loss: 0.2476 - acc: 0.8934 - f1: 0.8934 - val_loss: 0.3147 - val_acc: 0.8694 - val_f1: 0.8694\n",
      "Epoch 18/100\n",
      "600/600 [==============================] - 126s 210ms/step - loss: 0.2438 - acc: 0.8951 - f1: 0.8951 - val_loss: 0.3043 - val_acc: 0.8707 - val_f1: 0.8707\n",
      "Epoch 19/100\n",
      "600/600 [==============================] - 127s 211ms/step - loss: 0.2400 - acc: 0.8964 - f1: 0.8964 - val_loss: 0.3189 - val_acc: 0.8664 - val_f1: 0.8664\n",
      "Epoch 20/100\n",
      "600/600 [==============================] - 123s 205ms/step - loss: 0.2333 - acc: 0.8984 - f1: 0.8984 - val_loss: 0.3299 - val_acc: 0.8605 - val_f1: 0.8605\n",
      "Epoch 21/100\n",
      "600/600 [==============================] - 124s 206ms/step - loss: 0.2309 - acc: 0.8996 - f1: 0.8996 - val_loss: 0.3406 - val_acc: 0.8614 - val_f1: 0.8614\n",
      "Epoch 22/100\n",
      "600/600 [==============================] - 123s 206ms/step - loss: 0.2263 - acc: 0.9015 - f1: 0.9015 - val_loss: 0.3538 - val_acc: 0.8588 - val_f1: 0.8588\n",
      "Epoch 23/100\n",
      "600/600 [==============================] - 121s 202ms/step - loss: 0.2238 - acc: 0.9019 - f1: 0.9019 - val_loss: 0.3504 - val_acc: 0.8565 - val_f1: 0.8565\n",
      "Epoch 24/100\n",
      "600/600 [==============================] - 126s 209ms/step - loss: 0.2193 - acc: 0.9028 - f1: 0.9028 - val_loss: 0.3820 - val_acc: 0.8550 - val_f1: 0.8550\n",
      "Epoch 25/100\n",
      "600/600 [==============================] - 123s 205ms/step - loss: 0.2141 - acc: 0.9061 - f1: 0.9061 - val_loss: 0.3686 - val_acc: 0.8558 - val_f1: 0.8558\n",
      "Epoch 26/100\n",
      "600/600 [==============================] - 125s 209ms/step - loss: 0.2114 - acc: 0.9074 - f1: 0.9074 - val_loss: 0.3867 - val_acc: 0.8578 - val_f1: 0.8578\n",
      "Epoch 27/100\n",
      "600/600 [==============================] - 124s 206ms/step - loss: 0.2082 - acc: 0.9084 - f1: 0.9084 - val_loss: 0.4001 - val_acc: 0.8474 - val_f1: 0.8474\n",
      "Epoch 28/100\n",
      "600/600 [==============================] - 124s 207ms/step - loss: 0.2050 - acc: 0.9086 - f1: 0.9086 - val_loss: 0.3957 - val_acc: 0.8492 - val_f1: 0.8492\n",
      "Epoch 29/100\n",
      "600/600 [==============================] - 127s 211ms/step - loss: 0.2023 - acc: 0.9110 - f1: 0.9110 - val_loss: 0.3941 - val_acc: 0.8548 - val_f1: 0.8548\n",
      "Epoch 30/100\n",
      "600/600 [==============================] - 123s 205ms/step - loss: 0.1980 - acc: 0.9126 - f1: 0.9126 - val_loss: 0.4269 - val_acc: 0.8515 - val_f1: 0.8515\n",
      "Epoch 31/100\n",
      "600/600 [==============================] - 123s 206ms/step - loss: 0.1937 - acc: 0.9143 - f1: 0.9143 - val_loss: 0.4042 - val_acc: 0.8534 - val_f1: 0.8534\n",
      "Epoch 32/100\n",
      "600/600 [==============================] - 123s 205ms/step - loss: 0.1919 - acc: 0.9152 - f1: 0.9152 - val_loss: 0.4226 - val_acc: 0.8539 - val_f1: 0.8539\n",
      "Epoch 33/100\n",
      "600/600 [==============================] - 125s 208ms/step - loss: 0.1871 - acc: 0.9171 - f1: 0.9171 - val_loss: 0.4550 - val_acc: 0.8470 - val_f1: 0.8470\n",
      "Epoch 34/100\n",
      "600/600 [==============================] - 125s 208ms/step - loss: 0.1882 - acc: 0.9162 - f1: 0.9162 - val_loss: 0.4322 - val_acc: 0.8470 - val_f1: 0.8470\n",
      "Epoch 35/100\n",
      "600/600 [==============================] - 122s 203ms/step - loss: 0.1847 - acc: 0.9178 - f1: 0.9178 - val_loss: 0.4632 - val_acc: 0.8420 - val_f1: 0.8420\n",
      "Epoch 36/100\n",
      "600/600 [==============================] - 122s 203ms/step - loss: 0.1827 - acc: 0.9192 - f1: 0.9192 - val_loss: 0.4289 - val_acc: 0.8503 - val_f1: 0.8503\n",
      "Epoch 37/100\n",
      "600/600 [==============================] - 122s 203ms/step - loss: 0.1794 - acc: 0.9205 - f1: 0.9204 - val_loss: 0.4460 - val_acc: 0.8422 - val_f1: 0.8422\n",
      "Epoch 38/100\n",
      "600/600 [==============================] - 120s 199ms/step - loss: 0.1762 - acc: 0.9219 - f1: 0.9219 - val_loss: 0.4495 - val_acc: 0.8450 - val_f1: 0.8450\n",
      "Epoch 39/100\n",
      "600/600 [==============================] - 124s 206ms/step - loss: 0.1756 - acc: 0.9219 - f1: 0.9219 - val_loss: 0.4798 - val_acc: 0.8335 - val_f1: 0.8335\n",
      "Epoch 40/100\n",
      "600/600 [==============================] - 122s 203ms/step - loss: 0.1741 - acc: 0.9236 - f1: 0.9236 - val_loss: 0.4672 - val_acc: 0.8430 - val_f1: 0.8430\n",
      "Epoch 41/100\n",
      "600/600 [==============================] - 122s 203ms/step - loss: 0.1725 - acc: 0.9235 - f1: 0.9235 - val_loss: 0.4715 - val_acc: 0.8430 - val_f1: 0.8430\n",
      "Epoch 42/100\n",
      "600/600 [==============================] - 122s 203ms/step - loss: 0.1692 - acc: 0.9249 - f1: 0.9249 - val_loss: 0.4703 - val_acc: 0.8414 - val_f1: 0.8414\n",
      "Epoch 43/100\n",
      "600/600 [==============================] - 121s 202ms/step - loss: 0.1682 - acc: 0.9257 - f1: 0.9257 - val_loss: 0.4905 - val_acc: 0.8420 - val_f1: 0.8420\n",
      "Epoch 44/100\n",
      "600/600 [==============================] - 122s 203ms/step - loss: 0.1642 - acc: 0.9276 - f1: 0.9275 - val_loss: 0.5084 - val_acc: 0.8432 - val_f1: 0.8432\n",
      "Epoch 45/100\n",
      "600/600 [==============================] - 120s 200ms/step - loss: 0.1627 - acc: 0.9286 - f1: 0.9285 - val_loss: 0.4916 - val_acc: 0.8424 - val_f1: 0.8424\n",
      "Epoch 46/100\n",
      "600/600 [==============================] - 122s 203ms/step - loss: 0.1612 - acc: 0.9289 - f1: 0.9289 - val_loss: 0.4857 - val_acc: 0.8433 - val_f1: 0.8433\n",
      "Epoch 47/100\n",
      "600/600 [==============================] - 122s 203ms/step - loss: 0.1588 - acc: 0.9290 - f1: 0.9290 - val_loss: 0.4730 - val_acc: 0.8406 - val_f1: 0.8406\n",
      "Epoch 48/100\n",
      "600/600 [==============================] - 121s 202ms/step - loss: 0.1602 - acc: 0.9282 - f1: 0.9282 - val_loss: 0.4859 - val_acc: 0.8460 - val_f1: 0.8460\n",
      "Epoch 49/100\n",
      "600/600 [==============================] - 123s 206ms/step - loss: 0.1566 - acc: 0.9303 - f1: 0.9303 - val_loss: 0.4935 - val_acc: 0.8487 - val_f1: 0.8487\n"
     ]
    },
    {
     "name": "stdout",
     "output_type": "stream",
     "text": [
      "Epoch 50/100\n",
      "600/600 [==============================] - 120s 200ms/step - loss: 0.1540 - acc: 0.9318 - f1: 0.9318 - val_loss: 0.5357 - val_acc: 0.8408 - val_f1: 0.8408\n",
      "Epoch 51/100\n",
      "600/600 [==============================] - 121s 202ms/step - loss: 0.1545 - acc: 0.9315 - f1: 0.9315 - val_loss: 0.4914 - val_acc: 0.8425 - val_f1: 0.8425\n",
      "Epoch 52/100\n",
      "600/600 [==============================] - 121s 201ms/step - loss: 0.1538 - acc: 0.9323 - f1: 0.9323 - val_loss: 0.4843 - val_acc: 0.8413 - val_f1: 0.8413\n",
      "Epoch 53/100\n",
      "600/600 [==============================] - 120s 200ms/step - loss: 0.1489 - acc: 0.9338 - f1: 0.9338 - val_loss: 0.5140 - val_acc: 0.8463 - val_f1: 0.8463\n",
      "Epoch 55/100\n",
      "600/600 [==============================] - 120s 201ms/step - loss: 0.1495 - acc: 0.9338 - f1: 0.9338 - val_loss: 0.5024 - val_acc: 0.8465 - val_f1: 0.8465\n",
      "Epoch 56/100\n",
      "600/600 [==============================] - 120s 200ms/step - loss: 0.1456 - acc: 0.9351 - f1: 0.9351 - val_loss: 0.5266 - val_acc: 0.8460 - val_f1: 0.8460\n",
      "Epoch 57/100\n",
      "600/600 [==============================] - 122s 203ms/step - loss: 0.1451 - acc: 0.9354 - f1: 0.9354 - val_loss: 0.5441 - val_acc: 0.8442 - val_f1: 0.8442\n",
      "Epoch 58/100\n",
      "600/600 [==============================] - 118s 197ms/step - loss: 0.1432 - acc: 0.9364 - f1: 0.9364 - val_loss: 0.5262 - val_acc: 0.8430 - val_f1: 0.8430\n",
      "Epoch 59/100\n",
      "484/600 [=======================>......] - ETA: 22s - loss: 0.1420 - acc: 0.9368 - f1: 0.9368"
     ]
    },
    {
     "name": "stderr",
     "output_type": "stream",
     "text": [
      "IOPub message rate exceeded.\n",
      "The notebook server will temporarily stop sending output\n",
      "to the client in order to avoid crashing it.\n",
      "To change this limit, set the config variable\n",
      "`--NotebookApp.iopub_msg_rate_limit`.\n",
      "\n",
      "Current values:\n",
      "NotebookApp.iopub_msg_rate_limit=1000.0 (msgs/sec)\n",
      "NotebookApp.rate_limit_window=3.0 (secs)\n",
      "\n"
     ]
    },
    {
     "name": "stdout",
     "output_type": "stream",
     "text": [
      "600/600 [==============================] - 111s 186ms/step - loss: 0.1389 - acc: 0.9377 - f1: 0.9377 - val_loss: 0.5632 - val_acc: 0.8394 - val_f1: 0.8394\n",
      "Epoch 64/100\n",
      "600/600 [==============================] - 67s 112ms/step - loss: 0.1411 - acc: 0.9370 - f1: 0.9370 - val_loss: 0.5568 - val_acc: 0.8416 - val_f1: 0.8416\n",
      "Epoch 65/100\n",
      "600/600 [==============================] - 69s 116ms/step - loss: 0.1395 - acc: 0.9375 - f1: 0.9375 - val_loss: 0.5341 - val_acc: 0.8467 - val_f1: 0.8467\n",
      "Epoch 66/100\n",
      "600/600 [==============================] - 70s 117ms/step - loss: 0.1368 - acc: 0.9396 - f1: 0.9396 - val_loss: 0.5848 - val_acc: 0.8453 - val_f1: 0.8453\n",
      "Epoch 67/100\n",
      "600/600 [==============================] - 69s 115ms/step - loss: 0.1357 - acc: 0.9393 - f1: 0.9392 - val_loss: 0.5565 - val_acc: 0.8454 - val_f1: 0.8454\n",
      "Epoch 68/100\n",
      "135/600 [=====>........................] - ETA: 49s - loss: 0.1390 - acc: 0.9399 - f1: 0.9399"
     ]
    },
    {
     "name": "stderr",
     "output_type": "stream",
     "text": [
      "IOPub message rate exceeded.\n",
      "The notebook server will temporarily stop sending output\n",
      "to the client in order to avoid crashing it.\n",
      "To change this limit, set the config variable\n",
      "`--NotebookApp.iopub_msg_rate_limit`.\n",
      "\n",
      "Current values:\n",
      "NotebookApp.iopub_msg_rate_limit=1000.0 (msgs/sec)\n",
      "NotebookApp.rate_limit_window=3.0 (secs)\n",
      "\n"
     ]
    },
    {
     "name": "stdout",
     "output_type": "stream",
     "text": [
      "600/600 [==============================] - 70s 116ms/step - loss: 0.1357 - acc: 0.9393 - f1: 0.9393 - val_loss: 0.5486 - val_acc: 0.8478 - val_f1: 0.8478\n",
      "Epoch 71/100\n",
      "600/600 [==============================] - 68s 114ms/step - loss: 0.1376 - acc: 0.9391 - f1: 0.9391 - val_loss: 0.5284 - val_acc: 0.8483 - val_f1: 0.8483\n",
      "Epoch 72/100\n",
      "600/600 [==============================] - 70s 117ms/step - loss: 0.1344 - acc: 0.9395 - f1: 0.9395 - val_loss: 0.5659 - val_acc: 0.8496 - val_f1: 0.8496\n",
      "Epoch 73/100\n",
      "600/600 [==============================] - 70s 116ms/step - loss: 0.1309 - acc: 0.9413 - f1: 0.9413 - val_loss: 0.5982 - val_acc: 0.8489 - val_f1: 0.8489\n",
      "Epoch 74/100\n",
      "600/600 [==============================] - 68s 114ms/step - loss: 0.1299 - acc: 0.9418 - f1: 0.9418 - val_loss: 0.5732 - val_acc: 0.8470 - val_f1: 0.8470\n",
      "Epoch 75/100\n",
      "400/600 [===================>..........] - ETA: 22s - loss: 0.1307 - acc: 0.9410 - f1: 0.9410"
     ]
    },
    {
     "name": "stderr",
     "output_type": "stream",
     "text": [
      "IOPub message rate exceeded.\n",
      "The notebook server will temporarily stop sending output\n",
      "to the client in order to avoid crashing it.\n",
      "To change this limit, set the config variable\n",
      "`--NotebookApp.iopub_msg_rate_limit`.\n",
      "\n",
      "Current values:\n",
      "NotebookApp.iopub_msg_rate_limit=1000.0 (msgs/sec)\n",
      "NotebookApp.rate_limit_window=3.0 (secs)\n",
      "\n"
     ]
    },
    {
     "name": "stdout",
     "output_type": "stream",
     "text": [
      "600/600 [==============================] - 70s 117ms/step - loss: 0.1278 - acc: 0.9429 - f1: 0.9429 - val_loss: 0.5958 - val_acc: 0.8463 - val_f1: 0.8463\n",
      "Epoch 79/100\n",
      "600/600 [==============================] - 71s 118ms/step - loss: 0.1271 - acc: 0.9425 - f1: 0.9425 - val_loss: 0.5544 - val_acc: 0.8410 - val_f1: 0.8410\n",
      "Epoch 80/100\n",
      "600/600 [==============================] - 69s 115ms/step - loss: 0.1291 - acc: 0.9438 - f1: 0.9437 - val_loss: 0.5476 - val_acc: 0.8442 - val_f1: 0.8442\n",
      "Epoch 81/100\n",
      "600/600 [==============================] - 69s 115ms/step - loss: 0.1281 - acc: 0.9432 - f1: 0.9432 - val_loss: 0.6013 - val_acc: 0.8484 - val_f1: 0.8484\n",
      "Epoch 82/100\n",
      "600/600 [==============================] - 69s 114ms/step - loss: 0.1264 - acc: 0.9435 - f1: 0.9435 - val_loss: 0.6059 - val_acc: 0.8473 - val_f1: 0.8473\n",
      "Epoch 83/100\n",
      "317/600 [==============>...............] - ETA: 30s - loss: 0.1240 - acc: 0.9446 - f1: 0.9446"
     ]
    },
    {
     "name": "stderr",
     "output_type": "stream",
     "text": [
      "IOPub message rate exceeded.\n",
      "The notebook server will temporarily stop sending output\n",
      "to the client in order to avoid crashing it.\n",
      "To change this limit, set the config variable\n",
      "`--NotebookApp.iopub_msg_rate_limit`.\n",
      "\n",
      "Current values:\n",
      "NotebookApp.iopub_msg_rate_limit=1000.0 (msgs/sec)\n",
      "NotebookApp.rate_limit_window=3.0 (secs)\n",
      "\n"
     ]
    },
    {
     "name": "stdout",
     "output_type": "stream",
     "text": [
      "600/600 [==============================] - 70s 116ms/step - loss: 0.1244 - acc: 0.9451 - f1: 0.9451 - val_loss: 0.5903 - val_acc: 0.8451 - val_f1: 0.8451\n",
      "Epoch 86/100\n",
      "600/600 [==============================] - 72s 120ms/step - loss: 0.1242 - acc: 0.9450 - f1: 0.9449 - val_loss: 0.5945 - val_acc: 0.8450 - val_f1: 0.8450\n",
      "Epoch 87/100\n",
      "600/600 [==============================] - 70s 116ms/step - loss: 0.1232 - acc: 0.9452 - f1: 0.9452 - val_loss: 0.6569 - val_acc: 0.8471 - val_f1: 0.8471\n",
      "Epoch 88/100\n",
      "600/600 [==============================] - 69s 116ms/step - loss: 0.1251 - acc: 0.9452 - f1: 0.9452 - val_loss: 0.6241 - val_acc: 0.8430 - val_f1: 0.8430\n",
      "Epoch 89/100\n",
      "600/600 [==============================] - 68s 114ms/step - loss: 0.1237 - acc: 0.9451 - f1: 0.9451 - val_loss: 0.6012 - val_acc: 0.8455 - val_f1: 0.8455\n",
      "Epoch 90/100\n",
      "600/600 [==============================] - 69s 116ms/step - loss: 0.1212 - acc: 0.9465 - f1: 0.9465 - val_loss: 0.6062 - val_acc: 0.8422 - val_f1: 0.8422\n",
      "Epoch 91/100\n",
      "600/600 [==============================] - 68s 114ms/step - loss: 0.1202 - acc: 0.9474 - f1: 0.9474 - val_loss: 0.6208 - val_acc: 0.8451 - val_f1: 0.8451\n",
      "Epoch 92/100\n",
      "600/600 [==============================] - 68s 114ms/step - loss: 0.1182 - acc: 0.9480 - f1: 0.9480 - val_loss: 0.6095 - val_acc: 0.8452 - val_f1: 0.8452\n",
      "Epoch 93/100\n",
      "600/600 [==============================] - 70s 117ms/step - loss: 0.1181 - acc: 0.9473 - f1: 0.9473 - val_loss: 0.6259 - val_acc: 0.8439 - val_f1: 0.8439\n",
      "Epoch 94/100\n",
      "600/600 [==============================] - 70s 116ms/step - loss: 0.1195 - acc: 0.9478 - f1: 0.9478 - val_loss: 0.6149 - val_acc: 0.8422 - val_f1: 0.8422\n",
      "Epoch 95/100\n",
      "600/600 [==============================] - 71s 118ms/step - loss: 0.1186 - acc: 0.9480 - f1: 0.9480 - val_loss: 0.6019 - val_acc: 0.8415 - val_f1: 0.8415\n",
      "Epoch 96/100\n",
      "600/600 [==============================] - 69s 115ms/step - loss: 0.1177 - acc: 0.9488 - f1: 0.9488 - val_loss: 0.6165 - val_acc: 0.8417 - val_f1: 0.8417\n",
      "Epoch 97/100\n",
      "600/600 [==============================] - 70s 117ms/step - loss: 0.1161 - acc: 0.9490 - f1: 0.9490 - val_loss: 0.6003 - val_acc: 0.8414 - val_f1: 0.8414\n",
      "Epoch 98/100\n",
      "600/600 [==============================] - 68s 113ms/step - loss: 0.1167 - acc: 0.9486 - f1: 0.9486 - val_loss: 0.5980 - val_acc: 0.8456 - val_f1: 0.8456\n",
      "Epoch 99/100\n",
      "600/600 [==============================] - 70s 116ms/step - loss: 0.1160 - acc: 0.9498 - f1: 0.9498 - val_loss: 0.6001 - val_acc: 0.8413 - val_f1: 0.8413\n",
      "Epoch 100/100\n",
      "600/600 [==============================] - 70s 116ms/step - loss: 0.1142 - acc: 0.9500 - f1: 0.9500 - val_loss: 0.6133 - val_acc: 0.8407 - val_f1: 0.8407\n"
     ]
    },
    {
     "data": {
      "text/plain": [
       "<keras.callbacks.History at 0x7fc2f412e7b8>"
      ]
     },
     "execution_count": 9,
     "metadata": {},
     "output_type": "execute_result"
    }
   ],
   "source": [
    "training_batches = MagnitudeUtils.batchify(x_train, y_train, BATCH_SIZE) # Split the training data into batches\n",
    "num_batches_per_epoch_train = int(np.ceil(num_training/float(BATCH_SIZE)))\n",
    "test_batches = MagnitudeUtils.batchify(x_test, y_test, BATCH_SIZE)  # Split the test data into batches\n",
    "num_batches_per_epoch_test = int(np.ceil(num_test/float(BATCH_SIZE)))\n",
    "\n",
    "\n",
    "# Generates batches of the transformed training data\n",
    "train_batch_generator = (\n",
    "  (\n",
    "    med_vectors.query(x_train_batch), # Magnitude will handle converting the 2D array of text into the 3D word vector representations!\n",
    "    MagnitudeUtils.to_categorical(y_train_batch, num_outputs) # Magnitude will handle converting the class labels into one-hot encodings!\n",
    "  ) for x_train_batch, y_train_batch in training_batches\n",
    ")\n",
    "\n",
    "# Generates batches of the transformed test data\n",
    "test_batch_generator = (\n",
    "  (\n",
    "    med_vectors.query(x_test_batch), # Magnitude will handle converting the 2D array of text into the 3D word vector representations!\n",
    "    MagnitudeUtils.to_categorical(y_test_batch, num_outputs) # Magnitude will handle converting the class labels into one-hot encodings!\n",
    "  ) for x_test_batch, y_test_batch in test_batches\n",
    ")\n",
    "\n",
    "# Start training\n",
    "model.fit_generator(\n",
    "    generator = train_batch_generator,\n",
    "    steps_per_epoch = num_batches_per_epoch_train,\n",
    "    validation_data = test_batch_generator,\n",
    "    validation_steps = num_batches_per_epoch_test,\n",
    "    epochs = EPOCHS,\n",
    ")"
   ]
  },
  {
   "cell_type": "markdown",
   "metadata": {},
   "source": [
    "## Results"
   ]
  },
  {
   "cell_type": "code",
   "execution_count": 10,
   "metadata": {},
   "outputs": [
    {
     "name": "stdout",
     "output_type": "stream",
     "text": [
      "Results after training for 100 epochs:\n",
      "loss: 0.1627 - categorical_accuracy: 0.9316 - f1: 0.9316\n",
      "val_loss: 0.6133 - val_categorical_accuracy: 0.8407 - f1: 0.8407\n"
     ]
    }
   ],
   "source": [
    "print(\"Results after training for %d epochs:\" % (EPOCHS,))\n",
    "\n",
    "train_metrics = model.evaluate_generator(\n",
    "    generator = train_batch_generator,\n",
    "    steps = num_batches_per_epoch_train,\n",
    ")\n",
    "\n",
    "print(\"loss: %.4f - categorical_accuracy: %.4f - f1: %.4f\" % tuple(train_metrics))\n",
    "\n",
    "val_metrics = model.evaluate_generator(\n",
    "    generator = test_batch_generator,\n",
    "    steps = num_batches_per_epoch_test,\n",
    ")\n",
    "\n",
    "print(\"val_loss: %.4f - val_categorical_accuracy: %.4f - f1: %.4f\" % tuple(val_metrics))"
   ]
  },
  {
   "cell_type": "markdown",
   "metadata": {},
   "source": [
    "## Conclusion"
   ]
  },
  {
   "cell_type": "code",
   "execution_count": 12,
   "metadata": {},
   "outputs": [
    {
     "data": {
      "image/png": "[encoded data removed]",
      "text/plain": [
       "<Figure size 432x288 with 1 Axes>"
      ]
     },
     "metadata": {},
     "output_type": "display_data"
    },
    {
     "data": {
      "image/png": "[encoded data removed]",
      "text/plain": [
       "<Figure size 432x288 with 1 Axes>"
      ]
     },
     "metadata": {},
     "output_type": "display_data"
    }
   ],
   "source": [
    "import matplotlib.pyplot as plt\n",
    "\n",
    "# Plot training & validation accuracy values\n",
    "plt.plot(model.history.history['acc'])\n",
    "plt.plot(model.history.history['val_acc'])\n",
    "plt.title('Model accuracy')\n",
    "plt.ylabel('Accuracy')\n",
    "plt.xlabel('Epoch')\n",
    "plt.legend(['Train', 'Test'], loc='upper left')\n",
    "plt.show()\n",
    "\n",
    "# Plot training & validation loss values\n",
    "plt.plot(model.history.history['loss'])\n",
    "plt.plot(model.history.history['val_loss'])\n",
    "plt.title('Model loss')\n",
    "plt.ylabel('Loss')\n",
    "plt.xlabel('Epoch')\n",
    "plt.legend(['Train', 'Test'], loc='upper left')\n",
    "plt.show()"
   ]
  },
  {
   "cell_type": "code",
   "execution_count": 13,
   "metadata": {},
   "outputs": [
    {
     "name": "stdout",
     "output_type": "stream",
     "text": [
      "['Other', 'Orthopedic']\n",
      "[[8388  760]\n",
      " [ 983  809]]\n",
      "             precision    recall  f1-score   support\n",
      "\n",
      "      Other       0.90      0.92      0.91      9148\n",
      " Orthopedic       0.52      0.45      0.48      1792\n",
      "\n",
      "avg / total       0.83      0.84      0.84     10940\n",
      "\n"
     ]
    }
   ],
   "source": [
    "from sklearn.metrics import confusion_matrix, classification_report\n",
    "\n",
    "y_pred = np.argmax(model.predict(med_vectors.query(x_test)), axis=1)\n",
    "class_labels = [int_to_intent(y) for y in set(y_test)] \n",
    "report = classification_report(y_test, y_pred, target_names=class_labels)\n",
    "print(class_labels)\n",
    "print(confusion_matrix(y_test, y_pred))\n",
    "print(report)"
   ]
  },
  {
   "cell_type": "code",
   "execution_count": null,
   "metadata": {},
   "outputs": [],
   "source": []
  }
 ],
 "metadata": {
  "kernelspec": {
   "display_name": "Python 3",
   "language": "python",
   "name": "python3"
  },
  "language_info": {
   "codemirror_mode": {
    "name": "ipython",
    "version": 3
   },
   "file_extension": ".py",
   "mimetype": "text/x-python",
   "name": "python",
   "nbconvert_exporter": "python",
   "pygments_lexer": "ipython3",
   "version": "3.6.5"
  }
 },
 "nbformat": 4,
 "nbformat_minor": 2
}
