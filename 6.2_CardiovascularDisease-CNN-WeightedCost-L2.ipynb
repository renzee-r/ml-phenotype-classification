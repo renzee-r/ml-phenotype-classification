{
 "cells": [
  {
   "cell_type": "code",
   "execution_count": 1,
   "metadata": {},
   "outputs": [
    {
     "name": "stdout",
     "output_type": "stream",
     "text": [
      "[nltk_data] Downloading package punkt to /home/renzeer/nltk_data...\n",
      "[nltk_data]   Package punkt is already up-to-date!\n",
      "[nltk_data] Downloading package stopwords to\n",
      "[nltk_data]     /home/renzeer/nltk_data...\n",
      "[nltk_data]   Package stopwords is already up-to-date!\n"
     ]
    },
    {
     "name": "stderr",
     "output_type": "stream",
     "text": [
      "Using TensorFlow backend.\n"
     ]
    }
   ],
   "source": [
    "# Standard python helper libraries.\n",
    "import os, sys, re, json, time, wget, csv, string, time, random\n",
    "import itertools, collections\n",
    "\n",
    "# NumPy\n",
    "import numpy as np\n",
    "\n",
    "# NLTK for NLP utils\n",
    "import nltk\n",
    "nltk.download('punkt')\n",
    "nltk.download('stopwords')\n",
    "from nltk.corpus import stopwords\n",
    "from nltk.tokenize import word_tokenize\n",
    "from nltk.stem.porter import PorterStemmer\n",
    "\n",
    "from keras import backend as K\n",
    "from keras.models import Sequential\n",
    "from keras.layers import GaussianNoise, Dropout, Dense, Embedding, MaxPool1D, GlobalMaxPool1D, Conv1D\n",
    "from keras.optimizers import Adam\n",
    "from keras.callbacks import Callback\n",
    "from keras.regularizers import l1, l2\n",
    "\n",
    "from sklearn.metrics import confusion_matrix, f1_score, precision_score, recall_score\n",
    "\n",
    "from pymagnitude import *"
   ]
  },
  {
   "cell_type": "markdown",
   "metadata": {},
   "source": [
    "# Binary Classifier for Cardiovascular Disease using a Convolutional Neural Network\n",
    "\n",
    "In this notebook, we will be building a model for classifying a sentence from an EHR note for the presence of cardiovascular disease. The model will be trained using a convoultional neural network (CNN). "
   ]
  },
  {
   "cell_type": "markdown",
   "metadata": {},
   "source": [
    "## Text Preprocessing"
   ]
  },
  {
   "cell_type": "code",
   "execution_count": 2,
   "metadata": {},
   "outputs": [
    {
     "name": "stdout",
     "output_type": "stream",
     "text": [
      "['Other', 'PAST MEDICAL HISTORY:, He has difficulty climbing stairs, difficulty with airline seats, tying shoes, used to public seating, and lifting objects off the floor.  He exercises three times a week at home and does cardio.  He has difficulty walking two blocks or five flights of stairs.  Difficulty with snoring.  He has muscle and joint pains including knee pain, back pain, foot and ankle pain, and swelling.  He has gastroesophageal reflux disease.,PAST SURGICAL HISTORY:, Includes reconstructive surgery on his right hand 13 years ago.  ,SOCIAL HISTORY:, He is currently single.  He has about ten drinks a year.  He had smoked significantly up until several months ago.  He now smokes less than three cigarettes a day.,FAMILY HISTORY:, Heart disease in both grandfathers, grandmother with stroke, and a grandmother with diabetes.  Denies obesity and hypertension in other family members.,CURRENT MEDICATIONS:, None.,ALLERGIES:,  He is allergic to Penicillin.,MISCELLANEOUS/EATING HISTORY:, He has been going to support groups for seven months with Lynn Holmberg in Greenwich and he is from Eastchester, New York and he feels that we are the appropriate program.  He had a poor experience with the Greenwich program.  Eating history, he is not an emotional eater.  Does not like sweets.  He likes big portions and carbohydrates.  He likes chicken and not steak.  He currently weighs 312 pounds.  Ideal body weight would be 170 pounds.  He is 142 pounds overweight.  If ,he lost 60% of his excess body weight that would be 84 pounds and he should weigh about 228.,REVIEW OF SYSTEMS: ,Negative for head, neck, heart, lungs, GI, GU, orthopedic, and skin.  Specifically denies chest pain, heart attack, coronary artery disease, congestive heart failure, arrhythmia, atrial fibrillation, pacemaker, high cholesterol, pulmonary embolism, high blood pressure, CVA, venous insufficiency, thrombophlebitis, asthma, shortness of breath, COPD, emphysema, sleep apnea, diabetes, leg and foot swelling, osteoarthritis, rheumatoid arthritis, hiatal hernia, peptic ulcer disease, gallstones, infected gallbladder, pancreatitis, fatty liver, hepatitis, hemorrhoids, rectal bleeding, polyps, incontinence of stool, urinary stress incontinence, or cancer.  Denies cellulitis, pseudotumor cerebri, meningitis, or encephalitis.,PHYSICAL EXAMINATION:, He is alert and oriented x 3.  Cranial nerves II-XII are intact.  Afebrile.  Vital Signs are stable.']\n",
      "['Cardiovascular', '2-D M-MODE: , ,1.  Left atrial enlargement with left atrial diameter of 4.7 cm.,2.  Normal size right and left ventricle.,3.  Normal LV systolic function with left ventricular ejection fraction of 51%.,4.  Normal LV diastolic function.,5.  No pericardial effusion.,6.  Normal morphology of aortic valve, mitral valve, tricuspid valve, and pulmonary valve.,7.  PA systolic pressure is 36 mmHg.,DOPPLER: , ,1.  Mild mitral and tricuspid regurgitation.,2.  Trace aortic and pulmonary regurgitation.']\n"
     ]
    }
   ],
   "source": [
    "ehr_notes = []\n",
    "with open('data/ehr_samples.csv', newline='') as csvfile:\n",
    "    reader = csv.DictReader(csvfile)\n",
    "    for row in reader:     \n",
    "        if int(row['SpecialtyID']) in [39, 6, 16, 37, 11, 12, 29, 26, 7, 21, 19, 10, 2, 18]:\n",
    "            continue\n",
    "        elif int(row['SpecialtyID']) != 4:\n",
    "            ehr_notes.append(['Other', row['Note']])\n",
    "        else:\n",
    "            ehr_notes.append([row['Specialty'], row['Note']])\n",
    "\n",
    "print(ehr_notes[0])\n",
    "print(ehr_notes[2])"
   ]
  },
  {
   "cell_type": "markdown",
   "metadata": {},
   "source": [
    "## Natural Langauge Processing"
   ]
  },
  {
   "cell_type": "code",
   "execution_count": 3,
   "metadata": {},
   "outputs": [
    {
     "name": "stdout",
     "output_type": "stream",
     "text": [
      "['Cardiovascular', 'return clinic 4 weeks5']\n",
      "['Other', 'biceps tendon nonsubluxable']\n"
     ]
    }
   ],
   "source": [
    "ehr_sentences = []\n",
    "for record in ehr_notes:\n",
    "    sent_text = nltk.sent_tokenize(record[1])\n",
    "    for sent in sent_text:\n",
    "        tokens = word_tokenize(sent)\n",
    "\n",
    "        # convert to lower case\n",
    "        tokens = [w.lower() for w in tokens]\n",
    "\n",
    "        # remove punctuation from each word\n",
    "        table = str.maketrans('', '', string.punctuation)\n",
    "        tokens = [w.translate(table) for w in tokens]\n",
    "\n",
    "        # filter out stop words\n",
    "        stop_words = set(stopwords.words('english'))\n",
    "        tokens = [w for w in tokens if not w in stop_words]\n",
    "\n",
    "#         # stem words\n",
    "#         porter = PorterStemmer()\n",
    "#         tokens = [porter.stem(word) for word in tokens]\n",
    "\n",
    "        # remove blanks\n",
    "        tokens = [w for w in tokens if w != '']\n",
    "\n",
    "        ehr_sentences.append([record[0], ' '.join(tokens)])\n",
    "\n",
    "random.Random(4).shuffle(ehr_sentences)\n",
    "\n",
    "print(ehr_sentences[0])\n",
    "print(ehr_sentences[1])"
   ]
  },
  {
   "cell_type": "markdown",
   "metadata": {},
   "source": [
    "## Word Embedding\n",
    "\n",
    "The first step is to load in our word embedding, which is trained on text from Wikipedia, Pubmed, and Pubmed Central. We load our word embedding through a tool called Magnitude. A full exploration of the word embedding and Magnitude can be found in the Introduction notebook."
   ]
  },
  {
   "cell_type": "code",
   "execution_count": 4,
   "metadata": {},
   "outputs": [],
   "source": [
    "med_vectors = Magnitude(\"data/wikipedia-pubmed-and-PMC-w2v.magnitude\", pad_to_length=30)"
   ]
  },
  {
   "cell_type": "markdown",
   "metadata": {},
   "source": [
    "## Defining our Training and Test Data\n",
    "\n",
    "Before we can start building our neural networks, we first have to define our datasets. Specifically, we have to break up our EHR data so that we have records that we can train on and records that are exclusively used to test on. Maintaining a separate set for testing ensures we avoid overfitting our data.\n",
    "\n",
    "We will use some built-in functions provided by Magnitude that helps encode our classes/categories. We then partition our data into our train and test sets. For each set we have both data and labels. Initially, we will be making these partitions small to make iterating through model development much quicker. However, once the models are developed, we will expand our datasets to include all of our data. To ensure we defined our data correctly, we can print a few lines from the two sets."
   ]
  },
  {
   "cell_type": "code",
   "execution_count": 5,
   "metadata": {},
   "outputs": [
    {
     "data": {
      "text/plain": [
       "70941"
      ]
     },
     "execution_count": 5,
     "metadata": {},
     "output_type": "execute_result"
    }
   ],
   "source": [
    "len(ehr_sentences)"
   ]
  },
  {
   "cell_type": "code",
   "execution_count": 6,
   "metadata": {},
   "outputs": [
    {
     "name": "stdout",
     "output_type": "stream",
     "text": [
      "Cardiovascular\n",
      "First line of train/test data:\n",
      "\t ['return', 'clinic', '4', 'weeks5']\n",
      "\t 0 Cardiovascular\n",
      "\t ['smokes', 'one', 'pack', 'per', 'day']\n",
      "\t 0 Cardiovascular\n",
      "Second line of train/test data:\n",
      "\t ['biceps', 'tendon', 'nonsubluxable']\n",
      "\t 1 Other\n",
      "\t ['denies', 'illicit', 'drug', 'use', 'family', 'history', 'parents', 'died', 'myocardial', 'infarctions']\n",
      "\t 1 Other\n"
     ]
    }
   ],
   "source": [
    "add_intent, intent_to_int, int_to_intent = MagnitudeUtils.class_encoding()\n",
    "\n",
    "x_train = [ehr_sent[1].split(' ') for ehr_sent in ehr_sentences[:60000]]\n",
    "x_test = [ehr_sent[1].split(' ') for ehr_sent in ehr_sentences[60001:]]\n",
    "\n",
    "y_train = [add_intent(ehr_sent[0]) for ehr_sent in ehr_sentences[:60000]]\n",
    "y_test = [add_intent(ehr_sent[0]) for ehr_sent in ehr_sentences[60001:]]\n",
    "\n",
    "y_train = list(np.array(y_train).reshape(len(y_train)))\n",
    "y_test = list(np.array(y_test).reshape(len(y_test)))\n",
    "\n",
    "num_training = len(x_train)\n",
    "num_test = len(x_test)\n",
    "num_outputs = int(max(max(y_train), max(y_test))) + 1\n",
    "\n",
    "print(int_to_intent(0))\n",
    "\n",
    "print(\"First line of train/test data:\")\n",
    "print(\"\\t\", x_train[0])\n",
    "print(\"\\t\", y_train[0], int_to_intent(y_train[0]))\n",
    "print(\"\\t\", x_test[0])\n",
    "print(\"\\t\", y_test[0], int_to_intent(y_test[0]))\n",
    "print(\"Second line of train/test data:\")\n",
    "print(\"\\t\", x_train[1])\n",
    "print(\"\\t\", y_train[1], int_to_intent(y_train[1]))\n",
    "print(\"\\t\", x_test[1])\n",
    "print(\"\\t\", y_test[1], int_to_intent(y_test[1]))"
   ]
  },
  {
   "cell_type": "markdown",
   "metadata": {},
   "source": [
    "## Defining Custom Callback Function"
   ]
  },
  {
   "cell_type": "code",
   "execution_count": 7,
   "metadata": {},
   "outputs": [],
   "source": [
    "def f1(y_true, y_pred):\n",
    "    def recall(y_true, y_pred):\n",
    "        \"\"\"Recall metric.\n",
    "\n",
    "        Only computes a batch-wise average of recall.\n",
    "\n",
    "        Computes the recall, a metric for multi-label classification of\n",
    "        how many relevant items are selected.\n",
    "        \"\"\"\n",
    "        true_positives = K.sum(K.round(K.clip(y_true * y_pred, 0, 1)))\n",
    "        possible_positives = K.sum(K.round(K.clip(y_true, 0, 1)))\n",
    "        recall = true_positives / (possible_positives + K.epsilon())\n",
    "        return recall\n",
    "\n",
    "    def precision(y_true, y_pred):\n",
    "        \"\"\"Precision metric.\n",
    "\n",
    "        Only computes a batch-wise average of precision.\n",
    "\n",
    "        Computes the precision, a metric for multi-label classification of\n",
    "        how many selected items are relevant.\n",
    "        \"\"\"\n",
    "        true_positives = K.sum(K.round(K.clip(y_true * y_pred, 0, 1)))\n",
    "        predicted_positives = K.sum(K.round(K.clip(y_pred, 0, 1)))\n",
    "        precision = true_positives / (predicted_positives + K.epsilon())\n",
    "        return precision\n",
    "    \n",
    "    precision = precision(y_true, y_pred)\n",
    "    recall = recall(y_true, y_pred)\n",
    "    return 2*((precision*recall)/(precision+recall+K.epsilon()))"
   ]
  },
  {
   "cell_type": "markdown",
   "metadata": {},
   "source": [
    "## Defining Model"
   ]
  },
  {
   "cell_type": "code",
   "execution_count": 8,
   "metadata": {},
   "outputs": [
    {
     "name": "stdout",
     "output_type": "stream",
     "text": [
      "_________________________________________________________________\n",
      "Layer (type)                 Output Shape              Param #   \n",
      "=================================================================\n",
      "gaussian_noise_1 (GaussianNo (None, 30, 200)           0         \n",
      "_________________________________________________________________\n",
      "conv1d_1 (Conv1D)            (None, 30, 128)           179328    \n",
      "_________________________________________________________________\n",
      "max_pooling1d_1 (MaxPooling1 (None, 15, 128)           0         \n",
      "_________________________________________________________________\n",
      "conv1d_2 (Conv1D)            (None, 15, 128)           114816    \n",
      "_________________________________________________________________\n",
      "global_max_pooling1d_1 (Glob (None, 128)               0         \n",
      "_________________________________________________________________\n",
      "dropout_1 (Dropout)          (None, 128)               0         \n",
      "_________________________________________________________________\n",
      "dense_1 (Dense)              (None, 64)                8256      \n",
      "_________________________________________________________________\n",
      "dense_2 (Dense)              (None, 2)                 130       \n",
      "=================================================================\n",
      "Total params: 302,530\n",
      "Trainable params: 302,530\n",
      "Non-trainable params: 0\n",
      "_________________________________________________________________\n"
     ]
    }
   ],
   "source": [
    "MAX_WORDS = 30 # The maximum number of words the sequence model will consider\n",
    "STD_DEV = 0.01 # Deviation of noise for Gaussian Noise applied to the embeddings\n",
    "DROPOUT_RATIO = .5 # The ratio to dropout\n",
    "BATCH_SIZE = 100 # The number of examples per train/validation step\n",
    "EPOCHS = 100 # The number of times to repeat through all of the training data\n",
    "LEARNING_RATE = .01 # The learning rate for the optimizer\n",
    "NUM_FILTERS = 128\n",
    "\n",
    "model = Sequential()\n",
    "model.add(GaussianNoise(STD_DEV, input_shape=(MAX_WORDS, med_vectors.dim)))\n",
    "model.add(Conv1D(NUM_FILTERS, 7, activation='relu', padding='same', kernel_regularizer=l2(0.01)))\n",
    "model.add(MaxPool1D(2))\n",
    "model.add(Conv1D(NUM_FILTERS, 7, activation='relu', padding='same', kernel_regularizer=l2(0.01)))\n",
    "model.add(GlobalMaxPool1D())\n",
    "model.add(Dropout(DROPOUT_RATIO))\n",
    "model.add(Dense(64, activation='relu'))\n",
    "model.add(Dense(num_outputs, activation='softmax'))\n",
    "model.compile(optimizer='adam',\n",
    "              loss='binary_crossentropy',\n",
    "              metrics=['accuracy', f1])\n",
    "model.summary()"
   ]
  },
  {
   "cell_type": "markdown",
   "metadata": {},
   "source": [
    "## Training Batches and Epochs"
   ]
  },
  {
   "cell_type": "code",
   "execution_count": 9,
   "metadata": {},
   "outputs": [
    {
     "name": "stdout",
     "output_type": "stream",
     "text": [
      "Epoch 1/100\n",
      "600/600 [==============================] - 320s 534ms/step - loss: 1.9331 - acc: 0.4063 - f1: 0.4063 - val_loss: 1.1416 - val_acc: 0.3979 - val_f1: 0.3979\n",
      "Epoch 2/100\n",
      "600/600 [==============================] - 17s 28ms/step - loss: 1.6179 - acc: 0.4884 - f1: 0.4884 - val_loss: 1.3089 - val_acc: 0.3105 - val_f1: 0.3105\n",
      "Epoch 3/100\n",
      "600/600 [==============================] - 16s 27ms/step - loss: 1.5659 - acc: 0.5135 - f1: 0.5135 - val_loss: 1.3262 - val_acc: 0.3268 - val_f1: 0.3268\n",
      "Epoch 4/100\n",
      "600/600 [==============================] - 16s 27ms/step - loss: 1.5315 - acc: 0.5345 - f1: 0.5345 - val_loss: 1.3272 - val_acc: 0.3406 - val_f1: 0.3406\n",
      "Epoch 5/100\n",
      "600/600 [==============================] - 16s 27ms/step - loss: 1.5078 - acc: 0.5529 - f1: 0.5529 - val_loss: 1.2581 - val_acc: 0.3937 - val_f1: 0.3937\n",
      "Epoch 6/100\n",
      "600/600 [==============================] - 16s 27ms/step - loss: 1.4733 - acc: 0.5754 - f1: 0.5754 - val_loss: 1.3009 - val_acc: 0.3622 - val_f1: 0.3622\n",
      "Epoch 7/100\n",
      "600/600 [==============================] - 16s 27ms/step - loss: 1.4623 - acc: 0.5863 - f1: 0.5863 - val_loss: 1.2055 - val_acc: 0.4236 - val_f1: 0.4236\n",
      "Epoch 8/100\n",
      "600/600 [==============================] - 16s 27ms/step - loss: 1.4483 - acc: 0.5989 - f1: 0.5989 - val_loss: 1.3477 - val_acc: 0.4112 - val_f1: 0.4112\n",
      "Epoch 9/100\n",
      "600/600 [==============================] - 17s 28ms/step - loss: 1.4289 - acc: 0.6163 - f1: 0.6163 - val_loss: 1.2440 - val_acc: 0.4484 - val_f1: 0.4484\n",
      "Epoch 10/100\n",
      "600/600 [==============================] - 16s 27ms/step - loss: 1.4255 - acc: 0.6249 - f1: 0.6249 - val_loss: 1.3891 - val_acc: 0.4227 - val_f1: 0.4227\n",
      "Epoch 11/100\n",
      "600/600 [==============================] - 16s 27ms/step - loss: 1.4146 - acc: 0.6315 - f1: 0.6315 - val_loss: 1.3087 - val_acc: 0.4740 - val_f1: 0.4740\n",
      "Epoch 12/100\n",
      "600/600 [==============================] - 16s 27ms/step - loss: 1.4082 - acc: 0.6411 - f1: 0.6411 - val_loss: 1.2024 - val_acc: 0.4988 - val_f1: 0.4988\n",
      "Epoch 13/100\n",
      "600/600 [==============================] - 16s 27ms/step - loss: 1.4026 - acc: 0.6418 - f1: 0.6418 - val_loss: 1.2336 - val_acc: 0.4884 - val_f1: 0.4884\n",
      "Epoch 14/100\n",
      "600/600 [==============================] - 16s 27ms/step - loss: 1.3987 - acc: 0.6524 - f1: 0.6524 - val_loss: 1.0651 - val_acc: 0.5935 - val_f1: 0.5935\n",
      "Epoch 15/100\n",
      "600/600 [==============================] - 16s 27ms/step - loss: 1.4017 - acc: 0.6536 - f1: 0.6536 - val_loss: 1.1657 - val_acc: 0.5383 - val_f1: 0.5383\n",
      "Epoch 16/100\n",
      "600/600 [==============================] - 17s 28ms/step - loss: 1.3866 - acc: 0.6609 - f1: 0.6609 - val_loss: 1.1874 - val_acc: 0.5367 - val_f1: 0.5367\n",
      "Epoch 17/100\n",
      "600/600 [==============================] - 19s 31ms/step - loss: 1.3791 - acc: 0.6615 - f1: 0.6615 - val_loss: 1.2259 - val_acc: 0.5365 - val_f1: 0.5365\n",
      "Epoch 18/100\n",
      "600/600 [==============================] - 17s 29ms/step - loss: 1.3842 - acc: 0.6653 - f1: 0.6653 - val_loss: 1.0094 - val_acc: 0.6519 - val_f1: 0.6519\n",
      "Epoch 19/100\n",
      "600/600 [==============================] - 17s 29ms/step - loss: 1.3808 - acc: 0.6677 - f1: 0.6677 - val_loss: 1.1775 - val_acc: 0.5699 - val_f1: 0.5699\n",
      "Epoch 20/100\n",
      "600/600 [==============================] - 17s 29ms/step - loss: 1.3694 - acc: 0.6760 - f1: 0.6760 - val_loss: 1.1233 - val_acc: 0.5866 - val_f1: 0.5866\n",
      "Epoch 21/100\n",
      "600/600 [==============================] - 17s 29ms/step - loss: 1.3565 - acc: 0.6800 - f1: 0.6800 - val_loss: 1.0591 - val_acc: 0.6390 - val_f1: 0.6390\n",
      "Epoch 22/100\n",
      "600/600 [==============================] - 17s 29ms/step - loss: 1.3769 - acc: 0.6748 - f1: 0.6748 - val_loss: 1.2243 - val_acc: 0.5622 - val_f1: 0.5622\n",
      "Epoch 23/100\n",
      "600/600 [==============================] - 17s 29ms/step - loss: 1.3766 - acc: 0.6788 - f1: 0.6788 - val_loss: 1.2173 - val_acc: 0.5863 - val_f1: 0.5863\n",
      "Epoch 24/100\n",
      "600/600 [==============================] - 17s 28ms/step - loss: 1.3642 - acc: 0.6831 - f1: 0.6831 - val_loss: 1.4033 - val_acc: 0.4862 - val_f1: 0.4862\n",
      "Epoch 25/100\n",
      "600/600 [==============================] - 17s 28ms/step - loss: 1.3570 - acc: 0.6922 - f1: 0.6921 - val_loss: 1.1514 - val_acc: 0.6156 - val_f1: 0.6156\n",
      "Epoch 26/100\n",
      "600/600 [==============================] - 17s 29ms/step - loss: 1.3393 - acc: 0.6965 - f1: 0.6965 - val_loss: 1.2709 - val_acc: 0.5446 - val_f1: 0.5446\n",
      "Epoch 27/100\n",
      "600/600 [==============================] - 18s 30ms/step - loss: 1.3797 - acc: 0.6853 - f1: 0.6853 - val_loss: 1.2263 - val_acc: 0.5695 - val_f1: 0.5695\n",
      "Epoch 28/100\n",
      "600/600 [==============================] - 17s 28ms/step - loss: 1.3669 - acc: 0.6880 - f1: 0.6880 - val_loss: 1.2222 - val_acc: 0.5612 - val_f1: 0.5612\n",
      "Epoch 29/100\n",
      "600/600 [==============================] - 17s 28ms/step - loss: 1.3410 - acc: 0.6959 - f1: 0.6958 - val_loss: 1.1878 - val_acc: 0.5947 - val_f1: 0.5947\n",
      "Epoch 30/100\n",
      "600/600 [==============================] - 16s 27ms/step - loss: 1.3542 - acc: 0.6909 - f1: 0.6909 - val_loss: 1.2460 - val_acc: 0.5544 - val_f1: 0.5544\n",
      "Epoch 31/100\n",
      "600/600 [==============================] - 17s 28ms/step - loss: 1.3440 - acc: 0.6933 - f1: 0.6933 - val_loss: 1.2439 - val_acc: 0.5704 - val_f1: 0.5704\n",
      "Epoch 32/100\n",
      "600/600 [==============================] - 17s 28ms/step - loss: 1.3530 - acc: 0.6940 - f1: 0.6940 - val_loss: 1.2332 - val_acc: 0.5776 - val_f1: 0.5776\n",
      "Epoch 33/100\n",
      "600/600 [==============================] - 17s 28ms/step - loss: 1.3566 - acc: 0.6970 - f1: 0.6970 - val_loss: 1.1146 - val_acc: 0.6109 - val_f1: 0.6109\n",
      "Epoch 34/100\n",
      "600/600 [==============================] - 17s 28ms/step - loss: 1.3593 - acc: 0.6930 - f1: 0.6930 - val_loss: 1.1367 - val_acc: 0.6069 - val_f1: 0.6069\n",
      "Epoch 35/100\n",
      "600/600 [==============================] - 19s 31ms/step - loss: 1.3390 - acc: 0.7011 - f1: 0.7011 - val_loss: 1.1333 - val_acc: 0.6160 - val_f1: 0.6160\n",
      "Epoch 36/100\n",
      "600/600 [==============================] - 17s 28ms/step - loss: 1.3353 - acc: 0.7029 - f1: 0.7029 - val_loss: 1.1244 - val_acc: 0.6327 - val_f1: 0.6327\n",
      "Epoch 37/100\n",
      "600/600 [==============================] - 17s 29ms/step - loss: 1.3360 - acc: 0.7022 - f1: 0.7021 - val_loss: 1.1554 - val_acc: 0.6080 - val_f1: 0.6080\n",
      "Epoch 38/100\n",
      "600/600 [==============================] - 17s 29ms/step - loss: 1.3387 - acc: 0.7000 - f1: 0.7000 - val_loss: 1.2483 - val_acc: 0.5537 - val_f1: 0.5537\n",
      "Epoch 39/100\n",
      "600/600 [==============================] - 17s 28ms/step - loss: 1.3549 - acc: 0.6944 - f1: 0.6944 - val_loss: 1.3303 - val_acc: 0.5279 - val_f1: 0.5279\n",
      "Epoch 40/100\n",
      "600/600 [==============================] - 17s 28ms/step - loss: 1.3474 - acc: 0.7011 - f1: 0.7011 - val_loss: 1.2521 - val_acc: 0.5683 - val_f1: 0.5683\n",
      "Epoch 41/100\n",
      "600/600 [==============================] - 17s 28ms/step - loss: 1.3424 - acc: 0.7026 - f1: 0.7026 - val_loss: 1.0903 - val_acc: 0.6508 - val_f1: 0.6508\n",
      "Epoch 42/100\n",
      "600/600 [==============================] - 17s 29ms/step - loss: 1.3190 - acc: 0.7096 - f1: 0.7096 - val_loss: 1.3235 - val_acc: 0.5215 - val_f1: 0.5215\n",
      "Epoch 43/100\n",
      "600/600 [==============================] - 17s 28ms/step - loss: 1.3447 - acc: 0.7056 - f1: 0.7056 - val_loss: 1.3398 - val_acc: 0.5255 - val_f1: 0.5255\n",
      "Epoch 44/100\n",
      "600/600 [==============================] - 17s 28ms/step - loss: 1.3497 - acc: 0.7002 - f1: 0.7001 - val_loss: 1.2798 - val_acc: 0.5634 - val_f1: 0.5634\n",
      "Epoch 45/100\n",
      "600/600 [==============================] - 17s 29ms/step - loss: 1.3595 - acc: 0.6993 - f1: 0.6993 - val_loss: 1.1465 - val_acc: 0.6174 - val_f1: 0.6174\n",
      "Epoch 46/100\n",
      "600/600 [==============================] - 17s 28ms/step - loss: 1.3311 - acc: 0.7075 - f1: 0.7075 - val_loss: 1.1169 - val_acc: 0.6295 - val_f1: 0.6295\n",
      "Epoch 47/100\n",
      "600/600 [==============================] - 17s 28ms/step - loss: 1.3353 - acc: 0.7102 - f1: 0.7102 - val_loss: 1.0418 - val_acc: 0.6771 - val_f1: 0.6771\n",
      "Epoch 48/100\n",
      "600/600 [==============================] - 17s 28ms/step - loss: 1.3342 - acc: 0.7057 - f1: 0.7057 - val_loss: 1.1405 - val_acc: 0.6326 - val_f1: 0.6326\n",
      "Epoch 49/100\n",
      "600/600 [==============================] - 17s 28ms/step - loss: 1.3443 - acc: 0.7034 - f1: 0.7034 - val_loss: 1.3251 - val_acc: 0.5323 - val_f1: 0.5323\n",
      "Epoch 50/100\n"
     ]
    },
    {
     "name": "stdout",
     "output_type": "stream",
     "text": [
      "600/600 [==============================] - 17s 28ms/step - loss: 1.3328 - acc: 0.7080 - f1: 0.7080 - val_loss: 1.2559 - val_acc: 0.5633 - val_f1: 0.5633\n",
      "Epoch 51/100\n",
      "600/600 [==============================] - 17s 28ms/step - loss: 1.3304 - acc: 0.7123 - f1: 0.7123 - val_loss: 1.3799 - val_acc: 0.5134 - val_f1: 0.5134\n",
      "Epoch 52/100\n",
      "600/600 [==============================] - 17s 28ms/step - loss: 1.3121 - acc: 0.7174 - f1: 0.7174 - val_loss: 1.4238 - val_acc: 0.5036 - val_f1: 0.5036\n",
      "Epoch 53/100\n",
      "600/600 [==============================] - 18s 29ms/step - loss: 1.3688 - acc: 0.6974 - f1: 0.6973 - val_loss: 1.2885 - val_acc: 0.5677 - val_f1: 0.5677\n",
      "Epoch 54/100\n",
      "600/600 [==============================] - 18s 29ms/step - loss: 1.3417 - acc: 0.7080 - f1: 0.7080 - val_loss: 1.2839 - val_acc: 0.5559 - val_f1: 0.5559\n",
      "Epoch 55/100\n",
      "600/600 [==============================] - 17s 28ms/step - loss: 1.3385 - acc: 0.7110 - f1: 0.7110 - val_loss: 1.1408 - val_acc: 0.6307 - val_f1: 0.6307\n",
      "Epoch 56/100\n",
      "600/600 [==============================] - 17s 28ms/step - loss: 1.3349 - acc: 0.7116 - f1: 0.7116 - val_loss: 1.1056 - val_acc: 0.6521 - val_f1: 0.6521\n",
      "Epoch 57/100\n",
      "600/600 [==============================] - 17s 28ms/step - loss: 1.3154 - acc: 0.7222 - f1: 0.7222 - val_loss: 1.3306 - val_acc: 0.5567 - val_f1: 0.5567\n",
      "Epoch 58/100\n",
      "600/600 [==============================] - 17s 28ms/step - loss: 1.3142 - acc: 0.7200 - f1: 0.7200 - val_loss: 1.1527 - val_acc: 0.6499 - val_f1: 0.6499\n",
      "Epoch 59/100\n",
      "600/600 [==============================] - 17s 28ms/step - loss: 1.3314 - acc: 0.7142 - f1: 0.7141 - val_loss: 1.0307 - val_acc: 0.6986 - val_f1: 0.6986\n",
      "Epoch 60/100\n",
      "600/600 [==============================] - 17s 28ms/step - loss: 1.3175 - acc: 0.7193 - f1: 0.7193 - val_loss: 1.2835 - val_acc: 0.5548 - val_f1: 0.5548\n",
      "Epoch 61/100\n",
      "600/600 [==============================] - 17s 28ms/step - loss: 1.3260 - acc: 0.7161 - f1: 0.7161 - val_loss: 1.2250 - val_acc: 0.5790 - val_f1: 0.5790\n",
      "Epoch 62/100\n",
      "600/600 [==============================] - 17s 28ms/step - loss: 1.3482 - acc: 0.7084 - f1: 0.7084 - val_loss: 1.2711 - val_acc: 0.5787 - val_f1: 0.5787\n",
      "Epoch 63/100\n",
      "600/600 [==============================] - 17s 29ms/step - loss: 1.3075 - acc: 0.7206 - f1: 0.7206 - val_loss: 1.2463 - val_acc: 0.5959 - val_f1: 0.5959\n",
      "Epoch 64/100\n",
      "600/600 [==============================] - 17s 28ms/step - loss: 1.3306 - acc: 0.7134 - f1: 0.7134 - val_loss: 1.3674 - val_acc: 0.5308 - val_f1: 0.5308\n",
      "Epoch 65/100\n",
      "600/600 [==============================] - 17s 28ms/step - loss: 1.3294 - acc: 0.7154 - f1: 0.7154 - val_loss: 1.1711 - val_acc: 0.6353 - val_f1: 0.6353\n",
      "Epoch 66/100\n",
      "600/600 [==============================] - 17s 28ms/step - loss: 1.3509 - acc: 0.7069 - f1: 0.7068 - val_loss: 1.1518 - val_acc: 0.6435 - val_f1: 0.6435\n",
      "Epoch 67/100\n",
      "600/600 [==============================] - 17s 28ms/step - loss: 1.3454 - acc: 0.7109 - f1: 0.7109 - val_loss: 1.2588 - val_acc: 0.5828 - val_f1: 0.5828\n",
      "Epoch 68/100\n",
      "600/600 [==============================] - 17s 28ms/step - loss: 1.3377 - acc: 0.7135 - f1: 0.7134 - val_loss: 1.1374 - val_acc: 0.6466 - val_f1: 0.6466\n",
      "Epoch 69/100\n",
      "600/600 [==============================] - 17s 28ms/step - loss: 1.3425 - acc: 0.7108 - f1: 0.7108 - val_loss: 1.1368 - val_acc: 0.6479 - val_f1: 0.6479\n",
      "Epoch 70/100\n",
      "600/600 [==============================] - 17s 28ms/step - loss: 1.3334 - acc: 0.7182 - f1: 0.7182 - val_loss: 1.3016 - val_acc: 0.5522 - val_f1: 0.5522\n",
      "Epoch 71/100\n",
      "600/600 [==============================] - 17s 28ms/step - loss: 1.3148 - acc: 0.7207 - f1: 0.7207 - val_loss: 1.2752 - val_acc: 0.5691 - val_f1: 0.5691\n",
      "Epoch 72/100\n",
      "600/600 [==============================] - 18s 31ms/step - loss: 1.3181 - acc: 0.7203 - f1: 0.7203 - val_loss: 1.2157 - val_acc: 0.6208 - val_f1: 0.6208\n",
      "Epoch 73/100\n",
      "600/600 [==============================] - 17s 28ms/step - loss: 1.3263 - acc: 0.7202 - f1: 0.7201 - val_loss: 1.4106 - val_acc: 0.5071 - val_f1: 0.5071\n",
      "Epoch 74/100\n",
      "600/600 [==============================] - 17s 28ms/step - loss: 1.3368 - acc: 0.7170 - f1: 0.7170 - val_loss: 1.3934 - val_acc: 0.5261 - val_f1: 0.5261\n",
      "Epoch 75/100\n",
      "600/600 [==============================] - 17s 28ms/step - loss: 1.3352 - acc: 0.7155 - f1: 0.7155 - val_loss: 1.2664 - val_acc: 0.5754 - val_f1: 0.5754\n",
      "Epoch 76/100\n",
      "600/600 [==============================] - 16s 27ms/step - loss: 1.3341 - acc: 0.7177 - f1: 0.7177 - val_loss: 1.2123 - val_acc: 0.6127 - val_f1: 0.6127\n",
      "Epoch 77/100\n",
      "600/600 [==============================] - 17s 28ms/step - loss: 1.3168 - acc: 0.7228 - f1: 0.7228 - val_loss: 1.1361 - val_acc: 0.6552 - val_f1: 0.6552\n",
      "Epoch 78/100\n",
      "600/600 [==============================] - 17s 28ms/step - loss: 1.3385 - acc: 0.7131 - f1: 0.7131 - val_loss: 1.2945 - val_acc: 0.5707 - val_f1: 0.5707\n",
      "Epoch 79/100\n",
      "600/600 [==============================] - 17s 28ms/step - loss: 1.3269 - acc: 0.7204 - f1: 0.7204 - val_loss: 1.1326 - val_acc: 0.6606 - val_f1: 0.6606\n",
      "Epoch 80/100\n",
      "600/600 [==============================] - 17s 28ms/step - loss: 1.3147 - acc: 0.7239 - f1: 0.7239 - val_loss: 1.1392 - val_acc: 0.6342 - val_f1: 0.6342\n",
      "Epoch 81/100\n",
      "600/600 [==============================] - 18s 29ms/step - loss: 1.3202 - acc: 0.7245 - f1: 0.7245 - val_loss: 1.1925 - val_acc: 0.5951 - val_f1: 0.5951\n",
      "Epoch 82/100\n",
      "600/600 [==============================] - 17s 28ms/step - loss: 1.3510 - acc: 0.7111 - f1: 0.7111 - val_loss: 1.1739 - val_acc: 0.6431 - val_f1: 0.6431\n",
      "Epoch 83/100\n",
      "600/600 [==============================] - 17s 28ms/step - loss: 1.3069 - acc: 0.7244 - f1: 0.7244 - val_loss: 1.1078 - val_acc: 0.6825 - val_f1: 0.6825\n",
      "Epoch 84/100\n",
      "600/600 [==============================] - 17s 29ms/step - loss: 1.3017 - acc: 0.7297 - f1: 0.7297 - val_loss: 1.3734 - val_acc: 0.5360 - val_f1: 0.5360\n",
      "Epoch 85/100\n",
      "600/600 [==============================] - 17s 29ms/step - loss: 1.3180 - acc: 0.7217 - f1: 0.7217 - val_loss: 1.3951 - val_acc: 0.5516 - val_f1: 0.5516\n",
      "Epoch 86/100\n",
      "600/600 [==============================] - 17s 28ms/step - loss: 1.3246 - acc: 0.7252 - f1: 0.7252 - val_loss: 1.1720 - val_acc: 0.6356 - val_f1: 0.6356\n",
      "Epoch 87/100\n",
      "600/600 [==============================] - 17s 28ms/step - loss: 1.3072 - acc: 0.7260 - f1: 0.7260 - val_loss: 1.2786 - val_acc: 0.6069 - val_f1: 0.6069\n",
      "Epoch 88/100\n",
      "600/600 [==============================] - 17s 28ms/step - loss: 1.3302 - acc: 0.7203 - f1: 0.7203 - val_loss: 1.3096 - val_acc: 0.5552 - val_f1: 0.5552\n",
      "Epoch 89/100\n",
      "600/600 [==============================] - 17s 28ms/step - loss: 1.3072 - acc: 0.7254 - f1: 0.7253 - val_loss: 1.3022 - val_acc: 0.5650 - val_f1: 0.5650\n",
      "Epoch 90/100\n",
      "600/600 [==============================] - 18s 30ms/step - loss: 1.3266 - acc: 0.7216 - f1: 0.7216 - val_loss: 1.1094 - val_acc: 0.6781 - val_f1: 0.6781\n",
      "Epoch 91/100\n",
      "600/600 [==============================] - 17s 28ms/step - loss: 1.3284 - acc: 0.7206 - f1: 0.7206 - val_loss: 1.2810 - val_acc: 0.5891 - val_f1: 0.5891\n",
      "Epoch 92/100\n",
      "600/600 [==============================] - 17s 28ms/step - loss: 1.3209 - acc: 0.7250 - f1: 0.7250 - val_loss: 1.3747 - val_acc: 0.5555 - val_f1: 0.5555\n",
      "Epoch 93/100\n",
      "600/600 [==============================] - 17s 28ms/step - loss: 1.3237 - acc: 0.7260 - f1: 0.7259 - val_loss: 1.1206 - val_acc: 0.6588 - val_f1: 0.6588\n",
      "Epoch 94/100\n",
      "600/600 [==============================] - 17s 28ms/step - loss: 1.3210 - acc: 0.7229 - f1: 0.7229 - val_loss: 1.1285 - val_acc: 0.6684 - val_f1: 0.6684\n",
      "Epoch 95/100\n",
      "600/600 [==============================] - 17s 28ms/step - loss: 1.3253 - acc: 0.7189 - f1: 0.7189 - val_loss: 1.3400 - val_acc: 0.5583 - val_f1: 0.5583\n",
      "Epoch 96/100\n",
      "600/600 [==============================] - 17s 28ms/step - loss: 1.3337 - acc: 0.7196 - f1: 0.7195 - val_loss: 1.2086 - val_acc: 0.6275 - val_f1: 0.6275\n",
      "Epoch 97/100\n",
      "600/600 [==============================] - 17s 28ms/step - loss: 1.3197 - acc: 0.7292 - f1: 0.7292 - val_loss: 1.3025 - val_acc: 0.5692 - val_f1: 0.5692\n",
      "Epoch 98/100\n",
      "600/600 [==============================] - 17s 28ms/step - loss: 1.3196 - acc: 0.7251 - f1: 0.7251 - val_loss: 1.3787 - val_acc: 0.5318 - val_f1: 0.5318\n",
      "Epoch 99/100\n"
     ]
    },
    {
     "name": "stdout",
     "output_type": "stream",
     "text": [
      "600/600 [==============================] - 17s 29ms/step - loss: 1.3405 - acc: 0.7165 - f1: 0.7165 - val_loss: 1.0404 - val_acc: 0.6948 - val_f1: 0.6948\n",
      "Epoch 100/100\n",
      "600/600 [==============================] - 17s 28ms/step - loss: 1.3110 - acc: 0.7263 - f1: 0.7263 - val_loss: 1.1701 - val_acc: 0.6313 - val_f1: 0.6313\n"
     ]
    },
    {
     "data": {
      "text/plain": [
       "<keras.callbacks.History at 0x7fef12e8b8d0>"
      ]
     },
     "execution_count": 9,
     "metadata": {},
     "output_type": "execute_result"
    }
   ],
   "source": [
    "training_batches = MagnitudeUtils.batchify(x_train, y_train, BATCH_SIZE) # Split the training data into batches\n",
    "num_batches_per_epoch_train = int(np.ceil(num_training/float(BATCH_SIZE)))\n",
    "test_batches = MagnitudeUtils.batchify(x_test, y_test, BATCH_SIZE)  # Split the test data into batches\n",
    "num_batches_per_epoch_test = int(np.ceil(num_test/float(BATCH_SIZE)))\n",
    "\n",
    "\n",
    "# Generates batches of the transformed training data\n",
    "train_batch_generator = (\n",
    "  (\n",
    "    med_vectors.query(x_train_batch), # Magnitude will handle converting the 2D array of text into the 3D word vector representations!\n",
    "    MagnitudeUtils.to_categorical(y_train_batch, num_outputs) # Magnitude will handle converting the class labels into one-hot encodings!\n",
    "  ) for x_train_batch, y_train_batch in training_batches\n",
    ")\n",
    "\n",
    "# Generates batches of the transformed test data\n",
    "test_batch_generator = (\n",
    "  (\n",
    "    med_vectors.query(x_test_batch), # Magnitude will handle converting the 2D array of text into the 3D word vector representations!\n",
    "    MagnitudeUtils.to_categorical(y_test_batch, num_outputs) # Magnitude will handle converting the class labels into one-hot encodings!\n",
    "  ) for x_test_batch, y_test_batch in test_batches\n",
    ")\n",
    "\n",
    "# Class weights\n",
    "class_weight = {\n",
    "    intent_to_int('Cardiovascular'): 20.\n",
    "    ,intent_to_int('Other'): 1.\n",
    "}\n",
    "\n",
    "# Start training\n",
    "model.fit_generator(\n",
    "    generator = train_batch_generator,\n",
    "    steps_per_epoch = num_batches_per_epoch_train,\n",
    "    validation_data = test_batch_generator,\n",
    "    validation_steps = num_batches_per_epoch_test,\n",
    "    epochs = EPOCHS,\n",
    "    class_weight=class_weight\n",
    ")"
   ]
  },
  {
   "cell_type": "markdown",
   "metadata": {},
   "source": [
    "## Results"
   ]
  },
  {
   "cell_type": "code",
   "execution_count": 10,
   "metadata": {},
   "outputs": [
    {
     "name": "stdout",
     "output_type": "stream",
     "text": [
      "Results after training for 100 epochs:\n",
      "loss: 1.0712 - categorical_accuracy: 0.6741 - f1: 0.6741\n",
      "val_loss: 1.1701 - val_categorical_accuracy: 0.6313 - f1: 0.6313\n"
     ]
    }
   ],
   "source": [
    "print(\"Results after training for %d epochs:\" % (EPOCHS,))\n",
    "\n",
    "train_metrics = model.evaluate_generator(\n",
    "    generator = train_batch_generator,\n",
    "    steps = num_batches_per_epoch_train,\n",
    ")\n",
    "\n",
    "print(\"loss: %.4f - categorical_accuracy: %.4f - f1: %.4f\" % tuple(train_metrics))\n",
    "\n",
    "val_metrics = model.evaluate_generator(\n",
    "    generator = test_batch_generator,\n",
    "    steps = num_batches_per_epoch_test,\n",
    ")\n",
    "\n",
    "print(\"val_loss: %.4f - val_categorical_accuracy: %.4f - f1: %.4f\" % tuple(val_metrics))"
   ]
  },
  {
   "cell_type": "markdown",
   "metadata": {},
   "source": [
    "## Conclusion"
   ]
  },
  {
   "cell_type": "code",
   "execution_count": 14,
   "metadata": {},
   "outputs": [
    {
     "data": {
      "image/png": "[encoded data removed]",
      "text/plain": [
       "<Figure size 432x288 with 1 Axes>"
      ]
     },
     "metadata": {},
     "output_type": "display_data"
    },
    {
     "data": {
      "image/png": "[encoded data removed]",
      "text/plain": [
       "<Figure size 432x288 with 1 Axes>"
      ]
     },
     "metadata": {},
     "output_type": "display_data"
    }
   ],
   "source": [
    "import matplotlib.pyplot as plt\n",
    "\n",
    "# Plot training & validation accuracy values\n",
    "plt.plot(model.history.history['acc'])\n",
    "plt.plot(model.history.history['val_acc'])\n",
    "plt.title('Model accuracy')\n",
    "plt.ylabel('Accuracy')\n",
    "plt.xlabel('Epoch')\n",
    "plt.legend(['Train', 'Test'], loc='upper left')\n",
    "plt.show()\n",
    "\n",
    "# Plot training & validation loss values\n",
    "plt.plot(model.history.history['loss'])\n",
    "plt.plot(model.history.history['val_loss'])\n",
    "plt.title('Model loss')\n",
    "plt.ylabel('Loss')\n",
    "plt.xlabel('Epoch')\n",
    "plt.legend(['Train', 'Test'], loc='upper left')\n",
    "plt.show()"
   ]
  },
  {
   "cell_type": "code",
   "execution_count": 12,
   "metadata": {},
   "outputs": [
    {
     "name": "stdout",
     "output_type": "stream",
     "text": [
      "['Cardiovascular', 'Other']\n",
      "[[1503  174]\n",
      " [3860 5403]]\n",
      "                precision    recall  f1-score   support\n",
      "\n",
      "Cardiovascular       0.28      0.90      0.43      1677\n",
      "         Other       0.97      0.58      0.73      9263\n",
      "\n",
      "   avg / total       0.86      0.63      0.68     10940\n",
      "\n"
     ]
    }
   ],
   "source": [
    "from sklearn.metrics import confusion_matrix, classification_report\n",
    "\n",
    "y_pred = np.argmax(model.predict(med_vectors.query(x_test)), axis=1)\n",
    "class_labels = [int_to_intent(y) for y in set(y_test)] \n",
    "report = classification_report(y_test, y_pred, target_names=class_labels)\n",
    "print(class_labels)\n",
    "print(confusion_matrix(y_test, y_pred))\n",
    "print(report)"
   ]
  },
  {
   "cell_type": "code",
   "execution_count": 13,
   "metadata": {},
   "outputs": [
    {
     "data": {
      "text/plain": [
       "<matplotlib.axes._subplots.AxesSubplot at 0x7fee055f3ac8>"
      ]
     },
     "execution_count": 13,
     "metadata": {},
     "output_type": "execute_result"
    },
    {
     "data": {
      "image/png": "[encoded data removed]",
      "text/plain": [
       "<Figure size 432x288 with 2 Axes>"
      ]
     },
     "metadata": {},
     "output_type": "display_data"
    }
   ],
   "source": [
    "from sklearn.utils.multiclass import unique_labels\n",
    "\n",
    "def plot_confusion_matrix(y_true, y_pred, classes,\n",
    "                          title=None,\n",
    "                          cmap=plt.cm.Blues):\n",
    "    \"\"\"\n",
    "    This function prints and plots the confusion matrix.\n",
    "    Normalization can be applied by setting `normalize=True`.\n",
    "    \"\"\"\n",
    "    if not title:\n",
    "        if normalize:\n",
    "            title = 'Normalized confusion matrix'\n",
    "        else:\n",
    "            title = 'Confusion matrix, without normalization'\n",
    "\n",
    "    # Compute confusion matrix\n",
    "    cm = confusion_matrix(y_true, y_pred)\n",
    "    # Only use the labels that appear in the data\n",
    "    classes = [int_to_intent(y_class) for y_class in unique_labels(y_test, y_pred)]\n",
    "\n",
    "    fig, ax = plt.subplots()\n",
    "#     fig.set_figheight(15)\n",
    "#     fig.set_figwidth(15)\n",
    "    im = ax.imshow(cm, interpolation='nearest', cmap=cmap)\n",
    "    ax.figure.colorbar(im, ax=ax)\n",
    "    # We want to show all ticks...\n",
    "    ax.set(xticks=np.arange(cm.shape[1]),\n",
    "           yticks=np.arange(cm.shape[0]),\n",
    "           # ... and label them with the respective list entries\n",
    "           xticklabels=classes, yticklabels=classes,\n",
    "           title=title,\n",
    "           ylabel='True label',\n",
    "           xlabel='Predicted label')\n",
    "\n",
    "    # Rotate the tick labels and set their alignment.\n",
    "    plt.setp(ax.get_xticklabels(), rotation=45, ha=\"right\",\n",
    "             rotation_mode=\"anchor\")\n",
    "\n",
    "    # Loop over data dimensions and create text annotations.\n",
    "    fmt = 'd'\n",
    "    thresh = cm.max() / 2.\n",
    "    for i in range(cm.shape[0]):\n",
    "        for j in range(cm.shape[1]):\n",
    "            ax.text(j, i, format(cm[i, j], fmt),\n",
    "                    ha=\"center\", va=\"center\",\n",
    "                    color=\"white\" if cm[i, j] > thresh else \"black\")\n",
    "    fig.tight_layout()\n",
    "    return ax\n",
    "\n",
    "\n",
    "np.set_printoptions(precision=2)\n",
    "\n",
    "plot_confusion_matrix(y_test, y_pred, classes=class_labels\n",
    "                      , title='Confusion Matrix for Cardiovascular Disease CNN Classifier')"
   ]
  },
  {
   "cell_type": "code",
   "execution_count": 15,
   "metadata": {},
   "outputs": [
    {
     "name": "stdout",
     "output_type": "stream",
     "text": [
      "_________________________________________________________________\n",
      "Layer (type)                 Output Shape              Param #   \n",
      "=================================================================\n",
      "gaussian_noise_2 (GaussianNo (None, 30, 200)           0         \n",
      "_________________________________________________________________\n",
      "conv1d_3 (Conv1D)            (None, 30, 128)           179328    \n",
      "_________________________________________________________________\n",
      "max_pooling1d_2 (MaxPooling1 (None, 15, 128)           0         \n",
      "_________________________________________________________________\n",
      "conv1d_4 (Conv1D)            (None, 15, 128)           114816    \n",
      "_________________________________________________________________\n",
      "global_max_pooling1d_2 (Glob (None, 128)               0         \n",
      "_________________________________________________________________\n",
      "dropout_2 (Dropout)          (None, 128)               0         \n",
      "_________________________________________________________________\n",
      "dense_3 (Dense)              (None, 64)                8256      \n",
      "_________________________________________________________________\n",
      "dense_4 (Dense)              (None, 2)                 130       \n",
      "=================================================================\n",
      "Total params: 302,530\n",
      "Trainable params: 302,530\n",
      "Non-trainable params: 0\n",
      "_________________________________________________________________\n"
     ]
    }
   ],
   "source": [
    "MAX_WORDS = 30 # The maximum number of words the sequence model will consider\n",
    "STD_DEV = 0.01 # Deviation of noise for Gaussian Noise applied to the embeddings\n",
    "DROPOUT_RATIO = .5 # The ratio to dropout\n",
    "BATCH_SIZE = 100 # The number of examples per train/validation step\n",
    "EPOCHS = 100 # The number of times to repeat through all of the training data\n",
    "LEARNING_RATE = .01 # The learning rate for the optimizer\n",
    "NUM_FILTERS = 128\n",
    "\n",
    "model = Sequential()\n",
    "model.add(GaussianNoise(STD_DEV, input_shape=(MAX_WORDS, med_vectors.dim)))\n",
    "model.add(Conv1D(NUM_FILTERS, 7, activation='relu', padding='same', kernel_regularizer=l2(0.0001)))\n",
    "model.add(MaxPool1D(2))\n",
    "model.add(Conv1D(NUM_FILTERS, 7, activation='relu', padding='same', kernel_regularizer=l2(0.0001)))\n",
    "model.add(GlobalMaxPool1D())\n",
    "model.add(Dropout(DROPOUT_RATIO))\n",
    "model.add(Dense(64, activation='relu'))\n",
    "model.add(Dense(num_outputs, activation='softmax'))\n",
    "model.compile(optimizer='adam',\n",
    "              loss='binary_crossentropy',\n",
    "              metrics=['accuracy', f1])\n",
    "model.summary()"
   ]
  },
  {
   "cell_type": "code",
   "execution_count": 16,
   "metadata": {},
   "outputs": [
    {
     "name": "stdout",
     "output_type": "stream",
     "text": [
      "Epoch 1/100\n",
      "600/600 [==============================] - 24s 41ms/step - loss: 1.5779 - acc: 0.4417 - f1: 0.4417 - val_loss: 1.1462 - val_acc: 0.3623 - val_f1: 0.3623\n",
      "Epoch 2/100\n",
      "600/600 [==============================] - 24s 40ms/step - loss: 1.3680 - acc: 0.5751 - f1: 0.5751 - val_loss: 1.1070 - val_acc: 0.4455 - val_f1: 0.4455\n",
      "Epoch 3/100\n",
      "600/600 [==============================] - 25s 41ms/step - loss: 1.1831 - acc: 0.6677 - f1: 0.6676 - val_loss: 1.0274 - val_acc: 0.5319 - val_f1: 0.5319\n",
      "Epoch 4/100\n",
      "600/600 [==============================] - 24s 39ms/step - loss: 1.0404 - acc: 0.7350 - f1: 0.7350 - val_loss: 0.8809 - val_acc: 0.6245 - val_f1: 0.6245\n",
      "Epoch 5/100\n",
      "600/600 [==============================] - 24s 40ms/step - loss: 0.9451 - acc: 0.7732 - f1: 0.7732 - val_loss: 0.6485 - val_acc: 0.7756 - val_f1: 0.7756\n",
      "Epoch 6/100\n",
      "600/600 [==============================] - 24s 39ms/step - loss: 0.8701 - acc: 0.8018 - f1: 0.8018 - val_loss: 0.6875 - val_acc: 0.7756 - val_f1: 0.7756\n",
      "Epoch 7/100\n",
      "600/600 [==============================] - 23s 39ms/step - loss: 0.8131 - acc: 0.8257 - f1: 0.8257 - val_loss: 0.9252 - val_acc: 0.7037 - val_f1: 0.7037\n",
      "Epoch 8/100\n",
      "600/600 [==============================] - 23s 38ms/step - loss: 0.7648 - acc: 0.8433 - f1: 0.8433 - val_loss: 0.7720 - val_acc: 0.7654 - val_f1: 0.7654\n",
      "Epoch 9/100\n",
      "600/600 [==============================] - 24s 40ms/step - loss: 0.7608 - acc: 0.8471 - f1: 0.8471 - val_loss: 0.7218 - val_acc: 0.7952 - val_f1: 0.7952\n",
      "Epoch 10/100\n",
      "600/600 [==============================] - 24s 39ms/step - loss: 0.7314 - acc: 0.8599 - f1: 0.8599 - val_loss: 0.7656 - val_acc: 0.7942 - val_f1: 0.7942\n",
      "Epoch 11/100\n",
      "600/600 [==============================] - 24s 40ms/step - loss: 0.7181 - acc: 0.8655 - f1: 0.8655 - val_loss: 0.7948 - val_acc: 0.7974 - val_f1: 0.7974\n",
      "Epoch 12/100\n",
      "600/600 [==============================] - 24s 40ms/step - loss: 0.6989 - acc: 0.8716 - f1: 0.8716 - val_loss: 0.7928 - val_acc: 0.8062 - val_f1: 0.8062\n",
      "Epoch 13/100\n",
      "600/600 [==============================] - 24s 39ms/step - loss: 0.7081 - acc: 0.8730 - f1: 0.8730 - val_loss: 0.8094 - val_acc: 0.7963 - val_f1: 0.7963\n",
      "Epoch 14/100\n",
      "600/600 [==============================] - 24s 39ms/step - loss: 0.6944 - acc: 0.8791 - f1: 0.8791 - val_loss: 0.8000 - val_acc: 0.8059 - val_f1: 0.8059\n",
      "Epoch 15/100\n",
      "600/600 [==============================] - 23s 39ms/step - loss: 0.6908 - acc: 0.8853 - f1: 0.8853 - val_loss: 0.8439 - val_acc: 0.7937 - val_f1: 0.7937\n",
      "Epoch 16/100\n",
      "600/600 [==============================] - 25s 41ms/step - loss: 0.7066 - acc: 0.8813 - f1: 0.8812 - val_loss: 0.8495 - val_acc: 0.7863 - val_f1: 0.7863\n",
      "Epoch 17/100\n",
      "600/600 [==============================] - 23s 39ms/step - loss: 0.6961 - acc: 0.8847 - f1: 0.8847 - val_loss: 0.9015 - val_acc: 0.7803 - val_f1: 0.7803\n",
      "Epoch 18/100\n",
      "600/600 [==============================] - 23s 39ms/step - loss: 0.7101 - acc: 0.8833 - f1: 0.8833 - val_loss: 0.8372 - val_acc: 0.8099 - val_f1: 0.8099\n",
      "Epoch 19/100\n",
      "600/600 [==============================] - 23s 39ms/step - loss: 0.6912 - acc: 0.8919 - f1: 0.8919 - val_loss: 0.8341 - val_acc: 0.8165 - val_f1: 0.8165\n",
      "Epoch 20/100\n",
      "600/600 [==============================] - 23s 38ms/step - loss: 0.6747 - acc: 0.8956 - f1: 0.8956 - val_loss: 0.8237 - val_acc: 0.8239 - val_f1: 0.8239\n",
      "Epoch 21/100\n",
      "600/600 [==============================] - 23s 39ms/step - loss: 0.6993 - acc: 0.8897 - f1: 0.8897 - val_loss: 0.9738 - val_acc: 0.7644 - val_f1: 0.7644\n",
      "Epoch 22/100\n",
      "600/600 [==============================] - 24s 40ms/step - loss: 0.6630 - acc: 0.8990 - f1: 0.8989 - val_loss: 0.8724 - val_acc: 0.8167 - val_f1: 0.8167\n",
      "Epoch 23/100\n",
      "600/600 [==============================] - 24s 39ms/step - loss: 0.6762 - acc: 0.8986 - f1: 0.8986 - val_loss: 0.8618 - val_acc: 0.8261 - val_f1: 0.8261\n",
      "Epoch 24/100\n",
      "600/600 [==============================] - 24s 39ms/step - loss: 0.6880 - acc: 0.8959 - f1: 0.8959 - val_loss: 0.8494 - val_acc: 0.8182 - val_f1: 0.8182\n",
      "Epoch 25/100\n",
      "600/600 [==============================] - 24s 39ms/step - loss: 0.6915 - acc: 0.8953 - f1: 0.8953 - val_loss: 0.9236 - val_acc: 0.8011 - val_f1: 0.8011\n",
      "Epoch 26/100\n",
      "600/600 [==============================] - 24s 39ms/step - loss: 0.6677 - acc: 0.9049 - f1: 0.9049 - val_loss: 0.8724 - val_acc: 0.8332 - val_f1: 0.8332\n",
      "Epoch 27/100\n",
      "600/600 [==============================] - 24s 39ms/step - loss: 0.6736 - acc: 0.9010 - f1: 0.9010 - val_loss: 0.9213 - val_acc: 0.8132 - val_f1: 0.8132\n",
      "Epoch 28/100\n",
      "600/600 [==============================] - 24s 39ms/step - loss: 0.6809 - acc: 0.8999 - f1: 0.8999 - val_loss: 0.8533 - val_acc: 0.8347 - val_f1: 0.8347\n",
      "Epoch 29/100\n",
      "600/600 [==============================] - 25s 41ms/step - loss: 0.6764 - acc: 0.9041 - f1: 0.9041 - val_loss: 0.8719 - val_acc: 0.8289 - val_f1: 0.8289\n",
      "Epoch 30/100\n",
      "600/600 [==============================] - 24s 40ms/step - loss: 0.7001 - acc: 0.8998 - f1: 0.8998 - val_loss: 0.9187 - val_acc: 0.8041 - val_f1: 0.8041\n",
      "Epoch 31/100\n",
      "600/600 [==============================] - 24s 40ms/step - loss: 0.6788 - acc: 0.9059 - f1: 0.9059 - val_loss: 0.9730 - val_acc: 0.7932 - val_f1: 0.7932\n",
      "Epoch 32/100\n",
      "600/600 [==============================] - 23s 39ms/step - loss: 0.6816 - acc: 0.9060 - f1: 0.9060 - val_loss: 0.8922 - val_acc: 0.8212 - val_f1: 0.8212\n",
      "Epoch 33/100\n",
      "600/600 [==============================] - 23s 39ms/step - loss: 0.6784 - acc: 0.9076 - f1: 0.9076 - val_loss: 0.8660 - val_acc: 0.8306 - val_f1: 0.8306\n",
      "Epoch 34/100\n",
      "600/600 [==============================] - 24s 39ms/step - loss: 0.6723 - acc: 0.9088 - f1: 0.9088 - val_loss: 0.8954 - val_acc: 0.8245 - val_f1: 0.8245\n",
      "Epoch 35/100\n",
      "600/600 [==============================] - 24s 40ms/step - loss: 0.6812 - acc: 0.9088 - f1: 0.9087 - val_loss: 0.9303 - val_acc: 0.8076 - val_f1: 0.8076\n",
      "Epoch 36/100\n",
      "600/600 [==============================] - 24s 39ms/step - loss: 0.6628 - acc: 0.9121 - f1: 0.9121 - val_loss: 0.8927 - val_acc: 0.8282 - val_f1: 0.8282\n",
      "Epoch 37/100\n",
      "600/600 [==============================] - 24s 39ms/step - loss: 0.6863 - acc: 0.9091 - f1: 0.9091 - val_loss: 0.8719 - val_acc: 0.8301 - val_f1: 0.8301\n",
      "Epoch 38/100\n",
      "600/600 [==============================] - 23s 39ms/step - loss: 0.6898 - acc: 0.9081 - f1: 0.9081 - val_loss: 0.9474 - val_acc: 0.7870 - val_f1: 0.7870\n",
      "Epoch 39/100\n",
      "600/600 [==============================] - 24s 39ms/step - loss: 0.6686 - acc: 0.9128 - f1: 0.9128 - val_loss: 0.9103 - val_acc: 0.8185 - val_f1: 0.8185\n",
      "Epoch 40/100\n",
      "600/600 [==============================] - 24s 39ms/step - loss: 0.6845 - acc: 0.9082 - f1: 0.9082 - val_loss: 0.8970 - val_acc: 0.8259 - val_f1: 0.8259\n",
      "Epoch 41/100\n",
      "600/600 [==============================] - 23s 39ms/step - loss: 0.6910 - acc: 0.9088 - f1: 0.9087 - val_loss: 0.9588 - val_acc: 0.8100 - val_f1: 0.8100\n",
      "Epoch 42/100\n",
      "600/600 [==============================] - 25s 41ms/step - loss: 0.6782 - acc: 0.9139 - f1: 0.9138 - val_loss: 0.9806 - val_acc: 0.8110 - val_f1: 0.8110\n",
      "Epoch 43/100\n",
      "600/600 [==============================] - 23s 39ms/step - loss: 0.6827 - acc: 0.9109 - f1: 0.9109 - val_loss: 0.9583 - val_acc: 0.8189 - val_f1: 0.8189\n",
      "Epoch 44/100\n",
      "600/600 [==============================] - 23s 38ms/step - loss: 0.6687 - acc: 0.9160 - f1: 0.9160 - val_loss: 0.9098 - val_acc: 0.8356 - val_f1: 0.8356\n",
      "Epoch 45/100\n",
      "600/600 [==============================] - 23s 39ms/step - loss: 0.6964 - acc: 0.9096 - f1: 0.9096 - val_loss: 0.9147 - val_acc: 0.8329 - val_f1: 0.8329\n",
      "Epoch 46/100\n",
      "600/600 [==============================] - 23s 39ms/step - loss: 0.6727 - acc: 0.9171 - f1: 0.9171 - val_loss: 0.9716 - val_acc: 0.8168 - val_f1: 0.8168\n",
      "Epoch 47/100\n",
      "600/600 [==============================] - 24s 39ms/step - loss: 0.6854 - acc: 0.9154 - f1: 0.9154 - val_loss: 0.9512 - val_acc: 0.8213 - val_f1: 0.8213\n",
      "Epoch 48/100\n",
      "600/600 [==============================] - 24s 40ms/step - loss: 0.6717 - acc: 0.9168 - f1: 0.9168 - val_loss: 0.9391 - val_acc: 0.8232 - val_f1: 0.8232\n",
      "Epoch 49/100\n",
      "600/600 [==============================] - 26s 44ms/step - loss: 0.6760 - acc: 0.9153 - f1: 0.9153 - val_loss: 0.9475 - val_acc: 0.8278 - val_f1: 0.8278\n",
      "Epoch 50/100\n"
     ]
    },
    {
     "name": "stdout",
     "output_type": "stream",
     "text": [
      "600/600 [==============================] - 23s 39ms/step - loss: 0.6831 - acc: 0.9154 - f1: 0.9154 - val_loss: 0.9266 - val_acc: 0.8335 - val_f1: 0.8335\n",
      "Epoch 51/100\n",
      "600/600 [==============================] - 23s 39ms/step - loss: 0.6854 - acc: 0.9160 - f1: 0.9160 - val_loss: 0.9530 - val_acc: 0.8182 - val_f1: 0.8182\n",
      "Epoch 52/100\n",
      "600/600 [==============================] - 24s 39ms/step - loss: 0.6673 - acc: 0.9200 - f1: 0.9200 - val_loss: 0.9287 - val_acc: 0.8361 - val_f1: 0.8361\n",
      "Epoch 53/100\n",
      "600/600 [==============================] - 23s 39ms/step - loss: 0.6668 - acc: 0.9193 - f1: 0.9193 - val_loss: 0.9974 - val_acc: 0.8067 - val_f1: 0.8067\n",
      "Epoch 54/100\n",
      "600/600 [==============================] - 17s 29ms/step - loss: 0.6844 - acc: 0.9164 - f1: 0.9164 - val_loss: 0.9289 - val_acc: 0.8375 - val_f1: 0.8375\n",
      "Epoch 55/100\n",
      "600/600 [==============================] - 17s 28ms/step - loss: 0.6950 - acc: 0.9153 - f1: 0.9153 - val_loss: 0.9127 - val_acc: 0.8303 - val_f1: 0.8303\n",
      "600/600 [==============================] - 17s 28ms/step - loss: 0.6896 - acc: 0.9175 - f1: 0.9174 - val_loss: 0.9397 - val_acc: 0.8295 - val_f1: 0.8295\n",
      "Epoch 63/100\n",
      "600/600 [==============================] - 18s 29ms/step - loss: 0.6772 - acc: 0.9199 - f1: 0.9199 - val_loss: 0.9410 - val_acc: 0.8320 - val_f1: 0.8320\n",
      "Epoch 64/100\n",
      "600/600 [==============================] - 17s 28ms/step - loss: 0.6796 - acc: 0.9193 - f1: 0.9193 - val_loss: 0.9259 - val_acc: 0.8310 - val_f1: 0.8310\n",
      "Epoch 65/100\n",
      "600/600 [==============================] - 17s 28ms/step - loss: 0.6871 - acc: 0.9185 - f1: 0.9185 - val_loss: 0.9310 - val_acc: 0.8229 - val_f1: 0.8229\n",
      "Epoch 66/100\n",
      "600/600 [==============================] - 17s 28ms/step - loss: 0.6854 - acc: 0.9178 - f1: 0.9178 - val_loss: 0.9578 - val_acc: 0.8186 - val_f1: 0.8186\n",
      "Epoch 67/100\n",
      "600/600 [==============================] - 17s 28ms/step - loss: 0.6834 - acc: 0.9188 - f1: 0.9188 - val_loss: 0.9552 - val_acc: 0.8257 - val_f1: 0.8257\n",
      "Epoch 68/100\n",
      "600/600 [==============================] - 17s 28ms/step - loss: 0.6878 - acc: 0.9185 - f1: 0.9185 - val_loss: 0.9547 - val_acc: 0.8296 - val_f1: 0.8296\n",
      "Epoch 69/100\n",
      "600/600 [==============================] - 17s 28ms/step - loss: 0.6711 - acc: 0.9216 - f1: 0.9216 - val_loss: 0.9448 - val_acc: 0.8347 - val_f1: 0.8347\n",
      "Epoch 70/100\n",
      "600/600 [==============================] - 17s 28ms/step - loss: 0.6854 - acc: 0.9182 - f1: 0.9182 - val_loss: 0.9575 - val_acc: 0.8281 - val_f1: 0.8281\n",
      "Epoch 71/100\n",
      "600/600 [==============================] - 17s 28ms/step - loss: 0.6818 - acc: 0.9184 - f1: 0.9184 - val_loss: 0.9772 - val_acc: 0.8123 - val_f1: 0.8123\n",
      "Epoch 72/100\n",
      "600/600 [==============================] - 16s 27ms/step - loss: 0.6858 - acc: 0.9173 - f1: 0.9172 - val_loss: 0.9697 - val_acc: 0.8270 - val_f1: 0.8270\n",
      "Epoch 73/100\n",
      " 67/600 [==>...........................] - ETA: 14s - loss: 0.6797 - acc: 0.9164 - f1: 0.9164"
     ]
    },
    {
     "name": "stderr",
     "output_type": "stream",
     "text": [
      "IOPub message rate exceeded.\n",
      "The notebook server will temporarily stop sending output\n",
      "to the client in order to avoid crashing it.\n",
      "To change this limit, set the config variable\n",
      "`--NotebookApp.iopub_msg_rate_limit`.\n",
      "\n",
      "Current values:\n",
      "NotebookApp.iopub_msg_rate_limit=1000.0 (msgs/sec)\n",
      "NotebookApp.rate_limit_window=3.0 (secs)\n",
      "\n"
     ]
    },
    {
     "name": "stdout",
     "output_type": "stream",
     "text": [
      "600/600 [==============================] - 17s 28ms/step - loss: 0.6827 - acc: 0.9207 - f1: 0.9207 - val_loss: 0.9731 - val_acc: 0.8300 - val_f1: 0.8300\n",
      "Epoch 93/100\n",
      "600/600 [==============================] - 18s 31ms/step - loss: 0.6795 - acc: 0.9222 - f1: 0.9222 - val_loss: 0.9769 - val_acc: 0.8233 - val_f1: 0.8233\n",
      "Epoch 94/100\n",
      "600/600 [==============================] - 17s 28ms/step - loss: 0.6757 - acc: 0.9225 - f1: 0.9225 - val_loss: 0.9824 - val_acc: 0.8222 - val_f1: 0.8222\n",
      "Epoch 95/100\n",
      "600/600 [==============================] - 17s 28ms/step - loss: 0.6699 - acc: 0.9236 - f1: 0.9236 - val_loss: 0.9866 - val_acc: 0.8264 - val_f1: 0.8264\n",
      "Epoch 96/100\n",
      "600/600 [==============================] - 17s 28ms/step - loss: 0.6809 - acc: 0.9217 - f1: 0.9216 - val_loss: 1.0721 - val_acc: 0.7920 - val_f1: 0.7920\n",
      "Epoch 97/100\n",
      "600/600 [==============================] - 17s 28ms/step - loss: 0.6736 - acc: 0.9244 - f1: 0.9244 - val_loss: 0.9709 - val_acc: 0.8336 - val_f1: 0.8336\n",
      "Epoch 98/100\n",
      "600/600 [==============================] - 17s 28ms/step - loss: 0.6822 - acc: 0.9226 - f1: 0.9226 - val_loss: 0.9769 - val_acc: 0.8245 - val_f1: 0.8245\n",
      "Epoch 99/100\n",
      "600/600 [==============================] - 17s 29ms/step - loss: 0.6644 - acc: 0.9253 - f1: 0.9253 - val_loss: 1.0019 - val_acc: 0.8190 - val_f1: 0.8190\n",
      "Epoch 100/100\n",
      "600/600 [==============================] - 17s 28ms/step - loss: 0.6699 - acc: 0.9246 - f1: 0.9245 - val_loss: 0.9629 - val_acc: 0.8352 - val_f1: 0.8352\n"
     ]
    },
    {
     "data": {
      "text/plain": [
       "<keras.callbacks.History at 0x7fee04cd34a8>"
      ]
     },
     "execution_count": 16,
     "metadata": {},
     "output_type": "execute_result"
    }
   ],
   "source": [
    "training_batches = MagnitudeUtils.batchify(x_train, y_train, BATCH_SIZE) # Split the training data into batches\n",
    "num_batches_per_epoch_train = int(np.ceil(num_training/float(BATCH_SIZE)))\n",
    "test_batches = MagnitudeUtils.batchify(x_test, y_test, BATCH_SIZE)  # Split the test data into batches\n",
    "num_batches_per_epoch_test = int(np.ceil(num_test/float(BATCH_SIZE)))\n",
    "\n",
    "\n",
    "# Generates batches of the transformed training data\n",
    "train_batch_generator = (\n",
    "  (\n",
    "    med_vectors.query(x_train_batch), # Magnitude will handle converting the 2D array of text into the 3D word vector representations!\n",
    "    MagnitudeUtils.to_categorical(y_train_batch, num_outputs) # Magnitude will handle converting the class labels into one-hot encodings!\n",
    "  ) for x_train_batch, y_train_batch in training_batches\n",
    ")\n",
    "\n",
    "# Generates batches of the transformed test data\n",
    "test_batch_generator = (\n",
    "  (\n",
    "    med_vectors.query(x_test_batch), # Magnitude will handle converting the 2D array of text into the 3D word vector representations!\n",
    "    MagnitudeUtils.to_categorical(y_test_batch, num_outputs) # Magnitude will handle converting the class labels into one-hot encodings!\n",
    "  ) for x_test_batch, y_test_batch in test_batches\n",
    ")\n",
    "\n",
    "# Class weights\n",
    "class_weight = {\n",
    "    intent_to_int('Cardiovascular'): 20.\n",
    "    ,intent_to_int('Other'): 1.\n",
    "}\n",
    "\n",
    "# Start training\n",
    "model.fit_generator(\n",
    "    generator = train_batch_generator,\n",
    "    steps_per_epoch = num_batches_per_epoch_train,\n",
    "    validation_data = test_batch_generator,\n",
    "    validation_steps = num_batches_per_epoch_test,\n",
    "    epochs = EPOCHS,\n",
    "    class_weight=class_weight\n",
    ")"
   ]
  },
  {
   "cell_type": "code",
   "execution_count": 17,
   "metadata": {},
   "outputs": [
    {
     "name": "stdout",
     "output_type": "stream",
     "text": [
      "Results after training for 100 epochs:\n",
      "loss: 0.5417 - categorical_accuracy: 0.9340 - f1: 0.9340\n",
      "val_loss: 0.9629 - val_categorical_accuracy: 0.8352 - f1: 0.8352\n"
     ]
    }
   ],
   "source": [
    "print(\"Results after training for %d epochs:\" % (EPOCHS,))\n",
    "\n",
    "train_metrics = model.evaluate_generator(\n",
    "    generator = train_batch_generator,\n",
    "    steps = num_batches_per_epoch_train,\n",
    ")\n",
    "\n",
    "print(\"loss: %.4f - categorical_accuracy: %.4f - f1: %.4f\" % tuple(train_metrics))\n",
    "\n",
    "val_metrics = model.evaluate_generator(\n",
    "    generator = test_batch_generator,\n",
    "    steps = num_batches_per_epoch_test,\n",
    ")\n",
    "\n",
    "print(\"val_loss: %.4f - val_categorical_accuracy: %.4f - f1: %.4f\" % tuple(val_metrics))"
   ]
  },
  {
   "cell_type": "code",
   "execution_count": 18,
   "metadata": {},
   "outputs": [
    {
     "data": {
      "image/png": "[encoded data removed]",
      "text/plain": [
       "<Figure size 432x288 with 1 Axes>"
      ]
     },
     "metadata": {},
     "output_type": "display_data"
    },
    {
     "data": {
      "image/png": "[encoded data removed]",
      "text/plain": [
       "<Figure size 432x288 with 1 Axes>"
      ]
     },
     "metadata": {},
     "output_type": "display_data"
    }
   ],
   "source": [
    "# Plot training & validation accuracy values\n",
    "plt.plot(model.history.history['acc'])\n",
    "plt.plot(model.history.history['val_acc'])\n",
    "plt.title('Model accuracy')\n",
    "plt.ylabel('Accuracy')\n",
    "plt.xlabel('Epoch')\n",
    "plt.legend(['Train', 'Test'], loc='upper left')\n",
    "plt.show()\n",
    "\n",
    "# Plot training & validation loss values\n",
    "plt.plot(model.history.history['loss'])\n",
    "plt.plot(model.history.history['val_loss'])\n",
    "plt.title('Model loss')\n",
    "plt.ylabel('Loss')\n",
    "plt.xlabel('Epoch')\n",
    "plt.legend(['Train', 'Test'], loc='upper left')\n",
    "plt.show()"
   ]
  },
  {
   "cell_type": "code",
   "execution_count": 19,
   "metadata": {},
   "outputs": [
    {
     "name": "stdout",
     "output_type": "stream",
     "text": [
      "['Cardiovascular', 'Other']\n",
      "[[1140  537]\n",
      " [1266 7997]]\n",
      "                precision    recall  f1-score   support\n",
      "\n",
      "Cardiovascular       0.47      0.68      0.56      1677\n",
      "         Other       0.94      0.86      0.90      9263\n",
      "\n",
      "   avg / total       0.87      0.84      0.85     10940\n",
      "\n"
     ]
    }
   ],
   "source": [
    "y_pred = np.argmax(model.predict(med_vectors.query(x_test)), axis=1)\n",
    "class_labels = [int_to_intent(y) for y in set(y_test)] \n",
    "report = classification_report(y_test, y_pred, target_names=class_labels)\n",
    "print(class_labels)\n",
    "print(confusion_matrix(y_test, y_pred))\n",
    "print(report)"
   ]
  },
  {
   "cell_type": "code",
   "execution_count": 20,
   "metadata": {},
   "outputs": [
    {
     "data": {
      "text/plain": [
       "<matplotlib.axes._subplots.AxesSubplot at 0x7fee04ccb160>"
      ]
     },
     "execution_count": 20,
     "metadata": {},
     "output_type": "execute_result"
    },
    {
     "data": {
      "image/png": "[encoded data removed]",
      "text/plain": [
       "<Figure size 432x288 with 2 Axes>"
      ]
     },
     "metadata": {},
     "output_type": "display_data"
    }
   ],
   "source": [
    "plot_confusion_matrix(y_test, y_pred, classes=class_labels\n",
    "                      , title='Confusion Matrix for Cardiovascular Disease CNN Classifier')"
   ]
  },
  {
   "cell_type": "code",
   "execution_count": null,
   "metadata": {},
   "outputs": [],
   "source": []
  }
 ],
 "metadata": {
  "kernelspec": {
   "display_name": "Python 3",
   "language": "python",
   "name": "python3"
  },
  "language_info": {
   "codemirror_mode": {
    "name": "ipython",
    "version": 3
   },
   "file_extension": ".py",
   "mimetype": "text/x-python",
   "name": "python",
   "nbconvert_exporter": "python",
   "pygments_lexer": "ipython3",
   "version": "3.6.5"
  }
 },
 "nbformat": 4,
 "nbformat_minor": 2
}
