{
 "cells": [
  {
   "cell_type": "code",
   "execution_count": 1,
   "metadata": {},
   "outputs": [
    {
     "name": "stdout",
     "output_type": "stream",
     "text": [
      "[nltk_data] Downloading package punkt to /home/renzeer/nltk_data...\n",
      "[nltk_data]   Package punkt is already up-to-date!\n",
      "[nltk_data] Downloading package stopwords to\n",
      "[nltk_data]     /home/renzeer/nltk_data...\n",
      "[nltk_data]   Package stopwords is already up-to-date!\n"
     ]
    },
    {
     "name": "stderr",
     "output_type": "stream",
     "text": [
      "Using TensorFlow backend.\n"
     ]
    }
   ],
   "source": [
    "# Standard python helper libraries.\n",
    "import os, sys, re, json, time, wget, csv, string, time, random\n",
    "import itertools, collections\n",
    "\n",
    "# NumPy\n",
    "import numpy as np\n",
    "\n",
    "# NLTK for NLP utils\n",
    "import nltk\n",
    "nltk.download('punkt')\n",
    "nltk.download('stopwords')\n",
    "from nltk.corpus import stopwords\n",
    "from nltk.tokenize import word_tokenize\n",
    "from nltk.stem.porter import PorterStemmer\n",
    "\n",
    "from keras import backend as K\n",
    "from keras.models import Sequential\n",
    "from keras.layers import GaussianNoise, Dropout, Dense, Embedding, MaxPool1D, GlobalMaxPool1D, Conv1D, LSTM, Bidirectional\n",
    "from keras.optimizers import Adam\n",
    "from keras.callbacks import Callback\n",
    "\n",
    "from sklearn.metrics import confusion_matrix, f1_score, precision_score, recall_score\n",
    "\n",
    "from pymagnitude import *"
   ]
  },
  {
   "cell_type": "markdown",
   "metadata": {},
   "source": [
    "# Binary Classifier for Cardiovascular Disease using a Convolutional Neural Network\n",
    "\n",
    "In this notebook, we will be building a model for classifying a sentence from an EHR note for the presence of cardiovascular disease. The model will be trained using a convoultional neural network (CNN). \n",
    "\n",
    "## Word Embedding\n",
    "\n",
    "The first step is to load in our word embedding, which is trained on text from Wikipedia, Pubmed, and Pubmed Central. We load our word embedding through a tool called Magnitude. A full exploration of the word embedding and Magnitude can be found in the Introduction notebook."
   ]
  },
  {
   "cell_type": "code",
   "execution_count": 2,
   "metadata": {},
   "outputs": [],
   "source": [
    "med_vectors = Magnitude(\"data/wikipedia-pubmed-and-PMC-w2v.magnitude\", pad_to_length=30)"
   ]
  },
  {
   "cell_type": "markdown",
   "metadata": {},
   "source": [
    "## Text Preprocessing"
   ]
  },
  {
   "cell_type": "code",
   "execution_count": 3,
   "metadata": {},
   "outputs": [
    {
     "name": "stdout",
     "output_type": "stream",
     "text": [
      "['Other', 'PAST MEDICAL HISTORY:, He has difficulty climbing stairs, difficulty with airline seats, tying shoes, used to public seating, and lifting objects off the floor.  He exercises three times a week at home and does cardio.  He has difficulty walking two blocks or five flights of stairs.  Difficulty with snoring.  He has muscle and joint pains including knee pain, back pain, foot and ankle pain, and swelling.  He has gastroesophageal reflux disease.,PAST SURGICAL HISTORY:, Includes reconstructive surgery on his right hand 13 years ago.  ,SOCIAL HISTORY:, He is currently single.  He has about ten drinks a year.  He had smoked significantly up until several months ago.  He now smokes less than three cigarettes a day.,FAMILY HISTORY:, Heart disease in both grandfathers, grandmother with stroke, and a grandmother with diabetes.  Denies obesity and hypertension in other family members.,CURRENT MEDICATIONS:, None.,ALLERGIES:,  He is allergic to Penicillin.,MISCELLANEOUS/EATING HISTORY:, He has been going to support groups for seven months with Lynn Holmberg in Greenwich and he is from Eastchester, New York and he feels that we are the appropriate program.  He had a poor experience with the Greenwich program.  Eating history, he is not an emotional eater.  Does not like sweets.  He likes big portions and carbohydrates.  He likes chicken and not steak.  He currently weighs 312 pounds.  Ideal body weight would be 170 pounds.  He is 142 pounds overweight.  If ,he lost 60% of his excess body weight that would be 84 pounds and he should weigh about 228.,REVIEW OF SYSTEMS: ,Negative for head, neck, heart, lungs, GI, GU, orthopedic, and skin.  Specifically denies chest pain, heart attack, coronary artery disease, congestive heart failure, arrhythmia, atrial fibrillation, pacemaker, high cholesterol, pulmonary embolism, high blood pressure, CVA, venous insufficiency, thrombophlebitis, asthma, shortness of breath, COPD, emphysema, sleep apnea, diabetes, leg and foot swelling, osteoarthritis, rheumatoid arthritis, hiatal hernia, peptic ulcer disease, gallstones, infected gallbladder, pancreatitis, fatty liver, hepatitis, hemorrhoids, rectal bleeding, polyps, incontinence of stool, urinary stress incontinence, or cancer.  Denies cellulitis, pseudotumor cerebri, meningitis, or encephalitis.,PHYSICAL EXAMINATION:, He is alert and oriented x 3.  Cranial nerves II-XII are intact.  Afebrile.  Vital Signs are stable.']\n",
      "['Cardiovascular', '2-D M-MODE: , ,1.  Left atrial enlargement with left atrial diameter of 4.7 cm.,2.  Normal size right and left ventricle.,3.  Normal LV systolic function with left ventricular ejection fraction of 51%.,4.  Normal LV diastolic function.,5.  No pericardial effusion.,6.  Normal morphology of aortic valve, mitral valve, tricuspid valve, and pulmonary valve.,7.  PA systolic pressure is 36 mmHg.,DOPPLER: , ,1.  Mild mitral and tricuspid regurgitation.,2.  Trace aortic and pulmonary regurgitation.']\n"
     ]
    }
   ],
   "source": [
    "ehr_notes = []\n",
    "with open('data/ehr_samples.csv', newline='') as csvfile:\n",
    "    reader = csv.DictReader(csvfile)\n",
    "    for row in reader:     \n",
    "        if int(row['SpecialtyID']) in [39, 6, 16, 37, 11, 12, 29, 26, 7, 21, 19, 10, 2, 18]:\n",
    "            continue\n",
    "        elif int(row['SpecialtyID']) != 4:\n",
    "            ehr_notes.append(['Other', row['Note']])\n",
    "        else:\n",
    "            ehr_notes.append([row['Specialty'], row['Note']])\n",
    "\n",
    "print(ehr_notes[0])\n",
    "print(ehr_notes[2])"
   ]
  },
  {
   "cell_type": "markdown",
   "metadata": {},
   "source": [
    "## Natural Langauge Processing"
   ]
  },
  {
   "cell_type": "code",
   "execution_count": 4,
   "metadata": {},
   "outputs": [
    {
     "name": "stdout",
     "output_type": "stream",
     "text": [
      "['Cardiovascular', 'return clinic 4 weeks5']\n",
      "['Other', 'biceps tendon nonsubluxable']\n"
     ]
    }
   ],
   "source": [
    "ehr_sentences = []\n",
    "for record in ehr_notes:\n",
    "    sent_text = nltk.sent_tokenize(record[1])\n",
    "    for sent in sent_text:\n",
    "        tokens = word_tokenize(sent)\n",
    "\n",
    "        # convert to lower case\n",
    "        tokens = [w.lower() for w in tokens]\n",
    "\n",
    "        # remove punctuation from each word\n",
    "        table = str.maketrans('', '', string.punctuation)\n",
    "        tokens = [w.translate(table) for w in tokens]\n",
    "\n",
    "        # filter out stop words\n",
    "        stop_words = set(stopwords.words('english'))\n",
    "        tokens = [w for w in tokens if not w in stop_words]\n",
    "\n",
    "#         # stem words\n",
    "#         porter = PorterStemmer()\n",
    "#         tokens = [porter.stem(word) for word in tokens]\n",
    "\n",
    "        # remove blanks\n",
    "        tokens = [w for w in tokens if w != '']\n",
    "\n",
    "        ehr_sentences.append([record[0], ' '.join(tokens)])\n",
    "\n",
    "random.Random(4).shuffle(ehr_sentences)\n",
    "\n",
    "print(ehr_sentences[0])\n",
    "print(ehr_sentences[1])"
   ]
  },
  {
   "cell_type": "markdown",
   "metadata": {},
   "source": [
    "## Defining our Training and Test Data\n",
    "\n",
    "Before we can start building our neural networks, we first have to define our datasets. Specifically, we have to break up our EHR data so that we have records that we can train on and records that are exclusively used to test on. Maintaining a separate set for testing ensures we avoid overfitting our data.\n",
    "\n",
    "We will use some built-in functions provided by Magnitude that helps encode our classes/categories. We then partition our data into our train and test sets. For each set we have both data and labels. Initially, we will be making these partitions small to make iterating through model development much quicker. However, once the models are developed, we will expand our datasets to include all of our data. To ensure we defined our data correctly, we can print a few lines from the two sets."
   ]
  },
  {
   "cell_type": "code",
   "execution_count": 5,
   "metadata": {},
   "outputs": [
    {
     "data": {
      "text/plain": [
       "70941"
      ]
     },
     "execution_count": 5,
     "metadata": {},
     "output_type": "execute_result"
    }
   ],
   "source": [
    "len(ehr_sentences)"
   ]
  },
  {
   "cell_type": "code",
   "execution_count": 6,
   "metadata": {},
   "outputs": [
    {
     "name": "stdout",
     "output_type": "stream",
     "text": [
      "Cardiovascular\n",
      "First line of train/test data:\n",
      "\t ['return', 'clinic', '4', 'weeks5']\n",
      "\t 0 Cardiovascular\n",
      "\t ['smokes', 'one', 'pack', 'per', 'day']\n",
      "\t 0 Cardiovascular\n",
      "Second line of train/test data:\n",
      "\t ['biceps', 'tendon', 'nonsubluxable']\n",
      "\t 1 Other\n",
      "\t ['denies', 'illicit', 'drug', 'use', 'family', 'history', 'parents', 'died', 'myocardial', 'infarctions']\n",
      "\t 1 Other\n"
     ]
    }
   ],
   "source": [
    "add_intent, intent_to_int, int_to_intent = MagnitudeUtils.class_encoding()\n",
    "\n",
    "x_train = [ehr_sent[1].split(' ') for ehr_sent in ehr_sentences[:60000]]\n",
    "x_test = [ehr_sent[1].split(' ') for ehr_sent in ehr_sentences[60001:]]\n",
    "\n",
    "y_train = [add_intent(ehr_sent[0]) for ehr_sent in ehr_sentences[:60000]]\n",
    "y_test = [add_intent(ehr_sent[0]) for ehr_sent in ehr_sentences[60001:]]\n",
    "\n",
    "y_train = list(np.array(y_train).reshape(len(y_train)))\n",
    "y_test = list(np.array(y_test).reshape(len(y_test)))\n",
    "\n",
    "num_training = len(x_train)\n",
    "num_test = len(x_test)\n",
    "num_outputs = int(max(max(y_train), max(y_test))) + 1\n",
    "\n",
    "print(int_to_intent(0))\n",
    "\n",
    "print(\"First line of train/test data:\")\n",
    "print(\"\\t\", x_train[0])\n",
    "print(\"\\t\", y_train[0], int_to_intent(y_train[0]))\n",
    "print(\"\\t\", x_test[0])\n",
    "print(\"\\t\", y_test[0], int_to_intent(y_test[0]))\n",
    "print(\"Second line of train/test data:\")\n",
    "print(\"\\t\", x_train[1])\n",
    "print(\"\\t\", y_train[1], int_to_intent(y_train[1]))\n",
    "print(\"\\t\", x_test[1])\n",
    "print(\"\\t\", y_test[1], int_to_intent(y_test[1]))"
   ]
  },
  {
   "cell_type": "markdown",
   "metadata": {},
   "source": [
    "## Defining Custom Callback Function"
   ]
  },
  {
   "cell_type": "code",
   "execution_count": 7,
   "metadata": {},
   "outputs": [],
   "source": [
    "def f1(y_true, y_pred):\n",
    "    def recall(y_true, y_pred):\n",
    "        \"\"\"Recall metric.\n",
    "\n",
    "        Only computes a batch-wise average of recall.\n",
    "\n",
    "        Computes the recall, a metric for multi-label classification of\n",
    "        how many relevant items are selected.\n",
    "        \"\"\"\n",
    "        true_positives = K.sum(K.round(K.clip(y_true * y_pred, 0, 1)))\n",
    "        possible_positives = K.sum(K.round(K.clip(y_true, 0, 1)))\n",
    "        recall = true_positives / (possible_positives + K.epsilon())\n",
    "        return recall\n",
    "\n",
    "    def precision(y_true, y_pred):\n",
    "        \"\"\"Precision metric.\n",
    "\n",
    "        Only computes a batch-wise average of precision.\n",
    "\n",
    "        Computes the precision, a metric for multi-label classification of\n",
    "        how many selected items are relevant.\n",
    "        \"\"\"\n",
    "        true_positives = K.sum(K.round(K.clip(y_true * y_pred, 0, 1)))\n",
    "        predicted_positives = K.sum(K.round(K.clip(y_pred, 0, 1)))\n",
    "        precision = true_positives / (predicted_positives + K.epsilon())\n",
    "        return precision\n",
    "    \n",
    "    precision = precision(y_true, y_pred)\n",
    "    recall = recall(y_true, y_pred)\n",
    "    return 2*((precision*recall)/(precision+recall+K.epsilon()))"
   ]
  },
  {
   "cell_type": "markdown",
   "metadata": {},
   "source": [
    "## Defining Model"
   ]
  },
  {
   "cell_type": "code",
   "execution_count": 8,
   "metadata": {},
   "outputs": [
    {
     "name": "stdout",
     "output_type": "stream",
     "text": [
      "_________________________________________________________________\n",
      "Layer (type)                 Output Shape              Param #   \n",
      "=================================================================\n",
      "gaussian_noise_1 (GaussianNo (None, 30, 200)           0         \n",
      "_________________________________________________________________\n",
      "bidirectional_1 (Bidirection (None, 200)               240800    \n",
      "_________________________________________________________________\n",
      "dropout_1 (Dropout)          (None, 200)               0         \n",
      "_________________________________________________________________\n",
      "dense_1 (Dense)              (None, 2)                 402       \n",
      "=================================================================\n",
      "Total params: 241,202\n",
      "Trainable params: 241,202\n",
      "Non-trainable params: 0\n",
      "_________________________________________________________________\n"
     ]
    }
   ],
   "source": [
    "MAX_WORDS = 30 # The maximum number of words the sequence model will consider\n",
    "STD_DEV = 0.01 # Deviation of noise for Gaussian Noise applied to the embeddings\n",
    "DROPOUT_RATIO = .5 # The ratio to dropout\n",
    "BATCH_SIZE = 100 # The number of examples per train/validation step\n",
    "EPOCHS = 100 # The number of times to repeat through all of the training data\n",
    "LEARNING_RATE = .01 # The learning rate for the optimizer\n",
    "HIDDEN_UNITS = 100\n",
    "\n",
    "model = Sequential()\n",
    "model.add(GaussianNoise(STD_DEV, input_shape=(MAX_WORDS, med_vectors.dim)))\n",
    "model.add(Bidirectional(LSTM(HIDDEN_UNITS, activation='tanh'), merge_mode='concat'))\n",
    "model.add(Dropout(DROPOUT_RATIO))\n",
    "model.add(Dense(num_outputs, activation='softmax'))\n",
    "model.compile(optimizer='adam',\n",
    "              loss='binary_crossentropy',\n",
    "              metrics=['accuracy', f1])\n",
    "model.summary()"
   ]
  },
  {
   "cell_type": "markdown",
   "metadata": {},
   "source": [
    "## Training Batches and Epochs"
   ]
  },
  {
   "cell_type": "code",
   "execution_count": 9,
   "metadata": {},
   "outputs": [
    {
     "name": "stdout",
     "output_type": "stream",
     "text": [
      "Epoch 1/100\n",
      "600/600 [==============================] - 2286s 4s/step - loss: 0.3370 - acc: 0.8675 - f1: 0.8675 - val_loss: 0.3131 - val_acc: 0.8730 - val_f1: 0.8730\n",
      "Epoch 2/100\n",
      "600/600 [==============================] - 123s 206ms/step - loss: 0.3136 - acc: 0.8757 - f1: 0.8757 - val_loss: 0.3067 - val_acc: 0.8773 - val_f1: 0.8773\n",
      "Epoch 3/100\n",
      "600/600 [==============================] - 125s 209ms/step - loss: 0.3055 - acc: 0.8792 - f1: 0.8792 - val_loss: 0.3008 - val_acc: 0.8796 - val_f1: 0.8796\n",
      "Epoch 4/100\n",
      "600/600 [==============================] - 126s 209ms/step - loss: 0.2979 - acc: 0.8821 - f1: 0.8821 - val_loss: 0.2984 - val_acc: 0.8819 - val_f1: 0.8819\n",
      "Epoch 5/100\n",
      "600/600 [==============================] - 125s 209ms/step - loss: 0.2912 - acc: 0.8845 - f1: 0.8845 - val_loss: 0.2922 - val_acc: 0.8835 - val_f1: 0.8835\n",
      "Epoch 6/100\n",
      "600/600 [==============================] - 127s 211ms/step - loss: 0.2861 - acc: 0.8870 - f1: 0.8870 - val_loss: 0.2925 - val_acc: 0.8833 - val_f1: 0.8833\n",
      "Epoch 7/100\n",
      "600/600 [==============================] - 125s 209ms/step - loss: 0.2804 - acc: 0.8887 - f1: 0.8887 - val_loss: 0.2906 - val_acc: 0.8833 - val_f1: 0.8833\n",
      "Epoch 8/100\n",
      "600/600 [==============================] - 126s 209ms/step - loss: 0.2752 - acc: 0.8908 - f1: 0.8908 - val_loss: 0.2869 - val_acc: 0.8869 - val_f1: 0.8869\n",
      "Epoch 9/100\n",
      "600/600 [==============================] - 126s 210ms/step - loss: 0.2705 - acc: 0.8932 - f1: 0.8932 - val_loss: 0.2861 - val_acc: 0.8855 - val_f1: 0.8855\n",
      "Epoch 10/100\n",
      "600/600 [==============================] - 125s 208ms/step - loss: 0.2654 - acc: 0.8937 - f1: 0.8937 - val_loss: 0.2855 - val_acc: 0.8860 - val_f1: 0.8860\n",
      "Epoch 11/100\n",
      "600/600 [==============================] - 124s 207ms/step - loss: 0.2597 - acc: 0.8968 - f1: 0.8968 - val_loss: 0.2825 - val_acc: 0.8861 - val_f1: 0.8861\n",
      "Epoch 12/100\n",
      "600/600 [==============================] - 125s 208ms/step - loss: 0.2556 - acc: 0.8976 - f1: 0.8975 - val_loss: 0.2850 - val_acc: 0.8843 - val_f1: 0.8843\n",
      "Epoch 13/100\n",
      "600/600 [==============================] - 124s 207ms/step - loss: 0.2498 - acc: 0.9003 - f1: 0.9003 - val_loss: 0.2836 - val_acc: 0.8870 - val_f1: 0.8870\n",
      "Epoch 14/100\n",
      "600/600 [==============================] - 126s 209ms/step - loss: 0.2441 - acc: 0.9023 - f1: 0.9023 - val_loss: 0.2834 - val_acc: 0.8848 - val_f1: 0.8848\n",
      "Epoch 15/100\n",
      "600/600 [==============================] - 125s 208ms/step - loss: 0.2400 - acc: 0.9048 - f1: 0.9048 - val_loss: 0.2869 - val_acc: 0.8834 - val_f1: 0.8834\n",
      "Epoch 16/100\n",
      "600/600 [==============================] - 125s 208ms/step - loss: 0.2331 - acc: 0.9073 - f1: 0.9073 - val_loss: 0.2934 - val_acc: 0.8831 - val_f1: 0.8831\n",
      "Epoch 17/100\n",
      "600/600 [==============================] - 124s 206ms/step - loss: 0.2275 - acc: 0.9091 - f1: 0.9091 - val_loss: 0.2906 - val_acc: 0.8841 - val_f1: 0.8841\n",
      "Epoch 18/100\n",
      "600/600 [==============================] - 127s 211ms/step - loss: 0.2237 - acc: 0.9103 - f1: 0.9103 - val_loss: 0.2991 - val_acc: 0.8831 - val_f1: 0.8831\n",
      "Epoch 19/100\n",
      "600/600 [==============================] - 128s 214ms/step - loss: 0.2180 - acc: 0.9121 - f1: 0.9121 - val_loss: 0.2996 - val_acc: 0.8834 - val_f1: 0.8834\n",
      "Epoch 20/100\n",
      "600/600 [==============================] - 124s 207ms/step - loss: 0.2118 - acc: 0.9152 - f1: 0.9152 - val_loss: 0.3031 - val_acc: 0.8828 - val_f1: 0.8828\n",
      "Epoch 21/100\n",
      "600/600 [==============================] - 125s 208ms/step - loss: 0.2078 - acc: 0.9165 - f1: 0.9165 - val_loss: 0.3048 - val_acc: 0.8807 - val_f1: 0.8807\n",
      "Epoch 22/100\n",
      "600/600 [==============================] - 125s 208ms/step - loss: 0.2022 - acc: 0.9177 - f1: 0.9177 - val_loss: 0.3162 - val_acc: 0.8784 - val_f1: 0.8784\n",
      "Epoch 23/100\n",
      "600/600 [==============================] - 124s 207ms/step - loss: 0.1994 - acc: 0.9185 - f1: 0.9185 - val_loss: 0.3277 - val_acc: 0.8771 - val_f1: 0.8771\n",
      "Epoch 24/100\n",
      "600/600 [==============================] - 126s 210ms/step - loss: 0.1941 - acc: 0.9215 - f1: 0.9215 - val_loss: 0.3306 - val_acc: 0.8757 - val_f1: 0.8757\n",
      "Epoch 25/100\n",
      "600/600 [==============================] - 126s 209ms/step - loss: 0.1903 - acc: 0.9225 - f1: 0.9224 - val_loss: 0.3350 - val_acc: 0.8747 - val_f1: 0.8747\n",
      "Epoch 26/100\n",
      "600/600 [==============================] - 125s 209ms/step - loss: 0.1849 - acc: 0.9234 - f1: 0.9234 - val_loss: 0.3331 - val_acc: 0.8760 - val_f1: 0.8760\n",
      "Epoch 27/100\n",
      "600/600 [==============================] - 126s 210ms/step - loss: 0.1822 - acc: 0.9256 - f1: 0.9256 - val_loss: 0.3283 - val_acc: 0.8736 - val_f1: 0.8736\n",
      "Epoch 28/100\n",
      "600/600 [==============================] - 127s 211ms/step - loss: 0.1756 - acc: 0.9284 - f1: 0.9284 - val_loss: 0.3447 - val_acc: 0.8738 - val_f1: 0.8738\n",
      "Epoch 29/100\n",
      "600/600 [==============================] - 126s 210ms/step - loss: 0.1734 - acc: 0.9289 - f1: 0.9288 - val_loss: 0.3530 - val_acc: 0.8727 - val_f1: 0.8727\n",
      "Epoch 30/100\n",
      "600/600 [==============================] - 125s 208ms/step - loss: 0.1694 - acc: 0.9302 - f1: 0.9301 - val_loss: 0.3482 - val_acc: 0.8735 - val_f1: 0.8735\n",
      "Epoch 31/100\n",
      "600/600 [==============================] - 125s 209ms/step - loss: 0.1654 - acc: 0.9329 - f1: 0.9329 - val_loss: 0.3616 - val_acc: 0.8657 - val_f1: 0.8657\n",
      "Epoch 32/100\n",
      "600/600 [==============================] - 127s 211ms/step - loss: 0.1638 - acc: 0.9326 - f1: 0.9326 - val_loss: 0.3485 - val_acc: 0.8706 - val_f1: 0.8706\n",
      "Epoch 33/100\n",
      "600/600 [==============================] - 127s 212ms/step - loss: 0.1602 - acc: 0.9354 - f1: 0.9354 - val_loss: 0.3808 - val_acc: 0.8679 - val_f1: 0.8679\n",
      "Epoch 34/100\n",
      "600/600 [==============================] - 124s 207ms/step - loss: 0.1552 - acc: 0.9363 - f1: 0.9362 - val_loss: 0.3747 - val_acc: 0.8669 - val_f1: 0.8669\n",
      "Epoch 35/100\n",
      "600/600 [==============================] - 122s 203ms/step - loss: 0.1527 - acc: 0.9370 - f1: 0.9370 - val_loss: 0.3827 - val_acc: 0.8648 - val_f1: 0.8648\n",
      "Epoch 36/100\n",
      "600/600 [==============================] - 125s 209ms/step - loss: 0.1504 - acc: 0.9383 - f1: 0.9382 - val_loss: 0.3818 - val_acc: 0.8688 - val_f1: 0.8688\n",
      "Epoch 37/100\n",
      "600/600 [==============================] - 122s 204ms/step - loss: 0.1466 - acc: 0.9390 - f1: 0.9390 - val_loss: 0.3923 - val_acc: 0.8665 - val_f1: 0.8665\n",
      "Epoch 38/100\n",
      "600/600 [==============================] - 124s 206ms/step - loss: 0.1441 - acc: 0.9411 - f1: 0.9411 - val_loss: 0.3950 - val_acc: 0.8648 - val_f1: 0.8648\n",
      "Epoch 39/100\n",
      "600/600 [==============================] - 124s 207ms/step - loss: 0.1416 - acc: 0.9410 - f1: 0.9410 - val_loss: 0.4010 - val_acc: 0.8662 - val_f1: 0.8662\n",
      "Epoch 40/100\n",
      "600/600 [==============================] - 123s 204ms/step - loss: 0.1384 - acc: 0.9432 - f1: 0.9432 - val_loss: 0.4028 - val_acc: 0.8679 - val_f1: 0.8679\n",
      "Epoch 41/100\n",
      "600/600 [==============================] - 126s 210ms/step - loss: 0.1377 - acc: 0.9428 - f1: 0.9428 - val_loss: 0.4114 - val_acc: 0.8671 - val_f1: 0.8671\n",
      "Epoch 42/100\n",
      "600/600 [==============================] - 122s 203ms/step - loss: 0.1348 - acc: 0.9449 - f1: 0.9449 - val_loss: 0.4137 - val_acc: 0.8687 - val_f1: 0.8687\n",
      "Epoch 43/100\n",
      "600/600 [==============================] - 124s 207ms/step - loss: 0.1314 - acc: 0.9454 - f1: 0.9454 - val_loss: 0.4295 - val_acc: 0.8684 - val_f1: 0.8684\n",
      "Epoch 44/100\n",
      "600/600 [==============================] - 122s 204ms/step - loss: 0.1309 - acc: 0.9457 - f1: 0.9457 - val_loss: 0.4373 - val_acc: 0.8668 - val_f1: 0.8668\n",
      "Epoch 45/100\n",
      "600/600 [==============================] - 123s 205ms/step - loss: 0.1286 - acc: 0.9465 - f1: 0.9465 - val_loss: 0.4429 - val_acc: 0.8666 - val_f1: 0.8666\n",
      "Epoch 46/100\n",
      "600/600 [==============================] - 123s 205ms/step - loss: 0.1267 - acc: 0.9485 - f1: 0.9485 - val_loss: 0.4351 - val_acc: 0.8703 - val_f1: 0.8703\n",
      "Epoch 47/100\n",
      "600/600 [==============================] - 122s 204ms/step - loss: 0.1255 - acc: 0.9489 - f1: 0.9488 - val_loss: 0.4332 - val_acc: 0.8672 - val_f1: 0.8672\n",
      "Epoch 48/100\n",
      "600/600 [==============================] - 123s 205ms/step - loss: 0.1245 - acc: 0.9490 - f1: 0.9490 - val_loss: 0.4379 - val_acc: 0.8682 - val_f1: 0.8682\n",
      "Epoch 49/100\n",
      "600/600 [==============================] - 124s 207ms/step - loss: 0.1201 - acc: 0.9504 - f1: 0.9504 - val_loss: 0.4528 - val_acc: 0.8640 - val_f1: 0.8640\n"
     ]
    },
    {
     "name": "stdout",
     "output_type": "stream",
     "text": [
      "Epoch 50/100\n",
      "600/600 [==============================] - 122s 203ms/step - loss: 0.1220 - acc: 0.9498 - f1: 0.9498 - val_loss: 0.4565 - val_acc: 0.8690 - val_f1: 0.8690\n",
      "Epoch 51/100\n",
      "600/600 [==============================] - 124s 207ms/step - loss: 0.1175 - acc: 0.9514 - f1: 0.9514 - val_loss: 0.4618 - val_acc: 0.8673 - val_f1: 0.8673\n",
      "Epoch 52/100\n",
      "600/600 [==============================] - 120s 201ms/step - loss: 0.1157 - acc: 0.9526 - f1: 0.9526 - val_loss: 0.4683 - val_acc: 0.8676 - val_f1: 0.8676\n",
      "Epoch 53/100\n",
      "600/600 [==============================] - 122s 204ms/step - loss: 0.1149 - acc: 0.9517 - f1: 0.9517 - val_loss: 0.4638 - val_acc: 0.8660 - val_f1: 0.8660\n",
      "Epoch 54/100\n",
      "600/600 [==============================] - 122s 204ms/step - loss: 0.1156 - acc: 0.9516 - f1: 0.9516 - val_loss: 0.4599 - val_acc: 0.8678 - val_f1: 0.8678\n",
      "Epoch 55/100\n",
      "600/600 [==============================] - 121s 202ms/step - loss: 0.1114 - acc: 0.9547 - f1: 0.9547 - val_loss: 0.4775 - val_acc: 0.8652 - val_f1: 0.8652\n",
      "Epoch 56/100\n",
      "600/600 [==============================] - 123s 204ms/step - loss: 0.1111 - acc: 0.9547 - f1: 0.9547 - val_loss: 0.4862 - val_acc: 0.8662 - val_f1: 0.8662\n",
      "Epoch 57/100\n",
      "600/600 [==============================] - 121s 202ms/step - loss: 0.1118 - acc: 0.9541 - f1: 0.9541 - val_loss: 0.4821 - val_acc: 0.8699 - val_f1: 0.8699\n",
      "Epoch 58/100\n",
      "570/600 [===========================>..] - ETA: 5s - loss: 0.1110 - acc: 0.9546 - f1: 0.9546"
     ]
    },
    {
     "name": "stderr",
     "output_type": "stream",
     "text": [
      "IOPub message rate exceeded.\n",
      "The notebook server will temporarily stop sending output\n",
      "to the client in order to avoid crashing it.\n",
      "To change this limit, set the config variable\n",
      "`--NotebookApp.iopub_msg_rate_limit`.\n",
      "\n",
      "Current values:\n",
      "NotebookApp.iopub_msg_rate_limit=1000.0 (msgs/sec)\n",
      "NotebookApp.rate_limit_window=3.0 (secs)\n",
      "\n"
     ]
    },
    {
     "name": "stdout",
     "output_type": "stream",
     "text": [
      "600/600 [==============================] - 122s 203ms/step - loss: 0.1056 - acc: 0.9566 - f1: 0.9565 - val_loss: 0.4988 - val_acc: 0.8695 - val_f1: 0.8695\n",
      "Epoch 62/100\n",
      "600/600 [==============================] - 119s 199ms/step - loss: 0.1038 - acc: 0.9577 - f1: 0.9577 - val_loss: 0.5248 - val_acc: 0.8635 - val_f1: 0.8635\n",
      "Epoch 63/100\n",
      "600/600 [==============================] - 72s 119ms/step - loss: 0.1053 - acc: 0.9564 - f1: 0.9563 - val_loss: 0.5271 - val_acc: 0.8694 - val_f1: 0.8694\n",
      "Epoch 64/100\n",
      "600/600 [==============================] - 70s 117ms/step - loss: 0.1027 - acc: 0.9578 - f1: 0.9578 - val_loss: 0.5277 - val_acc: 0.8645 - val_f1: 0.8645\n",
      "Epoch 65/100\n",
      "600/600 [==============================] - 71s 119ms/step - loss: 0.1011 - acc: 0.9578 - f1: 0.9577 - val_loss: 0.5464 - val_acc: 0.8678 - val_f1: 0.8678\n",
      "Epoch 66/100\n",
      "451/600 [=====================>........] - ETA: 16s - loss: 0.1016 - acc: 0.9578 - f1: 0.9578"
     ]
    },
    {
     "name": "stderr",
     "output_type": "stream",
     "text": [
      "IOPub message rate exceeded.\n",
      "The notebook server will temporarily stop sending output\n",
      "to the client in order to avoid crashing it.\n",
      "To change this limit, set the config variable\n",
      "`--NotebookApp.iopub_msg_rate_limit`.\n",
      "\n",
      "Current values:\n",
      "NotebookApp.iopub_msg_rate_limit=1000.0 (msgs/sec)\n",
      "NotebookApp.rate_limit_window=3.0 (secs)\n",
      "\n"
     ]
    },
    {
     "name": "stdout",
     "output_type": "stream",
     "text": [
      "600/600 [==============================] - 71s 118ms/step - loss: 0.0975 - acc: 0.9595 - f1: 0.9595 - val_loss: 0.5653 - val_acc: 0.8728 - val_f1: 0.8728\n",
      "Epoch 70/100\n",
      "600/600 [==============================] - 69s 116ms/step - loss: 0.0965 - acc: 0.9598 - f1: 0.9597 - val_loss: 0.5706 - val_acc: 0.8641 - val_f1: 0.8641\n",
      "Epoch 71/100\n",
      "600/600 [==============================] - 71s 118ms/step - loss: 0.0958 - acc: 0.9606 - f1: 0.9606 - val_loss: 0.5750 - val_acc: 0.8681 - val_f1: 0.8681\n",
      "Epoch 72/100\n",
      "600/600 [==============================] - 71s 118ms/step - loss: 0.0958 - acc: 0.9600 - f1: 0.9600 - val_loss: 0.5744 - val_acc: 0.8628 - val_f1: 0.8628\n",
      "Epoch 73/100\n",
      "600/600 [==============================] - 70s 116ms/step - loss: 0.0949 - acc: 0.9603 - f1: 0.9603 - val_loss: 0.5933 - val_acc: 0.8680 - val_f1: 0.8680\n",
      "Epoch 74/100\n",
      " 43/600 [=>............................] - ETA: 1:01 - loss: 0.0943 - acc: 0.9633 - f1: 0.9633"
     ]
    },
    {
     "name": "stderr",
     "output_type": "stream",
     "text": [
      "IOPub message rate exceeded.\n",
      "The notebook server will temporarily stop sending output\n",
      "to the client in order to avoid crashing it.\n",
      "To change this limit, set the config variable\n",
      "`--NotebookApp.iopub_msg_rate_limit`.\n",
      "\n",
      "Current values:\n",
      "NotebookApp.iopub_msg_rate_limit=1000.0 (msgs/sec)\n",
      "NotebookApp.rate_limit_window=3.0 (secs)\n",
      "\n"
     ]
    },
    {
     "name": "stdout",
     "output_type": "stream",
     "text": [
      "600/600 [==============================] - 71s 118ms/step - loss: 0.0919 - acc: 0.9613 - f1: 0.9613 - val_loss: 0.5973 - val_acc: 0.8670 - val_f1: 0.8670\n",
      "Epoch 78/100\n",
      "600/600 [==============================] - 72s 119ms/step - loss: 0.0946 - acc: 0.9607 - f1: 0.9607 - val_loss: 0.5956 - val_acc: 0.8698 - val_f1: 0.8698\n",
      "Epoch 79/100\n",
      "600/600 [==============================] - 69s 115ms/step - loss: 0.0912 - acc: 0.9619 - f1: 0.9619 - val_loss: 0.6581 - val_acc: 0.8635 - val_f1: 0.8635\n",
      "Epoch 80/100\n",
      "600/600 [==============================] - 70s 116ms/step - loss: 0.0914 - acc: 0.9620 - f1: 0.9619 - val_loss: 0.6479 - val_acc: 0.8681 - val_f1: 0.8681\n",
      "Epoch 81/100\n",
      "600/600 [==============================] - 70s 116ms/step - loss: 0.0921 - acc: 0.9623 - f1: 0.9623 - val_loss: 0.6176 - val_acc: 0.8684 - val_f1: 0.8684\n",
      "Epoch 82/100\n",
      " 66/600 [==>...........................] - ETA: 57s - loss: 0.0909 - acc: 0.9630 - f1: 0.9630"
     ]
    },
    {
     "name": "stderr",
     "output_type": "stream",
     "text": [
      "IOPub message rate exceeded.\n",
      "The notebook server will temporarily stop sending output\n",
      "to the client in order to avoid crashing it.\n",
      "To change this limit, set the config variable\n",
      "`--NotebookApp.iopub_msg_rate_limit`.\n",
      "\n",
      "Current values:\n",
      "NotebookApp.iopub_msg_rate_limit=1000.0 (msgs/sec)\n",
      "NotebookApp.rate_limit_window=3.0 (secs)\n",
      "\n"
     ]
    },
    {
     "name": "stdout",
     "output_type": "stream",
     "text": [
      "600/600 [==============================] - 72s 119ms/step - loss: 0.0902 - acc: 0.9622 - f1: 0.9621 - val_loss: 0.6151 - val_acc: 0.8653 - val_f1: 0.8653\n",
      "Epoch 84/100\n",
      "600/600 [==============================] - 70s 117ms/step - loss: 0.0892 - acc: 0.9621 - f1: 0.9620 - val_loss: 0.6088 - val_acc: 0.8702 - val_f1: 0.8702\n",
      "Epoch 85/100\n",
      "600/600 [==============================] - 73s 122ms/step - loss: 0.0889 - acc: 0.9627 - f1: 0.9627 - val_loss: 0.6123 - val_acc: 0.8718 - val_f1: 0.8718\n",
      "Epoch 86/100\n",
      "600/600 [==============================] - 70s 116ms/step - loss: 0.0888 - acc: 0.9634 - f1: 0.9634 - val_loss: 0.6208 - val_acc: 0.8697 - val_f1: 0.8697\n",
      "Epoch 87/100\n",
      "600/600 [==============================] - 71s 118ms/step - loss: 0.0882 - acc: 0.9630 - f1: 0.9630 - val_loss: 0.6082 - val_acc: 0.8708 - val_f1: 0.8708\n",
      "Epoch 88/100\n",
      "600/600 [==============================] - 70s 117ms/step - loss: 0.0888 - acc: 0.9626 - f1: 0.9625 - val_loss: 0.6190 - val_acc: 0.8733 - val_f1: 0.8733\n",
      "Epoch 89/100\n",
      "600/600 [==============================] - 70s 116ms/step - loss: 0.0891 - acc: 0.9627 - f1: 0.9627 - val_loss: 0.6125 - val_acc: 0.8711 - val_f1: 0.8711\n",
      "Epoch 90/100\n",
      "600/600 [==============================] - 70s 117ms/step - loss: 0.0863 - acc: 0.9638 - f1: 0.9638 - val_loss: 0.6123 - val_acc: 0.8698 - val_f1: 0.8698\n",
      "Epoch 91/100\n",
      "600/600 [==============================] - 70s 117ms/step - loss: 0.0903 - acc: 0.9616 - f1: 0.9616 - val_loss: 0.6116 - val_acc: 0.8692 - val_f1: 0.8692\n",
      "Epoch 92/100\n",
      "600/600 [==============================] - 70s 116ms/step - loss: 0.0858 - acc: 0.9636 - f1: 0.9636 - val_loss: 0.6451 - val_acc: 0.8690 - val_f1: 0.8690\n",
      "Epoch 93/100\n",
      "600/600 [==============================] - 71s 118ms/step - loss: 0.0862 - acc: 0.9636 - f1: 0.9636 - val_loss: 0.6247 - val_acc: 0.8708 - val_f1: 0.8708\n",
      "Epoch 94/100\n",
      "600/600 [==============================] - 71s 119ms/step - loss: 0.0842 - acc: 0.9640 - f1: 0.9640 - val_loss: 0.6246 - val_acc: 0.8700 - val_f1: 0.8700\n",
      "Epoch 95/100\n",
      "600/600 [==============================] - 70s 117ms/step - loss: 0.0828 - acc: 0.9651 - f1: 0.9651 - val_loss: 0.6443 - val_acc: 0.8667 - val_f1: 0.8667\n",
      "Epoch 96/100\n",
      "600/600 [==============================] - 71s 118ms/step - loss: 0.0851 - acc: 0.9643 - f1: 0.9642 - val_loss: 0.6047 - val_acc: 0.8671 - val_f1: 0.8671\n",
      "Epoch 97/100\n",
      "600/600 [==============================] - 69s 116ms/step - loss: 0.0848 - acc: 0.9643 - f1: 0.9643 - val_loss: 0.6342 - val_acc: 0.8690 - val_f1: 0.8690\n",
      "Epoch 98/100\n",
      "600/600 [==============================] - 71s 118ms/step - loss: 0.0858 - acc: 0.9633 - f1: 0.9632 - val_loss: 0.6278 - val_acc: 0.8688 - val_f1: 0.8688\n",
      "Epoch 99/100\n",
      "600/600 [==============================] - 70s 117ms/step - loss: 0.0843 - acc: 0.9642 - f1: 0.9642 - val_loss: 0.6320 - val_acc: 0.8707 - val_f1: 0.8707\n",
      "Epoch 100/100\n",
      "600/600 [==============================] - 42s 70ms/step - loss: 0.0829 - acc: 0.9655 - f1: 0.9655 - val_loss: 0.6374 - val_acc: 0.8659 - val_f1: 0.8659\n"
     ]
    },
    {
     "data": {
      "text/plain": [
       "<keras.callbacks.History at 0x7fa33412d7b8>"
      ]
     },
     "execution_count": 9,
     "metadata": {},
     "output_type": "execute_result"
    }
   ],
   "source": [
    "training_batches = MagnitudeUtils.batchify(x_train, y_train, BATCH_SIZE) # Split the training data into batches\n",
    "num_batches_per_epoch_train = int(np.ceil(num_training/float(BATCH_SIZE)))\n",
    "test_batches = MagnitudeUtils.batchify(x_test, y_test, BATCH_SIZE)  # Split the test data into batches\n",
    "num_batches_per_epoch_test = int(np.ceil(num_test/float(BATCH_SIZE)))\n",
    "\n",
    "\n",
    "# Generates batches of the transformed training data\n",
    "train_batch_generator = (\n",
    "  (\n",
    "    med_vectors.query(x_train_batch), # Magnitude will handle converting the 2D array of text into the 3D word vector representations!\n",
    "    MagnitudeUtils.to_categorical(y_train_batch, num_outputs) # Magnitude will handle converting the class labels into one-hot encodings!\n",
    "  ) for x_train_batch, y_train_batch in training_batches\n",
    ")\n",
    "\n",
    "# Generates batches of the transformed test data\n",
    "test_batch_generator = (\n",
    "  (\n",
    "    med_vectors.query(x_test_batch), # Magnitude will handle converting the 2D array of text into the 3D word vector representations!\n",
    "    MagnitudeUtils.to_categorical(y_test_batch, num_outputs) # Magnitude will handle converting the class labels into one-hot encodings!\n",
    "  ) for x_test_batch, y_test_batch in test_batches\n",
    ")\n",
    "\n",
    "# Start training\n",
    "model.fit_generator(\n",
    "    generator = train_batch_generator,\n",
    "    steps_per_epoch = num_batches_per_epoch_train,\n",
    "    validation_data = test_batch_generator,\n",
    "    validation_steps = num_batches_per_epoch_test,\n",
    "    epochs = EPOCHS,\n",
    ")"
   ]
  },
  {
   "cell_type": "markdown",
   "metadata": {},
   "source": [
    "## Results"
   ]
  },
  {
   "cell_type": "code",
   "execution_count": 10,
   "metadata": {},
   "outputs": [
    {
     "name": "stdout",
     "output_type": "stream",
     "text": [
      "Results after training for 100 epochs:\n",
      "loss: 0.0986 - categorical_accuracy: 0.9606 - f1: 0.9606\n",
      "val_loss: 0.6374 - val_categorical_accuracy: 0.8659 - f1: 0.8659\n"
     ]
    }
   ],
   "source": [
    "print(\"Results after training for %d epochs:\" % (EPOCHS,))\n",
    "\n",
    "train_metrics = model.evaluate_generator(\n",
    "    generator = train_batch_generator,\n",
    "    steps = num_batches_per_epoch_train,\n",
    ")\n",
    "\n",
    "print(\"loss: %.4f - categorical_accuracy: %.4f - f1: %.4f\" % tuple(train_metrics))\n",
    "\n",
    "val_metrics = model.evaluate_generator(\n",
    "    generator = test_batch_generator,\n",
    "    steps = num_batches_per_epoch_test,\n",
    ")\n",
    "\n",
    "print(\"val_loss: %.4f - val_categorical_accuracy: %.4f - f1: %.4f\" % tuple(val_metrics))"
   ]
  },
  {
   "cell_type": "markdown",
   "metadata": {},
   "source": [
    "## Conclusion"
   ]
  },
  {
   "cell_type": "code",
   "execution_count": 12,
   "metadata": {},
   "outputs": [
    {
     "data": {
      "image/png": "[encoded data removed]",
      "text/plain": [
       "<Figure size 432x288 with 1 Axes>"
      ]
     },
     "metadata": {},
     "output_type": "display_data"
    },
    {
     "data": {
      "image/png": "[encoded data removed]",
      "text/plain": [
       "<Figure size 432x288 with 1 Axes>"
      ]
     },
     "metadata": {},
     "output_type": "display_data"
    }
   ],
   "source": [
    "import matplotlib.pyplot as plt\n",
    "\n",
    "# Plot training & validation accuracy values\n",
    "plt.plot(model.history.history['acc'])\n",
    "plt.plot(model.history.history['val_acc'])\n",
    "plt.title('Model accuracy')\n",
    "plt.ylabel('Accuracy')\n",
    "plt.xlabel('Epoch')\n",
    "plt.legend(['Train', 'Test'], loc='upper left')\n",
    "plt.show()\n",
    "\n",
    "# Plot training & validation loss values\n",
    "plt.plot(model.history.history['loss'])\n",
    "plt.plot(model.history.history['val_loss'])\n",
    "plt.title('Model loss')\n",
    "plt.ylabel('Loss')\n",
    "plt.xlabel('Epoch')\n",
    "plt.legend(['Train', 'Test'], loc='upper left')\n",
    "plt.show()"
   ]
  },
  {
   "cell_type": "code",
   "execution_count": 14,
   "metadata": {},
   "outputs": [
    {
     "name": "stdout",
     "output_type": "stream",
     "text": [
      "['Cardiovascular', 'Other']\n",
      "[[ 794  883]\n",
      " [ 584 8679]]\n",
      "                precision    recall  f1-score   support\n",
      "\n",
      "Cardiovascular       0.58      0.47      0.52      1677\n",
      "         Other       0.91      0.94      0.92      9263\n",
      "\n",
      "   avg / total       0.86      0.87      0.86     10940\n",
      "\n"
     ]
    }
   ],
   "source": [
    "from sklearn.metrics import confusion_matrix, classification_report\n",
    "\n",
    "y_pred = np.argmax(model.predict(med_vectors.query(x_test)), axis=1)\n",
    "class_labels = [int_to_intent(y) for y in set(y_test)] \n",
    "report = classification_report(y_test, y_pred, target_names=class_labels)\n",
    "print(class_labels)\n",
    "print(confusion_matrix(y_test, y_pred))\n",
    "print(report)"
   ]
  },
  {
   "cell_type": "code",
   "execution_count": 15,
   "metadata": {},
   "outputs": [
    {
     "data": {
      "text/plain": [
       "<matplotlib.axes._subplots.AxesSubplot at 0x7fa3176f54a8>"
      ]
     },
     "execution_count": 15,
     "metadata": {},
     "output_type": "execute_result"
    },
    {
     "data": {
      "image/png": "[encoded data removed]",
      "text/plain": [
       "<Figure size 432x288 with 2 Axes>"
      ]
     },
     "metadata": {},
     "output_type": "display_data"
    }
   ],
   "source": [
    "from sklearn.utils.multiclass import unique_labels\n",
    "\n",
    "def plot_confusion_matrix(y_true, y_pred, classes,\n",
    "                          title=None,\n",
    "                          cmap=plt.cm.Blues):\n",
    "    \"\"\"\n",
    "    This function prints and plots the confusion matrix.\n",
    "    Normalization can be applied by setting `normalize=True`.\n",
    "    \"\"\"\n",
    "    if not title:\n",
    "        if normalize:\n",
    "            title = 'Normalized confusion matrix'\n",
    "        else:\n",
    "            title = 'Confusion matrix, without normalization'\n",
    "\n",
    "    # Compute confusion matrix\n",
    "    cm = confusion_matrix(y_true, y_pred)\n",
    "    # Only use the labels that appear in the data\n",
    "    classes = [int_to_intent(y_class) for y_class in unique_labels(y_test, y_pred)]\n",
    "\n",
    "    fig, ax = plt.subplots()\n",
    "#     fig.set_figheight(15)\n",
    "#     fig.set_figwidth(15)\n",
    "    im = ax.imshow(cm, interpolation='nearest', cmap=cmap)\n",
    "    ax.figure.colorbar(im, ax=ax)\n",
    "    # We want to show all ticks...\n",
    "    ax.set(xticks=np.arange(cm.shape[1]),\n",
    "           yticks=np.arange(cm.shape[0]),\n",
    "           # ... and label them with the respective list entries\n",
    "           xticklabels=classes, yticklabels=classes,\n",
    "           title=title,\n",
    "           ylabel='True label',\n",
    "           xlabel='Predicted label')\n",
    "\n",
    "    # Rotate the tick labels and set their alignment.\n",
    "    plt.setp(ax.get_xticklabels(), rotation=45, ha=\"right\",\n",
    "             rotation_mode=\"anchor\")\n",
    "\n",
    "    # Loop over data dimensions and create text annotations.\n",
    "    fmt = 'd'\n",
    "    thresh = cm.max() / 2.\n",
    "    for i in range(cm.shape[0]):\n",
    "        for j in range(cm.shape[1]):\n",
    "            ax.text(j, i, format(cm[i, j], fmt),\n",
    "                    ha=\"center\", va=\"center\",\n",
    "                    color=\"white\" if cm[i, j] > thresh else \"black\")\n",
    "    fig.tight_layout()\n",
    "    return ax\n",
    "\n",
    "\n",
    "np.set_printoptions(precision=2)\n",
    "\n",
    "plot_confusion_matrix(y_test, y_pred, classes=class_labels\n",
    "                      , title='Confusion Matrix for Cardiovascular Disease LSTM Classifier')"
   ]
  },
  {
   "cell_type": "code",
   "execution_count": null,
   "metadata": {},
   "outputs": [],
   "source": []
  }
 ],
 "metadata": {
  "kernelspec": {
   "display_name": "Python 3",
   "language": "python",
   "name": "python3"
  },
  "language_info": {
   "codemirror_mode": {
    "name": "ipython",
    "version": 3
   },
   "file_extension": ".py",
   "mimetype": "text/x-python",
   "name": "python",
   "nbconvert_exporter": "python",
   "pygments_lexer": "ipython3",
   "version": "3.6.5"
  }
 },
 "nbformat": 4,
 "nbformat_minor": 2
}
