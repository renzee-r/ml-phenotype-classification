{
 "cells": [
  {
   "cell_type": "code",
   "execution_count": 1,
   "metadata": {},
   "outputs": [
    {
     "name": "stdout",
     "output_type": "stream",
     "text": [
      "[nltk_data] Downloading package punkt to /home/renzeer/nltk_data...\n",
      "[nltk_data]   Package punkt is already up-to-date!\n",
      "[nltk_data] Downloading package stopwords to\n",
      "[nltk_data]     /home/renzeer/nltk_data...\n",
      "[nltk_data]   Package stopwords is already up-to-date!\n"
     ]
    },
    {
     "name": "stderr",
     "output_type": "stream",
     "text": [
      "Using TensorFlow backend.\n"
     ]
    }
   ],
   "source": [
    "# Standard python helper libraries.\n",
    "import os, sys, re, json, time, wget, csv, string, time, random\n",
    "import itertools, collections\n",
    "\n",
    "# NumPy\n",
    "import numpy as np\n",
    "\n",
    "# NLTK for NLP utils\n",
    "import nltk\n",
    "nltk.download('punkt')\n",
    "nltk.download('stopwords')\n",
    "from nltk.corpus import stopwords\n",
    "from nltk.tokenize import word_tokenize\n",
    "from nltk.stem.porter import PorterStemmer\n",
    "\n",
    "from keras import backend as K\n",
    "from keras.models import Sequential\n",
    "from keras.layers import GaussianNoise, Dropout, Dense, Embedding, MaxPool1D, GlobalMaxPool1D, Conv1D, LSTM, Bidirectional\n",
    "from keras.optimizers import Adam\n",
    "from keras.callbacks import Callback\n",
    "\n",
    "from sklearn.metrics import confusion_matrix, f1_score, precision_score, recall_score\n",
    "\n",
    "from pymagnitude import *"
   ]
  },
  {
   "cell_type": "markdown",
   "metadata": {},
   "source": [
    "# Binary Classifier for Cardiovascular Disease using a Convolutional Neural Network\n",
    "\n",
    "In this notebook, we will be building a model for classifying a sentence from an EHR note for the presence of cardiovascular disease. The model will be trained using a convoultional neural network (CNN). "
   ]
  },
  {
   "cell_type": "markdown",
   "metadata": {},
   "source": [
    "## Text Preprocessing"
   ]
  },
  {
   "cell_type": "code",
   "execution_count": 2,
   "metadata": {},
   "outputs": [
    {
     "name": "stdout",
     "output_type": "stream",
     "text": [
      "['Other', 'PAST MEDICAL HISTORY:, He has difficulty climbing stairs, difficulty with airline seats, tying shoes, used to public seating, and lifting objects off the floor.  He exercises three times a week at home and does cardio.  He has difficulty walking two blocks or five flights of stairs.  Difficulty with snoring.  He has muscle and joint pains including knee pain, back pain, foot and ankle pain, and swelling.  He has gastroesophageal reflux disease.,PAST SURGICAL HISTORY:, Includes reconstructive surgery on his right hand 13 years ago.  ,SOCIAL HISTORY:, He is currently single.  He has about ten drinks a year.  He had smoked significantly up until several months ago.  He now smokes less than three cigarettes a day.,FAMILY HISTORY:, Heart disease in both grandfathers, grandmother with stroke, and a grandmother with diabetes.  Denies obesity and hypertension in other family members.,CURRENT MEDICATIONS:, None.,ALLERGIES:,  He is allergic to Penicillin.,MISCELLANEOUS/EATING HISTORY:, He has been going to support groups for seven months with Lynn Holmberg in Greenwich and he is from Eastchester, New York and he feels that we are the appropriate program.  He had a poor experience with the Greenwich program.  Eating history, he is not an emotional eater.  Does not like sweets.  He likes big portions and carbohydrates.  He likes chicken and not steak.  He currently weighs 312 pounds.  Ideal body weight would be 170 pounds.  He is 142 pounds overweight.  If ,he lost 60% of his excess body weight that would be 84 pounds and he should weigh about 228.,REVIEW OF SYSTEMS: ,Negative for head, neck, heart, lungs, GI, GU, orthopedic, and skin.  Specifically denies chest pain, heart attack, coronary artery disease, congestive heart failure, arrhythmia, atrial fibrillation, pacemaker, high cholesterol, pulmonary embolism, high blood pressure, CVA, venous insufficiency, thrombophlebitis, asthma, shortness of breath, COPD, emphysema, sleep apnea, diabetes, leg and foot swelling, osteoarthritis, rheumatoid arthritis, hiatal hernia, peptic ulcer disease, gallstones, infected gallbladder, pancreatitis, fatty liver, hepatitis, hemorrhoids, rectal bleeding, polyps, incontinence of stool, urinary stress incontinence, or cancer.  Denies cellulitis, pseudotumor cerebri, meningitis, or encephalitis.,PHYSICAL EXAMINATION:, He is alert and oriented x 3.  Cranial nerves II-XII are intact.  Afebrile.  Vital Signs are stable.']\n",
      "['Cardiovascular', '2-D M-MODE: , ,1.  Left atrial enlargement with left atrial diameter of 4.7 cm.,2.  Normal size right and left ventricle.,3.  Normal LV systolic function with left ventricular ejection fraction of 51%.,4.  Normal LV diastolic function.,5.  No pericardial effusion.,6.  Normal morphology of aortic valve, mitral valve, tricuspid valve, and pulmonary valve.,7.  PA systolic pressure is 36 mmHg.,DOPPLER: , ,1.  Mild mitral and tricuspid regurgitation.,2.  Trace aortic and pulmonary regurgitation.']\n"
     ]
    }
   ],
   "source": [
    "ehr_notes = []\n",
    "with open('data/ehr_samples.csv', newline='') as csvfile:\n",
    "    reader = csv.DictReader(csvfile)\n",
    "    for row in reader:     \n",
    "        if int(row['SpecialtyID']) in [39, 6, 16, 37, 11, 12, 29, 26, 7, 21, 19, 10, 2, 18]:\n",
    "            continue\n",
    "        elif int(row['SpecialtyID']) != 4:\n",
    "            ehr_notes.append(['Other', row['Note']])\n",
    "        else:\n",
    "            ehr_notes.append([row['Specialty'], row['Note']])\n",
    "\n",
    "print(ehr_notes[0])\n",
    "print(ehr_notes[2])"
   ]
  },
  {
   "cell_type": "markdown",
   "metadata": {},
   "source": [
    "## Natural Langauge Processing"
   ]
  },
  {
   "cell_type": "code",
   "execution_count": 3,
   "metadata": {},
   "outputs": [
    {
     "name": "stdout",
     "output_type": "stream",
     "text": [
      "['Cardiovascular', '<s> <s> procedures undertaken1 </s> </s> <s> <s> left coronary system cineangiography2 </s> </s> <s> <s> right coronary system cineangiography3 </s> </s> <s> <s> cineangiography svg om4 </s> </s> <s> <s> cineangiography lima lad5 </s> </s> <s> <s> left ventriculogram6 </s> </s> <s> <s> aortogram7 </s> </s> <s> <s> percutaneous intervention left circumflex obtuse marginal branch plano balloon angioplasty unable pass stent narrative risks benefits explained patient informed consent obtained </s> </s> <s> <s> patient brought cardiac catheterization suite </s> </s> <s> <s> right groin prepped usual sterile fashion </s> </s> <s> <s> right common femoral artery cannulated using modified seldinger technique long 6french ao sheath introduced secondary tortuous aorta </s> </s> <s> <s> next judkins left catheter used engage left coronary system </s> </s> <s> <s> cineangiography recorded multiple views </s> </s> <s> <s> next judkins right catheter used engage right coronary system </s> </s> <s> <s> cineangiography recorded multiple views </s> </s> <s> <s> next judkins right catheter used engage svg om </s> </s> <s> <s> cineangiography recorded </s> </s> <s> <s> next judkins right advanced left subclavian exchanged long exchange length jwire 4french left internal mammary artery used engage lima graft lad cineangiography recorded multiple views </s> </s> <s> <s> next angled pigtail catheter advanced left ventricular cavity </s> </s> <s> <s> lv pressures measured </s> </s> <s> <s> lv gram done pullback gradient across aortic valve done recorded </s> </s> <s> <s> next aortogram done recorded </s> </s> <s> <s> point decided proceed percutaneous intervention left circumflex </s> </s> <s> <s> therefore ava 35 guide used engage left coronary artery </s> </s> <s> <s> angiomax bolus drip started </s> </s> <s> <s> universal wire advanced past lesion 25balloon advanced first proximal lesions predilations done 14 atmospheres distal lesion predilatation done 12 atmospheres </s> </s> <s> <s> next attempted advance 30 x 12 stent distal lesion however unable pass stent </s> </s> <s> <s> next second dilatations done 25 balloon 18 atmospheres however unable break lesion </s> </s> <s> <s> next attempted cutting balloon </s> </s> <s> <s> unable cross lesion therefore buddy wire technique used pt choice support wire </s> </s> <s> <s> unable cross lesion stent </s> </s> <s> <s> try cross noncompliant balloon unsuccessful </s> </s> <s> <s> also try cutting balloon unsuccessful </s> </s> <s> <s> despite multiple dilatations unable cross anything beyond noncompliant balloon across lesion therefore finally procedure aborted </s> </s> <s> <s> final images showed evidence dissection perforation complication </s> </s> <s> <s> right groin filled taking image confirm sheath placement bifurcation excellent results </s> </s> <s> <s> patient tolerated procedure well without complications taken operating table transferred back cardiac telemetry floor diagnostic findings1 </s> </s> <s> <s> lv </s> </s> <s> <s> lvedp 4 </s> </s> <s> <s> lves approximately 50 55 inferobasal hypokinesis </s> </s> <s> <s> significant mr gradient across aortic valve2 </s> </s> <s> <s> aortogram </s> </s> <s> <s> ascending aorta shows significant dilatation evidence dissection </s> </s> <s> <s> valve shows significant aortic insufficiencies </s> </s> <s> <s> abdominal aorta distal aorta shows significant tortuosities3 </s> </s> <s> <s> left main </s> </s> <s> <s> left main coronary artery large caliber vessel bifurcating lad left circumflex mild distal disease 10 20 4 </s> </s> <s> <s> left circumflex </s> </s> <s> <s> left circumflex vessel large caliber vessel gives distal branching obtuse marginal branch </s> </s> <s> <s> upper pole om shows retrograde filling distal graft also point approximately 70 80 stenosis </s> </s> <s> <s> mid left circumflex highgrade 80 diffuse tortuous stenosis5 </s> </s> <s> <s> lad </s> </s> <s> <s> lad totally 100 occluded vessel </s> </s> <s> <s> lima lad patent smalltomoderate caliber lad </s> </s> <s> <s> large diagonal branch coming proximal portion lad proximal lad showed diffuse disease upwards 60 70 </s> </s> <s> <s> diagonal shows proximal 80 stenosis6 </s> </s> <s> <s> right coronary artery right coronary artery 100 occluded </s> </s> <s> <s> retrograde collaterals left right distal pda plv branches </s> </s> <s> <s> svg om 100 occluded take </s> </s> <s> <s> svg pda found however presumed 100 occluded given collateral flow distal right7 </s> </s> <s> <s> lima lad widely patent assessment plan attempted intervention left circumflex system able perform plano balloon angioplasty unable pass stents noncompliant balloons cutting balloon </s> </s> <s> <s> final images showed improvement however continued residual stenosis </s> </s> <s> <s> point patient transferred back telemetry floor monitored </s> </s> <s> <s> attempt future intervention continue aggressive medical management </s> </s> <s> <s> patient continues residual stenosis diagonal however due length procedure attempt intervention diagonal branch </s> </s> <s> <s> possible consideration would stress test outpatient depending patient shows ischemia focus treatment lesion </s> </s>']\n",
      "['Other', '<s> <s> pre postoperative diagnosis left cervical radiculopathy c5 c6 operation left c56 hemilaminotomy foraminotomy medial facetectomy microscopic decompression nerve root informed consent obtained patient taken </s> </s> <s> <s> general anesthesia induced ted hose stockings pneumatic compression stockings placed patient foley catheter also inserted </s> </s> <s> <s> point patient placed three point fixation mayfield head holder patient placed operating table prone position </s> </s> <s> <s> patient posterior cervical area prepped draped usual sterile fashion </s> </s> <s> <s> time patient incision site infiltrated 1 percent lidocaine epinephrine </s> </s> <s> <s> scalpel used make approximate 3 cm skin incision cephalad prominent c7 spinous processes could palpated </s> </s> <s> <s> dissection spinous process using bovie cautery clamp placed spinous processes cross table lateral xray taken </s> </s> <s> <s> showed spinous process c4 level </s> </s> <s> <s> therefore soft tissue dissection carried caudally level next spinous processes presumed c5 identified </s> </s> <s> <s> muscle dissected lamina laterally left side self retaining retractors placed hemostasis achieved penfield probe placed interspace presumed c56 another cross table lateral xray c spine taken </s> </s> <s> <s> film confirmed position c56 therefore operating microscope brought onto field time </s> </s> <s> <s> time kerrison rongeur used perform hemilaminotomy starting inferior margin superior lamina </s> </s> <s> <s> superior margin inferior lamina c6 also taken kerrison rongeur ligaments freed using woodson probe </s> </s> <s> <s> extended laterally perform medial facetectomy also using kerrison rongeur </s> </s> <s> <s> however progress limited thickness bone </s> </s> <s> <s> therefore time midasrex drill am8 bit brought onto field used thin bone around laminotomy medial facetectomy area </s> </s> <s> <s> bone thinned bone removed using kerrison rongeur </s> </s> <s> <s> point nerve root visually inspected observed decompressed </s> </s> <s> <s> however layer fibrous tissue overlying exiting nerve root removed placing woodson resector plane fibrous sheath nerve root incising 15 blade </s> </s> <s> <s> hemostasis achieved using gelfoam well bipolar electrocautery </s> </s> <s> <s> hemostasis achieved surgical site copiously irrigated bacitracin </s> </s> <s> <s> closure initiated closing muscle layer fascial layer 0 vicryl stitches </s> </s> <s> <s> subcutaneous layer reapproximated using 000 dexon </s> </s> <s> <s> skin reapproximated using running 000 nylon </s> </s> <s> <s> sterile dressings applied </s> </s> <s> <s> patient extubated transferred recovery room stable condition estimated blood loss minimal </s> </s>']\n"
     ]
    }
   ],
   "source": [
    "ehr_notes_clean = []\n",
    "for record in ehr_notes:\n",
    "    sentences = []\n",
    "    \n",
    "    sent_text = nltk.sent_tokenize(record[1])\n",
    "    for sent in sent_text:\n",
    "        tokens = word_tokenize(sent)\n",
    "\n",
    "        # convert to lower case\n",
    "        tokens = [w.lower() for w in tokens]\n",
    "\n",
    "        # remove punctuation from each word\n",
    "        table = str.maketrans('', '', string.punctuation)\n",
    "        tokens = [w.translate(table) for w in tokens]\n",
    "\n",
    "        # filter out stop words\n",
    "        stop_words = set(stopwords.words('english'))\n",
    "        tokens = [w for w in tokens if not w in stop_words]\n",
    "\n",
    "#         # stem words\n",
    "#         porter = PorterStemmer()\n",
    "#         tokens = [porter.stem(word) for word in tokens]\n",
    "\n",
    "        # remove blanks\n",
    "        tokens = [w for w in tokens if w != '']\n",
    "        \n",
    "        clean_sentence = '<s> <s> ' + ' '.join(tokens) + ' </s> </s>'\n",
    "        sentences.append(clean_sentence)\n",
    "        \n",
    "    ehr_notes_clean.append([record[0], ' '.join(sentences)])\n",
    "\n",
    "random.Random(4).shuffle(ehr_notes_clean)\n",
    "\n",
    "print(ehr_notes_clean[0])\n",
    "print(ehr_notes_clean[1])"
   ]
  },
  {
   "cell_type": "markdown",
   "metadata": {},
   "source": [
    "## Word Embedding\n",
    "\n",
    "The first step is to load in our word embedding, which is trained on text from Wikipedia, Pubmed, and Pubmed Central. We load our word embedding through a tool called Magnitude. A full exploration of the word embedding and Magnitude can be found in the Introduction notebook."
   ]
  },
  {
   "cell_type": "code",
   "execution_count": 4,
   "metadata": {},
   "outputs": [],
   "source": [
    "notes = list(np.array(ehr_notes_clean)[:,1])\n",
    "lengths = [len(note.split(' ')) for note in notes]\n",
    "MAX_WORDS = max(lengths) # The maximum number of words the sequence model will consider\n",
    "med_vectors = Magnitude(\"data/wikipedia-pubmed-and-PMC-w2v.magnitude\", pad_to_length=MAX_WORDS)"
   ]
  },
  {
   "cell_type": "markdown",
   "metadata": {},
   "source": [
    "## Defining our Training and Test Data\n",
    "\n",
    "Before we can start building our neural networks, we first have to define our datasets. Specifically, we have to break up our EHR data so that we have records that we can train on and records that are exclusively used to test on. Maintaining a separate set for testing ensures we avoid overfitting our data.\n",
    "\n",
    "We will use some built-in functions provided by Magnitude that helps encode our classes/categories. We then partition our data into our train and test sets. For each set we have both data and labels. Initially, we will be making these partitions small to make iterating through model development much quicker. However, once the models are developed, we will expand our datasets to include all of our data. To ensure we defined our data correctly, we can print a few lines from the two sets."
   ]
  },
  {
   "cell_type": "code",
   "execution_count": 5,
   "metadata": {},
   "outputs": [
    {
     "data": {
      "text/plain": [
       "2552"
      ]
     },
     "execution_count": 5,
     "metadata": {},
     "output_type": "execute_result"
    }
   ],
   "source": [
    "len(ehr_notes_clean)"
   ]
  },
  {
   "cell_type": "code",
   "execution_count": 6,
   "metadata": {},
   "outputs": [
    {
     "name": "stdout",
     "output_type": "stream",
     "text": [
      "Cardiovascular\n",
      "First line of train/test data:\n",
      "\t ['<s>', '<s>', 'procedures', 'undertaken1', '</s>', '</s>', '<s>', '<s>', 'left', 'coronary', 'system', 'cineangiography2', '</s>', '</s>', '<s>', '<s>', 'right', 'coronary', 'system', 'cineangiography3', '</s>', '</s>', '<s>', '<s>', 'cineangiography', 'svg', 'om4', '</s>', '</s>', '<s>', '<s>', 'cineangiography', 'lima', 'lad5', '</s>', '</s>', '<s>', '<s>', 'left', 'ventriculogram6', '</s>', '</s>', '<s>', '<s>', 'aortogram7', '</s>', '</s>', '<s>', '<s>', 'percutaneous', 'intervention', 'left', 'circumflex', 'obtuse', 'marginal', 'branch', 'plano', 'balloon', 'angioplasty', 'unable', 'pass', 'stent', 'narrative', 'risks', 'benefits', 'explained', 'patient', 'informed', 'consent', 'obtained', '</s>', '</s>', '<s>', '<s>', 'patient', 'brought', 'cardiac', 'catheterization', 'suite', '</s>', '</s>', '<s>', '<s>', 'right', 'groin', 'prepped', 'usual', 'sterile', 'fashion', '</s>', '</s>', '<s>', '<s>', 'right', 'common', 'femoral', 'artery', 'cannulated', 'using', 'modified', 'seldinger', 'technique', 'long', '6french', 'ao', 'sheath', 'introduced', 'secondary', 'tortuous', 'aorta', '</s>', '</s>', '<s>', '<s>', 'next', 'judkins', 'left', 'catheter', 'used', 'engage', 'left', 'coronary', 'system', '</s>', '</s>', '<s>', '<s>', 'cineangiography', 'recorded', 'multiple', 'views', '</s>', '</s>', '<s>', '<s>', 'next', 'judkins', 'right', 'catheter', 'used', 'engage', 'right', 'coronary', 'system', '</s>', '</s>', '<s>', '<s>', 'cineangiography', 'recorded', 'multiple', 'views', '</s>', '</s>', '<s>', '<s>', 'next', 'judkins', 'right', 'catheter', 'used', 'engage', 'svg', 'om', '</s>', '</s>', '<s>', '<s>', 'cineangiography', 'recorded', '</s>', '</s>', '<s>', '<s>', 'next', 'judkins', 'right', 'advanced', 'left', 'subclavian', 'exchanged', 'long', 'exchange', 'length', 'jwire', '4french', 'left', 'internal', 'mammary', 'artery', 'used', 'engage', 'lima', 'graft', 'lad', 'cineangiography', 'recorded', 'multiple', 'views', '</s>', '</s>', '<s>', '<s>', 'next', 'angled', 'pigtail', 'catheter', 'advanced', 'left', 'ventricular', 'cavity', '</s>', '</s>', '<s>', '<s>', 'lv', 'pressures', 'measured', '</s>', '</s>', '<s>', '<s>', 'lv', 'gram', 'done', 'pullback', 'gradient', 'across', 'aortic', 'valve', 'done', 'recorded', '</s>', '</s>', '<s>', '<s>', 'next', 'aortogram', 'done', 'recorded', '</s>', '</s>', '<s>', '<s>', 'point', 'decided', 'proceed', 'percutaneous', 'intervention', 'left', 'circumflex', '</s>', '</s>', '<s>', '<s>', 'therefore', 'ava', '35', 'guide', 'used', 'engage', 'left', 'coronary', 'artery', '</s>', '</s>', '<s>', '<s>', 'angiomax', 'bolus', 'drip', 'started', '</s>', '</s>', '<s>', '<s>', 'universal', 'wire', 'advanced', 'past', 'lesion', '25balloon', 'advanced', 'first', 'proximal', 'lesions', 'predilations', 'done', '14', 'atmospheres', 'distal', 'lesion', 'predilatation', 'done', '12', 'atmospheres', '</s>', '</s>', '<s>', '<s>', 'next', 'attempted', 'advance', '30', 'x', '12', 'stent', 'distal', 'lesion', 'however', 'unable', 'pass', 'stent', '</s>', '</s>', '<s>', '<s>', 'next', 'second', 'dilatations', 'done', '25', 'balloon', '18', 'atmospheres', 'however', 'unable', 'break', 'lesion', '</s>', '</s>', '<s>', '<s>', 'next', 'attempted', 'cutting', 'balloon', '</s>', '</s>', '<s>', '<s>', 'unable', 'cross', 'lesion', 'therefore', 'buddy', 'wire', 'technique', 'used', 'pt', 'choice', 'support', 'wire', '</s>', '</s>', '<s>', '<s>', 'unable', 'cross', 'lesion', 'stent', '</s>', '</s>', '<s>', '<s>', 'try', 'cross', 'noncompliant', 'balloon', 'unsuccessful', '</s>', '</s>', '<s>', '<s>', 'also', 'try', 'cutting', 'balloon', 'unsuccessful', '</s>', '</s>', '<s>', '<s>', 'despite', 'multiple', 'dilatations', 'unable', 'cross', 'anything', 'beyond', 'noncompliant', 'balloon', 'across', 'lesion', 'therefore', 'finally', 'procedure', 'aborted', '</s>', '</s>', '<s>', '<s>', 'final', 'images', 'showed', 'evidence', 'dissection', 'perforation', 'complication', '</s>', '</s>', '<s>', '<s>', 'right', 'groin', 'filled', 'taking', 'image', 'confirm', 'sheath', 'placement', 'bifurcation', 'excellent', 'results', '</s>', '</s>', '<s>', '<s>', 'patient', 'tolerated', 'procedure', 'well', 'without', 'complications', 'taken', 'operating', 'table', 'transferred', 'back', 'cardiac', 'telemetry', 'floor', 'diagnostic', 'findings1', '</s>', '</s>', '<s>', '<s>', 'lv', '</s>', '</s>', '<s>', '<s>', 'lvedp', '4', '</s>', '</s>', '<s>', '<s>', 'lves', 'approximately', '50', '55', 'inferobasal', 'hypokinesis', '</s>', '</s>', '<s>', '<s>', 'significant', 'mr', 'gradient', 'across', 'aortic', 'valve2', '</s>', '</s>', '<s>', '<s>', 'aortogram', '</s>', '</s>', '<s>', '<s>', 'ascending', 'aorta', 'shows', 'significant', 'dilatation', 'evidence', 'dissection', '</s>', '</s>', '<s>', '<s>', 'valve', 'shows', 'significant', 'aortic', 'insufficiencies', '</s>', '</s>', '<s>', '<s>', 'abdominal', 'aorta', 'distal', 'aorta', 'shows', 'significant', 'tortuosities3', '</s>', '</s>', '<s>', '<s>', 'left', 'main', '</s>', '</s>', '<s>', '<s>', 'left', 'main', 'coronary', 'artery', 'large', 'caliber', 'vessel', 'bifurcating', 'lad', 'left', 'circumflex', 'mild', 'distal', 'disease', '10', '20', '4', '</s>', '</s>', '<s>', '<s>', 'left', 'circumflex', '</s>', '</s>', '<s>', '<s>', 'left', 'circumflex', 'vessel', 'large', 'caliber', 'vessel', 'gives', 'distal', 'branching', 'obtuse', 'marginal', 'branch', '</s>', '</s>', '<s>', '<s>', 'upper', 'pole', 'om', 'shows', 'retrograde', 'filling', 'distal', 'graft', 'also', 'point', 'approximately', '70', '80', 'stenosis', '</s>', '</s>', '<s>', '<s>', 'mid', 'left', 'circumflex', 'highgrade', '80', 'diffuse', 'tortuous', 'stenosis5', '</s>', '</s>', '<s>', '<s>', 'lad', '</s>', '</s>', '<s>', '<s>', 'lad', 'totally', '100', 'occluded', 'vessel', '</s>', '</s>', '<s>', '<s>', 'lima', 'lad', 'patent', 'smalltomoderate', 'caliber', 'lad', '</s>', '</s>', '<s>', '<s>', 'large', 'diagonal', 'branch', 'coming', 'proximal', 'portion', 'lad', 'proximal', 'lad', 'showed', 'diffuse', 'disease', 'upwards', '60', '70', '</s>', '</s>', '<s>', '<s>', 'diagonal', 'shows', 'proximal', '80', 'stenosis6', '</s>', '</s>', '<s>', '<s>', 'right', 'coronary', 'artery', 'right', 'coronary', 'artery', '100', 'occluded', '</s>', '</s>', '<s>', '<s>', 'retrograde', 'collaterals', 'left', 'right', 'distal', 'pda', 'plv', 'branches', '</s>', '</s>', '<s>', '<s>', 'svg', 'om', '100', 'occluded', 'take', '</s>', '</s>', '<s>', '<s>', 'svg', 'pda', 'found', 'however', 'presumed', '100', 'occluded', 'given', 'collateral', 'flow', 'distal', 'right7', '</s>', '</s>', '<s>', '<s>', 'lima', 'lad', 'widely', 'patent', 'assessment', 'plan', 'attempted', 'intervention', 'left', 'circumflex', 'system', 'able', 'perform', 'plano', 'balloon', 'angioplasty', 'unable', 'pass', 'stents', 'noncompliant', 'balloons', 'cutting', 'balloon', '</s>', '</s>', '<s>', '<s>', 'final', 'images', 'showed', 'improvement', 'however', 'continued', 'residual', 'stenosis', '</s>', '</s>', '<s>', '<s>', 'point', 'patient', 'transferred', 'back', 'telemetry', 'floor', 'monitored', '</s>', '</s>', '<s>', '<s>', 'attempt', 'future', 'intervention', 'continue', 'aggressive', 'medical', 'management', '</s>', '</s>', '<s>', '<s>', 'patient', 'continues', 'residual', 'stenosis', 'diagonal', 'however', 'due', 'length', 'procedure', 'attempt', 'intervention', 'diagonal', 'branch', '</s>', '</s>', '<s>', '<s>', 'possible', 'consideration', 'would', 'stress', 'test', 'outpatient', 'depending', 'patient', 'shows', 'ischemia', 'focus', 'treatment', 'lesion', '</s>', '</s>']\n",
      "\t 0 Cardiovascular\n",
      "\t ['<s>', '<s>', 'history', 'present', 'illness', 'patient', 'presents', 'today', 'followup', 'history', 'erectile', 'dysfunction', 'last', 'visit', 'started', 'cialis', '10', 'mg', '</s>', '</s>', '<s>', '<s>', 'indicates', 'noticed', 'mild', 'improvement', 'symptoms', 'side', 'effect', '</s>', '</s>', '<s>', '<s>', 'dose', 'firm', 'erection', 'able', 'penetrate', 'lasting', '10', 'minutes', '</s>', '</s>', '<s>', '<s>', 'chest', 'pain', 'nitroglycerin', 'usage', 'fever', 'chills', '</s>', '</s>', '<s>', '<s>', 'dysuria', 'gross', 'hematuria', 'fever', 'chills', '</s>', '</s>', '<s>', '<s>', 'daytime', 'frequency', 'every', 'three', 'hours', 'nocturia', 'times', '0', 'good', 'stream', '</s>', '</s>', '<s>', '<s>', 'history', 'elevated', 'psa', 'biopsy', 'june', 'year', 'noted', 'high', 'grade', 'pin', 'mid', 'left', 'biopsy', 'two', 'specimens', 'small', 'evaluate', '</s>', '</s>', '<s>', '<s>', 'psa', '116', '</s>', '</s>', '<s>', '<s>', 'dr', 'x', 'notes', 'reviewed', 'impression', '1', '</s>', '</s>', '<s>', '<s>', 'improvement', 'erectile', 'dysfunction', 'low', 'dose', 'cialis', 'side', 'effects', '</s>', '</s>', '<s>', '<s>', 'patient', 'multiple', 'risk', 'factors', 'denies', 'using', 'nitroglycerin', 'cardiac', 'issues', 'time', '</s>', '</s>', '<s>', '<s>', 'reviewed', 'options', 'increasing', 'medication', 'versus', 'trying', 'medications', 'options', 'penile', 'prosthesis', 'caverject', 'injection', 'use', 'well', 'working', 'pump', 'reviewed2', '</s>', '</s>', '<s>', '<s>', 'elevated', 'psa', 'patient', 'recent', 'biopsy', 'showing', 'highgrade', 'pin', 'well', 'two', 'specimens', 'large', 'enough', 'evaluate', '</s>', '</s>', '<s>', '<s>', 'patient', 'tells', 'met', 'primary', 'care', 'physician', 'discussion', 'consideration', 'repeating', 'prostate', 'ultrasound', 'biopsy', '</s>', '</s>', '<s>', '<s>', 'however', 'would', 'like', 'meet', 'dr', 'x', 'discuss', 'prior', 'biopsy', 'plan', 'following', 'detailed', 'discussion', 'patient', 'wishes', 'proceed', 'cialis', '20', 'mg', 'samples', 'provided', 'well', 'levitra', '10', 'mg', 'may', 'increase', '20', 'mg', 'understand', 'administration', 'contraindication', 'well', 'potential', 'side', 'effects', 'reviewed', '</s>', '</s>', '<s>', '<s>', 'patient', 'use', 'time', '</s>', '</s>', '<s>', '<s>', 'call', 'concern', '</s>', '</s>', '<s>', '<s>', 'meantime', 'scheduled', 'meet', 'dr', 'x', 'prior', 'psa', 'consideration', 'possible', 'repeating', 'prostate', 'ultrasound', 'biopsy', '</s>', '</s>', '<s>', '<s>', 'declined', 'scheduling', 'time', '</s>', '</s>', '<s>', '<s>', 'questions', 'answered', '</s>', '</s>']\n",
      "\t 1 Other\n",
      "Second line of train/test data:\n",
      "\t ['<s>', '<s>', 'pre', 'postoperative', 'diagnosis', 'left', 'cervical', 'radiculopathy', 'c5', 'c6', 'operation', 'left', 'c56', 'hemilaminotomy', 'foraminotomy', 'medial', 'facetectomy', 'microscopic', 'decompression', 'nerve', 'root', 'informed', 'consent', 'obtained', 'patient', 'taken', '</s>', '</s>', '<s>', '<s>', 'general', 'anesthesia', 'induced', 'ted', 'hose', 'stockings', 'pneumatic', 'compression', 'stockings', 'placed', 'patient', 'foley', 'catheter', 'also', 'inserted', '</s>', '</s>', '<s>', '<s>', 'point', 'patient', 'placed', 'three', 'point', 'fixation', 'mayfield', 'head', 'holder', 'patient', 'placed', 'operating', 'table', 'prone', 'position', '</s>', '</s>', '<s>', '<s>', 'patient', 'posterior', 'cervical', 'area', 'prepped', 'draped', 'usual', 'sterile', 'fashion', '</s>', '</s>', '<s>', '<s>', 'time', 'patient', 'incision', 'site', 'infiltrated', '1', 'percent', 'lidocaine', 'epinephrine', '</s>', '</s>', '<s>', '<s>', 'scalpel', 'used', 'make', 'approximate', '3', 'cm', 'skin', 'incision', 'cephalad', 'prominent', 'c7', 'spinous', 'processes', 'could', 'palpated', '</s>', '</s>', '<s>', '<s>', 'dissection', 'spinous', 'process', 'using', 'bovie', 'cautery', 'clamp', 'placed', 'spinous', 'processes', 'cross', 'table', 'lateral', 'xray', 'taken', '</s>', '</s>', '<s>', '<s>', 'showed', 'spinous', 'process', 'c4', 'level', '</s>', '</s>', '<s>', '<s>', 'therefore', 'soft', 'tissue', 'dissection', 'carried', 'caudally', 'level', 'next', 'spinous', 'processes', 'presumed', 'c5', 'identified', '</s>', '</s>', '<s>', '<s>', 'muscle', 'dissected', 'lamina', 'laterally', 'left', 'side', 'self', 'retaining', 'retractors', 'placed', 'hemostasis', 'achieved', 'penfield', 'probe', 'placed', 'interspace', 'presumed', 'c56', 'another', 'cross', 'table', 'lateral', 'xray', 'c', 'spine', 'taken', '</s>', '</s>', '<s>', '<s>', 'film', 'confirmed', 'position', 'c56', 'therefore', 'operating', 'microscope', 'brought', 'onto', 'field', 'time', '</s>', '</s>', '<s>', '<s>', 'time', 'kerrison', 'rongeur', 'used', 'perform', 'hemilaminotomy', 'starting', 'inferior', 'margin', 'superior', 'lamina', '</s>', '</s>', '<s>', '<s>', 'superior', 'margin', 'inferior', 'lamina', 'c6', 'also', 'taken', 'kerrison', 'rongeur', 'ligaments', 'freed', 'using', 'woodson', 'probe', '</s>', '</s>', '<s>', '<s>', 'extended', 'laterally', 'perform', 'medial', 'facetectomy', 'also', 'using', 'kerrison', 'rongeur', '</s>', '</s>', '<s>', '<s>', 'however', 'progress', 'limited', 'thickness', 'bone', '</s>', '</s>', '<s>', '<s>', 'therefore', 'time', 'midasrex', 'drill', 'am8', 'bit', 'brought', 'onto', 'field', 'used', 'thin', 'bone', 'around', 'laminotomy', 'medial', 'facetectomy', 'area', '</s>', '</s>', '<s>', '<s>', 'bone', 'thinned', 'bone', 'removed', 'using', 'kerrison', 'rongeur', '</s>', '</s>', '<s>', '<s>', 'point', 'nerve', 'root', 'visually', 'inspected', 'observed', 'decompressed', '</s>', '</s>', '<s>', '<s>', 'however', 'layer', 'fibrous', 'tissue', 'overlying', 'exiting', 'nerve', 'root', 'removed', 'placing', 'woodson', 'resector', 'plane', 'fibrous', 'sheath', 'nerve', 'root', 'incising', '15', 'blade', '</s>', '</s>', '<s>', '<s>', 'hemostasis', 'achieved', 'using', 'gelfoam', 'well', 'bipolar', 'electrocautery', '</s>', '</s>', '<s>', '<s>', 'hemostasis', 'achieved', 'surgical', 'site', 'copiously', 'irrigated', 'bacitracin', '</s>', '</s>', '<s>', '<s>', 'closure', 'initiated', 'closing', 'muscle', 'layer', 'fascial', 'layer', '0', 'vicryl', 'stitches', '</s>', '</s>', '<s>', '<s>', 'subcutaneous', 'layer', 'reapproximated', 'using', '000', 'dexon', '</s>', '</s>', '<s>', '<s>', 'skin', 'reapproximated', 'using', 'running', '000', 'nylon', '</s>', '</s>', '<s>', '<s>', 'sterile', 'dressings', 'applied', '</s>', '</s>', '<s>', '<s>', 'patient', 'extubated', 'transferred', 'recovery', 'room', 'stable', 'condition', 'estimated', 'blood', 'loss', 'minimal', '</s>', '</s>']\n",
      "\t 1 Other\n",
      "\t ['<s>', '<s>', 'procedure', 'performed', 'esophagogastroduodenoscopy', 'performed', 'emergency', 'department', 'indication', 'melena', 'acute', 'upper', 'gi', 'bleed', 'anemia', 'history', 'cirrhosis', 'varices', 'final', 'impression1', '</s>', '</s>', '<s>', '<s>', 'scope', 'passage', 'massive', 'liquid', 'stomach', 'fresh', 'blood', 'near', 'fundus', 'unable', 'identify', 'source', 'due', 'gastric', 'contents2', '</s>', '</s>', '<s>', '<s>', 'endoscopy', 'following', 'erythromycin', 'demonstrated', 'grade', 'esophageal', 'varices', '</s>', '</s>', '<s>', '<s>', 'stigmata', 'active', 'bleeding', '</s>', '</s>', '<s>', '<s>', 'small', 'amount', 'fresh', 'blood', 'within', 'hiatal', 'hernia', '</s>', '</s>', '<s>', '<s>', 'definite', 'source', 'bleeding', 'seen', 'plan1', '</s>', '</s>', '<s>', '<s>', 'repeat', 'egd', 'tomorrow', 'morning', 'following', 'aggressive', 'resuscitation', 'transfusion2', '</s>', '</s>', '<s>', '<s>', 'protonpump', 'inhibitor', 'drip3', '</s>', '</s>', '<s>', '<s>', 'octreotide', 'drip4', '</s>', '</s>', '<s>', '<s>', 'icu', 'bed', 'procedure', 'details', 'prior', 'procedure', 'physical', 'exam', 'stable', '</s>', '</s>', '<s>', '<s>', 'procedure', 'vital', 'signs', 'remained', 'within', 'normal', 'limits', '</s>', '</s>', '<s>', '<s>', 'prior', 'sedation', 'informed', 'consent', 'obtained', '</s>', '</s>', '<s>', '<s>', 'risks', 'benefits', 'alternatives', 'including', 'limited', 'risk', 'bleeding', 'infection', 'perforation', 'adverse', 'reaction', 'medication', 'failure', 'identify', 'pathology', 'pancreatitis', 'death', 'explained', 'patient', 'wife', 'accepted', 'risks', '</s>', '</s>', '<s>', '<s>', 'patient', 'prepped', 'left', 'lateral', 'position', '</s>', '</s>', '<s>', '<s>', 'iv', 'sedation', 'given', 'total', 'fentanyl', '100', 'mcg', 'midazolam', '4', 'mg', 'initial', 'egd', '</s>', '</s>', '<s>', '<s>', 'additional', '50', 'mcg', 'fentanyl', '2', 'mg', 'midazolam', 'given', 'following', 'erythromycin', '</s>', '</s>', '<s>', '<s>', 'scope', 'tip', 'olympus', 'gastroscope', 'passed', 'esophagus', '</s>', '</s>', '<s>', '<s>', 'proximal', 'middle', 'distal', 'thirds', 'esophagus', 'well', 'visualized', '</s>', '</s>', '<s>', '<s>', 'fresh', 'blood', 'esophagus', 'washed', 'thoroughly', 'source', 'seen', '</s>', '</s>', '<s>', '<s>', 'evidence', 'varices', 'seen', '</s>', '</s>', '<s>', '<s>', 'stomach', 'entered', '</s>', '</s>', '<s>', '<s>', 'stomach', 'filled', 'large', 'clot', 'fresh', 'blood', 'liquid', 'could', 'suctioned', 'due', 'clot', 'burden', '</s>', '</s>', '<s>', '<s>', 'small', 'amount', 'bright', 'red', 'blood', 'near', 'fundus', 'source', 'could', 'identified', 'due', 'clot', 'burden', '</s>', '</s>', '<s>', '<s>', 'gastroscope', 'withdrawn', '</s>', '</s>', '<s>', '<s>', 'patient', 'given', '250', 'mg', 'erythromycin', 'emergency', 'department', '30', 'minutes', 'later', 'scope', 'repassed', '</s>', '</s>', '<s>', '<s>', 'second', 'look', 'esophagus', 'cleared', '</s>', '</s>', '<s>', '<s>', 'liquid', 'gastric', 'contents', 'cleared', '</s>', '</s>', '<s>', '<s>', 'still', 'moderate', 'amount', 'clot', 'burden', 'stomach', 'active', 'bleeding', 'seen', '</s>', '</s>', '<s>', '<s>', 'small', 'grade', 'esophageal', 'varices', 'stigmata', 'bleed', '</s>', '</s>', '<s>', '<s>', 'also', 'small', 'amount', 'fresh', 'blood', 'within', 'hiatal', 'hernia', 'source', 'bleeding', 'identified', '</s>', '</s>', '<s>', '<s>', 'patient', 'hemodynamically', 'stable', 'therefore', 'decision', 'made', 'second', 'look', 'morning', '</s>', '</s>', '<s>', '<s>', 'scope', 'withdrawn', 'air', 'suctioned', '</s>', '</s>', '<s>', '<s>', 'patient', 'tolerated', 'procedure', 'well', 'sent', 'recovery', 'without', 'immediate', 'complications', '</s>', '</s>']\n",
      "\t 1 Other\n"
     ]
    }
   ],
   "source": [
    "add_intent, intent_to_int, int_to_intent = MagnitudeUtils.class_encoding()\n",
    "\n",
    "x_train = [ehr_note[1].split(' ') for ehr_note in ehr_notes_clean[:2200]]\n",
    "x_test = [ehr_note[1].split(' ') for ehr_note in ehr_notes_clean[2201:]]\n",
    "\n",
    "y_train = [add_intent(ehr_note[0]) for ehr_note in ehr_notes_clean[:2200]]\n",
    "y_test = [add_intent(ehr_note[0]) for ehr_note in ehr_notes_clean[2201:]]\n",
    "\n",
    "y_train = list(np.array(y_train).reshape(len(y_train)))\n",
    "y_test = list(np.array(y_test).reshape(len(y_test)))\n",
    "\n",
    "num_training = len(x_train)\n",
    "num_test = len(x_test)\n",
    "num_outputs = int(max(max(y_train), max(y_test))) + 1\n",
    "\n",
    "print(int_to_intent(0))\n",
    "\n",
    "print(\"First line of train/test data:\")\n",
    "print(\"\\t\", x_train[0])\n",
    "print(\"\\t\", y_train[0], int_to_intent(y_train[0]))\n",
    "print(\"\\t\", x_test[0])\n",
    "print(\"\\t\", y_test[0], int_to_intent(y_test[0]))\n",
    "print(\"Second line of train/test data:\")\n",
    "print(\"\\t\", x_train[1])\n",
    "print(\"\\t\", y_train[1], int_to_intent(y_train[1]))\n",
    "print(\"\\t\", x_test[1])\n",
    "print(\"\\t\", y_test[1], int_to_intent(y_test[1]))"
   ]
  },
  {
   "cell_type": "markdown",
   "metadata": {},
   "source": [
    "## Defining Custom Callback Function"
   ]
  },
  {
   "cell_type": "code",
   "execution_count": 7,
   "metadata": {},
   "outputs": [],
   "source": [
    "def f1(y_true, y_pred):\n",
    "    def recall(y_true, y_pred):\n",
    "        \"\"\"Recall metric.\n",
    "\n",
    "        Only computes a batch-wise average of recall.\n",
    "\n",
    "        Computes the recall, a metric for multi-label classification of\n",
    "        how many relevant items are selected.\n",
    "        \"\"\"\n",
    "        true_positives = K.sum(K.round(K.clip(y_true * y_pred, 0, 1)))\n",
    "        possible_positives = K.sum(K.round(K.clip(y_true, 0, 1)))\n",
    "        recall = true_positives / (possible_positives + K.epsilon())\n",
    "        return recall\n",
    "\n",
    "    def precision(y_true, y_pred):\n",
    "        \"\"\"Precision metric.\n",
    "\n",
    "        Only computes a batch-wise average of precision.\n",
    "\n",
    "        Computes the precision, a metric for multi-label classification of\n",
    "        how many selected items are relevant.\n",
    "        \"\"\"\n",
    "        true_positives = K.sum(K.round(K.clip(y_true * y_pred, 0, 1)))\n",
    "        predicted_positives = K.sum(K.round(K.clip(y_pred, 0, 1)))\n",
    "        precision = true_positives / (predicted_positives + K.epsilon())\n",
    "        return precision\n",
    "    \n",
    "    precision = precision(y_true, y_pred)\n",
    "    recall = recall(y_true, y_pred)\n",
    "    return 2*((precision*recall)/(precision+recall+K.epsilon()))"
   ]
  },
  {
   "cell_type": "markdown",
   "metadata": {},
   "source": [
    "## Defining Model"
   ]
  },
  {
   "cell_type": "code",
   "execution_count": 8,
   "metadata": {},
   "outputs": [
    {
     "name": "stdout",
     "output_type": "stream",
     "text": [
      "_________________________________________________________________\n",
      "Layer (type)                 Output Shape              Param #   \n",
      "=================================================================\n",
      "gaussian_noise_1 (GaussianNo (None, 2339, 200)         0         \n",
      "_________________________________________________________________\n",
      "bidirectional_1 (Bidirection (None, 200)               240800    \n",
      "_________________________________________________________________\n",
      "dropout_1 (Dropout)          (None, 200)               0         \n",
      "_________________________________________________________________\n",
      "dense_1 (Dense)              (None, 2)                 402       \n",
      "=================================================================\n",
      "Total params: 241,202\n",
      "Trainable params: 241,202\n",
      "Non-trainable params: 0\n",
      "_________________________________________________________________\n"
     ]
    }
   ],
   "source": [
    "STD_DEV = 0.01 # Deviation of noise for Gaussian Noise applied to the embeddings\n",
    "DROPOUT_RATIO = .5 # The ratio to dropout\n",
    "BATCH_SIZE = 100 # The number of examples per train/validation step\n",
    "EPOCHS = 100 # The number of times to repeat through all of the training data\n",
    "LEARNING_RATE = .01 # The learning rate for the optimizer\n",
    "HIDDEN_UNITS = 100\n",
    "\n",
    "model = Sequential()\n",
    "model.add(GaussianNoise(STD_DEV, input_shape=(MAX_WORDS, med_vectors.dim)))\n",
    "model.add(Bidirectional(LSTM(HIDDEN_UNITS, activation='tanh'), merge_mode='concat'))\n",
    "model.add(Dropout(DROPOUT_RATIO))\n",
    "model.add(Dense(num_outputs, activation='softmax'))\n",
    "model.compile(optimizer='adam',\n",
    "              loss='binary_crossentropy',\n",
    "              metrics=['accuracy', f1])\n",
    "model.summary()"
   ]
  },
  {
   "cell_type": "markdown",
   "metadata": {},
   "source": [
    "## Training Batches and Epochs"
   ]
  },
  {
   "cell_type": "code",
   "execution_count": 9,
   "metadata": {},
   "outputs": [
    {
     "name": "stdout",
     "output_type": "stream",
     "text": [
      "Epoch 1/100\n",
      "22/22 [==============================] - 1166s 53s/step - loss: 0.4773 - acc: 0.8464 - f1: 0.8464 - val_loss: 0.3616 - val_acc: 0.8832 - val_f1: 0.8832\n",
      "Epoch 2/100\n",
      "22/22 [==============================] - 209s 9s/step - loss: 0.3877 - acc: 0.8505 - f1: 0.8505 - val_loss: 0.3205 - val_acc: 0.8832 - val_f1: 0.8832\n",
      "Epoch 3/100\n",
      "22/22 [==============================] - 235s 11s/step - loss: 0.3752 - acc: 0.8582 - f1: 0.8582 - val_loss: 0.3216 - val_acc: 0.8832 - val_f1: 0.8832\n",
      "Epoch 4/100\n",
      "22/22 [==============================] - 236s 11s/step - loss: 0.3402 - acc: 0.8555 - f1: 0.8555 - val_loss: 0.2821 - val_acc: 0.8974 - val_f1: 0.8974\n",
      "Epoch 5/100\n",
      "22/22 [==============================] - 236s 11s/step - loss: 0.2659 - acc: 0.8891 - f1: 0.8891 - val_loss: 0.1784 - val_acc: 0.9145 - val_f1: 0.9145\n",
      "Epoch 6/100\n",
      "22/22 [==============================] - 235s 11s/step - loss: 0.2162 - acc: 0.9027 - f1: 0.9027 - val_loss: 0.1727 - val_acc: 0.9231 - val_f1: 0.9231\n",
      "Epoch 7/100\n",
      "22/22 [==============================] - 235s 11s/step - loss: 0.2298 - acc: 0.8891 - f1: 0.8891 - val_loss: 0.1945 - val_acc: 0.9088 - val_f1: 0.9088\n",
      "Epoch 8/100\n",
      "22/22 [==============================] - 234s 11s/step - loss: 0.2158 - acc: 0.9100 - f1: 0.9100 - val_loss: 0.1805 - val_acc: 0.9174 - val_f1: 0.9174\n",
      "Epoch 9/100\n",
      "22/22 [==============================] - 236s 11s/step - loss: 0.1978 - acc: 0.9127 - f1: 0.9127 - val_loss: 0.1830 - val_acc: 0.9231 - val_f1: 0.9231\n",
      "Epoch 10/100\n",
      "22/22 [==============================] - 234s 11s/step - loss: 0.2014 - acc: 0.9145 - f1: 0.9145 - val_loss: 0.1652 - val_acc: 0.9231 - val_f1: 0.9231\n",
      "Epoch 11/100\n",
      "22/22 [==============================] - 235s 11s/step - loss: 0.1884 - acc: 0.9182 - f1: 0.9182 - val_loss: 0.1722 - val_acc: 0.9231 - val_f1: 0.9231\n",
      "Epoch 12/100\n",
      "22/22 [==============================] - 235s 11s/step - loss: 0.2082 - acc: 0.9105 - f1: 0.9105 - val_loss: 0.2216 - val_acc: 0.8946 - val_f1: 0.8946\n",
      "Epoch 13/100\n",
      "22/22 [==============================] - 237s 11s/step - loss: 0.1988 - acc: 0.9141 - f1: 0.9141 - val_loss: 0.1645 - val_acc: 0.9288 - val_f1: 0.9288\n",
      "Epoch 14/100\n",
      "22/22 [==============================] - 239s 11s/step - loss: 0.1684 - acc: 0.9241 - f1: 0.9241 - val_loss: 0.1598 - val_acc: 0.9345 - val_f1: 0.9345\n",
      "Epoch 15/100\n",
      "22/22 [==============================] - 236s 11s/step - loss: 0.1605 - acc: 0.9318 - f1: 0.9318 - val_loss: 0.1691 - val_acc: 0.9202 - val_f1: 0.9202\n",
      "Epoch 17/100\n",
      "22/22 [==============================] - 236s 11s/step - loss: 0.1606 - acc: 0.9277 - f1: 0.9277 - val_loss: 0.1607 - val_acc: 0.9345 - val_f1: 0.9345\n",
      "Epoch 18/100\n",
      "22/22 [==============================] - 235s 11s/step - loss: 0.1506 - acc: 0.9327 - f1: 0.9327 - val_loss: 0.1594 - val_acc: 0.9373 - val_f1: 0.9373\n",
      "Epoch 19/100\n",
      "22/22 [==============================] - 233s 11s/step - loss: 0.1500 - acc: 0.9327 - f1: 0.9327 - val_loss: 0.1542 - val_acc: 0.9459 - val_f1: 0.9459\n",
      "Epoch 20/100\n",
      "22/22 [==============================] - 235s 11s/step - loss: 0.1548 - acc: 0.9286 - f1: 0.9286 - val_loss: 0.1636 - val_acc: 0.9231 - val_f1: 0.9231\n",
      "Epoch 21/100\n",
      "22/22 [==============================] - 234s 11s/step - loss: 0.1410 - acc: 0.9332 - f1: 0.9332 - val_loss: 0.1614 - val_acc: 0.9373 - val_f1: 0.9373\n",
      "Epoch 22/100\n",
      "22/22 [==============================] - 235s 11s/step - loss: 0.1381 - acc: 0.9341 - f1: 0.9341 - val_loss: 0.1657 - val_acc: 0.9373 - val_f1: 0.9373\n",
      "Epoch 23/100\n",
      "22/22 [==============================] - 236s 11s/step - loss: 0.1535 - acc: 0.9264 - f1: 0.9264 - val_loss: 0.2650 - val_acc: 0.8946 - val_f1: 0.8946\n",
      "Epoch 24/100\n",
      "22/22 [==============================] - 235s 11s/step - loss: 0.2335 - acc: 0.8900 - f1: 0.8900 - val_loss: 0.1786 - val_acc: 0.9202 - val_f1: 0.9202\n",
      "Epoch 25/100\n",
      "22/22 [==============================] - 235s 11s/step - loss: 0.1749 - acc: 0.9245 - f1: 0.9245 - val_loss: 0.1722 - val_acc: 0.9259 - val_f1: 0.9259\n",
      "Epoch 26/100\n",
      "22/22 [==============================] - 236s 11s/step - loss: 0.1615 - acc: 0.9286 - f1: 0.9286 - val_loss: 0.1567 - val_acc: 0.9345 - val_f1: 0.9345\n",
      "Epoch 27/100\n",
      "22/22 [==============================] - 233s 11s/step - loss: 0.1709 - acc: 0.9268 - f1: 0.9268 - val_loss: 0.1638 - val_acc: 0.9316 - val_f1: 0.9316\n",
      "Epoch 28/100\n",
      "22/22 [==============================] - 235s 11s/step - loss: 0.1818 - acc: 0.9232 - f1: 0.9232 - val_loss: 0.2326 - val_acc: 0.9088 - val_f1: 0.9088\n",
      "Epoch 29/100\n",
      "22/22 [==============================] - 234s 11s/step - loss: 0.2047 - acc: 0.9082 - f1: 0.9082 - val_loss: 0.1743 - val_acc: 0.9288 - val_f1: 0.9288\n",
      "Epoch 30/100\n",
      "22/22 [==============================] - 235s 11s/step - loss: 0.1475 - acc: 0.9332 - f1: 0.9332 - val_loss: 0.1522 - val_acc: 0.9402 - val_f1: 0.9402\n",
      "Epoch 31/100\n",
      "22/22 [==============================] - 234s 11s/step - loss: 0.1360 - acc: 0.9341 - f1: 0.9341 - val_loss: 0.1477 - val_acc: 0.9430 - val_f1: 0.9430\n",
      "Epoch 32/100\n",
      "22/22 [==============================] - 233s 11s/step - loss: 0.1362 - acc: 0.9377 - f1: 0.9377 - val_loss: 0.1732 - val_acc: 0.9345 - val_f1: 0.9345\n",
      "Epoch 33/100\n",
      "22/22 [==============================] - 235s 11s/step - loss: 0.1355 - acc: 0.9386 - f1: 0.9386 - val_loss: 0.1535 - val_acc: 0.9373 - val_f1: 0.9373\n",
      "Epoch 34/100\n",
      "22/22 [==============================] - 233s 11s/step - loss: 0.1383 - acc: 0.9395 - f1: 0.9395 - val_loss: 0.1540 - val_acc: 0.9430 - val_f1: 0.9430\n",
      "Epoch 35/100\n",
      "22/22 [==============================] - 233s 11s/step - loss: 0.1362 - acc: 0.9323 - f1: 0.9323 - val_loss: 0.1745 - val_acc: 0.9231 - val_f1: 0.9231\n",
      "Epoch 36/100\n",
      "22/22 [==============================] - 235s 11s/step - loss: 0.1269 - acc: 0.9441 - f1: 0.9441 - val_loss: 0.1564 - val_acc: 0.9316 - val_f1: 0.9316\n",
      "Epoch 37/100\n",
      "22/22 [==============================] - 234s 11s/step - loss: 0.1277 - acc: 0.9377 - f1: 0.9377 - val_loss: 0.1689 - val_acc: 0.9288 - val_f1: 0.9288\n",
      "Epoch 38/100\n",
      "22/22 [==============================] - 233s 11s/step - loss: 0.1279 - acc: 0.9436 - f1: 0.9436 - val_loss: 0.1960 - val_acc: 0.9288 - val_f1: 0.9288\n",
      "Epoch 39/100\n",
      "22/22 [==============================] - 233s 11s/step - loss: 0.1438 - acc: 0.9318 - f1: 0.9318 - val_loss: 0.1601 - val_acc: 0.9288 - val_f1: 0.9288\n",
      "Epoch 40/100\n",
      "22/22 [==============================] - 234s 11s/step - loss: 0.1205 - acc: 0.9468 - f1: 0.9468 - val_loss: 0.1492 - val_acc: 0.9373 - val_f1: 0.9373\n",
      "Epoch 41/100\n",
      "22/22 [==============================] - 234s 11s/step - loss: 0.1156 - acc: 0.9441 - f1: 0.9441 - val_loss: 0.1517 - val_acc: 0.9345 - val_f1: 0.9345\n",
      "Epoch 42/100\n",
      "22/22 [==============================] - 237s 11s/step - loss: 0.1124 - acc: 0.9464 - f1: 0.9464 - val_loss: 0.1587 - val_acc: 0.9316 - val_f1: 0.9316\n",
      "Epoch 43/100\n",
      "22/22 [==============================] - 236s 11s/step - loss: 0.1239 - acc: 0.9423 - f1: 0.9423 - val_loss: 0.1635 - val_acc: 0.9402 - val_f1: 0.9402\n",
      "Epoch 44/100\n",
      "22/22 [==============================] - 237s 11s/step - loss: 0.1169 - acc: 0.9459 - f1: 0.9459 - val_loss: 0.1853 - val_acc: 0.9345 - val_f1: 0.9345\n",
      "Epoch 45/100\n",
      "22/22 [==============================] - 234s 11s/step - loss: 0.1135 - acc: 0.9450 - f1: 0.9450 - val_loss: 0.1761 - val_acc: 0.9345 - val_f1: 0.9345\n",
      "Epoch 46/100\n",
      "22/22 [==============================] - 235s 11s/step - loss: 0.1143 - acc: 0.9455 - f1: 0.9455 - val_loss: 0.1774 - val_acc: 0.9316 - val_f1: 0.9316\n",
      "Epoch 47/100\n",
      "22/22 [==============================] - 235s 11s/step - loss: 0.1106 - acc: 0.9441 - f1: 0.9441 - val_loss: 0.1812 - val_acc: 0.9231 - val_f1: 0.9231\n",
      "Epoch 48/100\n",
      "22/22 [==============================] - 234s 11s/step - loss: 0.1103 - acc: 0.9455 - f1: 0.9455 - val_loss: 0.1948 - val_acc: 0.9202 - val_f1: 0.9202\n",
      "Epoch 49/100\n",
      "22/22 [==============================] - 230s 10s/step - loss: 0.1169 - acc: 0.9427 - f1: 0.9427 - val_loss: 0.1870 - val_acc: 0.9174 - val_f1: 0.9174\n",
      "Epoch 50/100\n",
      "22/22 [==============================] - 239s 11s/step - loss: 0.1289 - acc: 0.9405 - f1: 0.9405 - val_loss: 0.2364 - val_acc: 0.9145 - val_f1: 0.9145\n",
      "Epoch 51/100\n",
      "22/22 [==============================] - 235s 11s/step - loss: 0.1270 - acc: 0.9359 - f1: 0.9359 - val_loss: 0.1979 - val_acc: 0.9145 - val_f1: 0.9145\n",
      "Epoch 52/100\n"
     ]
    },
    {
     "name": "stdout",
     "output_type": "stream",
     "text": [
      "22/22 [==============================] - 233s 11s/step - loss: 0.1096 - acc: 0.9486 - f1: 0.9486 - val_loss: 0.1942 - val_acc: 0.9288 - val_f1: 0.9288\n",
      "Epoch 53/100\n",
      "22/22 [==============================] - 234s 11s/step - loss: 0.0965 - acc: 0.9523 - f1: 0.9523 - val_loss: 0.1952 - val_acc: 0.9231 - val_f1: 0.9231\n",
      "Epoch 54/100\n",
      "22/22 [==============================] - 233s 11s/step - loss: 0.0958 - acc: 0.9495 - f1: 0.9495 - val_loss: 0.2479 - val_acc: 0.9174 - val_f1: 0.9174\n",
      "Epoch 55/100\n",
      "22/22 [==============================] - 235s 11s/step - loss: 0.0960 - acc: 0.9523 - f1: 0.9523 - val_loss: 0.2214 - val_acc: 0.9145 - val_f1: 0.9145\n",
      "Epoch 56/100\n",
      "22/22 [==============================] - 235s 11s/step - loss: 0.0971 - acc: 0.9523 - f1: 0.9523 - val_loss: 0.2215 - val_acc: 0.9088 - val_f1: 0.9088\n",
      "Epoch 57/100\n",
      "22/22 [==============================] - 233s 11s/step - loss: 0.1180 - acc: 0.9477 - f1: 0.9477 - val_loss: 0.1831 - val_acc: 0.9145 - val_f1: 0.9145\n",
      "Epoch 58/100\n",
      "22/22 [==============================] - 235s 11s/step - loss: 0.0942 - acc: 0.9559 - f1: 0.9559 - val_loss: 0.2102 - val_acc: 0.9088 - val_f1: 0.9088\n",
      "Epoch 59/100\n",
      "22/22 [==============================] - 237s 11s/step - loss: 0.0852 - acc: 0.9577 - f1: 0.9577 - val_loss: 0.2385 - val_acc: 0.9145 - val_f1: 0.9145\n",
      "Epoch 60/100\n",
      "22/22 [==============================] - 235s 11s/step - loss: 0.0823 - acc: 0.9555 - f1: 0.9555 - val_loss: 0.2262 - val_acc: 0.9145 - val_f1: 0.9145\n",
      "Epoch 61/100\n",
      "22/22 [==============================] - 236s 11s/step - loss: 0.0837 - acc: 0.9591 - f1: 0.9591 - val_loss: 0.2335 - val_acc: 0.9145 - val_f1: 0.9145\n",
      "Epoch 62/100\n",
      "22/22 [==============================] - 234s 11s/step - loss: 0.0847 - acc: 0.9573 - f1: 0.9573 - val_loss: 0.2252 - val_acc: 0.9145 - val_f1: 0.9145\n",
      "Epoch 63/100\n",
      "22/22 [==============================] - 234s 11s/step - loss: 0.0843 - acc: 0.9536 - f1: 0.9536 - val_loss: 0.2538 - val_acc: 0.9031 - val_f1: 0.9031\n",
      "Epoch 64/100\n",
      "22/22 [==============================] - 238s 11s/step - loss: 0.0809 - acc: 0.9573 - f1: 0.9573 - val_loss: 0.2771 - val_acc: 0.9060 - val_f1: 0.9060\n",
      "Epoch 65/100\n",
      "22/22 [==============================] - 236s 11s/step - loss: 0.0726 - acc: 0.9627 - f1: 0.9627 - val_loss: 0.2880 - val_acc: 0.9088 - val_f1: 0.9088\n",
      "Epoch 66/100\n",
      "22/22 [==============================] - 237s 11s/step - loss: 0.0806 - acc: 0.9586 - f1: 0.9586 - val_loss: 0.2736 - val_acc: 0.9060 - val_f1: 0.9060\n",
      "Epoch 67/100\n",
      "22/22 [==============================] - 236s 11s/step - loss: 0.0779 - acc: 0.9573 - f1: 0.9573 - val_loss: 0.2668 - val_acc: 0.9003 - val_f1: 0.9003\n",
      "Epoch 68/100\n",
      "22/22 [==============================] - 236s 11s/step - loss: 0.0769 - acc: 0.9559 - f1: 0.9559 - val_loss: 0.2727 - val_acc: 0.9031 - val_f1: 0.9031\n",
      "Epoch 69/100\n",
      "22/22 [==============================] - 201s 9s/step - loss: 0.0819 - acc: 0.9564 - f1: 0.9564 - val_loss: 0.2757 - val_acc: 0.9088 - val_f1: 0.9088\n",
      "Epoch 70/100\n",
      "22/22 [==============================] - 178s 8s/step - loss: 0.0824 - acc: 0.9568 - f1: 0.9568 - val_loss: 0.2677 - val_acc: 0.8974 - val_f1: 0.8974\n",
      "Epoch 71/100\n",
      "22/22 [==============================] - 175s 8s/step - loss: 0.0889 - acc: 0.9500 - f1: 0.9500 - val_loss: 0.2667 - val_acc: 0.9060 - val_f1: 0.9060\n",
      "Epoch 72/100\n",
      "22/22 [==============================] - 176s 8s/step - loss: 0.0830 - acc: 0.9550 - f1: 0.9550 - val_loss: 0.2559 - val_acc: 0.9060 - val_f1: 0.9060\n",
      "Epoch 73/100\n",
      "22/22 [==============================] - 176s 8s/step - loss: 0.0744 - acc: 0.9568 - f1: 0.9568 - val_loss: 0.3063 - val_acc: 0.9003 - val_f1: 0.9003\n",
      "Epoch 74/100\n",
      "22/22 [==============================] - 178s 8s/step - loss: 0.1201 - acc: 0.9409 - f1: 0.9409 - val_loss: 0.2544 - val_acc: 0.9031 - val_f1: 0.9031\n",
      "Epoch 75/100\n",
      "22/22 [==============================] - 179s 8s/step - loss: 0.0949 - acc: 0.9532 - f1: 0.9532 - val_loss: 0.2281 - val_acc: 0.9060 - val_f1: 0.9060\n",
      "Epoch 76/100\n",
      "22/22 [==============================] - 176s 8s/step - loss: 0.0855 - acc: 0.9509 - f1: 0.9509 - val_loss: 0.2496 - val_acc: 0.9060 - val_f1: 0.9060\n",
      "Epoch 77/100\n",
      "22/22 [==============================] - 178s 8s/step - loss: 0.0757 - acc: 0.9582 - f1: 0.9582 - val_loss: 0.2591 - val_acc: 0.9060 - val_f1: 0.9060\n",
      "Epoch 78/100\n",
      "22/22 [==============================] - 176s 8s/step - loss: 0.0709 - acc: 0.9568 - f1: 0.9568 - val_loss: 0.2976 - val_acc: 0.9060 - val_f1: 0.9060\n",
      "Epoch 79/100\n",
      "22/22 [==============================] - 178s 8s/step - loss: 0.0983 - acc: 0.9486 - f1: 0.9486 - val_loss: 0.2619 - val_acc: 0.8946 - val_f1: 0.8946\n",
      "Epoch 80/100\n",
      "22/22 [==============================] - 176s 8s/step - loss: 0.0731 - acc: 0.9586 - f1: 0.9586 - val_loss: 0.2676 - val_acc: 0.9031 - val_f1: 0.9031\n",
      "Epoch 81/100\n",
      "22/22 [==============================] - 177s 8s/step - loss: 0.0724 - acc: 0.9559 - f1: 0.9559 - val_loss: 0.2896 - val_acc: 0.9031 - val_f1: 0.9031\n",
      "Epoch 82/100\n",
      "22/22 [==============================] - 176s 8s/step - loss: 0.0719 - acc: 0.9573 - f1: 0.9573 - val_loss: 0.2810 - val_acc: 0.9088 - val_f1: 0.9088\n",
      "Epoch 83/100\n",
      "22/22 [==============================] - 175s 8s/step - loss: 0.0711 - acc: 0.9573 - f1: 0.9573 - val_loss: 0.2715 - val_acc: 0.9003 - val_f1: 0.9003\n",
      "Epoch 84/100\n",
      "22/22 [==============================] - 175s 8s/step - loss: 0.0680 - acc: 0.9545 - f1: 0.9545 - val_loss: 0.3252 - val_acc: 0.9031 - val_f1: 0.9031\n",
      "Epoch 85/100\n",
      "22/22 [==============================] - 175s 8s/step - loss: 0.0730 - acc: 0.9564 - f1: 0.9564 - val_loss: 0.2993 - val_acc: 0.9031 - val_f1: 0.9031\n",
      "Epoch 86/100\n",
      "22/22 [==============================] - 176s 8s/step - loss: 0.0670 - acc: 0.9577 - f1: 0.9577 - val_loss: 0.3207 - val_acc: 0.9031 - val_f1: 0.9031\n",
      "Epoch 87/100\n",
      "22/22 [==============================] - 174s 8s/step - loss: 0.0694 - acc: 0.9564 - f1: 0.9564 - val_loss: 0.3210 - val_acc: 0.9031 - val_f1: 0.9031\n",
      "Epoch 88/100\n",
      "22/22 [==============================] - 176s 8s/step - loss: 0.2561 - acc: 0.8841 - f1: 0.8841 - val_loss: 0.2715 - val_acc: 0.8889 - val_f1: 0.8889\n",
      "Epoch 89/100\n",
      "22/22 [==============================] - 173s 8s/step - loss: 0.1926 - acc: 0.9059 - f1: 0.9059 - val_loss: 0.2139 - val_acc: 0.9117 - val_f1: 0.9117\n",
      "Epoch 90/100\n",
      "22/22 [==============================] - 176s 8s/step - loss: 0.1500 - acc: 0.9355 - f1: 0.9355 - val_loss: 0.2321 - val_acc: 0.9088 - val_f1: 0.9088\n",
      "Epoch 91/100\n",
      "22/22 [==============================] - 173s 8s/step - loss: 0.1147 - acc: 0.9445 - f1: 0.9445 - val_loss: 0.2086 - val_acc: 0.9174 - val_f1: 0.9174\n",
      "Epoch 92/100\n",
      "22/22 [==============================] - 178s 8s/step - loss: 0.0953 - acc: 0.9500 - f1: 0.9500 - val_loss: 0.2345 - val_acc: 0.9060 - val_f1: 0.9060\n",
      "Epoch 93/100\n",
      "22/22 [==============================] - 179s 8s/step - loss: 0.0810 - acc: 0.9573 - f1: 0.9573 - val_loss: 0.2577 - val_acc: 0.9088 - val_f1: 0.9088\n",
      "Epoch 94/100\n",
      "22/22 [==============================] - 176s 8s/step - loss: 0.0769 - acc: 0.9605 - f1: 0.9605 - val_loss: 0.2653 - val_acc: 0.9031 - val_f1: 0.9031\n",
      "Epoch 95/100\n",
      "22/22 [==============================] - 177s 8s/step - loss: 0.0788 - acc: 0.9564 - f1: 0.9564 - val_loss: 0.2665 - val_acc: 0.9060 - val_f1: 0.9060\n",
      "Epoch 96/100\n",
      "22/22 [==============================] - 175s 8s/step - loss: 0.0811 - acc: 0.9614 - f1: 0.9614 - val_loss: 0.2557 - val_acc: 0.9088 - val_f1: 0.9088\n",
      "Epoch 97/100\n",
      "22/22 [==============================] - 180s 8s/step - loss: 0.0755 - acc: 0.9582 - f1: 0.9582 - val_loss: 0.2724 - val_acc: 0.9060 - val_f1: 0.9060\n",
      "Epoch 98/100\n",
      "22/22 [==============================] - 177s 8s/step - loss: 0.0762 - acc: 0.9500 - f1: 0.9500 - val_loss: 0.2935 - val_acc: 0.9031 - val_f1: 0.9031\n",
      "Epoch 99/100\n",
      "22/22 [==============================] - 177s 8s/step - loss: 0.0736 - acc: 0.9568 - f1: 0.9568 - val_loss: 0.2872 - val_acc: 0.9060 - val_f1: 0.9060\n",
      "Epoch 100/100\n",
      "22/22 [==============================] - 177s 8s/step - loss: 0.0757 - acc: 0.9577 - f1: 0.9577 - val_loss: 0.3065 - val_acc: 0.9088 - val_f1: 0.9088\n"
     ]
    },
    {
     "data": {
      "text/plain": [
       "<keras.callbacks.History at 0x7f9dc4087b70>"
      ]
     },
     "execution_count": 9,
     "metadata": {},
     "output_type": "execute_result"
    }
   ],
   "source": [
    "training_batches = MagnitudeUtils.batchify(x_train, y_train, BATCH_SIZE) # Split the training data into batches\n",
    "num_batches_per_epoch_train = int(np.ceil(num_training/float(BATCH_SIZE)))\n",
    "test_batches = MagnitudeUtils.batchify(x_test, y_test, BATCH_SIZE)  # Split the test data into batches\n",
    "num_batches_per_epoch_test = int(np.ceil(num_test/float(BATCH_SIZE)))\n",
    "\n",
    "\n",
    "# Generates batches of the transformed training data\n",
    "train_batch_generator = (\n",
    "  (\n",
    "    med_vectors.query(x_train_batch), # Magnitude will handle converting the 2D array of text into the 3D word vector representations!\n",
    "    MagnitudeUtils.to_categorical(y_train_batch, num_outputs) # Magnitude will handle converting the class labels into one-hot encodings!\n",
    "  ) for x_train_batch, y_train_batch in training_batches\n",
    ")\n",
    "\n",
    "# Generates batches of the transformed test data\n",
    "test_batch_generator = (\n",
    "  (\n",
    "    med_vectors.query(x_test_batch), # Magnitude will handle converting the 2D array of text into the 3D word vector representations!\n",
    "    MagnitudeUtils.to_categorical(y_test_batch, num_outputs) # Magnitude will handle converting the class labels into one-hot encodings!\n",
    "  ) for x_test_batch, y_test_batch in test_batches\n",
    ")\n",
    "\n",
    "# Start training\n",
    "model.fit_generator(\n",
    "    generator = train_batch_generator,\n",
    "    steps_per_epoch = num_batches_per_epoch_train,\n",
    "    validation_data = test_batch_generator,\n",
    "    validation_steps = num_batches_per_epoch_test,\n",
    "    epochs = EPOCHS,\n",
    ")"
   ]
  },
  {
   "cell_type": "markdown",
   "metadata": {},
   "source": [
    "## Results"
   ]
  },
  {
   "cell_type": "code",
   "execution_count": 10,
   "metadata": {},
   "outputs": [
    {
     "name": "stdout",
     "output_type": "stream",
     "text": [
      "Results after training for 100 epochs:\n",
      "loss: 0.0724 - categorical_accuracy: 0.9605 - f1: 0.9605\n",
      "val_loss: 0.3065 - val_categorical_accuracy: 0.9088 - f1: 0.9088\n"
     ]
    }
   ],
   "source": [
    "print(\"Results after training for %d epochs:\" % (EPOCHS,))\n",
    "\n",
    "train_metrics = model.evaluate_generator(\n",
    "    generator = train_batch_generator,\n",
    "    steps = num_batches_per_epoch_train,\n",
    ")\n",
    "\n",
    "print(\"loss: %.4f - categorical_accuracy: %.4f - f1: %.4f\" % tuple(train_metrics))\n",
    "\n",
    "val_metrics = model.evaluate_generator(\n",
    "    generator = test_batch_generator,\n",
    "    steps = num_batches_per_epoch_test,\n",
    ")\n",
    "\n",
    "print(\"val_loss: %.4f - val_categorical_accuracy: %.4f - f1: %.4f\" % tuple(val_metrics))"
   ]
  },
  {
   "cell_type": "markdown",
   "metadata": {},
   "source": [
    "## Conclusion"
   ]
  },
  {
   "cell_type": "code",
   "execution_count": 11,
   "metadata": {},
   "outputs": [
    {
     "data": {
      "text/plain": [
       "<Figure size 640x480 with 1 Axes>"
      ]
     },
     "metadata": {},
     "output_type": "display_data"
    },
    {
     "data": {
      "text/plain": [
       "<Figure size 640x480 with 1 Axes>"
      ]
     },
     "metadata": {},
     "output_type": "display_data"
    }
   ],
   "source": [
    "import matplotlib.pyplot as plt\n",
    "\n",
    "# Plot training & validation accuracy values\n",
    "plt.plot(model.history.history['acc'])\n",
    "plt.plot(model.history.history['val_acc'])\n",
    "plt.title('Model accuracy')\n",
    "plt.ylabel('Accuracy')\n",
    "plt.xlabel('Epoch')\n",
    "plt.legend(['Train', 'Test'], loc='upper left')\n",
    "plt.show()\n",
    "\n",
    "# Plot training & validation loss values\n",
    "plt.plot(model.history.history['loss'])\n",
    "plt.plot(model.history.history['val_loss'])\n",
    "plt.title('Model loss')\n",
    "plt.ylabel('Loss')\n",
    "plt.xlabel('Epoch')\n",
    "plt.legend(['Train', 'Test'], loc='upper left')\n",
    "plt.show()"
   ]
  },
  {
   "cell_type": "code",
   "execution_count": 12,
   "metadata": {},
   "outputs": [
    {
     "name": "stdout",
     "output_type": "stream",
     "text": [
      "['Cardiovascular', 'Other']\n",
      "[[ 21  20]\n",
      " [ 12 298]]\n",
      "                precision    recall  f1-score   support\n",
      "\n",
      "Cardiovascular       0.64      0.51      0.57        41\n",
      "         Other       0.94      0.96      0.95       310\n",
      "\n",
      "   avg / total       0.90      0.91      0.90       351\n",
      "\n"
     ]
    }
   ],
   "source": [
    "from sklearn.metrics import confusion_matrix, classification_report\n",
    "\n",
    "y_pred = np.argmax(model.predict(med_vectors.query(x_test)), axis=1)\n",
    "class_labels = [int_to_intent(y) for y in set(y_test)] \n",
    "report = classification_report(y_test, y_pred, target_names=class_labels)\n",
    "print(class_labels)\n",
    "print(confusion_matrix(y_test, y_pred))\n",
    "print(report)"
   ]
  },
  {
   "cell_type": "code",
   "execution_count": 13,
   "metadata": {},
   "outputs": [
    {
     "data": {
      "text/plain": [
       "<matplotlib.axes._subplots.AxesSubplot at 0x7f9c92a5aa20>"
      ]
     },
     "execution_count": 13,
     "metadata": {},
     "output_type": "execute_result"
    },
    {
     "data": {
      "image/png": "[encoded data removed]",
      "text/plain": [
       "<Figure size 432x288 with 2 Axes>"
      ]
     },
     "metadata": {},
     "output_type": "display_data"
    }
   ],
   "source": [
    "from sklearn.utils.multiclass import unique_labels\n",
    "\n",
    "def plot_confusion_matrix(y_true, y_pred, classes,\n",
    "                          title=None,\n",
    "                          cmap=plt.cm.Blues):\n",
    "    \"\"\"\n",
    "    This function prints and plots the confusion matrix.\n",
    "    Normalization can be applied by setting `normalize=True`.\n",
    "    \"\"\"\n",
    "    if not title:\n",
    "        if normalize:\n",
    "            title = 'Normalized confusion matrix'\n",
    "        else:\n",
    "            title = 'Confusion matrix, without normalization'\n",
    "\n",
    "    # Compute confusion matrix\n",
    "    cm = confusion_matrix(y_true, y_pred)\n",
    "    # Only use the labels that appear in the data\n",
    "    classes = [int_to_intent(y_class) for y_class in unique_labels(y_test, y_pred)]\n",
    "\n",
    "    fig, ax = plt.subplots()\n",
    "#     fig.set_figheight(15)\n",
    "#     fig.set_figwidth(15)\n",
    "    im = ax.imshow(cm, interpolation='nearest', cmap=cmap)\n",
    "    ax.figure.colorbar(im, ax=ax)\n",
    "    # We want to show all ticks...\n",
    "    ax.set(xticks=np.arange(cm.shape[1]),\n",
    "           yticks=np.arange(cm.shape[0]),\n",
    "           # ... and label them with the respective list entries\n",
    "           xticklabels=classes, yticklabels=classes,\n",
    "           title=title,\n",
    "           ylabel='True label',\n",
    "           xlabel='Predicted label')\n",
    "\n",
    "    # Rotate the tick labels and set their alignment.\n",
    "    plt.setp(ax.get_xticklabels(), rotation=45, ha=\"right\",\n",
    "             rotation_mode=\"anchor\")\n",
    "\n",
    "    # Loop over data dimensions and create text annotations.\n",
    "    fmt = 'd'\n",
    "    thresh = cm.max() / 2.\n",
    "    for i in range(cm.shape[0]):\n",
    "        for j in range(cm.shape[1]):\n",
    "            ax.text(j, i, format(cm[i, j], fmt),\n",
    "                    ha=\"center\", va=\"center\",\n",
    "                    color=\"white\" if cm[i, j] > thresh else \"black\")\n",
    "    fig.tight_layout()\n",
    "    return ax\n",
    "\n",
    "\n",
    "np.set_printoptions(precision=2)\n",
    "\n",
    "plot_confusion_matrix(y_test, y_pred, classes=class_labels\n",
    "                      , title='Confusion Matrix for Cardiovascular Disease LSTM Classifier')"
   ]
  }
 ],
 "metadata": {
  "kernelspec": {
   "display_name": "Python 3",
   "language": "python",
   "name": "python3"
  },
  "language_info": {
   "codemirror_mode": {
    "name": "ipython",
    "version": 3
   },
   "file_extension": ".py",
   "mimetype": "text/x-python",
   "name": "python",
   "nbconvert_exporter": "python",
   "pygments_lexer": "ipython3",
   "version": "3.6.5"
  }
 },
 "nbformat": 4,
 "nbformat_minor": 2
}
